{
 "cells": [
  {
   "cell_type": "markdown",
   "metadata": {},
   "source": [
    "# This is just the sample code showing the extraction of key fields from invoice images"
   ]
  },
  {
   "cell_type": "markdown",
   "metadata": {},
   "source": [
    "## Importing Libraries"
   ]
  },
  {
   "cell_type": "code",
   "execution_count": 1,
   "metadata": {},
   "outputs": [],
   "source": [
    "import numpy as np\n",
    "import pandas as pd\n",
    "import cv2\n",
    "from PIL import Image\n",
    "import pytesseract\n",
    "import matplotlib.pyplot as plt\n",
    "import re"
   ]
  },
  {
   "cell_type": "code",
   "execution_count": 2,
   "metadata": {},
   "outputs": [],
   "source": [
    "pytesseract.pytesseract.tesseract_cmd=('C:\\\\Users\\\\sairam reddy\\\\AppData\\\\Local\\\\Programs\\\\Tesseract-OCR\\\\tesseract.exe')"
   ]
  },
  {
   "cell_type": "markdown",
   "metadata": {},
   "source": [
    "## Reading a Image"
   ]
  },
  {
   "cell_type": "code",
   "execution_count": 3,
   "metadata": {},
   "outputs": [],
   "source": [
    "img = cv2.imread('C:\\\\Users\\\\sairam reddy\\\\Desktop\\\\project\\\\num.jpg')\n",
    "#cv2.imshow('img',img)\n",
    "#cv2.waitKey(0)\n",
    "#cv2.destroyAllWindows()"
   ]
  },
  {
   "cell_type": "markdown",
   "metadata": {},
   "source": [
    "## Image Preprocessing"
   ]
  },
  {
   "cell_type": "code",
   "execution_count": 4,
   "metadata": {},
   "outputs": [],
   "source": [
    "image_grey=cv2.cvtColor(img,cv2.COLOR_BGR2GRAY)\n",
    "#cv2.imshow('img',image_grey)\n",
    "#cv2.waitKey(0)\n",
    "#cv2.destroyAllWindows()\n",
    "#cv2.imwrite('C:\\\\Users\\\\sairam reddy\\\\Desktop\\\\OCR\\\\output\\\\image_grey.jpg',image_grey)"
   ]
  },
  {
   "cell_type": "code",
   "execution_count": 5,
   "metadata": {},
   "outputs": [],
   "source": [
    "ret, thresh1 = cv2.threshold(image_grey, 0, 255, cv2.THRESH_OTSU | cv2.THRESH_BINARY_INV)"
   ]
  },
  {
   "cell_type": "code",
   "execution_count": 6,
   "metadata": {},
   "outputs": [],
   "source": [
    "rect_kernel = cv2.getStructuringElement(cv2.MORPH_RECT, (25,25))"
   ]
  },
  {
   "cell_type": "code",
   "execution_count": 7,
   "metadata": {},
   "outputs": [],
   "source": [
    "dilation = cv2.dilate(thresh1, rect_kernel, iterations = 1)\n",
    "#cv2.imshow('img',dilation)\n",
    "#cv2.waitKey(0)\n",
    "#cv2.destroyAllWindows()"
   ]
  },
  {
   "cell_type": "markdown",
   "metadata": {},
   "source": [
    "## Finding Countours"
   ]
  },
  {
   "cell_type": "code",
   "execution_count": 8,
   "metadata": {},
   "outputs": [],
   "source": [
    "contours, hierarchy = cv2.findContours(dilation, cv2.RETR_EXTERNAL,cv2.CHAIN_APPROX_NONE)"
   ]
  },
  {
   "cell_type": "code",
   "execution_count": 9,
   "metadata": {},
   "outputs": [],
   "source": [
    "result=[]\n",
    "axis=[]\n",
    "for cnt in contours:\n",
    "    x, y, w, h = cv2.boundingRect(cnt)\n",
    "    # Drawing a rectangle on copied image\n",
    "    rect = cv2.rectangle(img, (x, y), (x + w, y + h), (0, 255, 0), 2)\n",
    "    #Cropping the text block for giving input to OCR\n",
    "    cropped = img[y:y + h, x:x + w]\n",
    "    text = pytesseract.image_to_string(cropped)\n",
    "    #Storing all the data \n",
    "    result.append(text)\n",
    "    #storing all countours axis \n",
    "    axis.append([x,y,w,h])"
   ]
  },
  {
   "cell_type": "markdown",
   "metadata": {},
   "source": [
    "## plotting the Bounding Boxes"
   ]
  },
  {
   "cell_type": "code",
   "execution_count": 10,
   "metadata": {},
   "outputs": [
    {
     "data": {
      "text/plain": [
       "<matplotlib.image.AxesImage at 0x1c803e59460>"
      ]
     },
     "execution_count": 10,
     "metadata": {},
     "output_type": "execute_result"
    },
    {
     "data": {
      "image/png": "[encoded data removed]",
      "text/plain": [
       "<Figure size 432x288 with 1 Axes>"
      ]
     },
     "metadata": {
      "needs_background": "light"
     },
     "output_type": "display_data"
    }
   ],
   "source": [
    "plt.imshow(rect)"
   ]
  },
  {
   "cell_type": "markdown",
   "metadata": {},
   "source": [
    "## Stripping spaces in the extracted data"
   ]
  },
  {
   "cell_type": "code",
   "execution_count": 11,
   "metadata": {},
   "outputs": [],
   "source": [
    "for i in range(0, len(result)):\n",
    "    result[i]=result[i].strip()\n",
    "    #result[i]=result[i].splitlines()"
   ]
  },
  {
   "cell_type": "code",
   "execution_count": 48,
   "metadata": {
    "scrolled": true
   },
   "outputs": [
    {
     "name": "stdout",
     "output_type": "stream",
     "text": [
      "Please make Cheque Payable to:\n",
      "Hewlett-Packard Financial Services (India) Private Limited,\n",
      "Corporate Identity Number: U65910KA2001PTC080236\n",
      "Registered Office: #24, Salarpuria Arena, 3rd Floor, Hosur Main Road, Bangalore 560030.\n",
      "Bank Name: Bank of America\n",
      "Branch: Mumbai, SWIFT: BOFAIN4X, ABA/BSB: 6430002-6000009, Acc#: 620572498010\n",
      "IGST @ 0% INR 0.00\n",
      "Total Amount INR 22,439.80\n",
      "Remittance Advice\n",
      "Please detach and return with your payment\n",
      "Company Name TEKION INDIA PRIVATE LIMITED _ Invoice No. 230001149213\n",
      "Contract Number 5534614649230902IND5 _—Invoice Date 13/02/2021\n",
      "Total Payment INR 22,439.80 Due Date 01/04/2021\n",
      "For Hewlett-Packard Financial Services (India) Pvt. Ltd.\n",
      "\n",
      "Authorised Signatory\n",
      "Supply meant for export/supply to SEZ unit or SEZ developer for authorized operations under letter of undertaking without\n",
      "payment of integrated tax, LUT number : AD3303200042407\n",
      "HSN 9973 Consideration towards leasing/ rental services of goods\n",
      "Comments\n",
      "Place of supply: Tamil Nadu\n",
      "22,439.80\n",
      "INR\n",
      "5534614649230902IND5\n",
      "Amount\n",
      "Description\n",
      "\n",
      "Firm Term\n",
      "Period 01/04/2021 - 30/04/2021\n",
      "Contract Number\n",
      "\n",
      "Ship To:\n",
      "\n",
      "TEKION INDIA PRIVATE LIMITED.\n",
      "2nd floor, Module 5 D North Block\n",
      "Chennai One - IT SEZ\n",
      "\n",
      "Chennai\n",
      "\n",
      "Tamil Nadu TN - 600097\n",
      "\n",
      "INDIA\n",
      "1 of 1\n",
      "\n",
      "230001149213\n",
      "13/02/2021\n",
      "01/04/2021\n",
      "Page\n",
      "\n",
      "Invoice No.\n",
      "Invoice Date\n",
      "Due Date\n",
      "Accounts Payable\n",
      "\n",
      "Sold To:\n",
      "\n",
      "TEKION INDIA PRIVATE LIMITED.\n",
      "2nd floor, Module 5 D North Block\n",
      "Chennai One - IT SEZ\n",
      "\n",
      "Chennai\n",
      "\n",
      "Tamil Nadu TN - 600097\n",
      "\n",
      "INDIA\n",
      "\n",
      "GST #33AAFCT7435G1ZC\n",
      "Tax Invoice\n",
      "Hewlett-Packard Financial Services (India) Private Limited\n",
      "Corporate Identity Number: U65910KA2001PTC080236\n",
      "New No.19,Old No.7, Aziz Mulk 4Th Street\n",
      "Thousand Lights\n",
      "\n",
      "Chennai\n",
      "\n",
      "Tamil Nadu TN - 600006\n",
      "\n",
      " \n",
      "\n",
      "E-Mail: hpfsincss@hpe.com\n",
      "PAN # AABCC5967C\n",
      "GST #33AABCC5967C1ZW\n"
     ]
    }
   ],
   "source": [
    "## Printing the data\n",
    "for i in range(0,len(result)):\n",
    "    print(result[i])"
   ]
  },
  {
   "cell_type": "code",
   "execution_count": 12,
   "metadata": {},
   "outputs": [],
   "source": [
    "dataframe=pd.DataFrame(columns=['Invoice Number','Sold To','Ship To','Description','Invoice Date','Due Date'])"
   ]
  },
  {
   "cell_type": "markdown",
   "metadata": {},
   "source": [
    "## Function  for counting a element in a list"
   ]
  },
  {
   "cell_type": "code",
   "execution_count": 13,
   "metadata": {},
   "outputs": [],
   "source": [
    "def countX(lst, x):\n",
    "    count = 0\n",
    "    for ele in lst:\n",
    "        if (ele == x):\n",
    "            count = count + 1\n",
    "    return count"
   ]
  },
  {
   "cell_type": "markdown",
   "metadata": {},
   "source": [
    "## Extracting \"Description\" from the data"
   ]
  },
  {
   "cell_type": "code",
   "execution_count": 14,
   "metadata": {},
   "outputs": [],
   "source": [
    "for i in range (0,len(result)):\n",
    "    #searching Description using regex\n",
    "    if re.search('Description',result[i]):\n",
    "        #Making the string into list of values \n",
    "        desc=(result[i].splitlines())\n",
    "        #Removing spaces\n",
    "        for i in range(0,countX(desc,'')):\n",
    "            desc.remove('')\n",
    "        #print(desc)\n",
    "        #Removing description from the list and joining remaining values to get the description\n",
    "        desc.remove('Description')\n",
    "        dataframe['Description']=[','.join(desc)]\n",
    "        #a=','.join(desc)\n",
    "        #print(a)       "
   ]
  },
  {
   "cell_type": "code",
   "execution_count": 52,
   "metadata": {},
   "outputs": [],
   "source": [
    "for i in range (0,len(result)):\n",
    "    #searching Description using regex\n",
    "    if re.search('Total',result[i]):\n",
    "        #Making the string into list of values \n",
    "        total=(result[i].splitlines())\n",
    "        #Removing spaces\n",
    "        for i in range(0,countX(desc,'')):\n",
    "            total.remove('')\n",
    "        #print(total)\n",
    "        #Removing description from the list and joining remaining values to get the description\n",
    "        #desc.remove('Description')\n",
    "        #a=','.join(desc)\n",
    "        #print(a)       "
   ]
  },
  {
   "cell_type": "markdown",
   "metadata": {},
   "source": [
    "## Extraction \"Sold To\" address "
   ]
  },
  {
   "cell_type": "code",
   "execution_count": 15,
   "metadata": {},
   "outputs": [],
   "source": [
    "sold=['Sold To:','sold to:','Bill to:','bill to:']\n",
    "for i in range (0,len(result)):\n",
    "    for j in sold:\n",
    "        if re.search(j,result[i]):\n",
    "            sold_add=(result[i].splitlines())\n",
    "            for k in range(0,countX(sold_add,'')):\n",
    "                sold_add.remove('')\n",
    "            #print(sold_add)\n",
    "            sold_add.remove(j)\n",
    "            dataframe['Sold To']=[','.join(sold_add)]\n",
    "            #b=','.join(sold_add)\n",
    "            #print(b)"
   ]
  },
  {
   "cell_type": "markdown",
   "metadata": {},
   "source": [
    "## Extracting \"Ship To\" address "
   ]
  },
  {
   "cell_type": "code",
   "execution_count": 16,
   "metadata": {},
   "outputs": [],
   "source": [
    "ship=['Ship To:','ship to:']\n",
    "for i in range (0,len(result)):\n",
    "    for j in ship:\n",
    "        if re.search(j,result[i]):\n",
    "            ship_add=(result[i].splitlines())\n",
    "            for k in range(0,countX(ship_add,'')):\n",
    "                ship_add.remove('')\n",
    "            #print(ship_add)\n",
    "            ship_add.remove(j)\n",
    "            dataframe['Ship To']=[','.join(ship_add)]\n",
    "            #c=','.join(ship_add)\n",
    "            #print(c)"
   ]
  },
  {
   "cell_type": "markdown",
   "metadata": {},
   "source": [
    "## Extracting \"Due date\" "
   ]
  },
  {
   "cell_type": "code",
   "execution_count": 17,
   "metadata": {},
   "outputs": [],
   "source": [
    "due_dates=[]\n",
    "dates=[]\n",
    "for i in range (0,len(result)):\n",
    "    if re.search(r'Due Date',result[i]):\n",
    "        due_dates.append(axis[i])\n",
    "    if re.search(r'\\d{1,2}/\\d{1,2}/\\d{4}',result[i]):\n",
    "        dates.append(axis[i])\n",
    "for i in due_dates:\n",
    "    for j in dates:\n",
    "         if i[1]==j[1] and i[3]==j[3] and i[0]!=j[0]:\n",
    "                dataframe['Due Date']=[result[(axis.index(j))].splitlines()[(result[(axis.index(i))].splitlines()).index('Due Date')]]\n",
    "                #print(result[(axis.index(i))].index('Due Date'))\n",
    "                #print((result[(axis.index(i))].splitlines()).index('Due Date'))\n",
    "                #print('Due Date-',result[(axis.index(j))].splitlines()[(result[(axis.index(i))].splitlines()).index('Due Date')])"
   ]
  },
  {
   "cell_type": "code",
   "execution_count": 55,
   "metadata": {},
   "outputs": [
    {
     "name": "stdout",
     "output_type": "stream",
     "text": [
      "One way to get due date- ['01/04/2021']\n"
     ]
    }
   ],
   "source": [
    "for i in range (0,len(result)):\n",
    "    if re.search(r'Due Date \\d{1,2}/\\d{1,2}/\\d{4}',result[i]):\n",
    "        a=re.findall(r'Due Date \\d{1,2}/\\d{1,2}/\\d{4}',result[i])\n",
    "        due_date=re.findall(r'\\d{1,2}/\\d{1,2}/\\d{4}',a[0])\n",
    "        print('One way to get due date-',due_date)\n",
    "    #else re.search(r'Due Date',result[i]):\n",
    "        #re.search\n",
    "        \n",
    "        \n",
    "        "
   ]
  },
  {
   "cell_type": "markdown",
   "metadata": {},
   "source": [
    "## Extracting \"Invoice Date\""
   ]
  },
  {
   "cell_type": "code",
   "execution_count": 18,
   "metadata": {},
   "outputs": [],
   "source": [
    "invoice_date=[]\n",
    "for i in range (0,len(result)):\n",
    "    if re.search(r'Invoice Date',result[i]):\n",
    "        invoice_date.append(axis[i])\n",
    "for i in invoice_date:\n",
    "    for j in dates:\n",
    "         if i[1]==j[1] and i[3]==j[3] and i[0]!=j[0]:\n",
    "                dataframe['Invoice Date']=[result[(axis.index(j))].splitlines()[(result[(axis.index(i))].splitlines()).index('Invoice Date')]]\n",
    "                #print(result[(axis.index(i))].index('Due Date'))\n",
    "                #print((result[(axis.index(i))].splitlines()).index('Due Date'))\n",
    "                #print('Invoice date-',result[(axis.index(j))].splitlines()[(result[(axis.index(i))].splitlines()).index('Invoice Date')])"
   ]
  },
  {
   "cell_type": "markdown",
   "metadata": {},
   "source": [
    "## Extracting \"Invoice Number\""
   ]
  },
  {
   "cell_type": "code",
   "execution_count": 19,
   "metadata": {},
   "outputs": [],
   "source": [
    "invoice_num=[]\n",
    "for i in range (0,len(result)):\n",
    "    if re.search(r'Invoice No.',result[i]):\n",
    "        invoice_num.append(axis[i])\n",
    "for i in invoice_num:\n",
    "    for j in dates:\n",
    "         if i[1]==j[1] and i[3]==j[3] and i[0]!=j[0]:\n",
    "                dataframe['Invoice Number']=[result[(axis.index(j))].splitlines()[(result[(axis.index(i))].splitlines()).index('Invoice No.')]]\n",
    "                #print(result[(axis.index(i))].index('Due Date'))\n",
    "                #print((result[(axis.index(i))].splitlines()).index('Due Date'))\n",
    "                #print('Invoice Number-',result[(axis.index(j))].splitlines()[(result[(axis.index(i))].splitlines()).index('Invoice No.')])"
   ]
  },
  {
   "cell_type": "code",
   "execution_count": 20,
   "metadata": {},
   "outputs": [
    {
     "data": {
      "text/html": [
       "<div>\n",
       "<style scoped>\n",
       "    .dataframe tbody tr th:only-of-type {\n",
       "        vertical-align: middle;\n",
       "    }\n",
       "\n",
       "    .dataframe tbody tr th {\n",
       "        vertical-align: top;\n",
       "    }\n",
       "\n",
       "    .dataframe thead th {\n",
       "        text-align: right;\n",
       "    }\n",
       "</style>\n",
       "<table border=\"1\" class=\"dataframe\">\n",
       "  <thead>\n",
       "    <tr style=\"text-align: right;\">\n",
       "      <th></th>\n",
       "      <th>Invoice Number</th>\n",
       "      <th>Sold To</th>\n",
       "      <th>Ship To</th>\n",
       "      <th>Description</th>\n",
       "      <th>Invoice Date</th>\n",
       "      <th>Due Date</th>\n",
       "    </tr>\n",
       "  </thead>\n",
       "  <tbody>\n",
       "    <tr>\n",
       "      <th>0</th>\n",
       "      <td>230001149213</td>\n",
       "      <td>Accounts Payable,TEKION INDIA PRIVATE LIMITED....</td>\n",
       "      <td>TEKION INDIA PRIVATE LIMITED.,2nd floor, Modul...</td>\n",
       "      <td>Firm Term,Period 01/04/2021 - 30/04/2021</td>\n",
       "      <td>13/02/2021</td>\n",
       "      <td>01/04/2021</td>\n",
       "    </tr>\n",
       "  </tbody>\n",
       "</table>\n",
       "</div>"
      ],
      "text/plain": [
       "  Invoice Number                                            Sold To  \\\n",
       "0   230001149213  Accounts Payable,TEKION INDIA PRIVATE LIMITED....   \n",
       "\n",
       "                                             Ship To  \\\n",
       "0  TEKION INDIA PRIVATE LIMITED.,2nd floor, Modul...   \n",
       "\n",
       "                                Description Invoice Date    Due Date  \n",
       "0  Firm Term,Period 01/04/2021 - 30/04/2021   13/02/2021  01/04/2021  "
      ]
     },
     "execution_count": 20,
     "metadata": {},
     "output_type": "execute_result"
    }
   ],
   "source": [
    "dataframe"
   ]
  },
  {
   "cell_type": "code",
   "execution_count": 59,
   "metadata": {},
   "outputs": [],
   "source": [
    "file_name = 'C:\\\\Users\\\\sairam reddy\\\\Desktop\\\\data\\\\data.xlsx'\n",
    "dataframe.to_excel(file_name)"
   ]
  }
 ],
 "metadata": {
  "kernelspec": {
   "display_name": "Python 3",
   "language": "python",
   "name": "python3"
  },
  "language_info": {
   "codemirror_mode": {
    "name": "ipython",
    "version": 3
   },
   "file_extension": ".py",
   "mimetype": "text/x-python",
   "name": "python",
   "nbconvert_exporter": "python",
   "pygments_lexer": "ipython3",
   "version": "3.8.5"
  }
 },
 "nbformat": 4,
 "nbformat_minor": 4
}
