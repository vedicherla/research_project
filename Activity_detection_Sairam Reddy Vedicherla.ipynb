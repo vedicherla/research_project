{
 "cells": [
  {
   "cell_type": "markdown",
   "metadata": {},
   "source": [
    "**Data:** This data has total of 10 subjects and which has 23 input variables and one target variable.The goal of this project is to predict the activity of a person based on data given by the sensors. There are 23 input variables, which are the data collected from the sensors and the target variable is multi class which is activity. There are total of 13 class in the target variable.\n",
    "\n",
    "**Data Preparation:** There are 10 different files so i will merge all the files and preprocess the data. So i am going to do this in 3 different approaches so for each approach i will prepare the data accordingly \n",
    "\n",
    "**Approach:** So my approch was to try this in 3 different ways, \n",
    "- First was by building basic classifiers Xg Boost and Randomforest and will see how they are performing and also will look into feature importance plot and check whether any variables are useless.\n",
    "- Second approch was to treat this as multi target instead of multi class.So i will convert each class as a different target variable and build a Sklearn inbuilt one vs rest classifier and see how it is performing .\n",
    "- My Third approach was similar to second but instead of one vs rest inbuit sklearn classifier, i will build a single model for each class which means there are 13 classes in the data so i will build 13 model(one for each class) and to predict the class of the test data, i will pass every record to all 13 classifiers and i will predict the probabilities. so which ever class model gives the highest probability it will belongs to that class.\n"
   ]
  },
  {
   "cell_type": "code",
   "execution_count": 30,
   "metadata": {
    "execution": {
     "iopub.execute_input": "2023-06-10T19:44:31.590849Z",
     "iopub.status.busy": "2023-06-10T19:44:31.589845Z",
     "iopub.status.idle": "2023-06-10T19:44:31.597831Z",
     "shell.execute_reply": "2023-06-10T19:44:31.596779Z",
     "shell.execute_reply.started": "2023-06-10T19:44:31.590814Z"
    }
   },
   "outputs": [],
   "source": [
    "## Libraries\n",
    "import warnings\n",
    "warnings.filterwarnings(\"ignore\")\n",
    "import pandas as pd\n",
    "import numpy as np\n",
    "import matplotlib.pyplot as plt\n",
    "from sklearn.metrics import accuracy_score, precision_score, recall_score, f1_score, confusion_matrix, ConfusionMatrixDisplay, classification_report\n",
    "from xgboost import XGBClassifier\n",
    "from sklearn.model_selection import train_test_split\n",
    "from sklearn.model_selection import GridSearchCV "
   ]
  },
  {
   "cell_type": "code",
   "execution_count": 2,
   "metadata": {
    "execution": {
     "iopub.execute_input": "2023-06-10T14:58:04.798558Z",
     "iopub.status.busy": "2023-06-10T14:58:04.798214Z",
     "iopub.status.idle": "2023-06-10T14:58:10.456155Z",
     "shell.execute_reply": "2023-06-10T14:58:10.455186Z",
     "shell.execute_reply.started": "2023-06-10T14:58:04.798530Z"
    }
   },
   "outputs": [],
   "source": [
    "## Loading data all 10 subjects \n",
    "sub1 = pd.read_csv('/kaggle/input/mhealth-dataset-data-set/MHEALTHDATASET/mHealth_subject1.log',sep='\\t',header=None)\n",
    "\n",
    "sub2 = pd.read_csv('/kaggle/input/mhealth-dataset-data-set/MHEALTHDATASET/mHealth_subject2.log',sep='\\t',header=None)\n",
    "\n",
    "sub3 = pd.read_csv('/kaggle/input/mhealth-dataset-data-set/MHEALTHDATASET/mHealth_subject3.log',sep='\\t',header=None)\n",
    "\n",
    "sub4 = pd.read_csv('/kaggle/input/mhealth-dataset-data-set/MHEALTHDATASET/mHealth_subject4.log',sep='\\t',header=None)\n",
    "\n",
    "sub5 = pd.read_csv('/kaggle/input/mhealth-dataset-data-set/MHEALTHDATASET/mHealth_subject5.log',sep='\\t',header=None)\n",
    "\n",
    "sub6 = pd.read_csv('/kaggle/input/mhealth-dataset-data-set/MHEALTHDATASET/mHealth_subject6.log',sep='\\t',header=None)\n",
    "\n",
    "sub7 = pd.read_csv('/kaggle/input/mhealth-dataset-data-set/MHEALTHDATASET/mHealth_subject7.log',sep='\\t',header=None)\n",
    "\n",
    "sub8 = pd.read_csv('/kaggle/input/mhealth-dataset-data-set/MHEALTHDATASET/mHealth_subject8.log',sep='\\t',header=None)\n",
    "\n",
    "sub9 = pd.read_csv('/kaggle/input/mhealth-dataset-data-set/MHEALTHDATASET/mHealth_subject9.log',sep='\\t',header=None)\n",
    "\n",
    "sub10 = pd.read_csv('/kaggle/input/mhealth-dataset-data-set/MHEALTHDATASET/mHealth_subject10.log',sep='\\t',header=None)\n"
   ]
  },
  {
   "cell_type": "code",
   "execution_count": 3,
   "metadata": {
    "execution": {
     "iopub.execute_input": "2023-06-10T14:58:17.844805Z",
     "iopub.status.busy": "2023-06-10T14:58:17.844379Z",
     "iopub.status.idle": "2023-06-10T14:58:17.949848Z",
     "shell.execute_reply": "2023-06-10T14:58:17.948787Z",
     "shell.execute_reply.started": "2023-06-10T14:58:17.844769Z"
    }
   },
   "outputs": [],
   "source": [
    "## Merging all 10 subjects data\n",
    "data = pd.concat([sub1,sub2,sub3,sub4,sub5,sub6,sub7,sub8,sub9,sub10], axis=0, ignore_index=True)"
   ]
  },
  {
   "cell_type": "code",
   "execution_count": 4,
   "metadata": {
    "execution": {
     "iopub.execute_input": "2023-06-10T14:58:20.535270Z",
     "iopub.status.busy": "2023-06-10T14:58:20.534786Z",
     "iopub.status.idle": "2023-06-10T14:58:20.545294Z",
     "shell.execute_reply": "2023-06-10T14:58:20.544243Z",
     "shell.execute_reply.started": "2023-06-10T14:58:20.535235Z"
    }
   },
   "outputs": [],
   "source": [
    "## Column names\n",
    "columns=['acc_chest_x','acc_chest_y','acc_chest_z','ecg_1','ecg_2','acc_ankel_x','acc_ankel_y','acc_ankel_z','gyro_ankel_x',\n",
    "        'gyro_ankel_y','gyro_ankel_z','mag_ankel_x','mag_ankel_y','mag_ankel_z','acc_arm_x','acc_arm_y','acc_arm_z',\n",
    "         'gyro_arm_x','gyro_arm_y','gyro_arm_z','mag_arm_x','mag_arm_y','mag_arm_z','label']"
   ]
  },
  {
   "cell_type": "code",
   "execution_count": 5,
   "metadata": {
    "execution": {
     "iopub.execute_input": "2023-06-10T14:58:24.708612Z",
     "iopub.status.busy": "2023-06-10T14:58:24.707921Z",
     "iopub.status.idle": "2023-06-10T14:58:24.714038Z",
     "shell.execute_reply": "2023-06-10T14:58:24.712483Z",
     "shell.execute_reply.started": "2023-06-10T14:58:24.708562Z"
    }
   },
   "outputs": [],
   "source": [
    "## Renaming columns\n",
    "data.columns=columns"
   ]
  },
  {
   "cell_type": "code",
   "execution_count": 7,
   "metadata": {
    "execution": {
     "iopub.execute_input": "2023-06-10T08:00:48.035394Z",
     "iopub.status.busy": "2023-06-10T08:00:48.034964Z",
     "iopub.status.idle": "2023-06-10T08:00:48.083993Z",
     "shell.execute_reply": "2023-06-10T08:00:48.082816Z",
     "shell.execute_reply.started": "2023-06-10T08:00:48.035358Z"
    }
   },
   "outputs": [
    {
     "data": {
      "text/html": [
       "<div>\n",
       "<style scoped>\n",
       "    .dataframe tbody tr th:only-of-type {\n",
       "        vertical-align: middle;\n",
       "    }\n",
       "\n",
       "    .dataframe tbody tr th {\n",
       "        vertical-align: top;\n",
       "    }\n",
       "\n",
       "    .dataframe thead th {\n",
       "        text-align: right;\n",
       "    }\n",
       "</style>\n",
       "<table border=\"1\" class=\"dataframe\">\n",
       "  <thead>\n",
       "    <tr style=\"text-align: right;\">\n",
       "      <th></th>\n",
       "      <th>acc_chest_x</th>\n",
       "      <th>acc_chest_y</th>\n",
       "      <th>acc_chest_z</th>\n",
       "      <th>ecg_1</th>\n",
       "      <th>ecg_2</th>\n",
       "      <th>acc_ankel_x</th>\n",
       "      <th>acc_ankel_y</th>\n",
       "      <th>acc_ankel_z</th>\n",
       "      <th>gyro_ankel_x</th>\n",
       "      <th>gyro_ankel_y</th>\n",
       "      <th>...</th>\n",
       "      <th>acc_arm_x</th>\n",
       "      <th>acc_arm_y</th>\n",
       "      <th>acc_arm_z</th>\n",
       "      <th>gyro_arm_x</th>\n",
       "      <th>gyro_arm_y</th>\n",
       "      <th>gyro_arm_z</th>\n",
       "      <th>mag_arm_x</th>\n",
       "      <th>mag_arm_y</th>\n",
       "      <th>mag_arm_z</th>\n",
       "      <th>label</th>\n",
       "    </tr>\n",
       "  </thead>\n",
       "  <tbody>\n",
       "    <tr>\n",
       "      <th>0</th>\n",
       "      <td>-9.8184</td>\n",
       "      <td>0.009971</td>\n",
       "      <td>0.29563</td>\n",
       "      <td>0.004186</td>\n",
       "      <td>0.004186</td>\n",
       "      <td>2.1849</td>\n",
       "      <td>-9.6967</td>\n",
       "      <td>0.63077</td>\n",
       "      <td>0.103900</td>\n",
       "      <td>-0.84053</td>\n",
       "      <td>...</td>\n",
       "      <td>-8.6499</td>\n",
       "      <td>-4.5781</td>\n",
       "      <td>0.187760</td>\n",
       "      <td>-0.44902</td>\n",
       "      <td>-1.0103</td>\n",
       "      <td>0.034483</td>\n",
       "      <td>-2.35000</td>\n",
       "      <td>-1.610200</td>\n",
       "      <td>-0.030899</td>\n",
       "      <td>0</td>\n",
       "    </tr>\n",
       "    <tr>\n",
       "      <th>1</th>\n",
       "      <td>-9.8489</td>\n",
       "      <td>0.524040</td>\n",
       "      <td>0.37348</td>\n",
       "      <td>0.004186</td>\n",
       "      <td>0.016745</td>\n",
       "      <td>2.3876</td>\n",
       "      <td>-9.5080</td>\n",
       "      <td>0.68389</td>\n",
       "      <td>0.085343</td>\n",
       "      <td>-0.83865</td>\n",
       "      <td>...</td>\n",
       "      <td>-8.6275</td>\n",
       "      <td>-4.3198</td>\n",
       "      <td>0.023595</td>\n",
       "      <td>-0.44902</td>\n",
       "      <td>-1.0103</td>\n",
       "      <td>0.034483</td>\n",
       "      <td>-2.16320</td>\n",
       "      <td>-0.882540</td>\n",
       "      <td>0.326570</td>\n",
       "      <td>0</td>\n",
       "    </tr>\n",
       "    <tr>\n",
       "      <th>2</th>\n",
       "      <td>-9.6602</td>\n",
       "      <td>0.181850</td>\n",
       "      <td>0.43742</td>\n",
       "      <td>0.016745</td>\n",
       "      <td>0.037677</td>\n",
       "      <td>2.4086</td>\n",
       "      <td>-9.5674</td>\n",
       "      <td>0.68113</td>\n",
       "      <td>0.085343</td>\n",
       "      <td>-0.83865</td>\n",
       "      <td>...</td>\n",
       "      <td>-8.5055</td>\n",
       "      <td>-4.2772</td>\n",
       "      <td>0.275720</td>\n",
       "      <td>-0.44902</td>\n",
       "      <td>-1.0103</td>\n",
       "      <td>0.034483</td>\n",
       "      <td>-1.61750</td>\n",
       "      <td>-0.165620</td>\n",
       "      <td>-0.030693</td>\n",
       "      <td>0</td>\n",
       "    </tr>\n",
       "    <tr>\n",
       "      <th>3</th>\n",
       "      <td>-9.6507</td>\n",
       "      <td>0.214220</td>\n",
       "      <td>0.24033</td>\n",
       "      <td>0.079540</td>\n",
       "      <td>0.117220</td>\n",
       "      <td>2.1814</td>\n",
       "      <td>-9.4301</td>\n",
       "      <td>0.55031</td>\n",
       "      <td>0.085343</td>\n",
       "      <td>-0.83865</td>\n",
       "      <td>...</td>\n",
       "      <td>-8.6279</td>\n",
       "      <td>-4.3163</td>\n",
       "      <td>0.367520</td>\n",
       "      <td>-0.45686</td>\n",
       "      <td>-1.0082</td>\n",
       "      <td>0.025862</td>\n",
       "      <td>-1.07710</td>\n",
       "      <td>0.006945</td>\n",
       "      <td>-0.382620</td>\n",
       "      <td>0</td>\n",
       "    </tr>\n",
       "    <tr>\n",
       "      <th>4</th>\n",
       "      <td>-9.7030</td>\n",
       "      <td>0.303890</td>\n",
       "      <td>0.31156</td>\n",
       "      <td>0.221870</td>\n",
       "      <td>0.205130</td>\n",
       "      <td>2.4173</td>\n",
       "      <td>-9.3889</td>\n",
       "      <td>0.71098</td>\n",
       "      <td>0.085343</td>\n",
       "      <td>-0.83865</td>\n",
       "      <td>...</td>\n",
       "      <td>-8.7008</td>\n",
       "      <td>-4.1459</td>\n",
       "      <td>0.407290</td>\n",
       "      <td>-0.45686</td>\n",
       "      <td>-1.0082</td>\n",
       "      <td>0.025862</td>\n",
       "      <td>-0.53684</td>\n",
       "      <td>0.175900</td>\n",
       "      <td>-1.095500</td>\n",
       "      <td>0</td>\n",
       "    </tr>\n",
       "  </tbody>\n",
       "</table>\n",
       "<p>5 rows × 24 columns</p>\n",
       "</div>"
      ],
      "text/plain": [
       "   acc_chest_x  acc_chest_y  acc_chest_z     ecg_1     ecg_2  acc_ankel_x  \\\n",
       "0      -9.8184     0.009971      0.29563  0.004186  0.004186       2.1849   \n",
       "1      -9.8489     0.524040      0.37348  0.004186  0.016745       2.3876   \n",
       "2      -9.6602     0.181850      0.43742  0.016745  0.037677       2.4086   \n",
       "3      -9.6507     0.214220      0.24033  0.079540  0.117220       2.1814   \n",
       "4      -9.7030     0.303890      0.31156  0.221870  0.205130       2.4173   \n",
       "\n",
       "   acc_ankel_y  acc_ankel_z  gyro_ankel_x  gyro_ankel_y  ...  acc_arm_x  \\\n",
       "0      -9.6967      0.63077      0.103900      -0.84053  ...    -8.6499   \n",
       "1      -9.5080      0.68389      0.085343      -0.83865  ...    -8.6275   \n",
       "2      -9.5674      0.68113      0.085343      -0.83865  ...    -8.5055   \n",
       "3      -9.4301      0.55031      0.085343      -0.83865  ...    -8.6279   \n",
       "4      -9.3889      0.71098      0.085343      -0.83865  ...    -8.7008   \n",
       "\n",
       "   acc_arm_y  acc_arm_z  gyro_arm_x  gyro_arm_y  gyro_arm_z  mag_arm_x  \\\n",
       "0    -4.5781   0.187760    -0.44902     -1.0103    0.034483   -2.35000   \n",
       "1    -4.3198   0.023595    -0.44902     -1.0103    0.034483   -2.16320   \n",
       "2    -4.2772   0.275720    -0.44902     -1.0103    0.034483   -1.61750   \n",
       "3    -4.3163   0.367520    -0.45686     -1.0082    0.025862   -1.07710   \n",
       "4    -4.1459   0.407290    -0.45686     -1.0082    0.025862   -0.53684   \n",
       "\n",
       "   mag_arm_y  mag_arm_z  label  \n",
       "0  -1.610200  -0.030899      0  \n",
       "1  -0.882540   0.326570      0  \n",
       "2  -0.165620  -0.030693      0  \n",
       "3   0.006945  -0.382620      0  \n",
       "4   0.175900  -1.095500      0  \n",
       "\n",
       "[5 rows x 24 columns]"
      ]
     },
     "execution_count": 7,
     "metadata": {},
     "output_type": "execute_result"
    }
   ],
   "source": [
    "data.head()"
   ]
  },
  {
   "cell_type": "code",
   "execution_count": 75,
   "metadata": {
    "execution": {
     "iopub.execute_input": "2023-06-10T06:42:19.789195Z",
     "iopub.status.busy": "2023-06-10T06:42:19.788842Z",
     "iopub.status.idle": "2023-06-10T06:42:19.795497Z",
     "shell.execute_reply": "2023-06-10T06:42:19.794519Z",
     "shell.execute_reply.started": "2023-06-10T06:42:19.789164Z"
    }
   },
   "outputs": [
    {
     "data": {
      "text/plain": [
       "(1215745, 24)"
      ]
     },
     "execution_count": 75,
     "metadata": {},
     "output_type": "execute_result"
    }
   ],
   "source": [
    "## dimension of data\n",
    "data.shape"
   ]
  },
  {
   "cell_type": "code",
   "execution_count": 76,
   "metadata": {
    "execution": {
     "iopub.execute_input": "2023-06-10T06:42:21.980511Z",
     "iopub.status.busy": "2023-06-10T06:42:21.980142Z",
     "iopub.status.idle": "2023-06-10T06:42:21.999244Z",
     "shell.execute_reply": "2023-06-10T06:42:21.998072Z",
     "shell.execute_reply.started": "2023-06-10T06:42:21.980480Z"
    }
   },
   "outputs": [
    {
     "data": {
      "text/plain": [
       "0     872550\n",
       "1      30720\n",
       "2      30720\n",
       "3      30720\n",
       "4      30720\n",
       "9      30720\n",
       "10     30720\n",
       "11     30720\n",
       "5      30720\n",
       "7      29441\n",
       "8      29337\n",
       "6      28315\n",
       "12     10342\n",
       "Name: label, dtype: int64"
      ]
     },
     "execution_count": 76,
     "metadata": {},
     "output_type": "execute_result"
    }
   ],
   "source": [
    "## Traget variable distribution\n",
    "data.label.value_counts()"
   ]
  },
  {
   "cell_type": "code",
   "execution_count": 10,
   "metadata": {
    "execution": {
     "iopub.execute_input": "2023-06-10T06:00:34.717129Z",
     "iopub.status.busy": "2023-06-10T06:00:34.716231Z",
     "iopub.status.idle": "2023-06-10T06:00:34.769098Z",
     "shell.execute_reply": "2023-06-10T06:00:34.768063Z",
     "shell.execute_reply.started": "2023-06-10T06:00:34.717094Z"
    }
   },
   "outputs": [
    {
     "data": {
      "text/plain": [
       "0"
      ]
     },
     "execution_count": 10,
     "metadata": {},
     "output_type": "execute_result"
    }
   ],
   "source": [
    "## Null values\n",
    "data.isna().sum().sum()"
   ]
  },
  {
   "cell_type": "code",
   "execution_count": 247,
   "metadata": {
    "execution": {
     "iopub.execute_input": "2023-06-10T22:17:03.247716Z",
     "iopub.status.busy": "2023-06-10T22:17:03.247277Z",
     "iopub.status.idle": "2023-06-10T22:17:04.467404Z",
     "shell.execute_reply": "2023-06-10T22:17:04.466432Z",
     "shell.execute_reply.started": "2023-06-10T22:17:03.247679Z"
    }
   },
   "outputs": [
    {
     "data": {
      "text/html": [
       "<div>\n",
       "<style scoped>\n",
       "    .dataframe tbody tr th:only-of-type {\n",
       "        vertical-align: middle;\n",
       "    }\n",
       "\n",
       "    .dataframe tbody tr th {\n",
       "        vertical-align: top;\n",
       "    }\n",
       "\n",
       "    .dataframe thead th {\n",
       "        text-align: right;\n",
       "    }\n",
       "</style>\n",
       "<table border=\"1\" class=\"dataframe\">\n",
       "  <thead>\n",
       "    <tr style=\"text-align: right;\">\n",
       "      <th></th>\n",
       "      <th>acc_chest_x</th>\n",
       "      <th>acc_chest_y</th>\n",
       "      <th>acc_chest_z</th>\n",
       "      <th>ecg_1</th>\n",
       "      <th>ecg_2</th>\n",
       "      <th>acc_ankel_x</th>\n",
       "      <th>acc_ankel_y</th>\n",
       "      <th>acc_ankel_z</th>\n",
       "      <th>gyro_ankel_x</th>\n",
       "      <th>gyro_ankel_y</th>\n",
       "      <th>...</th>\n",
       "      <th>acc_arm_x</th>\n",
       "      <th>acc_arm_y</th>\n",
       "      <th>acc_arm_z</th>\n",
       "      <th>gyro_arm_x</th>\n",
       "      <th>gyro_arm_y</th>\n",
       "      <th>gyro_arm_z</th>\n",
       "      <th>mag_arm_x</th>\n",
       "      <th>mag_arm_y</th>\n",
       "      <th>mag_arm_z</th>\n",
       "      <th>label</th>\n",
       "    </tr>\n",
       "  </thead>\n",
       "  <tbody>\n",
       "    <tr>\n",
       "      <th>count</th>\n",
       "      <td>1.215745e+06</td>\n",
       "      <td>1.215745e+06</td>\n",
       "      <td>1.215745e+06</td>\n",
       "      <td>1.215745e+06</td>\n",
       "      <td>1.215745e+06</td>\n",
       "      <td>1.215745e+06</td>\n",
       "      <td>1.215745e+06</td>\n",
       "      <td>1.215745e+06</td>\n",
       "      <td>1.215745e+06</td>\n",
       "      <td>1.215745e+06</td>\n",
       "      <td>...</td>\n",
       "      <td>1.215745e+06</td>\n",
       "      <td>1.215745e+06</td>\n",
       "      <td>1.215745e+06</td>\n",
       "      <td>1.215745e+06</td>\n",
       "      <td>1.215745e+06</td>\n",
       "      <td>1.215745e+06</td>\n",
       "      <td>1.215745e+06</td>\n",
       "      <td>1.215745e+06</td>\n",
       "      <td>1.215745e+06</td>\n",
       "      <td>1.215745e+06</td>\n",
       "    </tr>\n",
       "    <tr>\n",
       "      <th>mean</th>\n",
       "      <td>-8.522361e+00</td>\n",
       "      <td>-2.140013e-01</td>\n",
       "      <td>-1.055950e+00</td>\n",
       "      <td>-5.122403e-03</td>\n",
       "      <td>-4.506434e-03</td>\n",
       "      <td>1.494200e+00</td>\n",
       "      <td>-9.692878e+00</td>\n",
       "      <td>-9.548056e-01</td>\n",
       "      <td>-1.598951e-03</td>\n",
       "      <td>-6.166318e-01</td>\n",
       "      <td>...</td>\n",
       "      <td>-3.713413e+00</td>\n",
       "      <td>-5.805526e+00</td>\n",
       "      <td>2.393880e+00</td>\n",
       "      <td>-2.761061e-01</td>\n",
       "      <td>-4.664340e-01</td>\n",
       "      <td>2.666335e-01</td>\n",
       "      <td>1.702138e-01</td>\n",
       "      <td>7.144626e-01</td>\n",
       "      <td>-3.668126e-01</td>\n",
       "      <td>1.741465e+00</td>\n",
       "    </tr>\n",
       "    <tr>\n",
       "      <th>std</th>\n",
       "      <td>4.075293e+00</td>\n",
       "      <td>2.138954e+00</td>\n",
       "      <td>3.574163e+00</td>\n",
       "      <td>7.465971e-01</td>\n",
       "      <td>7.270395e-01</td>\n",
       "      <td>3.826485e+00</td>\n",
       "      <td>4.171303e+00</td>\n",
       "      <td>5.461803e+00</td>\n",
       "      <td>4.912172e-01</td>\n",
       "      <td>3.546406e-01</td>\n",
       "      <td>...</td>\n",
       "      <td>4.763586e+00</td>\n",
       "      <td>5.757639e+00</td>\n",
       "      <td>3.876503e+00</td>\n",
       "      <td>5.276888e-01</td>\n",
       "      <td>5.555510e-01</td>\n",
       "      <td>5.643804e-01</td>\n",
       "      <td>2.667617e+01</td>\n",
       "      <td>3.344453e+01</td>\n",
       "      <td>6.955069e+01</td>\n",
       "      <td>3.283679e+00</td>\n",
       "    </tr>\n",
       "    <tr>\n",
       "      <th>min</th>\n",
       "      <td>-2.243800e+01</td>\n",
       "      <td>-2.018800e+01</td>\n",
       "      <td>-1.840100e+01</td>\n",
       "      <td>-8.619600e+00</td>\n",
       "      <td>-8.619600e+00</td>\n",
       "      <td>-2.214600e+01</td>\n",
       "      <td>-1.961900e+01</td>\n",
       "      <td>-1.937300e+01</td>\n",
       "      <td>-2.146600e+00</td>\n",
       "      <td>-7.789900e+00</td>\n",
       "      <td>...</td>\n",
       "      <td>-2.236100e+01</td>\n",
       "      <td>-1.897200e+01</td>\n",
       "      <td>-1.823900e+01</td>\n",
       "      <td>-8.339200e+00</td>\n",
       "      <td>-3.570800e+00</td>\n",
       "      <td>-2.689700e+00</td>\n",
       "      <td>-3.190300e+02</td>\n",
       "      <td>-3.639000e+02</td>\n",
       "      <td>-7.175500e+02</td>\n",
       "      <td>0.000000e+00</td>\n",
       "    </tr>\n",
       "    <tr>\n",
       "      <th>25%</th>\n",
       "      <td>-9.804000e+00</td>\n",
       "      <td>-1.272900e+00</td>\n",
       "      <td>-2.867300e+00</td>\n",
       "      <td>-2.344300e-01</td>\n",
       "      <td>-1.883800e-01</td>\n",
       "      <td>1.413100e-01</td>\n",
       "      <td>-1.020100e+01</td>\n",
       "      <td>-2.649400e+00</td>\n",
       "      <td>-4.359900e-01</td>\n",
       "      <td>-8.180100e-01</td>\n",
       "      <td>...</td>\n",
       "      <td>-6.076000e+00</td>\n",
       "      <td>-9.404200e+00</td>\n",
       "      <td>1.296500e-01</td>\n",
       "      <td>-7.058800e-01</td>\n",
       "      <td>-8.973300e-01</td>\n",
       "      <td>-2.370700e-01</td>\n",
       "      <td>-6.191900e+00</td>\n",
       "      <td>-9.519500e+00</td>\n",
       "      <td>-1.423800e+01</td>\n",
       "      <td>0.000000e+00</td>\n",
       "    </tr>\n",
       "    <tr>\n",
       "      <th>50%</th>\n",
       "      <td>-9.311400e+00</td>\n",
       "      <td>-3.538100e-01</td>\n",
       "      <td>-8.702000e-01</td>\n",
       "      <td>-7.116700e-02</td>\n",
       "      <td>-4.186300e-02</td>\n",
       "      <td>1.308900e+00</td>\n",
       "      <td>-9.670300e+00</td>\n",
       "      <td>-1.645600e-02</td>\n",
       "      <td>-1.484200e-02</td>\n",
       "      <td>-7.073200e-01</td>\n",
       "      <td>...</td>\n",
       "      <td>-2.977600e+00</td>\n",
       "      <td>-7.461500e+00</td>\n",
       "      <td>1.928100e+00</td>\n",
       "      <td>-3.549000e-01</td>\n",
       "      <td>-6.345000e-01</td>\n",
       "      <td>3.017200e-01</td>\n",
       "      <td>3.626200e-01</td>\n",
       "      <td>3.521700e-01</td>\n",
       "      <td>-6.729600e-01</td>\n",
       "      <td>0.000000e+00</td>\n",
       "    </tr>\n",
       "    <tr>\n",
       "      <th>75%</th>\n",
       "      <td>-7.637100e+00</td>\n",
       "      <td>7.097800e-01</td>\n",
       "      <td>7.259100e-01</td>\n",
       "      <td>1.590800e-01</td>\n",
       "      <td>1.507100e-01</td>\n",
       "      <td>2.575800e+00</td>\n",
       "      <td>-9.042200e+00</td>\n",
       "      <td>1.301300e+00</td>\n",
       "      <td>4.489800e-01</td>\n",
       "      <td>-5.403400e-01</td>\n",
       "      <td>...</td>\n",
       "      <td>-1.193700e+00</td>\n",
       "      <td>-2.533900e+00</td>\n",
       "      <td>4.914700e+00</td>\n",
       "      <td>9.607800e-02</td>\n",
       "      <td>-1.067800e-01</td>\n",
       "      <td>7.780200e-01</td>\n",
       "      <td>6.792300e+00</td>\n",
       "      <td>1.007600e+01</td>\n",
       "      <td>1.318600e+01</td>\n",
       "      <td>2.000000e+00</td>\n",
       "    </tr>\n",
       "    <tr>\n",
       "      <th>max</th>\n",
       "      <td>1.909400e+01</td>\n",
       "      <td>2.092700e+01</td>\n",
       "      <td>2.619600e+01</td>\n",
       "      <td>8.514900e+00</td>\n",
       "      <td>8.519100e+00</td>\n",
       "      <td>2.005400e+01</td>\n",
       "      <td>2.116100e+01</td>\n",
       "      <td>2.501500e+01</td>\n",
       "      <td>6.048400e+01</td>\n",
       "      <td>2.011300e+00</td>\n",
       "      <td>...</td>\n",
       "      <td>1.986400e+01</td>\n",
       "      <td>2.219100e+01</td>\n",
       "      <td>2.574100e+01</td>\n",
       "      <td>3.319600e+00</td>\n",
       "      <td>1.556500e+00</td>\n",
       "      <td>2.750000e+00</td>\n",
       "      <td>2.511500e+02</td>\n",
       "      <td>3.377600e+02</td>\n",
       "      <td>6.571800e+02</td>\n",
       "      <td>1.200000e+01</td>\n",
       "    </tr>\n",
       "  </tbody>\n",
       "</table>\n",
       "<p>8 rows × 24 columns</p>\n",
       "</div>"
      ],
      "text/plain": [
       "        acc_chest_x   acc_chest_y   acc_chest_z         ecg_1         ecg_2  \\\n",
       "count  1.215745e+06  1.215745e+06  1.215745e+06  1.215745e+06  1.215745e+06   \n",
       "mean  -8.522361e+00 -2.140013e-01 -1.055950e+00 -5.122403e-03 -4.506434e-03   \n",
       "std    4.075293e+00  2.138954e+00  3.574163e+00  7.465971e-01  7.270395e-01   \n",
       "min   -2.243800e+01 -2.018800e+01 -1.840100e+01 -8.619600e+00 -8.619600e+00   \n",
       "25%   -9.804000e+00 -1.272900e+00 -2.867300e+00 -2.344300e-01 -1.883800e-01   \n",
       "50%   -9.311400e+00 -3.538100e-01 -8.702000e-01 -7.116700e-02 -4.186300e-02   \n",
       "75%   -7.637100e+00  7.097800e-01  7.259100e-01  1.590800e-01  1.507100e-01   \n",
       "max    1.909400e+01  2.092700e+01  2.619600e+01  8.514900e+00  8.519100e+00   \n",
       "\n",
       "        acc_ankel_x   acc_ankel_y   acc_ankel_z  gyro_ankel_x  gyro_ankel_y  \\\n",
       "count  1.215745e+06  1.215745e+06  1.215745e+06  1.215745e+06  1.215745e+06   \n",
       "mean   1.494200e+00 -9.692878e+00 -9.548056e-01 -1.598951e-03 -6.166318e-01   \n",
       "std    3.826485e+00  4.171303e+00  5.461803e+00  4.912172e-01  3.546406e-01   \n",
       "min   -2.214600e+01 -1.961900e+01 -1.937300e+01 -2.146600e+00 -7.789900e+00   \n",
       "25%    1.413100e-01 -1.020100e+01 -2.649400e+00 -4.359900e-01 -8.180100e-01   \n",
       "50%    1.308900e+00 -9.670300e+00 -1.645600e-02 -1.484200e-02 -7.073200e-01   \n",
       "75%    2.575800e+00 -9.042200e+00  1.301300e+00  4.489800e-01 -5.403400e-01   \n",
       "max    2.005400e+01  2.116100e+01  2.501500e+01  6.048400e+01  2.011300e+00   \n",
       "\n",
       "       ...     acc_arm_x     acc_arm_y     acc_arm_z    gyro_arm_x  \\\n",
       "count  ...  1.215745e+06  1.215745e+06  1.215745e+06  1.215745e+06   \n",
       "mean   ... -3.713413e+00 -5.805526e+00  2.393880e+00 -2.761061e-01   \n",
       "std    ...  4.763586e+00  5.757639e+00  3.876503e+00  5.276888e-01   \n",
       "min    ... -2.236100e+01 -1.897200e+01 -1.823900e+01 -8.339200e+00   \n",
       "25%    ... -6.076000e+00 -9.404200e+00  1.296500e-01 -7.058800e-01   \n",
       "50%    ... -2.977600e+00 -7.461500e+00  1.928100e+00 -3.549000e-01   \n",
       "75%    ... -1.193700e+00 -2.533900e+00  4.914700e+00  9.607800e-02   \n",
       "max    ...  1.986400e+01  2.219100e+01  2.574100e+01  3.319600e+00   \n",
       "\n",
       "         gyro_arm_y    gyro_arm_z     mag_arm_x     mag_arm_y     mag_arm_z  \\\n",
       "count  1.215745e+06  1.215745e+06  1.215745e+06  1.215745e+06  1.215745e+06   \n",
       "mean  -4.664340e-01  2.666335e-01  1.702138e-01  7.144626e-01 -3.668126e-01   \n",
       "std    5.555510e-01  5.643804e-01  2.667617e+01  3.344453e+01  6.955069e+01   \n",
       "min   -3.570800e+00 -2.689700e+00 -3.190300e+02 -3.639000e+02 -7.175500e+02   \n",
       "25%   -8.973300e-01 -2.370700e-01 -6.191900e+00 -9.519500e+00 -1.423800e+01   \n",
       "50%   -6.345000e-01  3.017200e-01  3.626200e-01  3.521700e-01 -6.729600e-01   \n",
       "75%   -1.067800e-01  7.780200e-01  6.792300e+00  1.007600e+01  1.318600e+01   \n",
       "max    1.556500e+00  2.750000e+00  2.511500e+02  3.377600e+02  6.571800e+02   \n",
       "\n",
       "              label  \n",
       "count  1.215745e+06  \n",
       "mean   1.741465e+00  \n",
       "std    3.283679e+00  \n",
       "min    0.000000e+00  \n",
       "25%    0.000000e+00  \n",
       "50%    0.000000e+00  \n",
       "75%    2.000000e+00  \n",
       "max    1.200000e+01  \n",
       "\n",
       "[8 rows x 24 columns]"
      ]
     },
     "execution_count": 247,
     "metadata": {},
     "output_type": "execute_result"
    }
   ],
   "source": [
    "data.describe()"
   ]
  },
  {
   "cell_type": "code",
   "execution_count": 11,
   "metadata": {
    "execution": {
     "iopub.execute_input": "2023-06-10T06:00:48.531019Z",
     "iopub.status.busy": "2023-06-10T06:00:48.530653Z",
     "iopub.status.idle": "2023-06-10T06:00:48.597684Z",
     "shell.execute_reply": "2023-06-10T06:00:48.596755Z",
     "shell.execute_reply.started": "2023-06-10T06:00:48.530989Z"
    }
   },
   "outputs": [
    {
     "name": "stdout",
     "output_type": "stream",
     "text": [
      "<class 'pandas.core.frame.DataFrame'>\n",
      "RangeIndex: 1215745 entries, 0 to 1215744\n",
      "Data columns (total 24 columns):\n",
      " #   Column        Non-Null Count    Dtype  \n",
      "---  ------        --------------    -----  \n",
      " 0   acc_chest_x   1215745 non-null  float64\n",
      " 1   acc_chest_y   1215745 non-null  float64\n",
      " 2   acc_chest_z   1215745 non-null  float64\n",
      " 3   ecg_1         1215745 non-null  float64\n",
      " 4   ecg_2         1215745 non-null  float64\n",
      " 5   acc_ankel_x   1215745 non-null  float64\n",
      " 6   acc_ankel_y   1215745 non-null  float64\n",
      " 7   acc_ankel_z   1215745 non-null  float64\n",
      " 8   gyro_ankel_x  1215745 non-null  float64\n",
      " 9   gyro_ankel_y  1215745 non-null  float64\n",
      " 10  gyro_ankel_z  1215745 non-null  float64\n",
      " 11  mag_ankel_x   1215745 non-null  float64\n",
      " 12  mag_ankel_y   1215745 non-null  float64\n",
      " 13  mag_ankel_z   1215745 non-null  float64\n",
      " 14  acc_arm_x     1215745 non-null  float64\n",
      " 15  acc_arm_y     1215745 non-null  float64\n",
      " 16  acc_arm_z     1215745 non-null  float64\n",
      " 17  gyro_arm_x    1215745 non-null  float64\n",
      " 18  gyro_arm_y    1215745 non-null  float64\n",
      " 19  gyro_arm_z    1215745 non-null  float64\n",
      " 20  mag_arm_x     1215745 non-null  float64\n",
      " 21  mag_arm_y     1215745 non-null  float64\n",
      " 22  mag_arm_z     1215745 non-null  float64\n",
      " 23  label         1215745 non-null  int64  \n",
      "dtypes: float64(23), int64(1)\n",
      "memory usage: 222.6 MB\n"
     ]
    }
   ],
   "source": [
    "data.info()"
   ]
  },
  {
   "cell_type": "code",
   "execution_count": 6,
   "metadata": {
    "execution": {
     "iopub.execute_input": "2023-06-10T14:58:34.405905Z",
     "iopub.status.busy": "2023-06-10T14:58:34.405492Z",
     "iopub.status.idle": "2023-06-10T14:58:34.507109Z",
     "shell.execute_reply": "2023-06-10T14:58:34.506034Z",
     "shell.execute_reply.started": "2023-06-10T14:58:34.405872Z"
    }
   },
   "outputs": [],
   "source": [
    "## Input and target variable\n",
    "x=data.drop('label',axis=1)\n",
    "y=data.label"
   ]
  },
  {
   "cell_type": "code",
   "execution_count": 251,
   "metadata": {
    "execution": {
     "iopub.execute_input": "2023-06-10T22:18:59.886969Z",
     "iopub.status.busy": "2023-06-10T22:18:59.886566Z",
     "iopub.status.idle": "2023-06-10T22:19:00.564423Z",
     "shell.execute_reply": "2023-06-10T22:19:00.562017Z",
     "shell.execute_reply.started": "2023-06-10T22:18:59.886914Z"
    }
   },
   "outputs": [],
   "source": [
    "## Test, Train and validation split\n",
    "X_train, X_test, y_train, y_test = train_test_split(x, y,test_size=0.10, random_state=123)\n",
    "X_train, X_val, y_train, y_val = train_test_split(X_train, y_train, test_size=0.20, random_state=123)"
   ]
  },
  {
   "cell_type": "markdown",
   "metadata": {},
   "source": [
    "# Approach 1: Building Xg bosst and Random Forest classifiers\n",
    "\n",
    "So i am going to build Xg Boost and random forest and see how its performing, and comming to data preparation i have checked null values and any categorical variablles and dumping whole data into algorithms and see how it performance.Based on the feature importance plot will decide we have to drop any columns."
   ]
  },
  {
   "cell_type": "code",
   "execution_count": 252,
   "metadata": {
    "execution": {
     "iopub.execute_input": "2023-06-10T22:19:04.214970Z",
     "iopub.status.busy": "2023-06-10T22:19:04.213997Z",
     "iopub.status.idle": "2023-06-10T22:19:13.682299Z",
     "shell.execute_reply": "2023-06-10T22:19:13.681365Z",
     "shell.execute_reply.started": "2023-06-10T22:19:04.214915Z"
    }
   },
   "outputs": [
    {
     "data": {
      "text/html": [
       "<style>#sk-container-id-32 {color: black;background-color: white;}#sk-container-id-32 pre{padding: 0;}#sk-container-id-32 div.sk-toggleable {background-color: white;}#sk-container-id-32 label.sk-toggleable__label {cursor: pointer;display: block;width: 100%;margin-bottom: 0;padding: 0.3em;box-sizing: border-box;text-align: center;}#sk-container-id-32 label.sk-toggleable__label-arrow:before {content: \"▸\";float: left;margin-right: 0.25em;color: #696969;}#sk-container-id-32 label.sk-toggleable__label-arrow:hover:before {color: black;}#sk-container-id-32 div.sk-estimator:hover label.sk-toggleable__label-arrow:before {color: black;}#sk-container-id-32 div.sk-toggleable__content {max-height: 0;max-width: 0;overflow: hidden;text-align: left;background-color: #f0f8ff;}#sk-container-id-32 div.sk-toggleable__content pre {margin: 0.2em;color: black;border-radius: 0.25em;background-color: #f0f8ff;}#sk-container-id-32 input.sk-toggleable__control:checked~div.sk-toggleable__content {max-height: 200px;max-width: 100%;overflow: auto;}#sk-container-id-32 input.sk-toggleable__control:checked~label.sk-toggleable__label-arrow:before {content: \"▾\";}#sk-container-id-32 div.sk-estimator input.sk-toggleable__control:checked~label.sk-toggleable__label {background-color: #d4ebff;}#sk-container-id-32 div.sk-label input.sk-toggleable__control:checked~label.sk-toggleable__label {background-color: #d4ebff;}#sk-container-id-32 input.sk-hidden--visually {border: 0;clip: rect(1px 1px 1px 1px);clip: rect(1px, 1px, 1px, 1px);height: 1px;margin: -1px;overflow: hidden;padding: 0;position: absolute;width: 1px;}#sk-container-id-32 div.sk-estimator {font-family: monospace;background-color: #f0f8ff;border: 1px dotted black;border-radius: 0.25em;box-sizing: border-box;margin-bottom: 0.5em;}#sk-container-id-32 div.sk-estimator:hover {background-color: #d4ebff;}#sk-container-id-32 div.sk-parallel-item::after {content: \"\";width: 100%;border-bottom: 1px solid gray;flex-grow: 1;}#sk-container-id-32 div.sk-label:hover label.sk-toggleable__label {background-color: #d4ebff;}#sk-container-id-32 div.sk-serial::before {content: \"\";position: absolute;border-left: 1px solid gray;box-sizing: border-box;top: 0;bottom: 0;left: 50%;z-index: 0;}#sk-container-id-32 div.sk-serial {display: flex;flex-direction: column;align-items: center;background-color: white;padding-right: 0.2em;padding-left: 0.2em;position: relative;}#sk-container-id-32 div.sk-item {position: relative;z-index: 1;}#sk-container-id-32 div.sk-parallel {display: flex;align-items: stretch;justify-content: center;background-color: white;position: relative;}#sk-container-id-32 div.sk-item::before, #sk-container-id-32 div.sk-parallel-item::before {content: \"\";position: absolute;border-left: 1px solid gray;box-sizing: border-box;top: 0;bottom: 0;left: 50%;z-index: -1;}#sk-container-id-32 div.sk-parallel-item {display: flex;flex-direction: column;z-index: 1;position: relative;background-color: white;}#sk-container-id-32 div.sk-parallel-item:first-child::after {align-self: flex-end;width: 50%;}#sk-container-id-32 div.sk-parallel-item:last-child::after {align-self: flex-start;width: 50%;}#sk-container-id-32 div.sk-parallel-item:only-child::after {width: 0;}#sk-container-id-32 div.sk-dashed-wrapped {border: 1px dashed gray;margin: 0 0.4em 0.5em 0.4em;box-sizing: border-box;padding-bottom: 0.4em;background-color: white;}#sk-container-id-32 div.sk-label label {font-family: monospace;font-weight: bold;display: inline-block;line-height: 1.2em;}#sk-container-id-32 div.sk-label-container {text-align: center;}#sk-container-id-32 div.sk-container {/* jupyter's `normalize.less` sets `[hidden] { display: none; }` but bootstrap.min.css set `[hidden] { display: none !important; }` so we also need the `!important` here to be able to override the default hidden behavior on the sphinx rendered scikit-learn.org. See: https://github.com/scikit-learn/scikit-learn/issues/21755 */display: inline-block !important;position: relative;}#sk-container-id-32 div.sk-text-repr-fallback {display: none;}</style><div id=\"sk-container-id-32\" class=\"sk-top-container\"><div class=\"sk-text-repr-fallback\"><pre>XGBClassifier(base_score=None, booster=None, callbacks=None,\n",
       "              colsample_bylevel=None, colsample_bynode=None,\n",
       "              colsample_bytree=None, early_stopping_rounds=None,\n",
       "              enable_categorical=False, eval_metric=None, feature_types=None,\n",
       "              gamma=None, gpu_id=0, grow_policy=None, importance_type=None,\n",
       "              interaction_constraints=None, learning_rate=None, max_bin=None,\n",
       "              max_cat_threshold=None, max_cat_to_onehot=None,\n",
       "              max_delta_step=None, max_depth=None, max_leaves=None,\n",
       "              min_child_weight=None, missing=nan, monotone_constraints=None,\n",
       "              n_estimators=100, n_jobs=None, num_parallel_tree=None,\n",
       "              objective=&#x27;multi:softmax&#x27;, predictor=None, ...)</pre><b>In a Jupyter environment, please rerun this cell to show the HTML representation or trust the notebook. <br />On GitHub, the HTML representation is unable to render, please try loading this page with nbviewer.org.</b></div><div class=\"sk-container\" hidden><div class=\"sk-item\"><div class=\"sk-estimator sk-toggleable\"><input class=\"sk-toggleable__control sk-hidden--visually\" id=\"sk-estimator-id-42\" type=\"checkbox\" checked><label for=\"sk-estimator-id-42\" class=\"sk-toggleable__label sk-toggleable__label-arrow\">XGBClassifier</label><div class=\"sk-toggleable__content\"><pre>XGBClassifier(base_score=None, booster=None, callbacks=None,\n",
       "              colsample_bylevel=None, colsample_bynode=None,\n",
       "              colsample_bytree=None, early_stopping_rounds=None,\n",
       "              enable_categorical=False, eval_metric=None, feature_types=None,\n",
       "              gamma=None, gpu_id=0, grow_policy=None, importance_type=None,\n",
       "              interaction_constraints=None, learning_rate=None, max_bin=None,\n",
       "              max_cat_threshold=None, max_cat_to_onehot=None,\n",
       "              max_delta_step=None, max_depth=None, max_leaves=None,\n",
       "              min_child_weight=None, missing=nan, monotone_constraints=None,\n",
       "              n_estimators=100, n_jobs=None, num_parallel_tree=None,\n",
       "              objective=&#x27;multi:softmax&#x27;, predictor=None, ...)</pre></div></div></div></div></div>"
      ],
      "text/plain": [
       "XGBClassifier(base_score=None, booster=None, callbacks=None,\n",
       "              colsample_bylevel=None, colsample_bynode=None,\n",
       "              colsample_bytree=None, early_stopping_rounds=None,\n",
       "              enable_categorical=False, eval_metric=None, feature_types=None,\n",
       "              gamma=None, gpu_id=0, grow_policy=None, importance_type=None,\n",
       "              interaction_constraints=None, learning_rate=None, max_bin=None,\n",
       "              max_cat_threshold=None, max_cat_to_onehot=None,\n",
       "              max_delta_step=None, max_depth=None, max_leaves=None,\n",
       "              min_child_weight=None, missing=nan, monotone_constraints=None,\n",
       "              n_estimators=100, n_jobs=None, num_parallel_tree=None,\n",
       "              objective='multi:softmax', predictor=None, ...)"
      ]
     },
     "execution_count": 252,
     "metadata": {},
     "output_type": "execute_result"
    }
   ],
   "source": [
    "## Xg Boost Classifier\n",
    "clf_xg=XGBClassifier(objective='multi:softmax',tree_method ='gpu_hist',gpu_id=0,random_state=123)\n",
    "clf_xg.fit(X_train, y_train)  ## Fitting data\n"
   ]
  },
  {
   "cell_type": "code",
   "execution_count": 253,
   "metadata": {
    "execution": {
     "iopub.execute_input": "2023-06-10T22:19:18.018709Z",
     "iopub.status.busy": "2023-06-10T22:19:18.018339Z",
     "iopub.status.idle": "2023-06-10T22:19:42.441030Z",
     "shell.execute_reply": "2023-06-10T22:19:42.440017Z",
     "shell.execute_reply.started": "2023-06-10T22:19:18.018680Z"
    }
   },
   "outputs": [
    {
     "name": "stdout",
     "output_type": "stream",
     "text": [
      "Validation Accuracy : 0.9288090516098961\n",
      "Train Accuracy : 0.9427397022400541\n"
     ]
    }
   ],
   "source": [
    "# Predict on train and validation set\n",
    "y_train_pred = clf_xg.predict(X_train)\n",
    "y_val_pred = clf_xg.predict(X_val)\n",
    "## Accuracy\n",
    "print('Validation Accuracy :',accuracy_score(y_val, y_val_pred))\n",
    "print('Train Accuracy :',accuracy_score(y_train, y_train_pred))"
   ]
  },
  {
   "cell_type": "code",
   "execution_count": 254,
   "metadata": {
    "execution": {
     "iopub.execute_input": "2023-06-10T22:19:56.825885Z",
     "iopub.status.busy": "2023-06-10T22:19:56.825505Z",
     "iopub.status.idle": "2023-06-10T22:19:57.055063Z",
     "shell.execute_reply": "2023-06-10T22:19:57.053897Z",
     "shell.execute_reply.started": "2023-06-10T22:19:56.825854Z"
    }
   },
   "outputs": [
    {
     "name": "stdout",
     "output_type": "stream",
     "text": [
      "              precision    recall  f1-score   support\n",
      "\n",
      "           0       0.96      0.94      0.95    157165\n",
      "           1       0.85      0.96      0.90      5511\n",
      "           2       0.83      0.96      0.89      5618\n",
      "           3       0.86      0.98      0.91      5616\n",
      "           4       0.83      0.88      0.86      5569\n",
      "           5       0.88      0.78      0.83      5492\n",
      "           6       0.86      0.90      0.88      5175\n",
      "           7       0.83      0.94      0.88      5296\n",
      "           8       0.84      0.88      0.86      5235\n",
      "           9       0.85      0.95      0.89      5429\n",
      "          10       0.84      0.92      0.88      5440\n",
      "          11       0.85      0.93      0.89      5535\n",
      "          12       0.79      0.73      0.76      1753\n",
      "\n",
      "    accuracy                           0.93    218834\n",
      "   macro avg       0.85      0.90      0.88    218834\n",
      "weighted avg       0.93      0.93      0.93    218834\n",
      "\n"
     ]
    }
   ],
   "source": [
    "print(classification_report(y_val, y_val_pred))  ##Classification report"
   ]
  },
  {
   "cell_type": "code",
   "execution_count": 255,
   "metadata": {
    "execution": {
     "iopub.execute_input": "2023-06-10T22:20:01.594640Z",
     "iopub.status.busy": "2023-06-10T22:20:01.594019Z",
     "iopub.status.idle": "2023-06-10T22:20:02.458546Z",
     "shell.execute_reply": "2023-06-10T22:20:02.457337Z",
     "shell.execute_reply.started": "2023-06-10T22:20:01.594606Z"
    }
   },
   "outputs": [
    {
     "data": {
      "text/plain": [
       "<sklearn.metrics._plot.confusion_matrix.ConfusionMatrixDisplay at 0x79ffdf243f70>"
      ]
     },
     "execution_count": 255,
     "metadata": {},
     "output_type": "execute_result"
    },
    {
     "data": {
      "image/png": "[encoded data removed]",
      "text/plain": [
       "<Figure size 1000x800 with 2 Axes>"
      ]
     },
     "metadata": {},
     "output_type": "display_data"
    }
   ],
   "source": [
    "## Confusion metric\n",
    "fig, ax = plt.subplots(figsize=(10,8))\n",
    "ConfusionMatrixDisplay.from_predictions(y_val, y_val_pred,ax=ax)"
   ]
  },
  {
   "cell_type": "code",
   "execution_count": 24,
   "metadata": {
    "execution": {
     "iopub.execute_input": "2023-06-10T06:08:31.267917Z",
     "iopub.status.busy": "2023-06-10T06:08:31.265747Z",
     "iopub.status.idle": "2023-06-10T06:08:31.788908Z",
     "shell.execute_reply": "2023-06-10T06:08:31.787997Z",
     "shell.execute_reply.started": "2023-06-10T06:08:31.267876Z"
    }
   },
   "outputs": [
    {
     "data": {
      "image/png": "[encoded data removed]",
      "text/plain": [
       "<Figure size 800x500 with 1 Axes>"
      ]
     },
     "metadata": {},
     "output_type": "display_data"
    }
   ],
   "source": [
    "## Feature importance plot\n",
    "importances = clf_xg.feature_importances_  ##Sort the feature importances\n",
    "indices = np.argsort(importances)\n",
    "# Plot the variable importance using horizontal bar plot\n",
    "plt.figure(figsize=(8, 5))\n",
    "plt.barh(range(len(X_train.columns)), importances[indices])\n",
    "plt.yticks(range(len(X_train.columns)), [X_train.columns[i] for i in indices])\n",
    "plt.xlabel('Variable Importance')\n",
    "plt.title('Variable Importance Plot')\n",
    "plt.show()"
   ]
  },
  {
   "cell_type": "markdown",
   "metadata": {},
   "source": [
    "**Random Forest Classifier**"
   ]
  },
  {
   "cell_type": "code",
   "execution_count": 248,
   "metadata": {
    "execution": {
     "iopub.execute_input": "2023-06-10T22:17:28.151433Z",
     "iopub.status.busy": "2023-06-10T22:17:28.150868Z",
     "iopub.status.idle": "2023-06-10T22:17:56.381272Z",
     "shell.execute_reply": "2023-06-10T22:17:56.380509Z",
     "shell.execute_reply.started": "2023-06-10T22:17:28.151394Z"
    }
   },
   "outputs": [
    {
     "data": {
      "text/plain": [
       "RandomForestClassifier()"
      ]
     },
     "execution_count": 248,
     "metadata": {},
     "output_type": "execute_result"
    }
   ],
   "source": [
    "# Converting Input and target varibales to run random forest on gpu\n",
    "x_cudf = cudf.from_pandas(x)  \n",
    "y_cudf = cudf.from_pandas(y)\n",
    "## Test train and validation\n",
    "X_train_, X_test_, y_train_, y_test_ = train_test_split(x_cudf, y_cudf, test_size=0.10, random_state=42)\n",
    "X_train_, X_val_, y_train_, y_val_ = train_test_split(X_train_, y_train_, test_size=0.20, random_state=42)\n",
    "## Random forest classifier\n",
    "clf_rf = RandomForestClassifier(random_state=123)  \n",
    "clf_rf.fit(X_train_, y_train_)  ## fitting data"
   ]
  },
  {
   "cell_type": "code",
   "execution_count": 249,
   "metadata": {
    "execution": {
     "iopub.execute_input": "2023-06-10T22:17:59.790846Z",
     "iopub.status.busy": "2023-06-10T22:17:59.789845Z",
     "iopub.status.idle": "2023-06-10T22:18:03.213302Z",
     "shell.execute_reply": "2023-06-10T22:18:03.212172Z",
     "shell.execute_reply.started": "2023-06-10T22:17:59.790810Z"
    }
   },
   "outputs": [
    {
     "name": "stdout",
     "output_type": "stream",
     "text": [
      "Validation Accuracy : 0.8698648290485025\n",
      "Train Accuracy : 0.8867417768719669\n"
     ]
    }
   ],
   "source": [
    "# Predict on train and validation set\n",
    "y_train_pred = clf_rf.predict(X_train_)  ## predictions\n",
    "y_val_pred = clf_rf.predict(X_val_)\n",
    "y_train_ = y_train_.to_pandas().to_numpy()  ##Converting data back\n",
    "y_val_ = y_val_.to_pandas().to_numpy()\n",
    "y_train_pred = y_train_pred.to_pandas().to_numpy()\n",
    "y_val_pred = y_val_pred.to_pandas().to_numpy()\n",
    "## Accuracy\n",
    "print('Validation Accuracy :',accuracy_score(y_val_, y_val_pred))\n",
    "print('Train Accuracy :',accuracy_score(y_train_, y_train_pred))"
   ]
  },
  {
   "cell_type": "code",
   "execution_count": 250,
   "metadata": {
    "execution": {
     "iopub.execute_input": "2023-06-10T22:18:11.318023Z",
     "iopub.status.busy": "2023-06-10T22:18:11.317598Z",
     "iopub.status.idle": "2023-06-10T22:18:11.666052Z",
     "shell.execute_reply": "2023-06-10T22:18:11.664911Z",
     "shell.execute_reply.started": "2023-06-10T22:18:11.317984Z"
    }
   },
   "outputs": [
    {
     "name": "stdout",
     "output_type": "stream",
     "text": [
      "              precision    recall  f1-score   support\n",
      "\n",
      "           0       0.88      0.94      0.91    157022\n",
      "           1       0.79      0.91      0.85      5442\n",
      "           2       0.79      0.98      0.87      5525\n",
      "           3       0.83      0.99      0.90      5500\n",
      "           4       0.87      0.27      0.41      5569\n",
      "           5       0.98      0.15      0.26      5518\n",
      "           6       0.85      0.57      0.69      5097\n",
      "           7       0.81      0.75      0.78      5364\n",
      "           8       0.88      0.41      0.56      5368\n",
      "           9       0.82      0.86      0.84      5535\n",
      "          10       0.85      0.81      0.83      5573\n",
      "          11       0.83      0.92      0.87      5517\n",
      "          12       0.88      0.25      0.39      1804\n",
      "\n",
      "    accuracy                           0.87    218834\n",
      "   macro avg       0.85      0.68      0.70    218834\n",
      "weighted avg       0.87      0.87      0.85    218834\n",
      "\n"
     ]
    }
   ],
   "source": [
    "print(classification_report(y_val_, y_val_pred))  ## Classification report"
   ]
  },
  {
   "cell_type": "markdown",
   "metadata": {},
   "source": [
    "**SO Xg boost is performing better than random forest so we will now tune the xgboost using grid search and will see whether performance is increasing or not.**"
   ]
  },
  {
   "cell_type": "markdown",
   "metadata": {},
   "source": [
    "#### Tunning Parameters\n",
    "So Xg Boost is giving good results than randomforest with out tunning parameters so will fine tune xg Bosst "
   ]
  },
  {
   "cell_type": "code",
   "execution_count": 87,
   "metadata": {
    "execution": {
     "iopub.execute_input": "2023-06-10T07:12:32.417897Z",
     "iopub.status.busy": "2023-06-10T07:12:32.417483Z",
     "iopub.status.idle": "2023-06-10T07:19:01.392818Z",
     "shell.execute_reply": "2023-06-10T07:19:01.391845Z",
     "shell.execute_reply.started": "2023-06-10T07:12:32.417866Z"
    }
   },
   "outputs": [
    {
     "name": "stdout",
     "output_type": "stream",
     "text": [
      "Validation Accuracy : 0.9686885950080883\n",
      "Train Accuracy : 0.9998092161181534\n",
      "Test Accuracy : 0.9686695455480157\n"
     ]
    }
   ],
   "source": [
    "## Classifier\n",
    "clf_xg_main=XGBClassifier(n_estimators=500,objective='multi:softmax',tree_method ='gpu_hist',gpu_id=0,random_state=123)\n",
    "clf_xg_main.fit(X_train, y_train)  ## Fitting data\n",
    "# Predict on train and validation set\n",
    "y_train_pred = clf_xg_main.predict(X_train)\n",
    "y_val_pred = clf_xg_main.predict(X_val)\n",
    "y_test_pred = clf_xg_main.predict(X_test)\n",
    "## Accuracy\n",
    "print('Validation Accuracy :',accuracy_score(y_val, y_val_pred))\n",
    "print('Train Accuracy :',accuracy_score(y_train, y_train_pred))\n",
    "print('Test Accuracy :',accuracy_score(y_test, y_test_pred))"
   ]
  },
  {
   "cell_type": "markdown",
   "metadata": {},
   "source": [
    "- Ignore the below cell warning and best parameters are at the bottom after those warnings\n"
   ]
  },
  {
   "cell_type": "code",
   "execution_count": 26,
   "metadata": {
    "execution": {
     "iopub.execute_input": "2023-06-10T17:36:15.296735Z",
     "iopub.status.busy": "2023-06-10T17:36:15.296308Z",
     "iopub.status.idle": "2023-06-10T19:36:52.641302Z",
     "shell.execute_reply": "2023-06-10T19:36:52.640101Z",
     "shell.execute_reply.started": "2023-06-10T17:36:15.296704Z"
    }
   },
   "outputs": [
    {
     "name": "stderr",
     "output_type": "stream",
     "text": [
      "/opt/conda/lib/python3.10/site-packages/sklearn/model_selection/_validation.py:778: UserWarning: Scoring failed. The score on this train-test partition for these parameters will be set to nan. Details: \n",
      "Traceback (most recent call last):\n",
      "  File \"/opt/conda/lib/python3.10/site-packages/sklearn/model_selection/_validation.py\", line 767, in _score\n",
      "    scores = scorer(estimator, X_test, y_test)\n",
      "  File \"/opt/conda/lib/python3.10/site-packages/sklearn/metrics/_scorer.py\", line 234, in __call__\n",
      "    return self._score(\n",
      "  File \"/opt/conda/lib/python3.10/site-packages/sklearn/metrics/_scorer.py\", line 282, in _score\n",
      "    return self._sign * self._score_func(y_true, y_pred, **self._kwargs)\n",
      "  File \"/opt/conda/lib/python3.10/site-packages/sklearn/metrics/_classification.py\", line 1146, in f1_score\n",
      "    return fbeta_score(\n",
      "  File \"/opt/conda/lib/python3.10/site-packages/sklearn/metrics/_classification.py\", line 1287, in fbeta_score\n",
      "    _, _, f, _ = precision_recall_fscore_support(\n",
      "  File \"/opt/conda/lib/python3.10/site-packages/sklearn/metrics/_classification.py\", line 1573, in precision_recall_fscore_support\n",
      "    labels = _check_set_wise_labels(y_true, y_pred, average, labels, pos_label)\n",
      "  File \"/opt/conda/lib/python3.10/site-packages/sklearn/metrics/_classification.py\", line 1391, in _check_set_wise_labels\n",
      "    raise ValueError(\n",
      "ValueError: Target is multiclass but average='binary'. Please choose another average setting, one of [None, 'micro', 'macro', 'weighted'].\n",
      "\n",
      "  warnings.warn(\n",
      "/opt/conda/lib/python3.10/site-packages/sklearn/model_selection/_validation.py:778: UserWarning: Scoring failed. The score on this train-test partition for these parameters will be set to nan. Details: \n",
      "Traceback (most recent call last):\n",
      "  File \"/opt/conda/lib/python3.10/site-packages/sklearn/model_selection/_validation.py\", line 767, in _score\n",
      "    scores = scorer(estimator, X_test, y_test)\n",
      "  File \"/opt/conda/lib/python3.10/site-packages/sklearn/metrics/_scorer.py\", line 234, in __call__\n",
      "    return self._score(\n",
      "  File \"/opt/conda/lib/python3.10/site-packages/sklearn/metrics/_scorer.py\", line 282, in _score\n",
      "    return self._sign * self._score_func(y_true, y_pred, **self._kwargs)\n",
      "  File \"/opt/conda/lib/python3.10/site-packages/sklearn/metrics/_classification.py\", line 1146, in f1_score\n",
      "    return fbeta_score(\n",
      "  File \"/opt/conda/lib/python3.10/site-packages/sklearn/metrics/_classification.py\", line 1287, in fbeta_score\n",
      "    _, _, f, _ = precision_recall_fscore_support(\n",
      "  File \"/opt/conda/lib/python3.10/site-packages/sklearn/metrics/_classification.py\", line 1573, in precision_recall_fscore_support\n",
      "    labels = _check_set_wise_labels(y_true, y_pred, average, labels, pos_label)\n",
      "  File \"/opt/conda/lib/python3.10/site-packages/sklearn/metrics/_classification.py\", line 1391, in _check_set_wise_labels\n",
      "    raise ValueError(\n",
      "ValueError: Target is multiclass but average='binary'. Please choose another average setting, one of [None, 'micro', 'macro', 'weighted'].\n",
      "\n",
      "  warnings.warn(\n",
      "/opt/conda/lib/python3.10/site-packages/sklearn/model_selection/_validation.py:778: UserWarning: Scoring failed. The score on this train-test partition for these parameters will be set to nan. Details: \n",
      "Traceback (most recent call last):\n",
      "  File \"/opt/conda/lib/python3.10/site-packages/sklearn/model_selection/_validation.py\", line 767, in _score\n",
      "    scores = scorer(estimator, X_test, y_test)\n",
      "  File \"/opt/conda/lib/python3.10/site-packages/sklearn/metrics/_scorer.py\", line 234, in __call__\n",
      "    return self._score(\n",
      "  File \"/opt/conda/lib/python3.10/site-packages/sklearn/metrics/_scorer.py\", line 282, in _score\n",
      "    return self._sign * self._score_func(y_true, y_pred, **self._kwargs)\n",
      "  File \"/opt/conda/lib/python3.10/site-packages/sklearn/metrics/_classification.py\", line 1146, in f1_score\n",
      "    return fbeta_score(\n",
      "  File \"/opt/conda/lib/python3.10/site-packages/sklearn/metrics/_classification.py\", line 1287, in fbeta_score\n",
      "    _, _, f, _ = precision_recall_fscore_support(\n",
      "  File \"/opt/conda/lib/python3.10/site-packages/sklearn/metrics/_classification.py\", line 1573, in precision_recall_fscore_support\n",
      "    labels = _check_set_wise_labels(y_true, y_pred, average, labels, pos_label)\n",
      "  File \"/opt/conda/lib/python3.10/site-packages/sklearn/metrics/_classification.py\", line 1391, in _check_set_wise_labels\n",
      "    raise ValueError(\n",
      "ValueError: Target is multiclass but average='binary'. Please choose another average setting, one of [None, 'micro', 'macro', 'weighted'].\n",
      "\n",
      "  warnings.warn(\n",
      "/opt/conda/lib/python3.10/site-packages/sklearn/model_selection/_validation.py:778: UserWarning: Scoring failed. The score on this train-test partition for these parameters will be set to nan. Details: \n",
      "Traceback (most recent call last):\n",
      "  File \"/opt/conda/lib/python3.10/site-packages/sklearn/model_selection/_validation.py\", line 767, in _score\n",
      "    scores = scorer(estimator, X_test, y_test)\n",
      "  File \"/opt/conda/lib/python3.10/site-packages/sklearn/metrics/_scorer.py\", line 234, in __call__\n",
      "    return self._score(\n",
      "  File \"/opt/conda/lib/python3.10/site-packages/sklearn/metrics/_scorer.py\", line 282, in _score\n",
      "    return self._sign * self._score_func(y_true, y_pred, **self._kwargs)\n",
      "  File \"/opt/conda/lib/python3.10/site-packages/sklearn/metrics/_classification.py\", line 1146, in f1_score\n",
      "    return fbeta_score(\n",
      "  File \"/opt/conda/lib/python3.10/site-packages/sklearn/metrics/_classification.py\", line 1287, in fbeta_score\n",
      "    _, _, f, _ = precision_recall_fscore_support(\n",
      "  File \"/opt/conda/lib/python3.10/site-packages/sklearn/metrics/_classification.py\", line 1573, in precision_recall_fscore_support\n",
      "    labels = _check_set_wise_labels(y_true, y_pred, average, labels, pos_label)\n",
      "  File \"/opt/conda/lib/python3.10/site-packages/sklearn/metrics/_classification.py\", line 1391, in _check_set_wise_labels\n",
      "    raise ValueError(\n",
      "ValueError: Target is multiclass but average='binary'. Please choose another average setting, one of [None, 'micro', 'macro', 'weighted'].\n",
      "\n",
      "  warnings.warn(\n",
      "/opt/conda/lib/python3.10/site-packages/sklearn/model_selection/_validation.py:778: UserWarning: Scoring failed. The score on this train-test partition for these parameters will be set to nan. Details: \n",
      "Traceback (most recent call last):\n",
      "  File \"/opt/conda/lib/python3.10/site-packages/sklearn/model_selection/_validation.py\", line 767, in _score\n",
      "    scores = scorer(estimator, X_test, y_test)\n",
      "  File \"/opt/conda/lib/python3.10/site-packages/sklearn/metrics/_scorer.py\", line 234, in __call__\n",
      "    return self._score(\n",
      "  File \"/opt/conda/lib/python3.10/site-packages/sklearn/metrics/_scorer.py\", line 282, in _score\n",
      "    return self._sign * self._score_func(y_true, y_pred, **self._kwargs)\n",
      "  File \"/opt/conda/lib/python3.10/site-packages/sklearn/metrics/_classification.py\", line 1146, in f1_score\n",
      "    return fbeta_score(\n",
      "  File \"/opt/conda/lib/python3.10/site-packages/sklearn/metrics/_classification.py\", line 1287, in fbeta_score\n",
      "    _, _, f, _ = precision_recall_fscore_support(\n",
      "  File \"/opt/conda/lib/python3.10/site-packages/sklearn/metrics/_classification.py\", line 1573, in precision_recall_fscore_support\n",
      "    labels = _check_set_wise_labels(y_true, y_pred, average, labels, pos_label)\n",
      "  File \"/opt/conda/lib/python3.10/site-packages/sklearn/metrics/_classification.py\", line 1391, in _check_set_wise_labels\n",
      "    raise ValueError(\n",
      "ValueError: Target is multiclass but average='binary'. Please choose another average setting, one of [None, 'micro', 'macro', 'weighted'].\n",
      "\n",
      "  warnings.warn(\n",
      "/opt/conda/lib/python3.10/site-packages/sklearn/model_selection/_validation.py:778: UserWarning: Scoring failed. The score on this train-test partition for these parameters will be set to nan. Details: \n",
      "Traceback (most recent call last):\n",
      "  File \"/opt/conda/lib/python3.10/site-packages/sklearn/model_selection/_validation.py\", line 767, in _score\n",
      "    scores = scorer(estimator, X_test, y_test)\n",
      "  File \"/opt/conda/lib/python3.10/site-packages/sklearn/metrics/_scorer.py\", line 234, in __call__\n",
      "    return self._score(\n",
      "  File \"/opt/conda/lib/python3.10/site-packages/sklearn/metrics/_scorer.py\", line 282, in _score\n",
      "    return self._sign * self._score_func(y_true, y_pred, **self._kwargs)\n",
      "  File \"/opt/conda/lib/python3.10/site-packages/sklearn/metrics/_classification.py\", line 1146, in f1_score\n",
      "    return fbeta_score(\n",
      "  File \"/opt/conda/lib/python3.10/site-packages/sklearn/metrics/_classification.py\", line 1287, in fbeta_score\n",
      "    _, _, f, _ = precision_recall_fscore_support(\n",
      "  File \"/opt/conda/lib/python3.10/site-packages/sklearn/metrics/_classification.py\", line 1573, in precision_recall_fscore_support\n",
      "    labels = _check_set_wise_labels(y_true, y_pred, average, labels, pos_label)\n",
      "  File \"/opt/conda/lib/python3.10/site-packages/sklearn/metrics/_classification.py\", line 1391, in _check_set_wise_labels\n",
      "    raise ValueError(\n",
      "ValueError: Target is multiclass but average='binary'. Please choose another average setting, one of [None, 'micro', 'macro', 'weighted'].\n",
      "\n",
      "  warnings.warn(\n",
      "/opt/conda/lib/python3.10/site-packages/sklearn/model_selection/_validation.py:778: UserWarning: Scoring failed. The score on this train-test partition for these parameters will be set to nan. Details: \n",
      "Traceback (most recent call last):\n",
      "  File \"/opt/conda/lib/python3.10/site-packages/sklearn/model_selection/_validation.py\", line 767, in _score\n",
      "    scores = scorer(estimator, X_test, y_test)\n",
      "  File \"/opt/conda/lib/python3.10/site-packages/sklearn/metrics/_scorer.py\", line 234, in __call__\n",
      "    return self._score(\n",
      "  File \"/opt/conda/lib/python3.10/site-packages/sklearn/metrics/_scorer.py\", line 282, in _score\n",
      "    return self._sign * self._score_func(y_true, y_pred, **self._kwargs)\n",
      "  File \"/opt/conda/lib/python3.10/site-packages/sklearn/metrics/_classification.py\", line 1146, in f1_score\n",
      "    return fbeta_score(\n",
      "  File \"/opt/conda/lib/python3.10/site-packages/sklearn/metrics/_classification.py\", line 1287, in fbeta_score\n",
      "    _, _, f, _ = precision_recall_fscore_support(\n",
      "  File \"/opt/conda/lib/python3.10/site-packages/sklearn/metrics/_classification.py\", line 1573, in precision_recall_fscore_support\n",
      "    labels = _check_set_wise_labels(y_true, y_pred, average, labels, pos_label)\n",
      "  File \"/opt/conda/lib/python3.10/site-packages/sklearn/metrics/_classification.py\", line 1391, in _check_set_wise_labels\n",
      "    raise ValueError(\n",
      "ValueError: Target is multiclass but average='binary'. Please choose another average setting, one of [None, 'micro', 'macro', 'weighted'].\n",
      "\n",
      "  warnings.warn(\n",
      "/opt/conda/lib/python3.10/site-packages/sklearn/model_selection/_validation.py:778: UserWarning: Scoring failed. The score on this train-test partition for these parameters will be set to nan. Details: \n",
      "Traceback (most recent call last):\n",
      "  File \"/opt/conda/lib/python3.10/site-packages/sklearn/model_selection/_validation.py\", line 767, in _score\n",
      "    scores = scorer(estimator, X_test, y_test)\n",
      "  File \"/opt/conda/lib/python3.10/site-packages/sklearn/metrics/_scorer.py\", line 234, in __call__\n",
      "    return self._score(\n",
      "  File \"/opt/conda/lib/python3.10/site-packages/sklearn/metrics/_scorer.py\", line 282, in _score\n",
      "    return self._sign * self._score_func(y_true, y_pred, **self._kwargs)\n",
      "  File \"/opt/conda/lib/python3.10/site-packages/sklearn/metrics/_classification.py\", line 1146, in f1_score\n",
      "    return fbeta_score(\n",
      "  File \"/opt/conda/lib/python3.10/site-packages/sklearn/metrics/_classification.py\", line 1287, in fbeta_score\n",
      "    _, _, f, _ = precision_recall_fscore_support(\n",
      "  File \"/opt/conda/lib/python3.10/site-packages/sklearn/metrics/_classification.py\", line 1573, in precision_recall_fscore_support\n",
      "    labels = _check_set_wise_labels(y_true, y_pred, average, labels, pos_label)\n",
      "  File \"/opt/conda/lib/python3.10/site-packages/sklearn/metrics/_classification.py\", line 1391, in _check_set_wise_labels\n",
      "    raise ValueError(\n",
      "ValueError: Target is multiclass but average='binary'. Please choose another average setting, one of [None, 'micro', 'macro', 'weighted'].\n",
      "\n",
      "  warnings.warn(\n",
      "/opt/conda/lib/python3.10/site-packages/sklearn/model_selection/_validation.py:778: UserWarning: Scoring failed. The score on this train-test partition for these parameters will be set to nan. Details: \n",
      "Traceback (most recent call last):\n",
      "  File \"/opt/conda/lib/python3.10/site-packages/sklearn/model_selection/_validation.py\", line 767, in _score\n",
      "    scores = scorer(estimator, X_test, y_test)\n",
      "  File \"/opt/conda/lib/python3.10/site-packages/sklearn/metrics/_scorer.py\", line 234, in __call__\n",
      "    return self._score(\n",
      "  File \"/opt/conda/lib/python3.10/site-packages/sklearn/metrics/_scorer.py\", line 282, in _score\n",
      "    return self._sign * self._score_func(y_true, y_pred, **self._kwargs)\n",
      "  File \"/opt/conda/lib/python3.10/site-packages/sklearn/metrics/_classification.py\", line 1146, in f1_score\n",
      "    return fbeta_score(\n",
      "  File \"/opt/conda/lib/python3.10/site-packages/sklearn/metrics/_classification.py\", line 1287, in fbeta_score\n",
      "    _, _, f, _ = precision_recall_fscore_support(\n",
      "  File \"/opt/conda/lib/python3.10/site-packages/sklearn/metrics/_classification.py\", line 1573, in precision_recall_fscore_support\n",
      "    labels = _check_set_wise_labels(y_true, y_pred, average, labels, pos_label)\n",
      "  File \"/opt/conda/lib/python3.10/site-packages/sklearn/metrics/_classification.py\", line 1391, in _check_set_wise_labels\n",
      "    raise ValueError(\n",
      "ValueError: Target is multiclass but average='binary'. Please choose another average setting, one of [None, 'micro', 'macro', 'weighted'].\n",
      "\n",
      "  warnings.warn(\n",
      "/opt/conda/lib/python3.10/site-packages/sklearn/model_selection/_validation.py:778: UserWarning: Scoring failed. The score on this train-test partition for these parameters will be set to nan. Details: \n",
      "Traceback (most recent call last):\n",
      "  File \"/opt/conda/lib/python3.10/site-packages/sklearn/model_selection/_validation.py\", line 767, in _score\n",
      "    scores = scorer(estimator, X_test, y_test)\n",
      "  File \"/opt/conda/lib/python3.10/site-packages/sklearn/metrics/_scorer.py\", line 234, in __call__\n",
      "    return self._score(\n",
      "  File \"/opt/conda/lib/python3.10/site-packages/sklearn/metrics/_scorer.py\", line 282, in _score\n",
      "    return self._sign * self._score_func(y_true, y_pred, **self._kwargs)\n",
      "  File \"/opt/conda/lib/python3.10/site-packages/sklearn/metrics/_classification.py\", line 1146, in f1_score\n",
      "    return fbeta_score(\n",
      "  File \"/opt/conda/lib/python3.10/site-packages/sklearn/metrics/_classification.py\", line 1287, in fbeta_score\n",
      "    _, _, f, _ = precision_recall_fscore_support(\n",
      "  File \"/opt/conda/lib/python3.10/site-packages/sklearn/metrics/_classification.py\", line 1573, in precision_recall_fscore_support\n",
      "    labels = _check_set_wise_labels(y_true, y_pred, average, labels, pos_label)\n",
      "  File \"/opt/conda/lib/python3.10/site-packages/sklearn/metrics/_classification.py\", line 1391, in _check_set_wise_labels\n",
      "    raise ValueError(\n",
      "ValueError: Target is multiclass but average='binary'. Please choose another average setting, one of [None, 'micro', 'macro', 'weighted'].\n",
      "\n",
      "  warnings.warn(\n",
      "/opt/conda/lib/python3.10/site-packages/sklearn/model_selection/_validation.py:778: UserWarning: Scoring failed. The score on this train-test partition for these parameters will be set to nan. Details: \n",
      "Traceback (most recent call last):\n",
      "  File \"/opt/conda/lib/python3.10/site-packages/sklearn/model_selection/_validation.py\", line 767, in _score\n",
      "    scores = scorer(estimator, X_test, y_test)\n",
      "  File \"/opt/conda/lib/python3.10/site-packages/sklearn/metrics/_scorer.py\", line 234, in __call__\n",
      "    return self._score(\n",
      "  File \"/opt/conda/lib/python3.10/site-packages/sklearn/metrics/_scorer.py\", line 282, in _score\n",
      "    return self._sign * self._score_func(y_true, y_pred, **self._kwargs)\n",
      "  File \"/opt/conda/lib/python3.10/site-packages/sklearn/metrics/_classification.py\", line 1146, in f1_score\n",
      "    return fbeta_score(\n",
      "  File \"/opt/conda/lib/python3.10/site-packages/sklearn/metrics/_classification.py\", line 1287, in fbeta_score\n",
      "    _, _, f, _ = precision_recall_fscore_support(\n",
      "  File \"/opt/conda/lib/python3.10/site-packages/sklearn/metrics/_classification.py\", line 1573, in precision_recall_fscore_support\n",
      "    labels = _check_set_wise_labels(y_true, y_pred, average, labels, pos_label)\n",
      "  File \"/opt/conda/lib/python3.10/site-packages/sklearn/metrics/_classification.py\", line 1391, in _check_set_wise_labels\n",
      "    raise ValueError(\n",
      "ValueError: Target is multiclass but average='binary'. Please choose another average setting, one of [None, 'micro', 'macro', 'weighted'].\n",
      "\n",
      "  warnings.warn(\n",
      "/opt/conda/lib/python3.10/site-packages/sklearn/model_selection/_validation.py:778: UserWarning: Scoring failed. The score on this train-test partition for these parameters will be set to nan. Details: \n",
      "Traceback (most recent call last):\n",
      "  File \"/opt/conda/lib/python3.10/site-packages/sklearn/model_selection/_validation.py\", line 767, in _score\n",
      "    scores = scorer(estimator, X_test, y_test)\n",
      "  File \"/opt/conda/lib/python3.10/site-packages/sklearn/metrics/_scorer.py\", line 234, in __call__\n",
      "    return self._score(\n",
      "  File \"/opt/conda/lib/python3.10/site-packages/sklearn/metrics/_scorer.py\", line 282, in _score\n",
      "    return self._sign * self._score_func(y_true, y_pred, **self._kwargs)\n",
      "  File \"/opt/conda/lib/python3.10/site-packages/sklearn/metrics/_classification.py\", line 1146, in f1_score\n",
      "    return fbeta_score(\n",
      "  File \"/opt/conda/lib/python3.10/site-packages/sklearn/metrics/_classification.py\", line 1287, in fbeta_score\n",
      "    _, _, f, _ = precision_recall_fscore_support(\n",
      "  File \"/opt/conda/lib/python3.10/site-packages/sklearn/metrics/_classification.py\", line 1573, in precision_recall_fscore_support\n",
      "    labels = _check_set_wise_labels(y_true, y_pred, average, labels, pos_label)\n",
      "  File \"/opt/conda/lib/python3.10/site-packages/sklearn/metrics/_classification.py\", line 1391, in _check_set_wise_labels\n",
      "    raise ValueError(\n",
      "ValueError: Target is multiclass but average='binary'. Please choose another average setting, one of [None, 'micro', 'macro', 'weighted'].\n",
      "\n",
      "  warnings.warn(\n",
      "/opt/conda/lib/python3.10/site-packages/sklearn/model_selection/_validation.py:778: UserWarning: Scoring failed. The score on this train-test partition for these parameters will be set to nan. Details: \n",
      "Traceback (most recent call last):\n",
      "  File \"/opt/conda/lib/python3.10/site-packages/sklearn/model_selection/_validation.py\", line 767, in _score\n",
      "    scores = scorer(estimator, X_test, y_test)\n",
      "  File \"/opt/conda/lib/python3.10/site-packages/sklearn/metrics/_scorer.py\", line 234, in __call__\n",
      "    return self._score(\n",
      "  File \"/opt/conda/lib/python3.10/site-packages/sklearn/metrics/_scorer.py\", line 282, in _score\n",
      "    return self._sign * self._score_func(y_true, y_pred, **self._kwargs)\n",
      "  File \"/opt/conda/lib/python3.10/site-packages/sklearn/metrics/_classification.py\", line 1146, in f1_score\n",
      "    return fbeta_score(\n",
      "  File \"/opt/conda/lib/python3.10/site-packages/sklearn/metrics/_classification.py\", line 1287, in fbeta_score\n",
      "    _, _, f, _ = precision_recall_fscore_support(\n",
      "  File \"/opt/conda/lib/python3.10/site-packages/sklearn/metrics/_classification.py\", line 1573, in precision_recall_fscore_support\n",
      "    labels = _check_set_wise_labels(y_true, y_pred, average, labels, pos_label)\n",
      "  File \"/opt/conda/lib/python3.10/site-packages/sklearn/metrics/_classification.py\", line 1391, in _check_set_wise_labels\n",
      "    raise ValueError(\n",
      "ValueError: Target is multiclass but average='binary'. Please choose another average setting, one of [None, 'micro', 'macro', 'weighted'].\n",
      "\n",
      "  warnings.warn(\n",
      "/opt/conda/lib/python3.10/site-packages/sklearn/model_selection/_validation.py:778: UserWarning: Scoring failed. The score on this train-test partition for these parameters will be set to nan. Details: \n",
      "Traceback (most recent call last):\n",
      "  File \"/opt/conda/lib/python3.10/site-packages/sklearn/model_selection/_validation.py\", line 767, in _score\n",
      "    scores = scorer(estimator, X_test, y_test)\n",
      "  File \"/opt/conda/lib/python3.10/site-packages/sklearn/metrics/_scorer.py\", line 234, in __call__\n",
      "    return self._score(\n",
      "  File \"/opt/conda/lib/python3.10/site-packages/sklearn/metrics/_scorer.py\", line 282, in _score\n",
      "    return self._sign * self._score_func(y_true, y_pred, **self._kwargs)\n",
      "  File \"/opt/conda/lib/python3.10/site-packages/sklearn/metrics/_classification.py\", line 1146, in f1_score\n",
      "    return fbeta_score(\n",
      "  File \"/opt/conda/lib/python3.10/site-packages/sklearn/metrics/_classification.py\", line 1287, in fbeta_score\n",
      "    _, _, f, _ = precision_recall_fscore_support(\n",
      "  File \"/opt/conda/lib/python3.10/site-packages/sklearn/metrics/_classification.py\", line 1573, in precision_recall_fscore_support\n",
      "    labels = _check_set_wise_labels(y_true, y_pred, average, labels, pos_label)\n",
      "  File \"/opt/conda/lib/python3.10/site-packages/sklearn/metrics/_classification.py\", line 1391, in _check_set_wise_labels\n",
      "    raise ValueError(\n",
      "ValueError: Target is multiclass but average='binary'. Please choose another average setting, one of [None, 'micro', 'macro', 'weighted'].\n",
      "\n",
      "  warnings.warn(\n",
      "/opt/conda/lib/python3.10/site-packages/sklearn/model_selection/_validation.py:778: UserWarning: Scoring failed. The score on this train-test partition for these parameters will be set to nan. Details: \n",
      "Traceback (most recent call last):\n",
      "  File \"/opt/conda/lib/python3.10/site-packages/sklearn/model_selection/_validation.py\", line 767, in _score\n",
      "    scores = scorer(estimator, X_test, y_test)\n",
      "  File \"/opt/conda/lib/python3.10/site-packages/sklearn/metrics/_scorer.py\", line 234, in __call__\n",
      "    return self._score(\n",
      "  File \"/opt/conda/lib/python3.10/site-packages/sklearn/metrics/_scorer.py\", line 282, in _score\n",
      "    return self._sign * self._score_func(y_true, y_pred, **self._kwargs)\n",
      "  File \"/opt/conda/lib/python3.10/site-packages/sklearn/metrics/_classification.py\", line 1146, in f1_score\n",
      "    return fbeta_score(\n",
      "  File \"/opt/conda/lib/python3.10/site-packages/sklearn/metrics/_classification.py\", line 1287, in fbeta_score\n",
      "    _, _, f, _ = precision_recall_fscore_support(\n",
      "  File \"/opt/conda/lib/python3.10/site-packages/sklearn/metrics/_classification.py\", line 1573, in precision_recall_fscore_support\n",
      "    labels = _check_set_wise_labels(y_true, y_pred, average, labels, pos_label)\n",
      "  File \"/opt/conda/lib/python3.10/site-packages/sklearn/metrics/_classification.py\", line 1391, in _check_set_wise_labels\n",
      "    raise ValueError(\n",
      "ValueError: Target is multiclass but average='binary'. Please choose another average setting, one of [None, 'micro', 'macro', 'weighted'].\n",
      "\n",
      "  warnings.warn(\n",
      "/opt/conda/lib/python3.10/site-packages/sklearn/model_selection/_validation.py:778: UserWarning: Scoring failed. The score on this train-test partition for these parameters will be set to nan. Details: \n",
      "Traceback (most recent call last):\n",
      "  File \"/opt/conda/lib/python3.10/site-packages/sklearn/model_selection/_validation.py\", line 767, in _score\n",
      "    scores = scorer(estimator, X_test, y_test)\n",
      "  File \"/opt/conda/lib/python3.10/site-packages/sklearn/metrics/_scorer.py\", line 234, in __call__\n",
      "    return self._score(\n",
      "  File \"/opt/conda/lib/python3.10/site-packages/sklearn/metrics/_scorer.py\", line 282, in _score\n",
      "    return self._sign * self._score_func(y_true, y_pred, **self._kwargs)\n",
      "  File \"/opt/conda/lib/python3.10/site-packages/sklearn/metrics/_classification.py\", line 1146, in f1_score\n",
      "    return fbeta_score(\n",
      "  File \"/opt/conda/lib/python3.10/site-packages/sklearn/metrics/_classification.py\", line 1287, in fbeta_score\n",
      "    _, _, f, _ = precision_recall_fscore_support(\n",
      "  File \"/opt/conda/lib/python3.10/site-packages/sklearn/metrics/_classification.py\", line 1573, in precision_recall_fscore_support\n",
      "    labels = _check_set_wise_labels(y_true, y_pred, average, labels, pos_label)\n",
      "  File \"/opt/conda/lib/python3.10/site-packages/sklearn/metrics/_classification.py\", line 1391, in _check_set_wise_labels\n",
      "    raise ValueError(\n",
      "ValueError: Target is multiclass but average='binary'. Please choose another average setting, one of [None, 'micro', 'macro', 'weighted'].\n",
      "\n",
      "  warnings.warn(\n",
      "/opt/conda/lib/python3.10/site-packages/sklearn/model_selection/_validation.py:778: UserWarning: Scoring failed. The score on this train-test partition for these parameters will be set to nan. Details: \n",
      "Traceback (most recent call last):\n",
      "  File \"/opt/conda/lib/python3.10/site-packages/sklearn/model_selection/_validation.py\", line 767, in _score\n",
      "    scores = scorer(estimator, X_test, y_test)\n",
      "  File \"/opt/conda/lib/python3.10/site-packages/sklearn/metrics/_scorer.py\", line 234, in __call__\n",
      "    return self._score(\n",
      "  File \"/opt/conda/lib/python3.10/site-packages/sklearn/metrics/_scorer.py\", line 282, in _score\n",
      "    return self._sign * self._score_func(y_true, y_pred, **self._kwargs)\n",
      "  File \"/opt/conda/lib/python3.10/site-packages/sklearn/metrics/_classification.py\", line 1146, in f1_score\n",
      "    return fbeta_score(\n",
      "  File \"/opt/conda/lib/python3.10/site-packages/sklearn/metrics/_classification.py\", line 1287, in fbeta_score\n",
      "    _, _, f, _ = precision_recall_fscore_support(\n",
      "  File \"/opt/conda/lib/python3.10/site-packages/sklearn/metrics/_classification.py\", line 1573, in precision_recall_fscore_support\n",
      "    labels = _check_set_wise_labels(y_true, y_pred, average, labels, pos_label)\n",
      "  File \"/opt/conda/lib/python3.10/site-packages/sklearn/metrics/_classification.py\", line 1391, in _check_set_wise_labels\n",
      "    raise ValueError(\n",
      "ValueError: Target is multiclass but average='binary'. Please choose another average setting, one of [None, 'micro', 'macro', 'weighted'].\n",
      "\n",
      "  warnings.warn(\n",
      "/opt/conda/lib/python3.10/site-packages/sklearn/model_selection/_validation.py:778: UserWarning: Scoring failed. The score on this train-test partition for these parameters will be set to nan. Details: \n",
      "Traceback (most recent call last):\n",
      "  File \"/opt/conda/lib/python3.10/site-packages/sklearn/model_selection/_validation.py\", line 767, in _score\n",
      "    scores = scorer(estimator, X_test, y_test)\n",
      "  File \"/opt/conda/lib/python3.10/site-packages/sklearn/metrics/_scorer.py\", line 234, in __call__\n",
      "    return self._score(\n",
      "  File \"/opt/conda/lib/python3.10/site-packages/sklearn/metrics/_scorer.py\", line 282, in _score\n",
      "    return self._sign * self._score_func(y_true, y_pred, **self._kwargs)\n",
      "  File \"/opt/conda/lib/python3.10/site-packages/sklearn/metrics/_classification.py\", line 1146, in f1_score\n",
      "    return fbeta_score(\n",
      "  File \"/opt/conda/lib/python3.10/site-packages/sklearn/metrics/_classification.py\", line 1287, in fbeta_score\n",
      "    _, _, f, _ = precision_recall_fscore_support(\n",
      "  File \"/opt/conda/lib/python3.10/site-packages/sklearn/metrics/_classification.py\", line 1573, in precision_recall_fscore_support\n",
      "    labels = _check_set_wise_labels(y_true, y_pred, average, labels, pos_label)\n",
      "  File \"/opt/conda/lib/python3.10/site-packages/sklearn/metrics/_classification.py\", line 1391, in _check_set_wise_labels\n",
      "    raise ValueError(\n",
      "ValueError: Target is multiclass but average='binary'. Please choose another average setting, one of [None, 'micro', 'macro', 'weighted'].\n",
      "\n",
      "  warnings.warn(\n",
      "/opt/conda/lib/python3.10/site-packages/sklearn/model_selection/_validation.py:778: UserWarning: Scoring failed. The score on this train-test partition for these parameters will be set to nan. Details: \n",
      "Traceback (most recent call last):\n",
      "  File \"/opt/conda/lib/python3.10/site-packages/sklearn/model_selection/_validation.py\", line 767, in _score\n",
      "    scores = scorer(estimator, X_test, y_test)\n",
      "  File \"/opt/conda/lib/python3.10/site-packages/sklearn/metrics/_scorer.py\", line 234, in __call__\n",
      "    return self._score(\n",
      "  File \"/opt/conda/lib/python3.10/site-packages/sklearn/metrics/_scorer.py\", line 282, in _score\n",
      "    return self._sign * self._score_func(y_true, y_pred, **self._kwargs)\n",
      "  File \"/opt/conda/lib/python3.10/site-packages/sklearn/metrics/_classification.py\", line 1146, in f1_score\n",
      "    return fbeta_score(\n",
      "  File \"/opt/conda/lib/python3.10/site-packages/sklearn/metrics/_classification.py\", line 1287, in fbeta_score\n",
      "    _, _, f, _ = precision_recall_fscore_support(\n",
      "  File \"/opt/conda/lib/python3.10/site-packages/sklearn/metrics/_classification.py\", line 1573, in precision_recall_fscore_support\n",
      "    labels = _check_set_wise_labels(y_true, y_pred, average, labels, pos_label)\n",
      "  File \"/opt/conda/lib/python3.10/site-packages/sklearn/metrics/_classification.py\", line 1391, in _check_set_wise_labels\n",
      "    raise ValueError(\n",
      "ValueError: Target is multiclass but average='binary'. Please choose another average setting, one of [None, 'micro', 'macro', 'weighted'].\n",
      "\n",
      "  warnings.warn(\n",
      "/opt/conda/lib/python3.10/site-packages/sklearn/model_selection/_validation.py:778: UserWarning: Scoring failed. The score on this train-test partition for these parameters will be set to nan. Details: \n",
      "Traceback (most recent call last):\n",
      "  File \"/opt/conda/lib/python3.10/site-packages/sklearn/model_selection/_validation.py\", line 767, in _score\n",
      "    scores = scorer(estimator, X_test, y_test)\n",
      "  File \"/opt/conda/lib/python3.10/site-packages/sklearn/metrics/_scorer.py\", line 234, in __call__\n",
      "    return self._score(\n",
      "  File \"/opt/conda/lib/python3.10/site-packages/sklearn/metrics/_scorer.py\", line 282, in _score\n",
      "    return self._sign * self._score_func(y_true, y_pred, **self._kwargs)\n",
      "  File \"/opt/conda/lib/python3.10/site-packages/sklearn/metrics/_classification.py\", line 1146, in f1_score\n",
      "    return fbeta_score(\n",
      "  File \"/opt/conda/lib/python3.10/site-packages/sklearn/metrics/_classification.py\", line 1287, in fbeta_score\n",
      "    _, _, f, _ = precision_recall_fscore_support(\n",
      "  File \"/opt/conda/lib/python3.10/site-packages/sklearn/metrics/_classification.py\", line 1573, in precision_recall_fscore_support\n",
      "    labels = _check_set_wise_labels(y_true, y_pred, average, labels, pos_label)\n",
      "  File \"/opt/conda/lib/python3.10/site-packages/sklearn/metrics/_classification.py\", line 1391, in _check_set_wise_labels\n",
      "    raise ValueError(\n",
      "ValueError: Target is multiclass but average='binary'. Please choose another average setting, one of [None, 'micro', 'macro', 'weighted'].\n",
      "\n",
      "  warnings.warn(\n",
      "/opt/conda/lib/python3.10/site-packages/sklearn/model_selection/_validation.py:778: UserWarning: Scoring failed. The score on this train-test partition for these parameters will be set to nan. Details: \n",
      "Traceback (most recent call last):\n",
      "  File \"/opt/conda/lib/python3.10/site-packages/sklearn/model_selection/_validation.py\", line 767, in _score\n",
      "    scores = scorer(estimator, X_test, y_test)\n",
      "  File \"/opt/conda/lib/python3.10/site-packages/sklearn/metrics/_scorer.py\", line 234, in __call__\n",
      "    return self._score(\n",
      "  File \"/opt/conda/lib/python3.10/site-packages/sklearn/metrics/_scorer.py\", line 282, in _score\n",
      "    return self._sign * self._score_func(y_true, y_pred, **self._kwargs)\n",
      "  File \"/opt/conda/lib/python3.10/site-packages/sklearn/metrics/_classification.py\", line 1146, in f1_score\n",
      "    return fbeta_score(\n",
      "  File \"/opt/conda/lib/python3.10/site-packages/sklearn/metrics/_classification.py\", line 1287, in fbeta_score\n",
      "    _, _, f, _ = precision_recall_fscore_support(\n",
      "  File \"/opt/conda/lib/python3.10/site-packages/sklearn/metrics/_classification.py\", line 1573, in precision_recall_fscore_support\n",
      "    labels = _check_set_wise_labels(y_true, y_pred, average, labels, pos_label)\n",
      "  File \"/opt/conda/lib/python3.10/site-packages/sklearn/metrics/_classification.py\", line 1391, in _check_set_wise_labels\n",
      "    raise ValueError(\n",
      "ValueError: Target is multiclass but average='binary'. Please choose another average setting, one of [None, 'micro', 'macro', 'weighted'].\n",
      "\n",
      "  warnings.warn(\n",
      "/opt/conda/lib/python3.10/site-packages/sklearn/model_selection/_validation.py:778: UserWarning: Scoring failed. The score on this train-test partition for these parameters will be set to nan. Details: \n",
      "Traceback (most recent call last):\n",
      "  File \"/opt/conda/lib/python3.10/site-packages/sklearn/model_selection/_validation.py\", line 767, in _score\n",
      "    scores = scorer(estimator, X_test, y_test)\n",
      "  File \"/opt/conda/lib/python3.10/site-packages/sklearn/metrics/_scorer.py\", line 234, in __call__\n",
      "    return self._score(\n",
      "  File \"/opt/conda/lib/python3.10/site-packages/sklearn/metrics/_scorer.py\", line 282, in _score\n",
      "    return self._sign * self._score_func(y_true, y_pred, **self._kwargs)\n",
      "  File \"/opt/conda/lib/python3.10/site-packages/sklearn/metrics/_classification.py\", line 1146, in f1_score\n",
      "    return fbeta_score(\n",
      "  File \"/opt/conda/lib/python3.10/site-packages/sklearn/metrics/_classification.py\", line 1287, in fbeta_score\n",
      "    _, _, f, _ = precision_recall_fscore_support(\n",
      "  File \"/opt/conda/lib/python3.10/site-packages/sklearn/metrics/_classification.py\", line 1573, in precision_recall_fscore_support\n",
      "    labels = _check_set_wise_labels(y_true, y_pred, average, labels, pos_label)\n",
      "  File \"/opt/conda/lib/python3.10/site-packages/sklearn/metrics/_classification.py\", line 1391, in _check_set_wise_labels\n",
      "    raise ValueError(\n",
      "ValueError: Target is multiclass but average='binary'. Please choose another average setting, one of [None, 'micro', 'macro', 'weighted'].\n",
      "\n",
      "  warnings.warn(\n",
      "/opt/conda/lib/python3.10/site-packages/sklearn/model_selection/_validation.py:778: UserWarning: Scoring failed. The score on this train-test partition for these parameters will be set to nan. Details: \n",
      "Traceback (most recent call last):\n",
      "  File \"/opt/conda/lib/python3.10/site-packages/sklearn/model_selection/_validation.py\", line 767, in _score\n",
      "    scores = scorer(estimator, X_test, y_test)\n",
      "  File \"/opt/conda/lib/python3.10/site-packages/sklearn/metrics/_scorer.py\", line 234, in __call__\n",
      "    return self._score(\n",
      "  File \"/opt/conda/lib/python3.10/site-packages/sklearn/metrics/_scorer.py\", line 282, in _score\n",
      "    return self._sign * self._score_func(y_true, y_pred, **self._kwargs)\n",
      "  File \"/opt/conda/lib/python3.10/site-packages/sklearn/metrics/_classification.py\", line 1146, in f1_score\n",
      "    return fbeta_score(\n",
      "  File \"/opt/conda/lib/python3.10/site-packages/sklearn/metrics/_classification.py\", line 1287, in fbeta_score\n",
      "    _, _, f, _ = precision_recall_fscore_support(\n",
      "  File \"/opt/conda/lib/python3.10/site-packages/sklearn/metrics/_classification.py\", line 1573, in precision_recall_fscore_support\n",
      "    labels = _check_set_wise_labels(y_true, y_pred, average, labels, pos_label)\n",
      "  File \"/opt/conda/lib/python3.10/site-packages/sklearn/metrics/_classification.py\", line 1391, in _check_set_wise_labels\n",
      "    raise ValueError(\n",
      "ValueError: Target is multiclass but average='binary'. Please choose another average setting, one of [None, 'micro', 'macro', 'weighted'].\n",
      "\n",
      "  warnings.warn(\n",
      "/opt/conda/lib/python3.10/site-packages/sklearn/model_selection/_validation.py:778: UserWarning: Scoring failed. The score on this train-test partition for these parameters will be set to nan. Details: \n",
      "Traceback (most recent call last):\n",
      "  File \"/opt/conda/lib/python3.10/site-packages/sklearn/model_selection/_validation.py\", line 767, in _score\n",
      "    scores = scorer(estimator, X_test, y_test)\n",
      "  File \"/opt/conda/lib/python3.10/site-packages/sklearn/metrics/_scorer.py\", line 234, in __call__\n",
      "    return self._score(\n",
      "  File \"/opt/conda/lib/python3.10/site-packages/sklearn/metrics/_scorer.py\", line 282, in _score\n",
      "    return self._sign * self._score_func(y_true, y_pred, **self._kwargs)\n",
      "  File \"/opt/conda/lib/python3.10/site-packages/sklearn/metrics/_classification.py\", line 1146, in f1_score\n",
      "    return fbeta_score(\n",
      "  File \"/opt/conda/lib/python3.10/site-packages/sklearn/metrics/_classification.py\", line 1287, in fbeta_score\n",
      "    _, _, f, _ = precision_recall_fscore_support(\n",
      "  File \"/opt/conda/lib/python3.10/site-packages/sklearn/metrics/_classification.py\", line 1573, in precision_recall_fscore_support\n",
      "    labels = _check_set_wise_labels(y_true, y_pred, average, labels, pos_label)\n",
      "  File \"/opt/conda/lib/python3.10/site-packages/sklearn/metrics/_classification.py\", line 1391, in _check_set_wise_labels\n",
      "    raise ValueError(\n",
      "ValueError: Target is multiclass but average='binary'. Please choose another average setting, one of [None, 'micro', 'macro', 'weighted'].\n",
      "\n",
      "  warnings.warn(\n",
      "/opt/conda/lib/python3.10/site-packages/sklearn/model_selection/_validation.py:778: UserWarning: Scoring failed. The score on this train-test partition for these parameters will be set to nan. Details: \n",
      "Traceback (most recent call last):\n",
      "  File \"/opt/conda/lib/python3.10/site-packages/sklearn/model_selection/_validation.py\", line 767, in _score\n",
      "    scores = scorer(estimator, X_test, y_test)\n",
      "  File \"/opt/conda/lib/python3.10/site-packages/sklearn/metrics/_scorer.py\", line 234, in __call__\n",
      "    return self._score(\n",
      "  File \"/opt/conda/lib/python3.10/site-packages/sklearn/metrics/_scorer.py\", line 282, in _score\n",
      "    return self._sign * self._score_func(y_true, y_pred, **self._kwargs)\n",
      "  File \"/opt/conda/lib/python3.10/site-packages/sklearn/metrics/_classification.py\", line 1146, in f1_score\n",
      "    return fbeta_score(\n",
      "  File \"/opt/conda/lib/python3.10/site-packages/sklearn/metrics/_classification.py\", line 1287, in fbeta_score\n",
      "    _, _, f, _ = precision_recall_fscore_support(\n",
      "  File \"/opt/conda/lib/python3.10/site-packages/sklearn/metrics/_classification.py\", line 1573, in precision_recall_fscore_support\n",
      "    labels = _check_set_wise_labels(y_true, y_pred, average, labels, pos_label)\n",
      "  File \"/opt/conda/lib/python3.10/site-packages/sklearn/metrics/_classification.py\", line 1391, in _check_set_wise_labels\n",
      "    raise ValueError(\n",
      "ValueError: Target is multiclass but average='binary'. Please choose another average setting, one of [None, 'micro', 'macro', 'weighted'].\n",
      "\n",
      "  warnings.warn(\n",
      "/opt/conda/lib/python3.10/site-packages/sklearn/model_selection/_validation.py:778: UserWarning: Scoring failed. The score on this train-test partition for these parameters will be set to nan. Details: \n",
      "Traceback (most recent call last):\n",
      "  File \"/opt/conda/lib/python3.10/site-packages/sklearn/model_selection/_validation.py\", line 767, in _score\n",
      "    scores = scorer(estimator, X_test, y_test)\n",
      "  File \"/opt/conda/lib/python3.10/site-packages/sklearn/metrics/_scorer.py\", line 234, in __call__\n",
      "    return self._score(\n",
      "  File \"/opt/conda/lib/python3.10/site-packages/sklearn/metrics/_scorer.py\", line 282, in _score\n",
      "    return self._sign * self._score_func(y_true, y_pred, **self._kwargs)\n",
      "  File \"/opt/conda/lib/python3.10/site-packages/sklearn/metrics/_classification.py\", line 1146, in f1_score\n",
      "    return fbeta_score(\n",
      "  File \"/opt/conda/lib/python3.10/site-packages/sklearn/metrics/_classification.py\", line 1287, in fbeta_score\n",
      "    _, _, f, _ = precision_recall_fscore_support(\n",
      "  File \"/opt/conda/lib/python3.10/site-packages/sklearn/metrics/_classification.py\", line 1573, in precision_recall_fscore_support\n",
      "    labels = _check_set_wise_labels(y_true, y_pred, average, labels, pos_label)\n",
      "  File \"/opt/conda/lib/python3.10/site-packages/sklearn/metrics/_classification.py\", line 1391, in _check_set_wise_labels\n",
      "    raise ValueError(\n",
      "ValueError: Target is multiclass but average='binary'. Please choose another average setting, one of [None, 'micro', 'macro', 'weighted'].\n",
      "\n",
      "  warnings.warn(\n",
      "/opt/conda/lib/python3.10/site-packages/sklearn/model_selection/_validation.py:778: UserWarning: Scoring failed. The score on this train-test partition for these parameters will be set to nan. Details: \n",
      "Traceback (most recent call last):\n",
      "  File \"/opt/conda/lib/python3.10/site-packages/sklearn/model_selection/_validation.py\", line 767, in _score\n",
      "    scores = scorer(estimator, X_test, y_test)\n",
      "  File \"/opt/conda/lib/python3.10/site-packages/sklearn/metrics/_scorer.py\", line 234, in __call__\n",
      "    return self._score(\n",
      "  File \"/opt/conda/lib/python3.10/site-packages/sklearn/metrics/_scorer.py\", line 282, in _score\n",
      "    return self._sign * self._score_func(y_true, y_pred, **self._kwargs)\n",
      "  File \"/opt/conda/lib/python3.10/site-packages/sklearn/metrics/_classification.py\", line 1146, in f1_score\n",
      "    return fbeta_score(\n",
      "  File \"/opt/conda/lib/python3.10/site-packages/sklearn/metrics/_classification.py\", line 1287, in fbeta_score\n",
      "    _, _, f, _ = precision_recall_fscore_support(\n",
      "  File \"/opt/conda/lib/python3.10/site-packages/sklearn/metrics/_classification.py\", line 1573, in precision_recall_fscore_support\n",
      "    labels = _check_set_wise_labels(y_true, y_pred, average, labels, pos_label)\n",
      "  File \"/opt/conda/lib/python3.10/site-packages/sklearn/metrics/_classification.py\", line 1391, in _check_set_wise_labels\n",
      "    raise ValueError(\n",
      "ValueError: Target is multiclass but average='binary'. Please choose another average setting, one of [None, 'micro', 'macro', 'weighted'].\n",
      "\n",
      "  warnings.warn(\n",
      "/opt/conda/lib/python3.10/site-packages/sklearn/model_selection/_validation.py:778: UserWarning: Scoring failed. The score on this train-test partition for these parameters will be set to nan. Details: \n",
      "Traceback (most recent call last):\n",
      "  File \"/opt/conda/lib/python3.10/site-packages/sklearn/model_selection/_validation.py\", line 767, in _score\n",
      "    scores = scorer(estimator, X_test, y_test)\n",
      "  File \"/opt/conda/lib/python3.10/site-packages/sklearn/metrics/_scorer.py\", line 234, in __call__\n",
      "    return self._score(\n",
      "  File \"/opt/conda/lib/python3.10/site-packages/sklearn/metrics/_scorer.py\", line 282, in _score\n",
      "    return self._sign * self._score_func(y_true, y_pred, **self._kwargs)\n",
      "  File \"/opt/conda/lib/python3.10/site-packages/sklearn/metrics/_classification.py\", line 1146, in f1_score\n",
      "    return fbeta_score(\n",
      "  File \"/opt/conda/lib/python3.10/site-packages/sklearn/metrics/_classification.py\", line 1287, in fbeta_score\n",
      "    _, _, f, _ = precision_recall_fscore_support(\n",
      "  File \"/opt/conda/lib/python3.10/site-packages/sklearn/metrics/_classification.py\", line 1573, in precision_recall_fscore_support\n",
      "    labels = _check_set_wise_labels(y_true, y_pred, average, labels, pos_label)\n",
      "  File \"/opt/conda/lib/python3.10/site-packages/sklearn/metrics/_classification.py\", line 1391, in _check_set_wise_labels\n",
      "    raise ValueError(\n",
      "ValueError: Target is multiclass but average='binary'. Please choose another average setting, one of [None, 'micro', 'macro', 'weighted'].\n",
      "\n",
      "  warnings.warn(\n",
      "/opt/conda/lib/python3.10/site-packages/sklearn/model_selection/_validation.py:778: UserWarning: Scoring failed. The score on this train-test partition for these parameters will be set to nan. Details: \n",
      "Traceback (most recent call last):\n",
      "  File \"/opt/conda/lib/python3.10/site-packages/sklearn/model_selection/_validation.py\", line 767, in _score\n",
      "    scores = scorer(estimator, X_test, y_test)\n",
      "  File \"/opt/conda/lib/python3.10/site-packages/sklearn/metrics/_scorer.py\", line 234, in __call__\n",
      "    return self._score(\n",
      "  File \"/opt/conda/lib/python3.10/site-packages/sklearn/metrics/_scorer.py\", line 282, in _score\n",
      "    return self._sign * self._score_func(y_true, y_pred, **self._kwargs)\n",
      "  File \"/opt/conda/lib/python3.10/site-packages/sklearn/metrics/_classification.py\", line 1146, in f1_score\n",
      "    return fbeta_score(\n",
      "  File \"/opt/conda/lib/python3.10/site-packages/sklearn/metrics/_classification.py\", line 1287, in fbeta_score\n",
      "    _, _, f, _ = precision_recall_fscore_support(\n",
      "  File \"/opt/conda/lib/python3.10/site-packages/sklearn/metrics/_classification.py\", line 1573, in precision_recall_fscore_support\n",
      "    labels = _check_set_wise_labels(y_true, y_pred, average, labels, pos_label)\n",
      "  File \"/opt/conda/lib/python3.10/site-packages/sklearn/metrics/_classification.py\", line 1391, in _check_set_wise_labels\n",
      "    raise ValueError(\n",
      "ValueError: Target is multiclass but average='binary'. Please choose another average setting, one of [None, 'micro', 'macro', 'weighted'].\n",
      "\n",
      "  warnings.warn(\n",
      "/opt/conda/lib/python3.10/site-packages/sklearn/model_selection/_validation.py:778: UserWarning: Scoring failed. The score on this train-test partition for these parameters will be set to nan. Details: \n",
      "Traceback (most recent call last):\n",
      "  File \"/opt/conda/lib/python3.10/site-packages/sklearn/model_selection/_validation.py\", line 767, in _score\n",
      "    scores = scorer(estimator, X_test, y_test)\n",
      "  File \"/opt/conda/lib/python3.10/site-packages/sklearn/metrics/_scorer.py\", line 234, in __call__\n",
      "    return self._score(\n",
      "  File \"/opt/conda/lib/python3.10/site-packages/sklearn/metrics/_scorer.py\", line 282, in _score\n",
      "    return self._sign * self._score_func(y_true, y_pred, **self._kwargs)\n",
      "  File \"/opt/conda/lib/python3.10/site-packages/sklearn/metrics/_classification.py\", line 1146, in f1_score\n",
      "    return fbeta_score(\n",
      "  File \"/opt/conda/lib/python3.10/site-packages/sklearn/metrics/_classification.py\", line 1287, in fbeta_score\n",
      "    _, _, f, _ = precision_recall_fscore_support(\n",
      "  File \"/opt/conda/lib/python3.10/site-packages/sklearn/metrics/_classification.py\", line 1573, in precision_recall_fscore_support\n",
      "    labels = _check_set_wise_labels(y_true, y_pred, average, labels, pos_label)\n",
      "  File \"/opt/conda/lib/python3.10/site-packages/sklearn/metrics/_classification.py\", line 1391, in _check_set_wise_labels\n",
      "    raise ValueError(\n",
      "ValueError: Target is multiclass but average='binary'. Please choose another average setting, one of [None, 'micro', 'macro', 'weighted'].\n",
      "\n",
      "  warnings.warn(\n",
      "/opt/conda/lib/python3.10/site-packages/sklearn/model_selection/_validation.py:778: UserWarning: Scoring failed. The score on this train-test partition for these parameters will be set to nan. Details: \n",
      "Traceback (most recent call last):\n",
      "  File \"/opt/conda/lib/python3.10/site-packages/sklearn/model_selection/_validation.py\", line 767, in _score\n",
      "    scores = scorer(estimator, X_test, y_test)\n",
      "  File \"/opt/conda/lib/python3.10/site-packages/sklearn/metrics/_scorer.py\", line 234, in __call__\n",
      "    return self._score(\n",
      "  File \"/opt/conda/lib/python3.10/site-packages/sklearn/metrics/_scorer.py\", line 282, in _score\n",
      "    return self._sign * self._score_func(y_true, y_pred, **self._kwargs)\n",
      "  File \"/opt/conda/lib/python3.10/site-packages/sklearn/metrics/_classification.py\", line 1146, in f1_score\n",
      "    return fbeta_score(\n",
      "  File \"/opt/conda/lib/python3.10/site-packages/sklearn/metrics/_classification.py\", line 1287, in fbeta_score\n",
      "    _, _, f, _ = precision_recall_fscore_support(\n",
      "  File \"/opt/conda/lib/python3.10/site-packages/sklearn/metrics/_classification.py\", line 1573, in precision_recall_fscore_support\n",
      "    labels = _check_set_wise_labels(y_true, y_pred, average, labels, pos_label)\n",
      "  File \"/opt/conda/lib/python3.10/site-packages/sklearn/metrics/_classification.py\", line 1391, in _check_set_wise_labels\n",
      "    raise ValueError(\n",
      "ValueError: Target is multiclass but average='binary'. Please choose another average setting, one of [None, 'micro', 'macro', 'weighted'].\n",
      "\n",
      "  warnings.warn(\n",
      "/opt/conda/lib/python3.10/site-packages/sklearn/model_selection/_validation.py:778: UserWarning: Scoring failed. The score on this train-test partition for these parameters will be set to nan. Details: \n",
      "Traceback (most recent call last):\n",
      "  File \"/opt/conda/lib/python3.10/site-packages/sklearn/model_selection/_validation.py\", line 767, in _score\n",
      "    scores = scorer(estimator, X_test, y_test)\n",
      "  File \"/opt/conda/lib/python3.10/site-packages/sklearn/metrics/_scorer.py\", line 234, in __call__\n",
      "    return self._score(\n",
      "  File \"/opt/conda/lib/python3.10/site-packages/sklearn/metrics/_scorer.py\", line 282, in _score\n",
      "    return self._sign * self._score_func(y_true, y_pred, **self._kwargs)\n",
      "  File \"/opt/conda/lib/python3.10/site-packages/sklearn/metrics/_classification.py\", line 1146, in f1_score\n",
      "    return fbeta_score(\n",
      "  File \"/opt/conda/lib/python3.10/site-packages/sklearn/metrics/_classification.py\", line 1287, in fbeta_score\n",
      "    _, _, f, _ = precision_recall_fscore_support(\n",
      "  File \"/opt/conda/lib/python3.10/site-packages/sklearn/metrics/_classification.py\", line 1573, in precision_recall_fscore_support\n",
      "    labels = _check_set_wise_labels(y_true, y_pred, average, labels, pos_label)\n",
      "  File \"/opt/conda/lib/python3.10/site-packages/sklearn/metrics/_classification.py\", line 1391, in _check_set_wise_labels\n",
      "    raise ValueError(\n",
      "ValueError: Target is multiclass but average='binary'. Please choose another average setting, one of [None, 'micro', 'macro', 'weighted'].\n",
      "\n",
      "  warnings.warn(\n",
      "/opt/conda/lib/python3.10/site-packages/sklearn/model_selection/_validation.py:778: UserWarning: Scoring failed. The score on this train-test partition for these parameters will be set to nan. Details: \n",
      "Traceback (most recent call last):\n",
      "  File \"/opt/conda/lib/python3.10/site-packages/sklearn/model_selection/_validation.py\", line 767, in _score\n",
      "    scores = scorer(estimator, X_test, y_test)\n",
      "  File \"/opt/conda/lib/python3.10/site-packages/sklearn/metrics/_scorer.py\", line 234, in __call__\n",
      "    return self._score(\n",
      "  File \"/opt/conda/lib/python3.10/site-packages/sklearn/metrics/_scorer.py\", line 282, in _score\n",
      "    return self._sign * self._score_func(y_true, y_pred, **self._kwargs)\n",
      "  File \"/opt/conda/lib/python3.10/site-packages/sklearn/metrics/_classification.py\", line 1146, in f1_score\n",
      "    return fbeta_score(\n",
      "  File \"/opt/conda/lib/python3.10/site-packages/sklearn/metrics/_classification.py\", line 1287, in fbeta_score\n",
      "    _, _, f, _ = precision_recall_fscore_support(\n",
      "  File \"/opt/conda/lib/python3.10/site-packages/sklearn/metrics/_classification.py\", line 1573, in precision_recall_fscore_support\n",
      "    labels = _check_set_wise_labels(y_true, y_pred, average, labels, pos_label)\n",
      "  File \"/opt/conda/lib/python3.10/site-packages/sklearn/metrics/_classification.py\", line 1391, in _check_set_wise_labels\n",
      "    raise ValueError(\n",
      "ValueError: Target is multiclass but average='binary'. Please choose another average setting, one of [None, 'micro', 'macro', 'weighted'].\n",
      "\n",
      "  warnings.warn(\n",
      "/opt/conda/lib/python3.10/site-packages/sklearn/model_selection/_validation.py:778: UserWarning: Scoring failed. The score on this train-test partition for these parameters will be set to nan. Details: \n",
      "Traceback (most recent call last):\n",
      "  File \"/opt/conda/lib/python3.10/site-packages/sklearn/model_selection/_validation.py\", line 767, in _score\n",
      "    scores = scorer(estimator, X_test, y_test)\n",
      "  File \"/opt/conda/lib/python3.10/site-packages/sklearn/metrics/_scorer.py\", line 234, in __call__\n",
      "    return self._score(\n",
      "  File \"/opt/conda/lib/python3.10/site-packages/sklearn/metrics/_scorer.py\", line 282, in _score\n",
      "    return self._sign * self._score_func(y_true, y_pred, **self._kwargs)\n",
      "  File \"/opt/conda/lib/python3.10/site-packages/sklearn/metrics/_classification.py\", line 1146, in f1_score\n",
      "    return fbeta_score(\n",
      "  File \"/opt/conda/lib/python3.10/site-packages/sklearn/metrics/_classification.py\", line 1287, in fbeta_score\n",
      "    _, _, f, _ = precision_recall_fscore_support(\n",
      "  File \"/opt/conda/lib/python3.10/site-packages/sklearn/metrics/_classification.py\", line 1573, in precision_recall_fscore_support\n",
      "    labels = _check_set_wise_labels(y_true, y_pred, average, labels, pos_label)\n",
      "  File \"/opt/conda/lib/python3.10/site-packages/sklearn/metrics/_classification.py\", line 1391, in _check_set_wise_labels\n",
      "    raise ValueError(\n",
      "ValueError: Target is multiclass but average='binary'. Please choose another average setting, one of [None, 'micro', 'macro', 'weighted'].\n",
      "\n",
      "  warnings.warn(\n",
      "/opt/conda/lib/python3.10/site-packages/sklearn/model_selection/_validation.py:778: UserWarning: Scoring failed. The score on this train-test partition for these parameters will be set to nan. Details: \n",
      "Traceback (most recent call last):\n",
      "  File \"/opt/conda/lib/python3.10/site-packages/sklearn/model_selection/_validation.py\", line 767, in _score\n",
      "    scores = scorer(estimator, X_test, y_test)\n",
      "  File \"/opt/conda/lib/python3.10/site-packages/sklearn/metrics/_scorer.py\", line 234, in __call__\n",
      "    return self._score(\n",
      "  File \"/opt/conda/lib/python3.10/site-packages/sklearn/metrics/_scorer.py\", line 282, in _score\n",
      "    return self._sign * self._score_func(y_true, y_pred, **self._kwargs)\n",
      "  File \"/opt/conda/lib/python3.10/site-packages/sklearn/metrics/_classification.py\", line 1146, in f1_score\n",
      "    return fbeta_score(\n",
      "  File \"/opt/conda/lib/python3.10/site-packages/sklearn/metrics/_classification.py\", line 1287, in fbeta_score\n",
      "    _, _, f, _ = precision_recall_fscore_support(\n",
      "  File \"/opt/conda/lib/python3.10/site-packages/sklearn/metrics/_classification.py\", line 1573, in precision_recall_fscore_support\n",
      "    labels = _check_set_wise_labels(y_true, y_pred, average, labels, pos_label)\n",
      "  File \"/opt/conda/lib/python3.10/site-packages/sklearn/metrics/_classification.py\", line 1391, in _check_set_wise_labels\n",
      "    raise ValueError(\n",
      "ValueError: Target is multiclass but average='binary'. Please choose another average setting, one of [None, 'micro', 'macro', 'weighted'].\n",
      "\n",
      "  warnings.warn(\n",
      "/opt/conda/lib/python3.10/site-packages/sklearn/model_selection/_validation.py:778: UserWarning: Scoring failed. The score on this train-test partition for these parameters will be set to nan. Details: \n",
      "Traceback (most recent call last):\n",
      "  File \"/opt/conda/lib/python3.10/site-packages/sklearn/model_selection/_validation.py\", line 767, in _score\n",
      "    scores = scorer(estimator, X_test, y_test)\n",
      "  File \"/opt/conda/lib/python3.10/site-packages/sklearn/metrics/_scorer.py\", line 234, in __call__\n",
      "    return self._score(\n",
      "  File \"/opt/conda/lib/python3.10/site-packages/sklearn/metrics/_scorer.py\", line 282, in _score\n",
      "    return self._sign * self._score_func(y_true, y_pred, **self._kwargs)\n",
      "  File \"/opt/conda/lib/python3.10/site-packages/sklearn/metrics/_classification.py\", line 1146, in f1_score\n",
      "    return fbeta_score(\n",
      "  File \"/opt/conda/lib/python3.10/site-packages/sklearn/metrics/_classification.py\", line 1287, in fbeta_score\n",
      "    _, _, f, _ = precision_recall_fscore_support(\n",
      "  File \"/opt/conda/lib/python3.10/site-packages/sklearn/metrics/_classification.py\", line 1573, in precision_recall_fscore_support\n",
      "    labels = _check_set_wise_labels(y_true, y_pred, average, labels, pos_label)\n",
      "  File \"/opt/conda/lib/python3.10/site-packages/sklearn/metrics/_classification.py\", line 1391, in _check_set_wise_labels\n",
      "    raise ValueError(\n",
      "ValueError: Target is multiclass but average='binary'. Please choose another average setting, one of [None, 'micro', 'macro', 'weighted'].\n",
      "\n",
      "  warnings.warn(\n",
      "/opt/conda/lib/python3.10/site-packages/sklearn/model_selection/_validation.py:778: UserWarning: Scoring failed. The score on this train-test partition for these parameters will be set to nan. Details: \n",
      "Traceback (most recent call last):\n",
      "  File \"/opt/conda/lib/python3.10/site-packages/sklearn/model_selection/_validation.py\", line 767, in _score\n",
      "    scores = scorer(estimator, X_test, y_test)\n",
      "  File \"/opt/conda/lib/python3.10/site-packages/sklearn/metrics/_scorer.py\", line 234, in __call__\n",
      "    return self._score(\n",
      "  File \"/opt/conda/lib/python3.10/site-packages/sklearn/metrics/_scorer.py\", line 282, in _score\n",
      "    return self._sign * self._score_func(y_true, y_pred, **self._kwargs)\n",
      "  File \"/opt/conda/lib/python3.10/site-packages/sklearn/metrics/_classification.py\", line 1146, in f1_score\n",
      "    return fbeta_score(\n",
      "  File \"/opt/conda/lib/python3.10/site-packages/sklearn/metrics/_classification.py\", line 1287, in fbeta_score\n",
      "    _, _, f, _ = precision_recall_fscore_support(\n",
      "  File \"/opt/conda/lib/python3.10/site-packages/sklearn/metrics/_classification.py\", line 1573, in precision_recall_fscore_support\n",
      "    labels = _check_set_wise_labels(y_true, y_pred, average, labels, pos_label)\n",
      "  File \"/opt/conda/lib/python3.10/site-packages/sklearn/metrics/_classification.py\", line 1391, in _check_set_wise_labels\n",
      "    raise ValueError(\n",
      "ValueError: Target is multiclass but average='binary'. Please choose another average setting, one of [None, 'micro', 'macro', 'weighted'].\n",
      "\n",
      "  warnings.warn(\n",
      "/opt/conda/lib/python3.10/site-packages/sklearn/model_selection/_validation.py:778: UserWarning: Scoring failed. The score on this train-test partition for these parameters will be set to nan. Details: \n",
      "Traceback (most recent call last):\n",
      "  File \"/opt/conda/lib/python3.10/site-packages/sklearn/model_selection/_validation.py\", line 767, in _score\n",
      "    scores = scorer(estimator, X_test, y_test)\n",
      "  File \"/opt/conda/lib/python3.10/site-packages/sklearn/metrics/_scorer.py\", line 234, in __call__\n",
      "    return self._score(\n",
      "  File \"/opt/conda/lib/python3.10/site-packages/sklearn/metrics/_scorer.py\", line 282, in _score\n",
      "    return self._sign * self._score_func(y_true, y_pred, **self._kwargs)\n",
      "  File \"/opt/conda/lib/python3.10/site-packages/sklearn/metrics/_classification.py\", line 1146, in f1_score\n",
      "    return fbeta_score(\n",
      "  File \"/opt/conda/lib/python3.10/site-packages/sklearn/metrics/_classification.py\", line 1287, in fbeta_score\n",
      "    _, _, f, _ = precision_recall_fscore_support(\n",
      "  File \"/opt/conda/lib/python3.10/site-packages/sklearn/metrics/_classification.py\", line 1573, in precision_recall_fscore_support\n",
      "    labels = _check_set_wise_labels(y_true, y_pred, average, labels, pos_label)\n",
      "  File \"/opt/conda/lib/python3.10/site-packages/sklearn/metrics/_classification.py\", line 1391, in _check_set_wise_labels\n",
      "    raise ValueError(\n",
      "ValueError: Target is multiclass but average='binary'. Please choose another average setting, one of [None, 'micro', 'macro', 'weighted'].\n",
      "\n",
      "  warnings.warn(\n",
      "/opt/conda/lib/python3.10/site-packages/sklearn/model_selection/_validation.py:778: UserWarning: Scoring failed. The score on this train-test partition for these parameters will be set to nan. Details: \n",
      "Traceback (most recent call last):\n",
      "  File \"/opt/conda/lib/python3.10/site-packages/sklearn/model_selection/_validation.py\", line 767, in _score\n",
      "    scores = scorer(estimator, X_test, y_test)\n",
      "  File \"/opt/conda/lib/python3.10/site-packages/sklearn/metrics/_scorer.py\", line 234, in __call__\n",
      "    return self._score(\n",
      "  File \"/opt/conda/lib/python3.10/site-packages/sklearn/metrics/_scorer.py\", line 282, in _score\n",
      "    return self._sign * self._score_func(y_true, y_pred, **self._kwargs)\n",
      "  File \"/opt/conda/lib/python3.10/site-packages/sklearn/metrics/_classification.py\", line 1146, in f1_score\n",
      "    return fbeta_score(\n",
      "  File \"/opt/conda/lib/python3.10/site-packages/sklearn/metrics/_classification.py\", line 1287, in fbeta_score\n",
      "    _, _, f, _ = precision_recall_fscore_support(\n",
      "  File \"/opt/conda/lib/python3.10/site-packages/sklearn/metrics/_classification.py\", line 1573, in precision_recall_fscore_support\n",
      "    labels = _check_set_wise_labels(y_true, y_pred, average, labels, pos_label)\n",
      "  File \"/opt/conda/lib/python3.10/site-packages/sklearn/metrics/_classification.py\", line 1391, in _check_set_wise_labels\n",
      "    raise ValueError(\n",
      "ValueError: Target is multiclass but average='binary'. Please choose another average setting, one of [None, 'micro', 'macro', 'weighted'].\n",
      "\n",
      "  warnings.warn(\n",
      "/opt/conda/lib/python3.10/site-packages/sklearn/model_selection/_validation.py:778: UserWarning: Scoring failed. The score on this train-test partition for these parameters will be set to nan. Details: \n",
      "Traceback (most recent call last):\n",
      "  File \"/opt/conda/lib/python3.10/site-packages/sklearn/model_selection/_validation.py\", line 767, in _score\n",
      "    scores = scorer(estimator, X_test, y_test)\n",
      "  File \"/opt/conda/lib/python3.10/site-packages/sklearn/metrics/_scorer.py\", line 234, in __call__\n",
      "    return self._score(\n",
      "  File \"/opt/conda/lib/python3.10/site-packages/sklearn/metrics/_scorer.py\", line 282, in _score\n",
      "    return self._sign * self._score_func(y_true, y_pred, **self._kwargs)\n",
      "  File \"/opt/conda/lib/python3.10/site-packages/sklearn/metrics/_classification.py\", line 1146, in f1_score\n",
      "    return fbeta_score(\n",
      "  File \"/opt/conda/lib/python3.10/site-packages/sklearn/metrics/_classification.py\", line 1287, in fbeta_score\n",
      "    _, _, f, _ = precision_recall_fscore_support(\n",
      "  File \"/opt/conda/lib/python3.10/site-packages/sklearn/metrics/_classification.py\", line 1573, in precision_recall_fscore_support\n",
      "    labels = _check_set_wise_labels(y_true, y_pred, average, labels, pos_label)\n",
      "  File \"/opt/conda/lib/python3.10/site-packages/sklearn/metrics/_classification.py\", line 1391, in _check_set_wise_labels\n",
      "    raise ValueError(\n",
      "ValueError: Target is multiclass but average='binary'. Please choose another average setting, one of [None, 'micro', 'macro', 'weighted'].\n",
      "\n",
      "  warnings.warn(\n",
      "/opt/conda/lib/python3.10/site-packages/sklearn/model_selection/_validation.py:778: UserWarning: Scoring failed. The score on this train-test partition for these parameters will be set to nan. Details: \n",
      "Traceback (most recent call last):\n",
      "  File \"/opt/conda/lib/python3.10/site-packages/sklearn/model_selection/_validation.py\", line 767, in _score\n",
      "    scores = scorer(estimator, X_test, y_test)\n",
      "  File \"/opt/conda/lib/python3.10/site-packages/sklearn/metrics/_scorer.py\", line 234, in __call__\n",
      "    return self._score(\n",
      "  File \"/opt/conda/lib/python3.10/site-packages/sklearn/metrics/_scorer.py\", line 282, in _score\n",
      "    return self._sign * self._score_func(y_true, y_pred, **self._kwargs)\n",
      "  File \"/opt/conda/lib/python3.10/site-packages/sklearn/metrics/_classification.py\", line 1146, in f1_score\n",
      "    return fbeta_score(\n",
      "  File \"/opt/conda/lib/python3.10/site-packages/sklearn/metrics/_classification.py\", line 1287, in fbeta_score\n",
      "    _, _, f, _ = precision_recall_fscore_support(\n",
      "  File \"/opt/conda/lib/python3.10/site-packages/sklearn/metrics/_classification.py\", line 1573, in precision_recall_fscore_support\n",
      "    labels = _check_set_wise_labels(y_true, y_pred, average, labels, pos_label)\n",
      "  File \"/opt/conda/lib/python3.10/site-packages/sklearn/metrics/_classification.py\", line 1391, in _check_set_wise_labels\n",
      "    raise ValueError(\n",
      "ValueError: Target is multiclass but average='binary'. Please choose another average setting, one of [None, 'micro', 'macro', 'weighted'].\n",
      "\n",
      "  warnings.warn(\n",
      "/opt/conda/lib/python3.10/site-packages/sklearn/model_selection/_validation.py:778: UserWarning: Scoring failed. The score on this train-test partition for these parameters will be set to nan. Details: \n",
      "Traceback (most recent call last):\n",
      "  File \"/opt/conda/lib/python3.10/site-packages/sklearn/model_selection/_validation.py\", line 767, in _score\n",
      "    scores = scorer(estimator, X_test, y_test)\n",
      "  File \"/opt/conda/lib/python3.10/site-packages/sklearn/metrics/_scorer.py\", line 234, in __call__\n",
      "    return self._score(\n",
      "  File \"/opt/conda/lib/python3.10/site-packages/sklearn/metrics/_scorer.py\", line 282, in _score\n",
      "    return self._sign * self._score_func(y_true, y_pred, **self._kwargs)\n",
      "  File \"/opt/conda/lib/python3.10/site-packages/sklearn/metrics/_classification.py\", line 1146, in f1_score\n",
      "    return fbeta_score(\n",
      "  File \"/opt/conda/lib/python3.10/site-packages/sklearn/metrics/_classification.py\", line 1287, in fbeta_score\n",
      "    _, _, f, _ = precision_recall_fscore_support(\n",
      "  File \"/opt/conda/lib/python3.10/site-packages/sklearn/metrics/_classification.py\", line 1573, in precision_recall_fscore_support\n",
      "    labels = _check_set_wise_labels(y_true, y_pred, average, labels, pos_label)\n",
      "  File \"/opt/conda/lib/python3.10/site-packages/sklearn/metrics/_classification.py\", line 1391, in _check_set_wise_labels\n",
      "    raise ValueError(\n",
      "ValueError: Target is multiclass but average='binary'. Please choose another average setting, one of [None, 'micro', 'macro', 'weighted'].\n",
      "\n",
      "  warnings.warn(\n",
      "/opt/conda/lib/python3.10/site-packages/sklearn/model_selection/_validation.py:778: UserWarning: Scoring failed. The score on this train-test partition for these parameters will be set to nan. Details: \n",
      "Traceback (most recent call last):\n",
      "  File \"/opt/conda/lib/python3.10/site-packages/sklearn/model_selection/_validation.py\", line 767, in _score\n",
      "    scores = scorer(estimator, X_test, y_test)\n",
      "  File \"/opt/conda/lib/python3.10/site-packages/sklearn/metrics/_scorer.py\", line 234, in __call__\n",
      "    return self._score(\n",
      "  File \"/opt/conda/lib/python3.10/site-packages/sklearn/metrics/_scorer.py\", line 282, in _score\n",
      "    return self._sign * self._score_func(y_true, y_pred, **self._kwargs)\n",
      "  File \"/opt/conda/lib/python3.10/site-packages/sklearn/metrics/_classification.py\", line 1146, in f1_score\n",
      "    return fbeta_score(\n",
      "  File \"/opt/conda/lib/python3.10/site-packages/sklearn/metrics/_classification.py\", line 1287, in fbeta_score\n",
      "    _, _, f, _ = precision_recall_fscore_support(\n",
      "  File \"/opt/conda/lib/python3.10/site-packages/sklearn/metrics/_classification.py\", line 1573, in precision_recall_fscore_support\n",
      "    labels = _check_set_wise_labels(y_true, y_pred, average, labels, pos_label)\n",
      "  File \"/opt/conda/lib/python3.10/site-packages/sklearn/metrics/_classification.py\", line 1391, in _check_set_wise_labels\n",
      "    raise ValueError(\n",
      "ValueError: Target is multiclass but average='binary'. Please choose another average setting, one of [None, 'micro', 'macro', 'weighted'].\n",
      "\n",
      "  warnings.warn(\n",
      "/opt/conda/lib/python3.10/site-packages/sklearn/model_selection/_validation.py:778: UserWarning: Scoring failed. The score on this train-test partition for these parameters will be set to nan. Details: \n",
      "Traceback (most recent call last):\n",
      "  File \"/opt/conda/lib/python3.10/site-packages/sklearn/model_selection/_validation.py\", line 767, in _score\n",
      "    scores = scorer(estimator, X_test, y_test)\n",
      "  File \"/opt/conda/lib/python3.10/site-packages/sklearn/metrics/_scorer.py\", line 234, in __call__\n",
      "    return self._score(\n",
      "  File \"/opt/conda/lib/python3.10/site-packages/sklearn/metrics/_scorer.py\", line 282, in _score\n",
      "    return self._sign * self._score_func(y_true, y_pred, **self._kwargs)\n",
      "  File \"/opt/conda/lib/python3.10/site-packages/sklearn/metrics/_classification.py\", line 1146, in f1_score\n",
      "    return fbeta_score(\n",
      "  File \"/opt/conda/lib/python3.10/site-packages/sklearn/metrics/_classification.py\", line 1287, in fbeta_score\n",
      "    _, _, f, _ = precision_recall_fscore_support(\n",
      "  File \"/opt/conda/lib/python3.10/site-packages/sklearn/metrics/_classification.py\", line 1573, in precision_recall_fscore_support\n",
      "    labels = _check_set_wise_labels(y_true, y_pred, average, labels, pos_label)\n",
      "  File \"/opt/conda/lib/python3.10/site-packages/sklearn/metrics/_classification.py\", line 1391, in _check_set_wise_labels\n",
      "    raise ValueError(\n",
      "ValueError: Target is multiclass but average='binary'. Please choose another average setting, one of [None, 'micro', 'macro', 'weighted'].\n",
      "\n",
      "  warnings.warn(\n",
      "/opt/conda/lib/python3.10/site-packages/sklearn/model_selection/_validation.py:778: UserWarning: Scoring failed. The score on this train-test partition for these parameters will be set to nan. Details: \n",
      "Traceback (most recent call last):\n",
      "  File \"/opt/conda/lib/python3.10/site-packages/sklearn/model_selection/_validation.py\", line 767, in _score\n",
      "    scores = scorer(estimator, X_test, y_test)\n",
      "  File \"/opt/conda/lib/python3.10/site-packages/sklearn/metrics/_scorer.py\", line 234, in __call__\n",
      "    return self._score(\n",
      "  File \"/opt/conda/lib/python3.10/site-packages/sklearn/metrics/_scorer.py\", line 282, in _score\n",
      "    return self._sign * self._score_func(y_true, y_pred, **self._kwargs)\n",
      "  File \"/opt/conda/lib/python3.10/site-packages/sklearn/metrics/_classification.py\", line 1146, in f1_score\n",
      "    return fbeta_score(\n",
      "  File \"/opt/conda/lib/python3.10/site-packages/sklearn/metrics/_classification.py\", line 1287, in fbeta_score\n",
      "    _, _, f, _ = precision_recall_fscore_support(\n",
      "  File \"/opt/conda/lib/python3.10/site-packages/sklearn/metrics/_classification.py\", line 1573, in precision_recall_fscore_support\n",
      "    labels = _check_set_wise_labels(y_true, y_pred, average, labels, pos_label)\n",
      "  File \"/opt/conda/lib/python3.10/site-packages/sklearn/metrics/_classification.py\", line 1391, in _check_set_wise_labels\n",
      "    raise ValueError(\n",
      "ValueError: Target is multiclass but average='binary'. Please choose another average setting, one of [None, 'micro', 'macro', 'weighted'].\n",
      "\n",
      "  warnings.warn(\n",
      "/opt/conda/lib/python3.10/site-packages/sklearn/model_selection/_validation.py:778: UserWarning: Scoring failed. The score on this train-test partition for these parameters will be set to nan. Details: \n",
      "Traceback (most recent call last):\n",
      "  File \"/opt/conda/lib/python3.10/site-packages/sklearn/model_selection/_validation.py\", line 767, in _score\n",
      "    scores = scorer(estimator, X_test, y_test)\n",
      "  File \"/opt/conda/lib/python3.10/site-packages/sklearn/metrics/_scorer.py\", line 234, in __call__\n",
      "    return self._score(\n",
      "  File \"/opt/conda/lib/python3.10/site-packages/sklearn/metrics/_scorer.py\", line 282, in _score\n",
      "    return self._sign * self._score_func(y_true, y_pred, **self._kwargs)\n",
      "  File \"/opt/conda/lib/python3.10/site-packages/sklearn/metrics/_classification.py\", line 1146, in f1_score\n",
      "    return fbeta_score(\n",
      "  File \"/opt/conda/lib/python3.10/site-packages/sklearn/metrics/_classification.py\", line 1287, in fbeta_score\n",
      "    _, _, f, _ = precision_recall_fscore_support(\n",
      "  File \"/opt/conda/lib/python3.10/site-packages/sklearn/metrics/_classification.py\", line 1573, in precision_recall_fscore_support\n",
      "    labels = _check_set_wise_labels(y_true, y_pred, average, labels, pos_label)\n",
      "  File \"/opt/conda/lib/python3.10/site-packages/sklearn/metrics/_classification.py\", line 1391, in _check_set_wise_labels\n",
      "    raise ValueError(\n",
      "ValueError: Target is multiclass but average='binary'. Please choose another average setting, one of [None, 'micro', 'macro', 'weighted'].\n",
      "\n",
      "  warnings.warn(\n",
      "/opt/conda/lib/python3.10/site-packages/sklearn/model_selection/_validation.py:778: UserWarning: Scoring failed. The score on this train-test partition for these parameters will be set to nan. Details: \n",
      "Traceback (most recent call last):\n",
      "  File \"/opt/conda/lib/python3.10/site-packages/sklearn/model_selection/_validation.py\", line 767, in _score\n",
      "    scores = scorer(estimator, X_test, y_test)\n",
      "  File \"/opt/conda/lib/python3.10/site-packages/sklearn/metrics/_scorer.py\", line 234, in __call__\n",
      "    return self._score(\n",
      "  File \"/opt/conda/lib/python3.10/site-packages/sklearn/metrics/_scorer.py\", line 282, in _score\n",
      "    return self._sign * self._score_func(y_true, y_pred, **self._kwargs)\n",
      "  File \"/opt/conda/lib/python3.10/site-packages/sklearn/metrics/_classification.py\", line 1146, in f1_score\n",
      "    return fbeta_score(\n",
      "  File \"/opt/conda/lib/python3.10/site-packages/sklearn/metrics/_classification.py\", line 1287, in fbeta_score\n",
      "    _, _, f, _ = precision_recall_fscore_support(\n",
      "  File \"/opt/conda/lib/python3.10/site-packages/sklearn/metrics/_classification.py\", line 1573, in precision_recall_fscore_support\n",
      "    labels = _check_set_wise_labels(y_true, y_pred, average, labels, pos_label)\n",
      "  File \"/opt/conda/lib/python3.10/site-packages/sklearn/metrics/_classification.py\", line 1391, in _check_set_wise_labels\n",
      "    raise ValueError(\n",
      "ValueError: Target is multiclass but average='binary'. Please choose another average setting, one of [None, 'micro', 'macro', 'weighted'].\n",
      "\n",
      "  warnings.warn(\n",
      "/opt/conda/lib/python3.10/site-packages/sklearn/model_selection/_validation.py:778: UserWarning: Scoring failed. The score on this train-test partition for these parameters will be set to nan. Details: \n",
      "Traceback (most recent call last):\n",
      "  File \"/opt/conda/lib/python3.10/site-packages/sklearn/model_selection/_validation.py\", line 767, in _score\n",
      "    scores = scorer(estimator, X_test, y_test)\n",
      "  File \"/opt/conda/lib/python3.10/site-packages/sklearn/metrics/_scorer.py\", line 234, in __call__\n",
      "    return self._score(\n",
      "  File \"/opt/conda/lib/python3.10/site-packages/sklearn/metrics/_scorer.py\", line 282, in _score\n",
      "    return self._sign * self._score_func(y_true, y_pred, **self._kwargs)\n",
      "  File \"/opt/conda/lib/python3.10/site-packages/sklearn/metrics/_classification.py\", line 1146, in f1_score\n",
      "    return fbeta_score(\n",
      "  File \"/opt/conda/lib/python3.10/site-packages/sklearn/metrics/_classification.py\", line 1287, in fbeta_score\n",
      "    _, _, f, _ = precision_recall_fscore_support(\n",
      "  File \"/opt/conda/lib/python3.10/site-packages/sklearn/metrics/_classification.py\", line 1573, in precision_recall_fscore_support\n",
      "    labels = _check_set_wise_labels(y_true, y_pred, average, labels, pos_label)\n",
      "  File \"/opt/conda/lib/python3.10/site-packages/sklearn/metrics/_classification.py\", line 1391, in _check_set_wise_labels\n",
      "    raise ValueError(\n",
      "ValueError: Target is multiclass but average='binary'. Please choose another average setting, one of [None, 'micro', 'macro', 'weighted'].\n",
      "\n",
      "  warnings.warn(\n",
      "/opt/conda/lib/python3.10/site-packages/sklearn/model_selection/_validation.py:778: UserWarning: Scoring failed. The score on this train-test partition for these parameters will be set to nan. Details: \n",
      "Traceback (most recent call last):\n",
      "  File \"/opt/conda/lib/python3.10/site-packages/sklearn/model_selection/_validation.py\", line 767, in _score\n",
      "    scores = scorer(estimator, X_test, y_test)\n",
      "  File \"/opt/conda/lib/python3.10/site-packages/sklearn/metrics/_scorer.py\", line 234, in __call__\n",
      "    return self._score(\n",
      "  File \"/opt/conda/lib/python3.10/site-packages/sklearn/metrics/_scorer.py\", line 282, in _score\n",
      "    return self._sign * self._score_func(y_true, y_pred, **self._kwargs)\n",
      "  File \"/opt/conda/lib/python3.10/site-packages/sklearn/metrics/_classification.py\", line 1146, in f1_score\n",
      "    return fbeta_score(\n",
      "  File \"/opt/conda/lib/python3.10/site-packages/sklearn/metrics/_classification.py\", line 1287, in fbeta_score\n",
      "    _, _, f, _ = precision_recall_fscore_support(\n",
      "  File \"/opt/conda/lib/python3.10/site-packages/sklearn/metrics/_classification.py\", line 1573, in precision_recall_fscore_support\n",
      "    labels = _check_set_wise_labels(y_true, y_pred, average, labels, pos_label)\n",
      "  File \"/opt/conda/lib/python3.10/site-packages/sklearn/metrics/_classification.py\", line 1391, in _check_set_wise_labels\n",
      "    raise ValueError(\n",
      "ValueError: Target is multiclass but average='binary'. Please choose another average setting, one of [None, 'micro', 'macro', 'weighted'].\n",
      "\n",
      "  warnings.warn(\n",
      "/opt/conda/lib/python3.10/site-packages/sklearn/model_selection/_validation.py:778: UserWarning: Scoring failed. The score on this train-test partition for these parameters will be set to nan. Details: \n",
      "Traceback (most recent call last):\n",
      "  File \"/opt/conda/lib/python3.10/site-packages/sklearn/model_selection/_validation.py\", line 767, in _score\n",
      "    scores = scorer(estimator, X_test, y_test)\n",
      "  File \"/opt/conda/lib/python3.10/site-packages/sklearn/metrics/_scorer.py\", line 234, in __call__\n",
      "    return self._score(\n",
      "  File \"/opt/conda/lib/python3.10/site-packages/sklearn/metrics/_scorer.py\", line 282, in _score\n",
      "    return self._sign * self._score_func(y_true, y_pred, **self._kwargs)\n",
      "  File \"/opt/conda/lib/python3.10/site-packages/sklearn/metrics/_classification.py\", line 1146, in f1_score\n",
      "    return fbeta_score(\n",
      "  File \"/opt/conda/lib/python3.10/site-packages/sklearn/metrics/_classification.py\", line 1287, in fbeta_score\n",
      "    _, _, f, _ = precision_recall_fscore_support(\n",
      "  File \"/opt/conda/lib/python3.10/site-packages/sklearn/metrics/_classification.py\", line 1573, in precision_recall_fscore_support\n",
      "    labels = _check_set_wise_labels(y_true, y_pred, average, labels, pos_label)\n",
      "  File \"/opt/conda/lib/python3.10/site-packages/sklearn/metrics/_classification.py\", line 1391, in _check_set_wise_labels\n",
      "    raise ValueError(\n",
      "ValueError: Target is multiclass but average='binary'. Please choose another average setting, one of [None, 'micro', 'macro', 'weighted'].\n",
      "\n",
      "  warnings.warn(\n",
      "/opt/conda/lib/python3.10/site-packages/sklearn/model_selection/_validation.py:778: UserWarning: Scoring failed. The score on this train-test partition for these parameters will be set to nan. Details: \n",
      "Traceback (most recent call last):\n",
      "  File \"/opt/conda/lib/python3.10/site-packages/sklearn/model_selection/_validation.py\", line 767, in _score\n",
      "    scores = scorer(estimator, X_test, y_test)\n",
      "  File \"/opt/conda/lib/python3.10/site-packages/sklearn/metrics/_scorer.py\", line 234, in __call__\n",
      "    return self._score(\n",
      "  File \"/opt/conda/lib/python3.10/site-packages/sklearn/metrics/_scorer.py\", line 282, in _score\n",
      "    return self._sign * self._score_func(y_true, y_pred, **self._kwargs)\n",
      "  File \"/opt/conda/lib/python3.10/site-packages/sklearn/metrics/_classification.py\", line 1146, in f1_score\n",
      "    return fbeta_score(\n",
      "  File \"/opt/conda/lib/python3.10/site-packages/sklearn/metrics/_classification.py\", line 1287, in fbeta_score\n",
      "    _, _, f, _ = precision_recall_fscore_support(\n",
      "  File \"/opt/conda/lib/python3.10/site-packages/sklearn/metrics/_classification.py\", line 1573, in precision_recall_fscore_support\n",
      "    labels = _check_set_wise_labels(y_true, y_pred, average, labels, pos_label)\n",
      "  File \"/opt/conda/lib/python3.10/site-packages/sklearn/metrics/_classification.py\", line 1391, in _check_set_wise_labels\n",
      "    raise ValueError(\n",
      "ValueError: Target is multiclass but average='binary'. Please choose another average setting, one of [None, 'micro', 'macro', 'weighted'].\n",
      "\n",
      "  warnings.warn(\n",
      "/opt/conda/lib/python3.10/site-packages/sklearn/model_selection/_validation.py:778: UserWarning: Scoring failed. The score on this train-test partition for these parameters will be set to nan. Details: \n",
      "Traceback (most recent call last):\n",
      "  File \"/opt/conda/lib/python3.10/site-packages/sklearn/model_selection/_validation.py\", line 767, in _score\n",
      "    scores = scorer(estimator, X_test, y_test)\n",
      "  File \"/opt/conda/lib/python3.10/site-packages/sklearn/metrics/_scorer.py\", line 234, in __call__\n",
      "    return self._score(\n",
      "  File \"/opt/conda/lib/python3.10/site-packages/sklearn/metrics/_scorer.py\", line 282, in _score\n",
      "    return self._sign * self._score_func(y_true, y_pred, **self._kwargs)\n",
      "  File \"/opt/conda/lib/python3.10/site-packages/sklearn/metrics/_classification.py\", line 1146, in f1_score\n",
      "    return fbeta_score(\n",
      "  File \"/opt/conda/lib/python3.10/site-packages/sklearn/metrics/_classification.py\", line 1287, in fbeta_score\n",
      "    _, _, f, _ = precision_recall_fscore_support(\n",
      "  File \"/opt/conda/lib/python3.10/site-packages/sklearn/metrics/_classification.py\", line 1573, in precision_recall_fscore_support\n",
      "    labels = _check_set_wise_labels(y_true, y_pred, average, labels, pos_label)\n",
      "  File \"/opt/conda/lib/python3.10/site-packages/sklearn/metrics/_classification.py\", line 1391, in _check_set_wise_labels\n",
      "    raise ValueError(\n",
      "ValueError: Target is multiclass but average='binary'. Please choose another average setting, one of [None, 'micro', 'macro', 'weighted'].\n",
      "\n",
      "  warnings.warn(\n",
      "/opt/conda/lib/python3.10/site-packages/sklearn/model_selection/_validation.py:778: UserWarning: Scoring failed. The score on this train-test partition for these parameters will be set to nan. Details: \n",
      "Traceback (most recent call last):\n",
      "  File \"/opt/conda/lib/python3.10/site-packages/sklearn/model_selection/_validation.py\", line 767, in _score\n",
      "    scores = scorer(estimator, X_test, y_test)\n",
      "  File \"/opt/conda/lib/python3.10/site-packages/sklearn/metrics/_scorer.py\", line 234, in __call__\n",
      "    return self._score(\n",
      "  File \"/opt/conda/lib/python3.10/site-packages/sklearn/metrics/_scorer.py\", line 282, in _score\n",
      "    return self._sign * self._score_func(y_true, y_pred, **self._kwargs)\n",
      "  File \"/opt/conda/lib/python3.10/site-packages/sklearn/metrics/_classification.py\", line 1146, in f1_score\n",
      "    return fbeta_score(\n",
      "  File \"/opt/conda/lib/python3.10/site-packages/sklearn/metrics/_classification.py\", line 1287, in fbeta_score\n",
      "    _, _, f, _ = precision_recall_fscore_support(\n",
      "  File \"/opt/conda/lib/python3.10/site-packages/sklearn/metrics/_classification.py\", line 1573, in precision_recall_fscore_support\n",
      "    labels = _check_set_wise_labels(y_true, y_pred, average, labels, pos_label)\n",
      "  File \"/opt/conda/lib/python3.10/site-packages/sklearn/metrics/_classification.py\", line 1391, in _check_set_wise_labels\n",
      "    raise ValueError(\n",
      "ValueError: Target is multiclass but average='binary'. Please choose another average setting, one of [None, 'micro', 'macro', 'weighted'].\n",
      "\n",
      "  warnings.warn(\n",
      "/opt/conda/lib/python3.10/site-packages/sklearn/model_selection/_validation.py:778: UserWarning: Scoring failed. The score on this train-test partition for these parameters will be set to nan. Details: \n",
      "Traceback (most recent call last):\n",
      "  File \"/opt/conda/lib/python3.10/site-packages/sklearn/model_selection/_validation.py\", line 767, in _score\n",
      "    scores = scorer(estimator, X_test, y_test)\n",
      "  File \"/opt/conda/lib/python3.10/site-packages/sklearn/metrics/_scorer.py\", line 234, in __call__\n",
      "    return self._score(\n",
      "  File \"/opt/conda/lib/python3.10/site-packages/sklearn/metrics/_scorer.py\", line 282, in _score\n",
      "    return self._sign * self._score_func(y_true, y_pred, **self._kwargs)\n",
      "  File \"/opt/conda/lib/python3.10/site-packages/sklearn/metrics/_classification.py\", line 1146, in f1_score\n",
      "    return fbeta_score(\n",
      "  File \"/opt/conda/lib/python3.10/site-packages/sklearn/metrics/_classification.py\", line 1287, in fbeta_score\n",
      "    _, _, f, _ = precision_recall_fscore_support(\n",
      "  File \"/opt/conda/lib/python3.10/site-packages/sklearn/metrics/_classification.py\", line 1573, in precision_recall_fscore_support\n",
      "    labels = _check_set_wise_labels(y_true, y_pred, average, labels, pos_label)\n",
      "  File \"/opt/conda/lib/python3.10/site-packages/sklearn/metrics/_classification.py\", line 1391, in _check_set_wise_labels\n",
      "    raise ValueError(\n",
      "ValueError: Target is multiclass but average='binary'. Please choose another average setting, one of [None, 'micro', 'macro', 'weighted'].\n",
      "\n",
      "  warnings.warn(\n",
      "/opt/conda/lib/python3.10/site-packages/sklearn/model_selection/_validation.py:778: UserWarning: Scoring failed. The score on this train-test partition for these parameters will be set to nan. Details: \n",
      "Traceback (most recent call last):\n",
      "  File \"/opt/conda/lib/python3.10/site-packages/sklearn/model_selection/_validation.py\", line 767, in _score\n",
      "    scores = scorer(estimator, X_test, y_test)\n",
      "  File \"/opt/conda/lib/python3.10/site-packages/sklearn/metrics/_scorer.py\", line 234, in __call__\n",
      "    return self._score(\n",
      "  File \"/opt/conda/lib/python3.10/site-packages/sklearn/metrics/_scorer.py\", line 282, in _score\n",
      "    return self._sign * self._score_func(y_true, y_pred, **self._kwargs)\n",
      "  File \"/opt/conda/lib/python3.10/site-packages/sklearn/metrics/_classification.py\", line 1146, in f1_score\n",
      "    return fbeta_score(\n",
      "  File \"/opt/conda/lib/python3.10/site-packages/sklearn/metrics/_classification.py\", line 1287, in fbeta_score\n",
      "    _, _, f, _ = precision_recall_fscore_support(\n",
      "  File \"/opt/conda/lib/python3.10/site-packages/sklearn/metrics/_classification.py\", line 1573, in precision_recall_fscore_support\n",
      "    labels = _check_set_wise_labels(y_true, y_pred, average, labels, pos_label)\n",
      "  File \"/opt/conda/lib/python3.10/site-packages/sklearn/metrics/_classification.py\", line 1391, in _check_set_wise_labels\n",
      "    raise ValueError(\n",
      "ValueError: Target is multiclass but average='binary'. Please choose another average setting, one of [None, 'micro', 'macro', 'weighted'].\n",
      "\n",
      "  warnings.warn(\n",
      "/opt/conda/lib/python3.10/site-packages/sklearn/model_selection/_validation.py:778: UserWarning: Scoring failed. The score on this train-test partition for these parameters will be set to nan. Details: \n",
      "Traceback (most recent call last):\n",
      "  File \"/opt/conda/lib/python3.10/site-packages/sklearn/model_selection/_validation.py\", line 767, in _score\n",
      "    scores = scorer(estimator, X_test, y_test)\n",
      "  File \"/opt/conda/lib/python3.10/site-packages/sklearn/metrics/_scorer.py\", line 234, in __call__\n",
      "    return self._score(\n",
      "  File \"/opt/conda/lib/python3.10/site-packages/sklearn/metrics/_scorer.py\", line 282, in _score\n",
      "    return self._sign * self._score_func(y_true, y_pred, **self._kwargs)\n",
      "  File \"/opt/conda/lib/python3.10/site-packages/sklearn/metrics/_classification.py\", line 1146, in f1_score\n",
      "    return fbeta_score(\n",
      "  File \"/opt/conda/lib/python3.10/site-packages/sklearn/metrics/_classification.py\", line 1287, in fbeta_score\n",
      "    _, _, f, _ = precision_recall_fscore_support(\n",
      "  File \"/opt/conda/lib/python3.10/site-packages/sklearn/metrics/_classification.py\", line 1573, in precision_recall_fscore_support\n",
      "    labels = _check_set_wise_labels(y_true, y_pred, average, labels, pos_label)\n",
      "  File \"/opt/conda/lib/python3.10/site-packages/sklearn/metrics/_classification.py\", line 1391, in _check_set_wise_labels\n",
      "    raise ValueError(\n",
      "ValueError: Target is multiclass but average='binary'. Please choose another average setting, one of [None, 'micro', 'macro', 'weighted'].\n",
      "\n",
      "  warnings.warn(\n",
      "/opt/conda/lib/python3.10/site-packages/sklearn/model_selection/_validation.py:778: UserWarning: Scoring failed. The score on this train-test partition for these parameters will be set to nan. Details: \n",
      "Traceback (most recent call last):\n",
      "  File \"/opt/conda/lib/python3.10/site-packages/sklearn/model_selection/_validation.py\", line 767, in _score\n",
      "    scores = scorer(estimator, X_test, y_test)\n",
      "  File \"/opt/conda/lib/python3.10/site-packages/sklearn/metrics/_scorer.py\", line 234, in __call__\n",
      "    return self._score(\n",
      "  File \"/opt/conda/lib/python3.10/site-packages/sklearn/metrics/_scorer.py\", line 282, in _score\n",
      "    return self._sign * self._score_func(y_true, y_pred, **self._kwargs)\n",
      "  File \"/opt/conda/lib/python3.10/site-packages/sklearn/metrics/_classification.py\", line 1146, in f1_score\n",
      "    return fbeta_score(\n",
      "  File \"/opt/conda/lib/python3.10/site-packages/sklearn/metrics/_classification.py\", line 1287, in fbeta_score\n",
      "    _, _, f, _ = precision_recall_fscore_support(\n",
      "  File \"/opt/conda/lib/python3.10/site-packages/sklearn/metrics/_classification.py\", line 1573, in precision_recall_fscore_support\n",
      "    labels = _check_set_wise_labels(y_true, y_pred, average, labels, pos_label)\n",
      "  File \"/opt/conda/lib/python3.10/site-packages/sklearn/metrics/_classification.py\", line 1391, in _check_set_wise_labels\n",
      "    raise ValueError(\n",
      "ValueError: Target is multiclass but average='binary'. Please choose another average setting, one of [None, 'micro', 'macro', 'weighted'].\n",
      "\n",
      "  warnings.warn(\n",
      "/opt/conda/lib/python3.10/site-packages/sklearn/model_selection/_validation.py:778: UserWarning: Scoring failed. The score on this train-test partition for these parameters will be set to nan. Details: \n",
      "Traceback (most recent call last):\n",
      "  File \"/opt/conda/lib/python3.10/site-packages/sklearn/model_selection/_validation.py\", line 767, in _score\n",
      "    scores = scorer(estimator, X_test, y_test)\n",
      "  File \"/opt/conda/lib/python3.10/site-packages/sklearn/metrics/_scorer.py\", line 234, in __call__\n",
      "    return self._score(\n",
      "  File \"/opt/conda/lib/python3.10/site-packages/sklearn/metrics/_scorer.py\", line 282, in _score\n",
      "    return self._sign * self._score_func(y_true, y_pred, **self._kwargs)\n",
      "  File \"/opt/conda/lib/python3.10/site-packages/sklearn/metrics/_classification.py\", line 1146, in f1_score\n",
      "    return fbeta_score(\n",
      "  File \"/opt/conda/lib/python3.10/site-packages/sklearn/metrics/_classification.py\", line 1287, in fbeta_score\n",
      "    _, _, f, _ = precision_recall_fscore_support(\n",
      "  File \"/opt/conda/lib/python3.10/site-packages/sklearn/metrics/_classification.py\", line 1573, in precision_recall_fscore_support\n",
      "    labels = _check_set_wise_labels(y_true, y_pred, average, labels, pos_label)\n",
      "  File \"/opt/conda/lib/python3.10/site-packages/sklearn/metrics/_classification.py\", line 1391, in _check_set_wise_labels\n",
      "    raise ValueError(\n",
      "ValueError: Target is multiclass but average='binary'. Please choose another average setting, one of [None, 'micro', 'macro', 'weighted'].\n",
      "\n",
      "  warnings.warn(\n",
      "/opt/conda/lib/python3.10/site-packages/sklearn/model_selection/_validation.py:778: UserWarning: Scoring failed. The score on this train-test partition for these parameters will be set to nan. Details: \n",
      "Traceback (most recent call last):\n",
      "  File \"/opt/conda/lib/python3.10/site-packages/sklearn/model_selection/_validation.py\", line 767, in _score\n",
      "    scores = scorer(estimator, X_test, y_test)\n",
      "  File \"/opt/conda/lib/python3.10/site-packages/sklearn/metrics/_scorer.py\", line 234, in __call__\n",
      "    return self._score(\n",
      "  File \"/opt/conda/lib/python3.10/site-packages/sklearn/metrics/_scorer.py\", line 282, in _score\n",
      "    return self._sign * self._score_func(y_true, y_pred, **self._kwargs)\n",
      "  File \"/opt/conda/lib/python3.10/site-packages/sklearn/metrics/_classification.py\", line 1146, in f1_score\n",
      "    return fbeta_score(\n",
      "  File \"/opt/conda/lib/python3.10/site-packages/sklearn/metrics/_classification.py\", line 1287, in fbeta_score\n",
      "    _, _, f, _ = precision_recall_fscore_support(\n",
      "  File \"/opt/conda/lib/python3.10/site-packages/sklearn/metrics/_classification.py\", line 1573, in precision_recall_fscore_support\n",
      "    labels = _check_set_wise_labels(y_true, y_pred, average, labels, pos_label)\n",
      "  File \"/opt/conda/lib/python3.10/site-packages/sklearn/metrics/_classification.py\", line 1391, in _check_set_wise_labels\n",
      "    raise ValueError(\n",
      "ValueError: Target is multiclass but average='binary'. Please choose another average setting, one of [None, 'micro', 'macro', 'weighted'].\n",
      "\n",
      "  warnings.warn(\n",
      "/opt/conda/lib/python3.10/site-packages/sklearn/model_selection/_validation.py:778: UserWarning: Scoring failed. The score on this train-test partition for these parameters will be set to nan. Details: \n",
      "Traceback (most recent call last):\n",
      "  File \"/opt/conda/lib/python3.10/site-packages/sklearn/model_selection/_validation.py\", line 767, in _score\n",
      "    scores = scorer(estimator, X_test, y_test)\n",
      "  File \"/opt/conda/lib/python3.10/site-packages/sklearn/metrics/_scorer.py\", line 234, in __call__\n",
      "    return self._score(\n",
      "  File \"/opt/conda/lib/python3.10/site-packages/sklearn/metrics/_scorer.py\", line 282, in _score\n",
      "    return self._sign * self._score_func(y_true, y_pred, **self._kwargs)\n",
      "  File \"/opt/conda/lib/python3.10/site-packages/sklearn/metrics/_classification.py\", line 1146, in f1_score\n",
      "    return fbeta_score(\n",
      "  File \"/opt/conda/lib/python3.10/site-packages/sklearn/metrics/_classification.py\", line 1287, in fbeta_score\n",
      "    _, _, f, _ = precision_recall_fscore_support(\n",
      "  File \"/opt/conda/lib/python3.10/site-packages/sklearn/metrics/_classification.py\", line 1573, in precision_recall_fscore_support\n",
      "    labels = _check_set_wise_labels(y_true, y_pred, average, labels, pos_label)\n",
      "  File \"/opt/conda/lib/python3.10/site-packages/sklearn/metrics/_classification.py\", line 1391, in _check_set_wise_labels\n",
      "    raise ValueError(\n",
      "ValueError: Target is multiclass but average='binary'. Please choose another average setting, one of [None, 'micro', 'macro', 'weighted'].\n",
      "\n",
      "  warnings.warn(\n",
      "/opt/conda/lib/python3.10/site-packages/sklearn/model_selection/_validation.py:778: UserWarning: Scoring failed. The score on this train-test partition for these parameters will be set to nan. Details: \n",
      "Traceback (most recent call last):\n",
      "  File \"/opt/conda/lib/python3.10/site-packages/sklearn/model_selection/_validation.py\", line 767, in _score\n",
      "    scores = scorer(estimator, X_test, y_test)\n",
      "  File \"/opt/conda/lib/python3.10/site-packages/sklearn/metrics/_scorer.py\", line 234, in __call__\n",
      "    return self._score(\n",
      "  File \"/opt/conda/lib/python3.10/site-packages/sklearn/metrics/_scorer.py\", line 282, in _score\n",
      "    return self._sign * self._score_func(y_true, y_pred, **self._kwargs)\n",
      "  File \"/opt/conda/lib/python3.10/site-packages/sklearn/metrics/_classification.py\", line 1146, in f1_score\n",
      "    return fbeta_score(\n",
      "  File \"/opt/conda/lib/python3.10/site-packages/sklearn/metrics/_classification.py\", line 1287, in fbeta_score\n",
      "    _, _, f, _ = precision_recall_fscore_support(\n",
      "  File \"/opt/conda/lib/python3.10/site-packages/sklearn/metrics/_classification.py\", line 1573, in precision_recall_fscore_support\n",
      "    labels = _check_set_wise_labels(y_true, y_pred, average, labels, pos_label)\n",
      "  File \"/opt/conda/lib/python3.10/site-packages/sklearn/metrics/_classification.py\", line 1391, in _check_set_wise_labels\n",
      "    raise ValueError(\n",
      "ValueError: Target is multiclass but average='binary'. Please choose another average setting, one of [None, 'micro', 'macro', 'weighted'].\n",
      "\n",
      "  warnings.warn(\n",
      "/opt/conda/lib/python3.10/site-packages/sklearn/model_selection/_validation.py:778: UserWarning: Scoring failed. The score on this train-test partition for these parameters will be set to nan. Details: \n",
      "Traceback (most recent call last):\n",
      "  File \"/opt/conda/lib/python3.10/site-packages/sklearn/model_selection/_validation.py\", line 767, in _score\n",
      "    scores = scorer(estimator, X_test, y_test)\n",
      "  File \"/opt/conda/lib/python3.10/site-packages/sklearn/metrics/_scorer.py\", line 234, in __call__\n",
      "    return self._score(\n",
      "  File \"/opt/conda/lib/python3.10/site-packages/sklearn/metrics/_scorer.py\", line 282, in _score\n",
      "    return self._sign * self._score_func(y_true, y_pred, **self._kwargs)\n",
      "  File \"/opt/conda/lib/python3.10/site-packages/sklearn/metrics/_classification.py\", line 1146, in f1_score\n",
      "    return fbeta_score(\n",
      "  File \"/opt/conda/lib/python3.10/site-packages/sklearn/metrics/_classification.py\", line 1287, in fbeta_score\n",
      "    _, _, f, _ = precision_recall_fscore_support(\n",
      "  File \"/opt/conda/lib/python3.10/site-packages/sklearn/metrics/_classification.py\", line 1573, in precision_recall_fscore_support\n",
      "    labels = _check_set_wise_labels(y_true, y_pred, average, labels, pos_label)\n",
      "  File \"/opt/conda/lib/python3.10/site-packages/sklearn/metrics/_classification.py\", line 1391, in _check_set_wise_labels\n",
      "    raise ValueError(\n",
      "ValueError: Target is multiclass but average='binary'. Please choose another average setting, one of [None, 'micro', 'macro', 'weighted'].\n",
      "\n",
      "  warnings.warn(\n",
      "/opt/conda/lib/python3.10/site-packages/sklearn/model_selection/_validation.py:778: UserWarning: Scoring failed. The score on this train-test partition for these parameters will be set to nan. Details: \n",
      "Traceback (most recent call last):\n",
      "  File \"/opt/conda/lib/python3.10/site-packages/sklearn/model_selection/_validation.py\", line 767, in _score\n",
      "    scores = scorer(estimator, X_test, y_test)\n",
      "  File \"/opt/conda/lib/python3.10/site-packages/sklearn/metrics/_scorer.py\", line 234, in __call__\n",
      "    return self._score(\n",
      "  File \"/opt/conda/lib/python3.10/site-packages/sklearn/metrics/_scorer.py\", line 282, in _score\n",
      "    return self._sign * self._score_func(y_true, y_pred, **self._kwargs)\n",
      "  File \"/opt/conda/lib/python3.10/site-packages/sklearn/metrics/_classification.py\", line 1146, in f1_score\n",
      "    return fbeta_score(\n",
      "  File \"/opt/conda/lib/python3.10/site-packages/sklearn/metrics/_classification.py\", line 1287, in fbeta_score\n",
      "    _, _, f, _ = precision_recall_fscore_support(\n",
      "  File \"/opt/conda/lib/python3.10/site-packages/sklearn/metrics/_classification.py\", line 1573, in precision_recall_fscore_support\n",
      "    labels = _check_set_wise_labels(y_true, y_pred, average, labels, pos_label)\n",
      "  File \"/opt/conda/lib/python3.10/site-packages/sklearn/metrics/_classification.py\", line 1391, in _check_set_wise_labels\n",
      "    raise ValueError(\n",
      "ValueError: Target is multiclass but average='binary'. Please choose another average setting, one of [None, 'micro', 'macro', 'weighted'].\n",
      "\n",
      "  warnings.warn(\n",
      "/opt/conda/lib/python3.10/site-packages/sklearn/model_selection/_validation.py:778: UserWarning: Scoring failed. The score on this train-test partition for these parameters will be set to nan. Details: \n",
      "Traceback (most recent call last):\n",
      "  File \"/opt/conda/lib/python3.10/site-packages/sklearn/model_selection/_validation.py\", line 767, in _score\n",
      "    scores = scorer(estimator, X_test, y_test)\n",
      "  File \"/opt/conda/lib/python3.10/site-packages/sklearn/metrics/_scorer.py\", line 234, in __call__\n",
      "    return self._score(\n",
      "  File \"/opt/conda/lib/python3.10/site-packages/sklearn/metrics/_scorer.py\", line 282, in _score\n",
      "    return self._sign * self._score_func(y_true, y_pred, **self._kwargs)\n",
      "  File \"/opt/conda/lib/python3.10/site-packages/sklearn/metrics/_classification.py\", line 1146, in f1_score\n",
      "    return fbeta_score(\n",
      "  File \"/opt/conda/lib/python3.10/site-packages/sklearn/metrics/_classification.py\", line 1287, in fbeta_score\n",
      "    _, _, f, _ = precision_recall_fscore_support(\n",
      "  File \"/opt/conda/lib/python3.10/site-packages/sklearn/metrics/_classification.py\", line 1573, in precision_recall_fscore_support\n",
      "    labels = _check_set_wise_labels(y_true, y_pred, average, labels, pos_label)\n",
      "  File \"/opt/conda/lib/python3.10/site-packages/sklearn/metrics/_classification.py\", line 1391, in _check_set_wise_labels\n",
      "    raise ValueError(\n",
      "ValueError: Target is multiclass but average='binary'. Please choose another average setting, one of [None, 'micro', 'macro', 'weighted'].\n",
      "\n",
      "  warnings.warn(\n",
      "/opt/conda/lib/python3.10/site-packages/sklearn/model_selection/_validation.py:778: UserWarning: Scoring failed. The score on this train-test partition for these parameters will be set to nan. Details: \n",
      "Traceback (most recent call last):\n",
      "  File \"/opt/conda/lib/python3.10/site-packages/sklearn/model_selection/_validation.py\", line 767, in _score\n",
      "    scores = scorer(estimator, X_test, y_test)\n",
      "  File \"/opt/conda/lib/python3.10/site-packages/sklearn/metrics/_scorer.py\", line 234, in __call__\n",
      "    return self._score(\n",
      "  File \"/opt/conda/lib/python3.10/site-packages/sklearn/metrics/_scorer.py\", line 282, in _score\n",
      "    return self._sign * self._score_func(y_true, y_pred, **self._kwargs)\n",
      "  File \"/opt/conda/lib/python3.10/site-packages/sklearn/metrics/_classification.py\", line 1146, in f1_score\n",
      "    return fbeta_score(\n",
      "  File \"/opt/conda/lib/python3.10/site-packages/sklearn/metrics/_classification.py\", line 1287, in fbeta_score\n",
      "    _, _, f, _ = precision_recall_fscore_support(\n",
      "  File \"/opt/conda/lib/python3.10/site-packages/sklearn/metrics/_classification.py\", line 1573, in precision_recall_fscore_support\n",
      "    labels = _check_set_wise_labels(y_true, y_pred, average, labels, pos_label)\n",
      "  File \"/opt/conda/lib/python3.10/site-packages/sklearn/metrics/_classification.py\", line 1391, in _check_set_wise_labels\n",
      "    raise ValueError(\n",
      "ValueError: Target is multiclass but average='binary'. Please choose another average setting, one of [None, 'micro', 'macro', 'weighted'].\n",
      "\n",
      "  warnings.warn(\n",
      "/opt/conda/lib/python3.10/site-packages/sklearn/model_selection/_validation.py:778: UserWarning: Scoring failed. The score on this train-test partition for these parameters will be set to nan. Details: \n",
      "Traceback (most recent call last):\n",
      "  File \"/opt/conda/lib/python3.10/site-packages/sklearn/model_selection/_validation.py\", line 767, in _score\n",
      "    scores = scorer(estimator, X_test, y_test)\n",
      "  File \"/opt/conda/lib/python3.10/site-packages/sklearn/metrics/_scorer.py\", line 234, in __call__\n",
      "    return self._score(\n",
      "  File \"/opt/conda/lib/python3.10/site-packages/sklearn/metrics/_scorer.py\", line 282, in _score\n",
      "    return self._sign * self._score_func(y_true, y_pred, **self._kwargs)\n",
      "  File \"/opt/conda/lib/python3.10/site-packages/sklearn/metrics/_classification.py\", line 1146, in f1_score\n",
      "    return fbeta_score(\n",
      "  File \"/opt/conda/lib/python3.10/site-packages/sklearn/metrics/_classification.py\", line 1287, in fbeta_score\n",
      "    _, _, f, _ = precision_recall_fscore_support(\n",
      "  File \"/opt/conda/lib/python3.10/site-packages/sklearn/metrics/_classification.py\", line 1573, in precision_recall_fscore_support\n",
      "    labels = _check_set_wise_labels(y_true, y_pred, average, labels, pos_label)\n",
      "  File \"/opt/conda/lib/python3.10/site-packages/sklearn/metrics/_classification.py\", line 1391, in _check_set_wise_labels\n",
      "    raise ValueError(\n",
      "ValueError: Target is multiclass but average='binary'. Please choose another average setting, one of [None, 'micro', 'macro', 'weighted'].\n",
      "\n",
      "  warnings.warn(\n",
      "/opt/conda/lib/python3.10/site-packages/sklearn/model_selection/_validation.py:778: UserWarning: Scoring failed. The score on this train-test partition for these parameters will be set to nan. Details: \n",
      "Traceback (most recent call last):\n",
      "  File \"/opt/conda/lib/python3.10/site-packages/sklearn/model_selection/_validation.py\", line 767, in _score\n",
      "    scores = scorer(estimator, X_test, y_test)\n",
      "  File \"/opt/conda/lib/python3.10/site-packages/sklearn/metrics/_scorer.py\", line 234, in __call__\n",
      "    return self._score(\n",
      "  File \"/opt/conda/lib/python3.10/site-packages/sklearn/metrics/_scorer.py\", line 282, in _score\n",
      "    return self._sign * self._score_func(y_true, y_pred, **self._kwargs)\n",
      "  File \"/opt/conda/lib/python3.10/site-packages/sklearn/metrics/_classification.py\", line 1146, in f1_score\n",
      "    return fbeta_score(\n",
      "  File \"/opt/conda/lib/python3.10/site-packages/sklearn/metrics/_classification.py\", line 1287, in fbeta_score\n",
      "    _, _, f, _ = precision_recall_fscore_support(\n",
      "  File \"/opt/conda/lib/python3.10/site-packages/sklearn/metrics/_classification.py\", line 1573, in precision_recall_fscore_support\n",
      "    labels = _check_set_wise_labels(y_true, y_pred, average, labels, pos_label)\n",
      "  File \"/opt/conda/lib/python3.10/site-packages/sklearn/metrics/_classification.py\", line 1391, in _check_set_wise_labels\n",
      "    raise ValueError(\n",
      "ValueError: Target is multiclass but average='binary'. Please choose another average setting, one of [None, 'micro', 'macro', 'weighted'].\n",
      "\n",
      "  warnings.warn(\n",
      "/opt/conda/lib/python3.10/site-packages/sklearn/model_selection/_validation.py:778: UserWarning: Scoring failed. The score on this train-test partition for these parameters will be set to nan. Details: \n",
      "Traceback (most recent call last):\n",
      "  File \"/opt/conda/lib/python3.10/site-packages/sklearn/model_selection/_validation.py\", line 767, in _score\n",
      "    scores = scorer(estimator, X_test, y_test)\n",
      "  File \"/opt/conda/lib/python3.10/site-packages/sklearn/metrics/_scorer.py\", line 234, in __call__\n",
      "    return self._score(\n",
      "  File \"/opt/conda/lib/python3.10/site-packages/sklearn/metrics/_scorer.py\", line 282, in _score\n",
      "    return self._sign * self._score_func(y_true, y_pred, **self._kwargs)\n",
      "  File \"/opt/conda/lib/python3.10/site-packages/sklearn/metrics/_classification.py\", line 1146, in f1_score\n",
      "    return fbeta_score(\n",
      "  File \"/opt/conda/lib/python3.10/site-packages/sklearn/metrics/_classification.py\", line 1287, in fbeta_score\n",
      "    _, _, f, _ = precision_recall_fscore_support(\n",
      "  File \"/opt/conda/lib/python3.10/site-packages/sklearn/metrics/_classification.py\", line 1573, in precision_recall_fscore_support\n",
      "    labels = _check_set_wise_labels(y_true, y_pred, average, labels, pos_label)\n",
      "  File \"/opt/conda/lib/python3.10/site-packages/sklearn/metrics/_classification.py\", line 1391, in _check_set_wise_labels\n",
      "    raise ValueError(\n",
      "ValueError: Target is multiclass but average='binary'. Please choose another average setting, one of [None, 'micro', 'macro', 'weighted'].\n",
      "\n",
      "  warnings.warn(\n",
      "/opt/conda/lib/python3.10/site-packages/sklearn/model_selection/_validation.py:778: UserWarning: Scoring failed. The score on this train-test partition for these parameters will be set to nan. Details: \n",
      "Traceback (most recent call last):\n",
      "  File \"/opt/conda/lib/python3.10/site-packages/sklearn/model_selection/_validation.py\", line 767, in _score\n",
      "    scores = scorer(estimator, X_test, y_test)\n",
      "  File \"/opt/conda/lib/python3.10/site-packages/sklearn/metrics/_scorer.py\", line 234, in __call__\n",
      "    return self._score(\n",
      "  File \"/opt/conda/lib/python3.10/site-packages/sklearn/metrics/_scorer.py\", line 282, in _score\n",
      "    return self._sign * self._score_func(y_true, y_pred, **self._kwargs)\n",
      "  File \"/opt/conda/lib/python3.10/site-packages/sklearn/metrics/_classification.py\", line 1146, in f1_score\n",
      "    return fbeta_score(\n",
      "  File \"/opt/conda/lib/python3.10/site-packages/sklearn/metrics/_classification.py\", line 1287, in fbeta_score\n",
      "    _, _, f, _ = precision_recall_fscore_support(\n",
      "  File \"/opt/conda/lib/python3.10/site-packages/sklearn/metrics/_classification.py\", line 1573, in precision_recall_fscore_support\n",
      "    labels = _check_set_wise_labels(y_true, y_pred, average, labels, pos_label)\n",
      "  File \"/opt/conda/lib/python3.10/site-packages/sklearn/metrics/_classification.py\", line 1391, in _check_set_wise_labels\n",
      "    raise ValueError(\n",
      "ValueError: Target is multiclass but average='binary'. Please choose another average setting, one of [None, 'micro', 'macro', 'weighted'].\n",
      "\n",
      "  warnings.warn(\n",
      "/opt/conda/lib/python3.10/site-packages/sklearn/model_selection/_validation.py:778: UserWarning: Scoring failed. The score on this train-test partition for these parameters will be set to nan. Details: \n",
      "Traceback (most recent call last):\n",
      "  File \"/opt/conda/lib/python3.10/site-packages/sklearn/model_selection/_validation.py\", line 767, in _score\n",
      "    scores = scorer(estimator, X_test, y_test)\n",
      "  File \"/opt/conda/lib/python3.10/site-packages/sklearn/metrics/_scorer.py\", line 234, in __call__\n",
      "    return self._score(\n",
      "  File \"/opt/conda/lib/python3.10/site-packages/sklearn/metrics/_scorer.py\", line 282, in _score\n",
      "    return self._sign * self._score_func(y_true, y_pred, **self._kwargs)\n",
      "  File \"/opt/conda/lib/python3.10/site-packages/sklearn/metrics/_classification.py\", line 1146, in f1_score\n",
      "    return fbeta_score(\n",
      "  File \"/opt/conda/lib/python3.10/site-packages/sklearn/metrics/_classification.py\", line 1287, in fbeta_score\n",
      "    _, _, f, _ = precision_recall_fscore_support(\n",
      "  File \"/opt/conda/lib/python3.10/site-packages/sklearn/metrics/_classification.py\", line 1573, in precision_recall_fscore_support\n",
      "    labels = _check_set_wise_labels(y_true, y_pred, average, labels, pos_label)\n",
      "  File \"/opt/conda/lib/python3.10/site-packages/sklearn/metrics/_classification.py\", line 1391, in _check_set_wise_labels\n",
      "    raise ValueError(\n",
      "ValueError: Target is multiclass but average='binary'. Please choose another average setting, one of [None, 'micro', 'macro', 'weighted'].\n",
      "\n",
      "  warnings.warn(\n",
      "/opt/conda/lib/python3.10/site-packages/sklearn/model_selection/_validation.py:778: UserWarning: Scoring failed. The score on this train-test partition for these parameters will be set to nan. Details: \n",
      "Traceback (most recent call last):\n",
      "  File \"/opt/conda/lib/python3.10/site-packages/sklearn/model_selection/_validation.py\", line 767, in _score\n",
      "    scores = scorer(estimator, X_test, y_test)\n",
      "  File \"/opt/conda/lib/python3.10/site-packages/sklearn/metrics/_scorer.py\", line 234, in __call__\n",
      "    return self._score(\n",
      "  File \"/opt/conda/lib/python3.10/site-packages/sklearn/metrics/_scorer.py\", line 282, in _score\n",
      "    return self._sign * self._score_func(y_true, y_pred, **self._kwargs)\n",
      "  File \"/opt/conda/lib/python3.10/site-packages/sklearn/metrics/_classification.py\", line 1146, in f1_score\n",
      "    return fbeta_score(\n",
      "  File \"/opt/conda/lib/python3.10/site-packages/sklearn/metrics/_classification.py\", line 1287, in fbeta_score\n",
      "    _, _, f, _ = precision_recall_fscore_support(\n",
      "  File \"/opt/conda/lib/python3.10/site-packages/sklearn/metrics/_classification.py\", line 1573, in precision_recall_fscore_support\n",
      "    labels = _check_set_wise_labels(y_true, y_pred, average, labels, pos_label)\n",
      "  File \"/opt/conda/lib/python3.10/site-packages/sklearn/metrics/_classification.py\", line 1391, in _check_set_wise_labels\n",
      "    raise ValueError(\n",
      "ValueError: Target is multiclass but average='binary'. Please choose another average setting, one of [None, 'micro', 'macro', 'weighted'].\n",
      "\n",
      "  warnings.warn(\n",
      "/opt/conda/lib/python3.10/site-packages/sklearn/model_selection/_validation.py:778: UserWarning: Scoring failed. The score on this train-test partition for these parameters will be set to nan. Details: \n",
      "Traceback (most recent call last):\n",
      "  File \"/opt/conda/lib/python3.10/site-packages/sklearn/model_selection/_validation.py\", line 767, in _score\n",
      "    scores = scorer(estimator, X_test, y_test)\n",
      "  File \"/opt/conda/lib/python3.10/site-packages/sklearn/metrics/_scorer.py\", line 234, in __call__\n",
      "    return self._score(\n",
      "  File \"/opt/conda/lib/python3.10/site-packages/sklearn/metrics/_scorer.py\", line 282, in _score\n",
      "    return self._sign * self._score_func(y_true, y_pred, **self._kwargs)\n",
      "  File \"/opt/conda/lib/python3.10/site-packages/sklearn/metrics/_classification.py\", line 1146, in f1_score\n",
      "    return fbeta_score(\n",
      "  File \"/opt/conda/lib/python3.10/site-packages/sklearn/metrics/_classification.py\", line 1287, in fbeta_score\n",
      "    _, _, f, _ = precision_recall_fscore_support(\n",
      "  File \"/opt/conda/lib/python3.10/site-packages/sklearn/metrics/_classification.py\", line 1573, in precision_recall_fscore_support\n",
      "    labels = _check_set_wise_labels(y_true, y_pred, average, labels, pos_label)\n",
      "  File \"/opt/conda/lib/python3.10/site-packages/sklearn/metrics/_classification.py\", line 1391, in _check_set_wise_labels\n",
      "    raise ValueError(\n",
      "ValueError: Target is multiclass but average='binary'. Please choose another average setting, one of [None, 'micro', 'macro', 'weighted'].\n",
      "\n",
      "  warnings.warn(\n",
      "/opt/conda/lib/python3.10/site-packages/sklearn/model_selection/_validation.py:778: UserWarning: Scoring failed. The score on this train-test partition for these parameters will be set to nan. Details: \n",
      "Traceback (most recent call last):\n",
      "  File \"/opt/conda/lib/python3.10/site-packages/sklearn/model_selection/_validation.py\", line 767, in _score\n",
      "    scores = scorer(estimator, X_test, y_test)\n",
      "  File \"/opt/conda/lib/python3.10/site-packages/sklearn/metrics/_scorer.py\", line 234, in __call__\n",
      "    return self._score(\n",
      "  File \"/opt/conda/lib/python3.10/site-packages/sklearn/metrics/_scorer.py\", line 282, in _score\n",
      "    return self._sign * self._score_func(y_true, y_pred, **self._kwargs)\n",
      "  File \"/opt/conda/lib/python3.10/site-packages/sklearn/metrics/_classification.py\", line 1146, in f1_score\n",
      "    return fbeta_score(\n",
      "  File \"/opt/conda/lib/python3.10/site-packages/sklearn/metrics/_classification.py\", line 1287, in fbeta_score\n",
      "    _, _, f, _ = precision_recall_fscore_support(\n",
      "  File \"/opt/conda/lib/python3.10/site-packages/sklearn/metrics/_classification.py\", line 1573, in precision_recall_fscore_support\n",
      "    labels = _check_set_wise_labels(y_true, y_pred, average, labels, pos_label)\n",
      "  File \"/opt/conda/lib/python3.10/site-packages/sklearn/metrics/_classification.py\", line 1391, in _check_set_wise_labels\n",
      "    raise ValueError(\n",
      "ValueError: Target is multiclass but average='binary'. Please choose another average setting, one of [None, 'micro', 'macro', 'weighted'].\n",
      "\n",
      "  warnings.warn(\n",
      "/opt/conda/lib/python3.10/site-packages/sklearn/model_selection/_validation.py:778: UserWarning: Scoring failed. The score on this train-test partition for these parameters will be set to nan. Details: \n",
      "Traceback (most recent call last):\n",
      "  File \"/opt/conda/lib/python3.10/site-packages/sklearn/model_selection/_validation.py\", line 767, in _score\n",
      "    scores = scorer(estimator, X_test, y_test)\n",
      "  File \"/opt/conda/lib/python3.10/site-packages/sklearn/metrics/_scorer.py\", line 234, in __call__\n",
      "    return self._score(\n",
      "  File \"/opt/conda/lib/python3.10/site-packages/sklearn/metrics/_scorer.py\", line 282, in _score\n",
      "    return self._sign * self._score_func(y_true, y_pred, **self._kwargs)\n",
      "  File \"/opt/conda/lib/python3.10/site-packages/sklearn/metrics/_classification.py\", line 1146, in f1_score\n",
      "    return fbeta_score(\n",
      "  File \"/opt/conda/lib/python3.10/site-packages/sklearn/metrics/_classification.py\", line 1287, in fbeta_score\n",
      "    _, _, f, _ = precision_recall_fscore_support(\n",
      "  File \"/opt/conda/lib/python3.10/site-packages/sklearn/metrics/_classification.py\", line 1573, in precision_recall_fscore_support\n",
      "    labels = _check_set_wise_labels(y_true, y_pred, average, labels, pos_label)\n",
      "  File \"/opt/conda/lib/python3.10/site-packages/sklearn/metrics/_classification.py\", line 1391, in _check_set_wise_labels\n",
      "    raise ValueError(\n",
      "ValueError: Target is multiclass but average='binary'. Please choose another average setting, one of [None, 'micro', 'macro', 'weighted'].\n",
      "\n",
      "  warnings.warn(\n",
      "/opt/conda/lib/python3.10/site-packages/sklearn/model_selection/_validation.py:778: UserWarning: Scoring failed. The score on this train-test partition for these parameters will be set to nan. Details: \n",
      "Traceback (most recent call last):\n",
      "  File \"/opt/conda/lib/python3.10/site-packages/sklearn/model_selection/_validation.py\", line 767, in _score\n",
      "    scores = scorer(estimator, X_test, y_test)\n",
      "  File \"/opt/conda/lib/python3.10/site-packages/sklearn/metrics/_scorer.py\", line 234, in __call__\n",
      "    return self._score(\n",
      "  File \"/opt/conda/lib/python3.10/site-packages/sklearn/metrics/_scorer.py\", line 282, in _score\n",
      "    return self._sign * self._score_func(y_true, y_pred, **self._kwargs)\n",
      "  File \"/opt/conda/lib/python3.10/site-packages/sklearn/metrics/_classification.py\", line 1146, in f1_score\n",
      "    return fbeta_score(\n",
      "  File \"/opt/conda/lib/python3.10/site-packages/sklearn/metrics/_classification.py\", line 1287, in fbeta_score\n",
      "    _, _, f, _ = precision_recall_fscore_support(\n",
      "  File \"/opt/conda/lib/python3.10/site-packages/sklearn/metrics/_classification.py\", line 1573, in precision_recall_fscore_support\n",
      "    labels = _check_set_wise_labels(y_true, y_pred, average, labels, pos_label)\n",
      "  File \"/opt/conda/lib/python3.10/site-packages/sklearn/metrics/_classification.py\", line 1391, in _check_set_wise_labels\n",
      "    raise ValueError(\n",
      "ValueError: Target is multiclass but average='binary'. Please choose another average setting, one of [None, 'micro', 'macro', 'weighted'].\n",
      "\n",
      "  warnings.warn(\n",
      "/opt/conda/lib/python3.10/site-packages/sklearn/model_selection/_validation.py:778: UserWarning: Scoring failed. The score on this train-test partition for these parameters will be set to nan. Details: \n",
      "Traceback (most recent call last):\n",
      "  File \"/opt/conda/lib/python3.10/site-packages/sklearn/model_selection/_validation.py\", line 767, in _score\n",
      "    scores = scorer(estimator, X_test, y_test)\n",
      "  File \"/opt/conda/lib/python3.10/site-packages/sklearn/metrics/_scorer.py\", line 234, in __call__\n",
      "    return self._score(\n",
      "  File \"/opt/conda/lib/python3.10/site-packages/sklearn/metrics/_scorer.py\", line 282, in _score\n",
      "    return self._sign * self._score_func(y_true, y_pred, **self._kwargs)\n",
      "  File \"/opt/conda/lib/python3.10/site-packages/sklearn/metrics/_classification.py\", line 1146, in f1_score\n",
      "    return fbeta_score(\n",
      "  File \"/opt/conda/lib/python3.10/site-packages/sklearn/metrics/_classification.py\", line 1287, in fbeta_score\n",
      "    _, _, f, _ = precision_recall_fscore_support(\n",
      "  File \"/opt/conda/lib/python3.10/site-packages/sklearn/metrics/_classification.py\", line 1573, in precision_recall_fscore_support\n",
      "    labels = _check_set_wise_labels(y_true, y_pred, average, labels, pos_label)\n",
      "  File \"/opt/conda/lib/python3.10/site-packages/sklearn/metrics/_classification.py\", line 1391, in _check_set_wise_labels\n",
      "    raise ValueError(\n",
      "ValueError: Target is multiclass but average='binary'. Please choose another average setting, one of [None, 'micro', 'macro', 'weighted'].\n",
      "\n",
      "  warnings.warn(\n",
      "/opt/conda/lib/python3.10/site-packages/sklearn/model_selection/_validation.py:778: UserWarning: Scoring failed. The score on this train-test partition for these parameters will be set to nan. Details: \n",
      "Traceback (most recent call last):\n",
      "  File \"/opt/conda/lib/python3.10/site-packages/sklearn/model_selection/_validation.py\", line 767, in _score\n",
      "    scores = scorer(estimator, X_test, y_test)\n",
      "  File \"/opt/conda/lib/python3.10/site-packages/sklearn/metrics/_scorer.py\", line 234, in __call__\n",
      "    return self._score(\n",
      "  File \"/opt/conda/lib/python3.10/site-packages/sklearn/metrics/_scorer.py\", line 282, in _score\n",
      "    return self._sign * self._score_func(y_true, y_pred, **self._kwargs)\n",
      "  File \"/opt/conda/lib/python3.10/site-packages/sklearn/metrics/_classification.py\", line 1146, in f1_score\n",
      "    return fbeta_score(\n",
      "  File \"/opt/conda/lib/python3.10/site-packages/sklearn/metrics/_classification.py\", line 1287, in fbeta_score\n",
      "    _, _, f, _ = precision_recall_fscore_support(\n",
      "  File \"/opt/conda/lib/python3.10/site-packages/sklearn/metrics/_classification.py\", line 1573, in precision_recall_fscore_support\n",
      "    labels = _check_set_wise_labels(y_true, y_pred, average, labels, pos_label)\n",
      "  File \"/opt/conda/lib/python3.10/site-packages/sklearn/metrics/_classification.py\", line 1391, in _check_set_wise_labels\n",
      "    raise ValueError(\n",
      "ValueError: Target is multiclass but average='binary'. Please choose another average setting, one of [None, 'micro', 'macro', 'weighted'].\n",
      "\n",
      "  warnings.warn(\n",
      "/opt/conda/lib/python3.10/site-packages/sklearn/model_selection/_validation.py:778: UserWarning: Scoring failed. The score on this train-test partition for these parameters will be set to nan. Details: \n",
      "Traceback (most recent call last):\n",
      "  File \"/opt/conda/lib/python3.10/site-packages/sklearn/model_selection/_validation.py\", line 767, in _score\n",
      "    scores = scorer(estimator, X_test, y_test)\n",
      "  File \"/opt/conda/lib/python3.10/site-packages/sklearn/metrics/_scorer.py\", line 234, in __call__\n",
      "    return self._score(\n",
      "  File \"/opt/conda/lib/python3.10/site-packages/sklearn/metrics/_scorer.py\", line 282, in _score\n",
      "    return self._sign * self._score_func(y_true, y_pred, **self._kwargs)\n",
      "  File \"/opt/conda/lib/python3.10/site-packages/sklearn/metrics/_classification.py\", line 1146, in f1_score\n",
      "    return fbeta_score(\n",
      "  File \"/opt/conda/lib/python3.10/site-packages/sklearn/metrics/_classification.py\", line 1287, in fbeta_score\n",
      "    _, _, f, _ = precision_recall_fscore_support(\n",
      "  File \"/opt/conda/lib/python3.10/site-packages/sklearn/metrics/_classification.py\", line 1573, in precision_recall_fscore_support\n",
      "    labels = _check_set_wise_labels(y_true, y_pred, average, labels, pos_label)\n",
      "  File \"/opt/conda/lib/python3.10/site-packages/sklearn/metrics/_classification.py\", line 1391, in _check_set_wise_labels\n",
      "    raise ValueError(\n",
      "ValueError: Target is multiclass but average='binary'. Please choose another average setting, one of [None, 'micro', 'macro', 'weighted'].\n",
      "\n",
      "  warnings.warn(\n",
      "/opt/conda/lib/python3.10/site-packages/sklearn/model_selection/_validation.py:778: UserWarning: Scoring failed. The score on this train-test partition for these parameters will be set to nan. Details: \n",
      "Traceback (most recent call last):\n",
      "  File \"/opt/conda/lib/python3.10/site-packages/sklearn/model_selection/_validation.py\", line 767, in _score\n",
      "    scores = scorer(estimator, X_test, y_test)\n",
      "  File \"/opt/conda/lib/python3.10/site-packages/sklearn/metrics/_scorer.py\", line 234, in __call__\n",
      "    return self._score(\n",
      "  File \"/opt/conda/lib/python3.10/site-packages/sklearn/metrics/_scorer.py\", line 282, in _score\n",
      "    return self._sign * self._score_func(y_true, y_pred, **self._kwargs)\n",
      "  File \"/opt/conda/lib/python3.10/site-packages/sklearn/metrics/_classification.py\", line 1146, in f1_score\n",
      "    return fbeta_score(\n",
      "  File \"/opt/conda/lib/python3.10/site-packages/sklearn/metrics/_classification.py\", line 1287, in fbeta_score\n",
      "    _, _, f, _ = precision_recall_fscore_support(\n",
      "  File \"/opt/conda/lib/python3.10/site-packages/sklearn/metrics/_classification.py\", line 1573, in precision_recall_fscore_support\n",
      "    labels = _check_set_wise_labels(y_true, y_pred, average, labels, pos_label)\n",
      "  File \"/opt/conda/lib/python3.10/site-packages/sklearn/metrics/_classification.py\", line 1391, in _check_set_wise_labels\n",
      "    raise ValueError(\n",
      "ValueError: Target is multiclass but average='binary'. Please choose another average setting, one of [None, 'micro', 'macro', 'weighted'].\n",
      "\n",
      "  warnings.warn(\n",
      "/opt/conda/lib/python3.10/site-packages/sklearn/model_selection/_validation.py:778: UserWarning: Scoring failed. The score on this train-test partition for these parameters will be set to nan. Details: \n",
      "Traceback (most recent call last):\n",
      "  File \"/opt/conda/lib/python3.10/site-packages/sklearn/model_selection/_validation.py\", line 767, in _score\n",
      "    scores = scorer(estimator, X_test, y_test)\n",
      "  File \"/opt/conda/lib/python3.10/site-packages/sklearn/metrics/_scorer.py\", line 234, in __call__\n",
      "    return self._score(\n",
      "  File \"/opt/conda/lib/python3.10/site-packages/sklearn/metrics/_scorer.py\", line 282, in _score\n",
      "    return self._sign * self._score_func(y_true, y_pred, **self._kwargs)\n",
      "  File \"/opt/conda/lib/python3.10/site-packages/sklearn/metrics/_classification.py\", line 1146, in f1_score\n",
      "    return fbeta_score(\n",
      "  File \"/opt/conda/lib/python3.10/site-packages/sklearn/metrics/_classification.py\", line 1287, in fbeta_score\n",
      "    _, _, f, _ = precision_recall_fscore_support(\n",
      "  File \"/opt/conda/lib/python3.10/site-packages/sklearn/metrics/_classification.py\", line 1573, in precision_recall_fscore_support\n",
      "    labels = _check_set_wise_labels(y_true, y_pred, average, labels, pos_label)\n",
      "  File \"/opt/conda/lib/python3.10/site-packages/sklearn/metrics/_classification.py\", line 1391, in _check_set_wise_labels\n",
      "    raise ValueError(\n",
      "ValueError: Target is multiclass but average='binary'. Please choose another average setting, one of [None, 'micro', 'macro', 'weighted'].\n",
      "\n",
      "  warnings.warn(\n",
      "/opt/conda/lib/python3.10/site-packages/sklearn/model_selection/_validation.py:778: UserWarning: Scoring failed. The score on this train-test partition for these parameters will be set to nan. Details: \n",
      "Traceback (most recent call last):\n",
      "  File \"/opt/conda/lib/python3.10/site-packages/sklearn/model_selection/_validation.py\", line 767, in _score\n",
      "    scores = scorer(estimator, X_test, y_test)\n",
      "  File \"/opt/conda/lib/python3.10/site-packages/sklearn/metrics/_scorer.py\", line 234, in __call__\n",
      "    return self._score(\n",
      "  File \"/opt/conda/lib/python3.10/site-packages/sklearn/metrics/_scorer.py\", line 282, in _score\n",
      "    return self._sign * self._score_func(y_true, y_pred, **self._kwargs)\n",
      "  File \"/opt/conda/lib/python3.10/site-packages/sklearn/metrics/_classification.py\", line 1146, in f1_score\n",
      "    return fbeta_score(\n",
      "  File \"/opt/conda/lib/python3.10/site-packages/sklearn/metrics/_classification.py\", line 1287, in fbeta_score\n",
      "    _, _, f, _ = precision_recall_fscore_support(\n",
      "  File \"/opt/conda/lib/python3.10/site-packages/sklearn/metrics/_classification.py\", line 1573, in precision_recall_fscore_support\n",
      "    labels = _check_set_wise_labels(y_true, y_pred, average, labels, pos_label)\n",
      "  File \"/opt/conda/lib/python3.10/site-packages/sklearn/metrics/_classification.py\", line 1391, in _check_set_wise_labels\n",
      "    raise ValueError(\n",
      "ValueError: Target is multiclass but average='binary'. Please choose another average setting, one of [None, 'micro', 'macro', 'weighted'].\n",
      "\n",
      "  warnings.warn(\n",
      "/opt/conda/lib/python3.10/site-packages/sklearn/model_selection/_validation.py:778: UserWarning: Scoring failed. The score on this train-test partition for these parameters will be set to nan. Details: \n",
      "Traceback (most recent call last):\n",
      "  File \"/opt/conda/lib/python3.10/site-packages/sklearn/model_selection/_validation.py\", line 767, in _score\n",
      "    scores = scorer(estimator, X_test, y_test)\n",
      "  File \"/opt/conda/lib/python3.10/site-packages/sklearn/metrics/_scorer.py\", line 234, in __call__\n",
      "    return self._score(\n",
      "  File \"/opt/conda/lib/python3.10/site-packages/sklearn/metrics/_scorer.py\", line 282, in _score\n",
      "    return self._sign * self._score_func(y_true, y_pred, **self._kwargs)\n",
      "  File \"/opt/conda/lib/python3.10/site-packages/sklearn/metrics/_classification.py\", line 1146, in f1_score\n",
      "    return fbeta_score(\n",
      "  File \"/opt/conda/lib/python3.10/site-packages/sklearn/metrics/_classification.py\", line 1287, in fbeta_score\n",
      "    _, _, f, _ = precision_recall_fscore_support(\n",
      "  File \"/opt/conda/lib/python3.10/site-packages/sklearn/metrics/_classification.py\", line 1573, in precision_recall_fscore_support\n",
      "    labels = _check_set_wise_labels(y_true, y_pred, average, labels, pos_label)\n",
      "  File \"/opt/conda/lib/python3.10/site-packages/sklearn/metrics/_classification.py\", line 1391, in _check_set_wise_labels\n",
      "    raise ValueError(\n",
      "ValueError: Target is multiclass but average='binary'. Please choose another average setting, one of [None, 'micro', 'macro', 'weighted'].\n",
      "\n",
      "  warnings.warn(\n",
      "/opt/conda/lib/python3.10/site-packages/sklearn/model_selection/_validation.py:778: UserWarning: Scoring failed. The score on this train-test partition for these parameters will be set to nan. Details: \n",
      "Traceback (most recent call last):\n",
      "  File \"/opt/conda/lib/python3.10/site-packages/sklearn/model_selection/_validation.py\", line 767, in _score\n",
      "    scores = scorer(estimator, X_test, y_test)\n",
      "  File \"/opt/conda/lib/python3.10/site-packages/sklearn/metrics/_scorer.py\", line 234, in __call__\n",
      "    return self._score(\n",
      "  File \"/opt/conda/lib/python3.10/site-packages/sklearn/metrics/_scorer.py\", line 282, in _score\n",
      "    return self._sign * self._score_func(y_true, y_pred, **self._kwargs)\n",
      "  File \"/opt/conda/lib/python3.10/site-packages/sklearn/metrics/_classification.py\", line 1146, in f1_score\n",
      "    return fbeta_score(\n",
      "  File \"/opt/conda/lib/python3.10/site-packages/sklearn/metrics/_classification.py\", line 1287, in fbeta_score\n",
      "    _, _, f, _ = precision_recall_fscore_support(\n",
      "  File \"/opt/conda/lib/python3.10/site-packages/sklearn/metrics/_classification.py\", line 1573, in precision_recall_fscore_support\n",
      "    labels = _check_set_wise_labels(y_true, y_pred, average, labels, pos_label)\n",
      "  File \"/opt/conda/lib/python3.10/site-packages/sklearn/metrics/_classification.py\", line 1391, in _check_set_wise_labels\n",
      "    raise ValueError(\n",
      "ValueError: Target is multiclass but average='binary'. Please choose another average setting, one of [None, 'micro', 'macro', 'weighted'].\n",
      "\n",
      "  warnings.warn(\n",
      "/opt/conda/lib/python3.10/site-packages/sklearn/model_selection/_validation.py:778: UserWarning: Scoring failed. The score on this train-test partition for these parameters will be set to nan. Details: \n",
      "Traceback (most recent call last):\n",
      "  File \"/opt/conda/lib/python3.10/site-packages/sklearn/model_selection/_validation.py\", line 767, in _score\n",
      "    scores = scorer(estimator, X_test, y_test)\n",
      "  File \"/opt/conda/lib/python3.10/site-packages/sklearn/metrics/_scorer.py\", line 234, in __call__\n",
      "    return self._score(\n",
      "  File \"/opt/conda/lib/python3.10/site-packages/sklearn/metrics/_scorer.py\", line 282, in _score\n",
      "    return self._sign * self._score_func(y_true, y_pred, **self._kwargs)\n",
      "  File \"/opt/conda/lib/python3.10/site-packages/sklearn/metrics/_classification.py\", line 1146, in f1_score\n",
      "    return fbeta_score(\n",
      "  File \"/opt/conda/lib/python3.10/site-packages/sklearn/metrics/_classification.py\", line 1287, in fbeta_score\n",
      "    _, _, f, _ = precision_recall_fscore_support(\n",
      "  File \"/opt/conda/lib/python3.10/site-packages/sklearn/metrics/_classification.py\", line 1573, in precision_recall_fscore_support\n",
      "    labels = _check_set_wise_labels(y_true, y_pred, average, labels, pos_label)\n",
      "  File \"/opt/conda/lib/python3.10/site-packages/sklearn/metrics/_classification.py\", line 1391, in _check_set_wise_labels\n",
      "    raise ValueError(\n",
      "ValueError: Target is multiclass but average='binary'. Please choose another average setting, one of [None, 'micro', 'macro', 'weighted'].\n",
      "\n",
      "  warnings.warn(\n",
      "/opt/conda/lib/python3.10/site-packages/sklearn/model_selection/_validation.py:778: UserWarning: Scoring failed. The score on this train-test partition for these parameters will be set to nan. Details: \n",
      "Traceback (most recent call last):\n",
      "  File \"/opt/conda/lib/python3.10/site-packages/sklearn/model_selection/_validation.py\", line 767, in _score\n",
      "    scores = scorer(estimator, X_test, y_test)\n",
      "  File \"/opt/conda/lib/python3.10/site-packages/sklearn/metrics/_scorer.py\", line 234, in __call__\n",
      "    return self._score(\n",
      "  File \"/opt/conda/lib/python3.10/site-packages/sklearn/metrics/_scorer.py\", line 282, in _score\n",
      "    return self._sign * self._score_func(y_true, y_pred, **self._kwargs)\n",
      "  File \"/opt/conda/lib/python3.10/site-packages/sklearn/metrics/_classification.py\", line 1146, in f1_score\n",
      "    return fbeta_score(\n",
      "  File \"/opt/conda/lib/python3.10/site-packages/sklearn/metrics/_classification.py\", line 1287, in fbeta_score\n",
      "    _, _, f, _ = precision_recall_fscore_support(\n",
      "  File \"/opt/conda/lib/python3.10/site-packages/sklearn/metrics/_classification.py\", line 1573, in precision_recall_fscore_support\n",
      "    labels = _check_set_wise_labels(y_true, y_pred, average, labels, pos_label)\n",
      "  File \"/opt/conda/lib/python3.10/site-packages/sklearn/metrics/_classification.py\", line 1391, in _check_set_wise_labels\n",
      "    raise ValueError(\n",
      "ValueError: Target is multiclass but average='binary'. Please choose another average setting, one of [None, 'micro', 'macro', 'weighted'].\n",
      "\n",
      "  warnings.warn(\n",
      "/opt/conda/lib/python3.10/site-packages/sklearn/model_selection/_validation.py:778: UserWarning: Scoring failed. The score on this train-test partition for these parameters will be set to nan. Details: \n",
      "Traceback (most recent call last):\n",
      "  File \"/opt/conda/lib/python3.10/site-packages/sklearn/model_selection/_validation.py\", line 767, in _score\n",
      "    scores = scorer(estimator, X_test, y_test)\n",
      "  File \"/opt/conda/lib/python3.10/site-packages/sklearn/metrics/_scorer.py\", line 234, in __call__\n",
      "    return self._score(\n",
      "  File \"/opt/conda/lib/python3.10/site-packages/sklearn/metrics/_scorer.py\", line 282, in _score\n",
      "    return self._sign * self._score_func(y_true, y_pred, **self._kwargs)\n",
      "  File \"/opt/conda/lib/python3.10/site-packages/sklearn/metrics/_classification.py\", line 1146, in f1_score\n",
      "    return fbeta_score(\n",
      "  File \"/opt/conda/lib/python3.10/site-packages/sklearn/metrics/_classification.py\", line 1287, in fbeta_score\n",
      "    _, _, f, _ = precision_recall_fscore_support(\n",
      "  File \"/opt/conda/lib/python3.10/site-packages/sklearn/metrics/_classification.py\", line 1573, in precision_recall_fscore_support\n",
      "    labels = _check_set_wise_labels(y_true, y_pred, average, labels, pos_label)\n",
      "  File \"/opt/conda/lib/python3.10/site-packages/sklearn/metrics/_classification.py\", line 1391, in _check_set_wise_labels\n",
      "    raise ValueError(\n",
      "ValueError: Target is multiclass but average='binary'. Please choose another average setting, one of [None, 'micro', 'macro', 'weighted'].\n",
      "\n",
      "  warnings.warn(\n",
      "/opt/conda/lib/python3.10/site-packages/sklearn/model_selection/_validation.py:778: UserWarning: Scoring failed. The score on this train-test partition for these parameters will be set to nan. Details: \n",
      "Traceback (most recent call last):\n",
      "  File \"/opt/conda/lib/python3.10/site-packages/sklearn/model_selection/_validation.py\", line 767, in _score\n",
      "    scores = scorer(estimator, X_test, y_test)\n",
      "  File \"/opt/conda/lib/python3.10/site-packages/sklearn/metrics/_scorer.py\", line 234, in __call__\n",
      "    return self._score(\n",
      "  File \"/opt/conda/lib/python3.10/site-packages/sklearn/metrics/_scorer.py\", line 282, in _score\n",
      "    return self._sign * self._score_func(y_true, y_pred, **self._kwargs)\n",
      "  File \"/opt/conda/lib/python3.10/site-packages/sklearn/metrics/_classification.py\", line 1146, in f1_score\n",
      "    return fbeta_score(\n",
      "  File \"/opt/conda/lib/python3.10/site-packages/sklearn/metrics/_classification.py\", line 1287, in fbeta_score\n",
      "    _, _, f, _ = precision_recall_fscore_support(\n",
      "  File \"/opt/conda/lib/python3.10/site-packages/sklearn/metrics/_classification.py\", line 1573, in precision_recall_fscore_support\n",
      "    labels = _check_set_wise_labels(y_true, y_pred, average, labels, pos_label)\n",
      "  File \"/opt/conda/lib/python3.10/site-packages/sklearn/metrics/_classification.py\", line 1391, in _check_set_wise_labels\n",
      "    raise ValueError(\n",
      "ValueError: Target is multiclass but average='binary'. Please choose another average setting, one of [None, 'micro', 'macro', 'weighted'].\n",
      "\n",
      "  warnings.warn(\n",
      "/opt/conda/lib/python3.10/site-packages/sklearn/model_selection/_validation.py:778: UserWarning: Scoring failed. The score on this train-test partition for these parameters will be set to nan. Details: \n",
      "Traceback (most recent call last):\n",
      "  File \"/opt/conda/lib/python3.10/site-packages/sklearn/model_selection/_validation.py\", line 767, in _score\n",
      "    scores = scorer(estimator, X_test, y_test)\n",
      "  File \"/opt/conda/lib/python3.10/site-packages/sklearn/metrics/_scorer.py\", line 234, in __call__\n",
      "    return self._score(\n",
      "  File \"/opt/conda/lib/python3.10/site-packages/sklearn/metrics/_scorer.py\", line 282, in _score\n",
      "    return self._sign * self._score_func(y_true, y_pred, **self._kwargs)\n",
      "  File \"/opt/conda/lib/python3.10/site-packages/sklearn/metrics/_classification.py\", line 1146, in f1_score\n",
      "    return fbeta_score(\n",
      "  File \"/opt/conda/lib/python3.10/site-packages/sklearn/metrics/_classification.py\", line 1287, in fbeta_score\n",
      "    _, _, f, _ = precision_recall_fscore_support(\n",
      "  File \"/opt/conda/lib/python3.10/site-packages/sklearn/metrics/_classification.py\", line 1573, in precision_recall_fscore_support\n",
      "    labels = _check_set_wise_labels(y_true, y_pred, average, labels, pos_label)\n",
      "  File \"/opt/conda/lib/python3.10/site-packages/sklearn/metrics/_classification.py\", line 1391, in _check_set_wise_labels\n",
      "    raise ValueError(\n",
      "ValueError: Target is multiclass but average='binary'. Please choose another average setting, one of [None, 'micro', 'macro', 'weighted'].\n",
      "\n",
      "  warnings.warn(\n",
      "/opt/conda/lib/python3.10/site-packages/sklearn/model_selection/_validation.py:778: UserWarning: Scoring failed. The score on this train-test partition for these parameters will be set to nan. Details: \n",
      "Traceback (most recent call last):\n",
      "  File \"/opt/conda/lib/python3.10/site-packages/sklearn/model_selection/_validation.py\", line 767, in _score\n",
      "    scores = scorer(estimator, X_test, y_test)\n",
      "  File \"/opt/conda/lib/python3.10/site-packages/sklearn/metrics/_scorer.py\", line 234, in __call__\n",
      "    return self._score(\n",
      "  File \"/opt/conda/lib/python3.10/site-packages/sklearn/metrics/_scorer.py\", line 282, in _score\n",
      "    return self._sign * self._score_func(y_true, y_pred, **self._kwargs)\n",
      "  File \"/opt/conda/lib/python3.10/site-packages/sklearn/metrics/_classification.py\", line 1146, in f1_score\n",
      "    return fbeta_score(\n",
      "  File \"/opt/conda/lib/python3.10/site-packages/sklearn/metrics/_classification.py\", line 1287, in fbeta_score\n",
      "    _, _, f, _ = precision_recall_fscore_support(\n",
      "  File \"/opt/conda/lib/python3.10/site-packages/sklearn/metrics/_classification.py\", line 1573, in precision_recall_fscore_support\n",
      "    labels = _check_set_wise_labels(y_true, y_pred, average, labels, pos_label)\n",
      "  File \"/opt/conda/lib/python3.10/site-packages/sklearn/metrics/_classification.py\", line 1391, in _check_set_wise_labels\n",
      "    raise ValueError(\n",
      "ValueError: Target is multiclass but average='binary'. Please choose another average setting, one of [None, 'micro', 'macro', 'weighted'].\n",
      "\n",
      "  warnings.warn(\n",
      "/opt/conda/lib/python3.10/site-packages/sklearn/model_selection/_validation.py:778: UserWarning: Scoring failed. The score on this train-test partition for these parameters will be set to nan. Details: \n",
      "Traceback (most recent call last):\n",
      "  File \"/opt/conda/lib/python3.10/site-packages/sklearn/model_selection/_validation.py\", line 767, in _score\n",
      "    scores = scorer(estimator, X_test, y_test)\n",
      "  File \"/opt/conda/lib/python3.10/site-packages/sklearn/metrics/_scorer.py\", line 234, in __call__\n",
      "    return self._score(\n",
      "  File \"/opt/conda/lib/python3.10/site-packages/sklearn/metrics/_scorer.py\", line 282, in _score\n",
      "    return self._sign * self._score_func(y_true, y_pred, **self._kwargs)\n",
      "  File \"/opt/conda/lib/python3.10/site-packages/sklearn/metrics/_classification.py\", line 1146, in f1_score\n",
      "    return fbeta_score(\n",
      "  File \"/opt/conda/lib/python3.10/site-packages/sklearn/metrics/_classification.py\", line 1287, in fbeta_score\n",
      "    _, _, f, _ = precision_recall_fscore_support(\n",
      "  File \"/opt/conda/lib/python3.10/site-packages/sklearn/metrics/_classification.py\", line 1573, in precision_recall_fscore_support\n",
      "    labels = _check_set_wise_labels(y_true, y_pred, average, labels, pos_label)\n",
      "  File \"/opt/conda/lib/python3.10/site-packages/sklearn/metrics/_classification.py\", line 1391, in _check_set_wise_labels\n",
      "    raise ValueError(\n",
      "ValueError: Target is multiclass but average='binary'. Please choose another average setting, one of [None, 'micro', 'macro', 'weighted'].\n",
      "\n",
      "  warnings.warn(\n",
      "/opt/conda/lib/python3.10/site-packages/sklearn/model_selection/_validation.py:778: UserWarning: Scoring failed. The score on this train-test partition for these parameters will be set to nan. Details: \n",
      "Traceback (most recent call last):\n",
      "  File \"/opt/conda/lib/python3.10/site-packages/sklearn/model_selection/_validation.py\", line 767, in _score\n",
      "    scores = scorer(estimator, X_test, y_test)\n",
      "  File \"/opt/conda/lib/python3.10/site-packages/sklearn/metrics/_scorer.py\", line 234, in __call__\n",
      "    return self._score(\n",
      "  File \"/opt/conda/lib/python3.10/site-packages/sklearn/metrics/_scorer.py\", line 282, in _score\n",
      "    return self._sign * self._score_func(y_true, y_pred, **self._kwargs)\n",
      "  File \"/opt/conda/lib/python3.10/site-packages/sklearn/metrics/_classification.py\", line 1146, in f1_score\n",
      "    return fbeta_score(\n",
      "  File \"/opt/conda/lib/python3.10/site-packages/sklearn/metrics/_classification.py\", line 1287, in fbeta_score\n",
      "    _, _, f, _ = precision_recall_fscore_support(\n",
      "  File \"/opt/conda/lib/python3.10/site-packages/sklearn/metrics/_classification.py\", line 1573, in precision_recall_fscore_support\n",
      "    labels = _check_set_wise_labels(y_true, y_pred, average, labels, pos_label)\n",
      "  File \"/opt/conda/lib/python3.10/site-packages/sklearn/metrics/_classification.py\", line 1391, in _check_set_wise_labels\n",
      "    raise ValueError(\n",
      "ValueError: Target is multiclass but average='binary'. Please choose another average setting, one of [None, 'micro', 'macro', 'weighted'].\n",
      "\n",
      "  warnings.warn(\n",
      "/opt/conda/lib/python3.10/site-packages/sklearn/model_selection/_validation.py:778: UserWarning: Scoring failed. The score on this train-test partition for these parameters will be set to nan. Details: \n",
      "Traceback (most recent call last):\n",
      "  File \"/opt/conda/lib/python3.10/site-packages/sklearn/model_selection/_validation.py\", line 767, in _score\n",
      "    scores = scorer(estimator, X_test, y_test)\n",
      "  File \"/opt/conda/lib/python3.10/site-packages/sklearn/metrics/_scorer.py\", line 234, in __call__\n",
      "    return self._score(\n",
      "  File \"/opt/conda/lib/python3.10/site-packages/sklearn/metrics/_scorer.py\", line 282, in _score\n",
      "    return self._sign * self._score_func(y_true, y_pred, **self._kwargs)\n",
      "  File \"/opt/conda/lib/python3.10/site-packages/sklearn/metrics/_classification.py\", line 1146, in f1_score\n",
      "    return fbeta_score(\n",
      "  File \"/opt/conda/lib/python3.10/site-packages/sklearn/metrics/_classification.py\", line 1287, in fbeta_score\n",
      "    _, _, f, _ = precision_recall_fscore_support(\n",
      "  File \"/opt/conda/lib/python3.10/site-packages/sklearn/metrics/_classification.py\", line 1573, in precision_recall_fscore_support\n",
      "    labels = _check_set_wise_labels(y_true, y_pred, average, labels, pos_label)\n",
      "  File \"/opt/conda/lib/python3.10/site-packages/sklearn/metrics/_classification.py\", line 1391, in _check_set_wise_labels\n",
      "    raise ValueError(\n",
      "ValueError: Target is multiclass but average='binary'. Please choose another average setting, one of [None, 'micro', 'macro', 'weighted'].\n",
      "\n",
      "  warnings.warn(\n",
      "/opt/conda/lib/python3.10/site-packages/sklearn/model_selection/_validation.py:778: UserWarning: Scoring failed. The score on this train-test partition for these parameters will be set to nan. Details: \n",
      "Traceback (most recent call last):\n",
      "  File \"/opt/conda/lib/python3.10/site-packages/sklearn/model_selection/_validation.py\", line 767, in _score\n",
      "    scores = scorer(estimator, X_test, y_test)\n",
      "  File \"/opt/conda/lib/python3.10/site-packages/sklearn/metrics/_scorer.py\", line 234, in __call__\n",
      "    return self._score(\n",
      "  File \"/opt/conda/lib/python3.10/site-packages/sklearn/metrics/_scorer.py\", line 282, in _score\n",
      "    return self._sign * self._score_func(y_true, y_pred, **self._kwargs)\n",
      "  File \"/opt/conda/lib/python3.10/site-packages/sklearn/metrics/_classification.py\", line 1146, in f1_score\n",
      "    return fbeta_score(\n",
      "  File \"/opt/conda/lib/python3.10/site-packages/sklearn/metrics/_classification.py\", line 1287, in fbeta_score\n",
      "    _, _, f, _ = precision_recall_fscore_support(\n",
      "  File \"/opt/conda/lib/python3.10/site-packages/sklearn/metrics/_classification.py\", line 1573, in precision_recall_fscore_support\n",
      "    labels = _check_set_wise_labels(y_true, y_pred, average, labels, pos_label)\n",
      "  File \"/opt/conda/lib/python3.10/site-packages/sklearn/metrics/_classification.py\", line 1391, in _check_set_wise_labels\n",
      "    raise ValueError(\n",
      "ValueError: Target is multiclass but average='binary'. Please choose another average setting, one of [None, 'micro', 'macro', 'weighted'].\n",
      "\n",
      "  warnings.warn(\n",
      "/opt/conda/lib/python3.10/site-packages/sklearn/model_selection/_validation.py:778: UserWarning: Scoring failed. The score on this train-test partition for these parameters will be set to nan. Details: \n",
      "Traceback (most recent call last):\n",
      "  File \"/opt/conda/lib/python3.10/site-packages/sklearn/model_selection/_validation.py\", line 767, in _score\n",
      "    scores = scorer(estimator, X_test, y_test)\n",
      "  File \"/opt/conda/lib/python3.10/site-packages/sklearn/metrics/_scorer.py\", line 234, in __call__\n",
      "    return self._score(\n",
      "  File \"/opt/conda/lib/python3.10/site-packages/sklearn/metrics/_scorer.py\", line 282, in _score\n",
      "    return self._sign * self._score_func(y_true, y_pred, **self._kwargs)\n",
      "  File \"/opt/conda/lib/python3.10/site-packages/sklearn/metrics/_classification.py\", line 1146, in f1_score\n",
      "    return fbeta_score(\n",
      "  File \"/opt/conda/lib/python3.10/site-packages/sklearn/metrics/_classification.py\", line 1287, in fbeta_score\n",
      "    _, _, f, _ = precision_recall_fscore_support(\n",
      "  File \"/opt/conda/lib/python3.10/site-packages/sklearn/metrics/_classification.py\", line 1573, in precision_recall_fscore_support\n",
      "    labels = _check_set_wise_labels(y_true, y_pred, average, labels, pos_label)\n",
      "  File \"/opt/conda/lib/python3.10/site-packages/sklearn/metrics/_classification.py\", line 1391, in _check_set_wise_labels\n",
      "    raise ValueError(\n",
      "ValueError: Target is multiclass but average='binary'. Please choose another average setting, one of [None, 'micro', 'macro', 'weighted'].\n",
      "\n",
      "  warnings.warn(\n",
      "/opt/conda/lib/python3.10/site-packages/sklearn/model_selection/_validation.py:778: UserWarning: Scoring failed. The score on this train-test partition for these parameters will be set to nan. Details: \n",
      "Traceback (most recent call last):\n",
      "  File \"/opt/conda/lib/python3.10/site-packages/sklearn/model_selection/_validation.py\", line 767, in _score\n",
      "    scores = scorer(estimator, X_test, y_test)\n",
      "  File \"/opt/conda/lib/python3.10/site-packages/sklearn/metrics/_scorer.py\", line 234, in __call__\n",
      "    return self._score(\n",
      "  File \"/opt/conda/lib/python3.10/site-packages/sklearn/metrics/_scorer.py\", line 282, in _score\n",
      "    return self._sign * self._score_func(y_true, y_pred, **self._kwargs)\n",
      "  File \"/opt/conda/lib/python3.10/site-packages/sklearn/metrics/_classification.py\", line 1146, in f1_score\n",
      "    return fbeta_score(\n",
      "  File \"/opt/conda/lib/python3.10/site-packages/sklearn/metrics/_classification.py\", line 1287, in fbeta_score\n",
      "    _, _, f, _ = precision_recall_fscore_support(\n",
      "  File \"/opt/conda/lib/python3.10/site-packages/sklearn/metrics/_classification.py\", line 1573, in precision_recall_fscore_support\n",
      "    labels = _check_set_wise_labels(y_true, y_pred, average, labels, pos_label)\n",
      "  File \"/opt/conda/lib/python3.10/site-packages/sklearn/metrics/_classification.py\", line 1391, in _check_set_wise_labels\n",
      "    raise ValueError(\n",
      "ValueError: Target is multiclass but average='binary'. Please choose another average setting, one of [None, 'micro', 'macro', 'weighted'].\n",
      "\n",
      "  warnings.warn(\n",
      "/opt/conda/lib/python3.10/site-packages/sklearn/model_selection/_validation.py:778: UserWarning: Scoring failed. The score on this train-test partition for these parameters will be set to nan. Details: \n",
      "Traceback (most recent call last):\n",
      "  File \"/opt/conda/lib/python3.10/site-packages/sklearn/model_selection/_validation.py\", line 767, in _score\n",
      "    scores = scorer(estimator, X_test, y_test)\n",
      "  File \"/opt/conda/lib/python3.10/site-packages/sklearn/metrics/_scorer.py\", line 234, in __call__\n",
      "    return self._score(\n",
      "  File \"/opt/conda/lib/python3.10/site-packages/sklearn/metrics/_scorer.py\", line 282, in _score\n",
      "    return self._sign * self._score_func(y_true, y_pred, **self._kwargs)\n",
      "  File \"/opt/conda/lib/python3.10/site-packages/sklearn/metrics/_classification.py\", line 1146, in f1_score\n",
      "    return fbeta_score(\n",
      "  File \"/opt/conda/lib/python3.10/site-packages/sklearn/metrics/_classification.py\", line 1287, in fbeta_score\n",
      "    _, _, f, _ = precision_recall_fscore_support(\n",
      "  File \"/opt/conda/lib/python3.10/site-packages/sklearn/metrics/_classification.py\", line 1573, in precision_recall_fscore_support\n",
      "    labels = _check_set_wise_labels(y_true, y_pred, average, labels, pos_label)\n",
      "  File \"/opt/conda/lib/python3.10/site-packages/sklearn/metrics/_classification.py\", line 1391, in _check_set_wise_labels\n",
      "    raise ValueError(\n",
      "ValueError: Target is multiclass but average='binary'. Please choose another average setting, one of [None, 'micro', 'macro', 'weighted'].\n",
      "\n",
      "  warnings.warn(\n",
      "/opt/conda/lib/python3.10/site-packages/sklearn/model_selection/_validation.py:778: UserWarning: Scoring failed. The score on this train-test partition for these parameters will be set to nan. Details: \n",
      "Traceback (most recent call last):\n",
      "  File \"/opt/conda/lib/python3.10/site-packages/sklearn/model_selection/_validation.py\", line 767, in _score\n",
      "    scores = scorer(estimator, X_test, y_test)\n",
      "  File \"/opt/conda/lib/python3.10/site-packages/sklearn/metrics/_scorer.py\", line 234, in __call__\n",
      "    return self._score(\n",
      "  File \"/opt/conda/lib/python3.10/site-packages/sklearn/metrics/_scorer.py\", line 282, in _score\n",
      "    return self._sign * self._score_func(y_true, y_pred, **self._kwargs)\n",
      "  File \"/opt/conda/lib/python3.10/site-packages/sklearn/metrics/_classification.py\", line 1146, in f1_score\n",
      "    return fbeta_score(\n",
      "  File \"/opt/conda/lib/python3.10/site-packages/sklearn/metrics/_classification.py\", line 1287, in fbeta_score\n",
      "    _, _, f, _ = precision_recall_fscore_support(\n",
      "  File \"/opt/conda/lib/python3.10/site-packages/sklearn/metrics/_classification.py\", line 1573, in precision_recall_fscore_support\n",
      "    labels = _check_set_wise_labels(y_true, y_pred, average, labels, pos_label)\n",
      "  File \"/opt/conda/lib/python3.10/site-packages/sklearn/metrics/_classification.py\", line 1391, in _check_set_wise_labels\n",
      "    raise ValueError(\n",
      "ValueError: Target is multiclass but average='binary'. Please choose another average setting, one of [None, 'micro', 'macro', 'weighted'].\n",
      "\n",
      "  warnings.warn(\n",
      "/opt/conda/lib/python3.10/site-packages/sklearn/model_selection/_validation.py:778: UserWarning: Scoring failed. The score on this train-test partition for these parameters will be set to nan. Details: \n",
      "Traceback (most recent call last):\n",
      "  File \"/opt/conda/lib/python3.10/site-packages/sklearn/model_selection/_validation.py\", line 767, in _score\n",
      "    scores = scorer(estimator, X_test, y_test)\n",
      "  File \"/opt/conda/lib/python3.10/site-packages/sklearn/metrics/_scorer.py\", line 234, in __call__\n",
      "    return self._score(\n",
      "  File \"/opt/conda/lib/python3.10/site-packages/sklearn/metrics/_scorer.py\", line 282, in _score\n",
      "    return self._sign * self._score_func(y_true, y_pred, **self._kwargs)\n",
      "  File \"/opt/conda/lib/python3.10/site-packages/sklearn/metrics/_classification.py\", line 1146, in f1_score\n",
      "    return fbeta_score(\n",
      "  File \"/opt/conda/lib/python3.10/site-packages/sklearn/metrics/_classification.py\", line 1287, in fbeta_score\n",
      "    _, _, f, _ = precision_recall_fscore_support(\n",
      "  File \"/opt/conda/lib/python3.10/site-packages/sklearn/metrics/_classification.py\", line 1573, in precision_recall_fscore_support\n",
      "    labels = _check_set_wise_labels(y_true, y_pred, average, labels, pos_label)\n",
      "  File \"/opt/conda/lib/python3.10/site-packages/sklearn/metrics/_classification.py\", line 1391, in _check_set_wise_labels\n",
      "    raise ValueError(\n",
      "ValueError: Target is multiclass but average='binary'. Please choose another average setting, one of [None, 'micro', 'macro', 'weighted'].\n",
      "\n",
      "  warnings.warn(\n",
      "/opt/conda/lib/python3.10/site-packages/sklearn/model_selection/_validation.py:778: UserWarning: Scoring failed. The score on this train-test partition for these parameters will be set to nan. Details: \n",
      "Traceback (most recent call last):\n",
      "  File \"/opt/conda/lib/python3.10/site-packages/sklearn/model_selection/_validation.py\", line 767, in _score\n",
      "    scores = scorer(estimator, X_test, y_test)\n",
      "  File \"/opt/conda/lib/python3.10/site-packages/sklearn/metrics/_scorer.py\", line 234, in __call__\n",
      "    return self._score(\n",
      "  File \"/opt/conda/lib/python3.10/site-packages/sklearn/metrics/_scorer.py\", line 282, in _score\n",
      "    return self._sign * self._score_func(y_true, y_pred, **self._kwargs)\n",
      "  File \"/opt/conda/lib/python3.10/site-packages/sklearn/metrics/_classification.py\", line 1146, in f1_score\n",
      "    return fbeta_score(\n",
      "  File \"/opt/conda/lib/python3.10/site-packages/sklearn/metrics/_classification.py\", line 1287, in fbeta_score\n",
      "    _, _, f, _ = precision_recall_fscore_support(\n",
      "  File \"/opt/conda/lib/python3.10/site-packages/sklearn/metrics/_classification.py\", line 1573, in precision_recall_fscore_support\n",
      "    labels = _check_set_wise_labels(y_true, y_pred, average, labels, pos_label)\n",
      "  File \"/opt/conda/lib/python3.10/site-packages/sklearn/metrics/_classification.py\", line 1391, in _check_set_wise_labels\n",
      "    raise ValueError(\n",
      "ValueError: Target is multiclass but average='binary'. Please choose another average setting, one of [None, 'micro', 'macro', 'weighted'].\n",
      "\n",
      "  warnings.warn(\n",
      "/opt/conda/lib/python3.10/site-packages/sklearn/model_selection/_validation.py:778: UserWarning: Scoring failed. The score on this train-test partition for these parameters will be set to nan. Details: \n",
      "Traceback (most recent call last):\n",
      "  File \"/opt/conda/lib/python3.10/site-packages/sklearn/model_selection/_validation.py\", line 767, in _score\n",
      "    scores = scorer(estimator, X_test, y_test)\n",
      "  File \"/opt/conda/lib/python3.10/site-packages/sklearn/metrics/_scorer.py\", line 234, in __call__\n",
      "    return self._score(\n",
      "  File \"/opt/conda/lib/python3.10/site-packages/sklearn/metrics/_scorer.py\", line 282, in _score\n",
      "    return self._sign * self._score_func(y_true, y_pred, **self._kwargs)\n",
      "  File \"/opt/conda/lib/python3.10/site-packages/sklearn/metrics/_classification.py\", line 1146, in f1_score\n",
      "    return fbeta_score(\n",
      "  File \"/opt/conda/lib/python3.10/site-packages/sklearn/metrics/_classification.py\", line 1287, in fbeta_score\n",
      "    _, _, f, _ = precision_recall_fscore_support(\n",
      "  File \"/opt/conda/lib/python3.10/site-packages/sklearn/metrics/_classification.py\", line 1573, in precision_recall_fscore_support\n",
      "    labels = _check_set_wise_labels(y_true, y_pred, average, labels, pos_label)\n",
      "  File \"/opt/conda/lib/python3.10/site-packages/sklearn/metrics/_classification.py\", line 1391, in _check_set_wise_labels\n",
      "    raise ValueError(\n",
      "ValueError: Target is multiclass but average='binary'. Please choose another average setting, one of [None, 'micro', 'macro', 'weighted'].\n",
      "\n",
      "  warnings.warn(\n",
      "/opt/conda/lib/python3.10/site-packages/sklearn/model_selection/_validation.py:778: UserWarning: Scoring failed. The score on this train-test partition for these parameters will be set to nan. Details: \n",
      "Traceback (most recent call last):\n",
      "  File \"/opt/conda/lib/python3.10/site-packages/sklearn/model_selection/_validation.py\", line 767, in _score\n",
      "    scores = scorer(estimator, X_test, y_test)\n",
      "  File \"/opt/conda/lib/python3.10/site-packages/sklearn/metrics/_scorer.py\", line 234, in __call__\n",
      "    return self._score(\n",
      "  File \"/opt/conda/lib/python3.10/site-packages/sklearn/metrics/_scorer.py\", line 282, in _score\n",
      "    return self._sign * self._score_func(y_true, y_pred, **self._kwargs)\n",
      "  File \"/opt/conda/lib/python3.10/site-packages/sklearn/metrics/_classification.py\", line 1146, in f1_score\n",
      "    return fbeta_score(\n",
      "  File \"/opt/conda/lib/python3.10/site-packages/sklearn/metrics/_classification.py\", line 1287, in fbeta_score\n",
      "    _, _, f, _ = precision_recall_fscore_support(\n",
      "  File \"/opt/conda/lib/python3.10/site-packages/sklearn/metrics/_classification.py\", line 1573, in precision_recall_fscore_support\n",
      "    labels = _check_set_wise_labels(y_true, y_pred, average, labels, pos_label)\n",
      "  File \"/opt/conda/lib/python3.10/site-packages/sklearn/metrics/_classification.py\", line 1391, in _check_set_wise_labels\n",
      "    raise ValueError(\n",
      "ValueError: Target is multiclass but average='binary'. Please choose another average setting, one of [None, 'micro', 'macro', 'weighted'].\n",
      "\n",
      "  warnings.warn(\n",
      "/opt/conda/lib/python3.10/site-packages/sklearn/model_selection/_validation.py:778: UserWarning: Scoring failed. The score on this train-test partition for these parameters will be set to nan. Details: \n",
      "Traceback (most recent call last):\n",
      "  File \"/opt/conda/lib/python3.10/site-packages/sklearn/model_selection/_validation.py\", line 767, in _score\n",
      "    scores = scorer(estimator, X_test, y_test)\n",
      "  File \"/opt/conda/lib/python3.10/site-packages/sklearn/metrics/_scorer.py\", line 234, in __call__\n",
      "    return self._score(\n",
      "  File \"/opt/conda/lib/python3.10/site-packages/sklearn/metrics/_scorer.py\", line 282, in _score\n",
      "    return self._sign * self._score_func(y_true, y_pred, **self._kwargs)\n",
      "  File \"/opt/conda/lib/python3.10/site-packages/sklearn/metrics/_classification.py\", line 1146, in f1_score\n",
      "    return fbeta_score(\n",
      "  File \"/opt/conda/lib/python3.10/site-packages/sklearn/metrics/_classification.py\", line 1287, in fbeta_score\n",
      "    _, _, f, _ = precision_recall_fscore_support(\n",
      "  File \"/opt/conda/lib/python3.10/site-packages/sklearn/metrics/_classification.py\", line 1573, in precision_recall_fscore_support\n",
      "    labels = _check_set_wise_labels(y_true, y_pred, average, labels, pos_label)\n",
      "  File \"/opt/conda/lib/python3.10/site-packages/sklearn/metrics/_classification.py\", line 1391, in _check_set_wise_labels\n",
      "    raise ValueError(\n",
      "ValueError: Target is multiclass but average='binary'. Please choose another average setting, one of [None, 'micro', 'macro', 'weighted'].\n",
      "\n",
      "  warnings.warn(\n",
      "/opt/conda/lib/python3.10/site-packages/sklearn/model_selection/_validation.py:778: UserWarning: Scoring failed. The score on this train-test partition for these parameters will be set to nan. Details: \n",
      "Traceback (most recent call last):\n",
      "  File \"/opt/conda/lib/python3.10/site-packages/sklearn/model_selection/_validation.py\", line 767, in _score\n",
      "    scores = scorer(estimator, X_test, y_test)\n",
      "  File \"/opt/conda/lib/python3.10/site-packages/sklearn/metrics/_scorer.py\", line 234, in __call__\n",
      "    return self._score(\n",
      "  File \"/opt/conda/lib/python3.10/site-packages/sklearn/metrics/_scorer.py\", line 282, in _score\n",
      "    return self._sign * self._score_func(y_true, y_pred, **self._kwargs)\n",
      "  File \"/opt/conda/lib/python3.10/site-packages/sklearn/metrics/_classification.py\", line 1146, in f1_score\n",
      "    return fbeta_score(\n",
      "  File \"/opt/conda/lib/python3.10/site-packages/sklearn/metrics/_classification.py\", line 1287, in fbeta_score\n",
      "    _, _, f, _ = precision_recall_fscore_support(\n",
      "  File \"/opt/conda/lib/python3.10/site-packages/sklearn/metrics/_classification.py\", line 1573, in precision_recall_fscore_support\n",
      "    labels = _check_set_wise_labels(y_true, y_pred, average, labels, pos_label)\n",
      "  File \"/opt/conda/lib/python3.10/site-packages/sklearn/metrics/_classification.py\", line 1391, in _check_set_wise_labels\n",
      "    raise ValueError(\n",
      "ValueError: Target is multiclass but average='binary'. Please choose another average setting, one of [None, 'micro', 'macro', 'weighted'].\n",
      "\n",
      "  warnings.warn(\n",
      "/opt/conda/lib/python3.10/site-packages/sklearn/model_selection/_validation.py:778: UserWarning: Scoring failed. The score on this train-test partition for these parameters will be set to nan. Details: \n",
      "Traceback (most recent call last):\n",
      "  File \"/opt/conda/lib/python3.10/site-packages/sklearn/model_selection/_validation.py\", line 767, in _score\n",
      "    scores = scorer(estimator, X_test, y_test)\n",
      "  File \"/opt/conda/lib/python3.10/site-packages/sklearn/metrics/_scorer.py\", line 234, in __call__\n",
      "    return self._score(\n",
      "  File \"/opt/conda/lib/python3.10/site-packages/sklearn/metrics/_scorer.py\", line 282, in _score\n",
      "    return self._sign * self._score_func(y_true, y_pred, **self._kwargs)\n",
      "  File \"/opt/conda/lib/python3.10/site-packages/sklearn/metrics/_classification.py\", line 1146, in f1_score\n",
      "    return fbeta_score(\n",
      "  File \"/opt/conda/lib/python3.10/site-packages/sklearn/metrics/_classification.py\", line 1287, in fbeta_score\n",
      "    _, _, f, _ = precision_recall_fscore_support(\n",
      "  File \"/opt/conda/lib/python3.10/site-packages/sklearn/metrics/_classification.py\", line 1573, in precision_recall_fscore_support\n",
      "    labels = _check_set_wise_labels(y_true, y_pred, average, labels, pos_label)\n",
      "  File \"/opt/conda/lib/python3.10/site-packages/sklearn/metrics/_classification.py\", line 1391, in _check_set_wise_labels\n",
      "    raise ValueError(\n",
      "ValueError: Target is multiclass but average='binary'. Please choose another average setting, one of [None, 'micro', 'macro', 'weighted'].\n",
      "\n",
      "  warnings.warn(\n",
      "/opt/conda/lib/python3.10/site-packages/sklearn/model_selection/_validation.py:778: UserWarning: Scoring failed. The score on this train-test partition for these parameters will be set to nan. Details: \n",
      "Traceback (most recent call last):\n",
      "  File \"/opt/conda/lib/python3.10/site-packages/sklearn/model_selection/_validation.py\", line 767, in _score\n",
      "    scores = scorer(estimator, X_test, y_test)\n",
      "  File \"/opt/conda/lib/python3.10/site-packages/sklearn/metrics/_scorer.py\", line 234, in __call__\n",
      "    return self._score(\n",
      "  File \"/opt/conda/lib/python3.10/site-packages/sklearn/metrics/_scorer.py\", line 282, in _score\n",
      "    return self._sign * self._score_func(y_true, y_pred, **self._kwargs)\n",
      "  File \"/opt/conda/lib/python3.10/site-packages/sklearn/metrics/_classification.py\", line 1146, in f1_score\n",
      "    return fbeta_score(\n",
      "  File \"/opt/conda/lib/python3.10/site-packages/sklearn/metrics/_classification.py\", line 1287, in fbeta_score\n",
      "    _, _, f, _ = precision_recall_fscore_support(\n",
      "  File \"/opt/conda/lib/python3.10/site-packages/sklearn/metrics/_classification.py\", line 1573, in precision_recall_fscore_support\n",
      "    labels = _check_set_wise_labels(y_true, y_pred, average, labels, pos_label)\n",
      "  File \"/opt/conda/lib/python3.10/site-packages/sklearn/metrics/_classification.py\", line 1391, in _check_set_wise_labels\n",
      "    raise ValueError(\n",
      "ValueError: Target is multiclass but average='binary'. Please choose another average setting, one of [None, 'micro', 'macro', 'weighted'].\n",
      "\n",
      "  warnings.warn(\n",
      "/opt/conda/lib/python3.10/site-packages/sklearn/model_selection/_validation.py:778: UserWarning: Scoring failed. The score on this train-test partition for these parameters will be set to nan. Details: \n",
      "Traceback (most recent call last):\n",
      "  File \"/opt/conda/lib/python3.10/site-packages/sklearn/model_selection/_validation.py\", line 767, in _score\n",
      "    scores = scorer(estimator, X_test, y_test)\n",
      "  File \"/opt/conda/lib/python3.10/site-packages/sklearn/metrics/_scorer.py\", line 234, in __call__\n",
      "    return self._score(\n",
      "  File \"/opt/conda/lib/python3.10/site-packages/sklearn/metrics/_scorer.py\", line 282, in _score\n",
      "    return self._sign * self._score_func(y_true, y_pred, **self._kwargs)\n",
      "  File \"/opt/conda/lib/python3.10/site-packages/sklearn/metrics/_classification.py\", line 1146, in f1_score\n",
      "    return fbeta_score(\n",
      "  File \"/opt/conda/lib/python3.10/site-packages/sklearn/metrics/_classification.py\", line 1287, in fbeta_score\n",
      "    _, _, f, _ = precision_recall_fscore_support(\n",
      "  File \"/opt/conda/lib/python3.10/site-packages/sklearn/metrics/_classification.py\", line 1573, in precision_recall_fscore_support\n",
      "    labels = _check_set_wise_labels(y_true, y_pred, average, labels, pos_label)\n",
      "  File \"/opt/conda/lib/python3.10/site-packages/sklearn/metrics/_classification.py\", line 1391, in _check_set_wise_labels\n",
      "    raise ValueError(\n",
      "ValueError: Target is multiclass but average='binary'. Please choose another average setting, one of [None, 'micro', 'macro', 'weighted'].\n",
      "\n",
      "  warnings.warn(\n",
      "/opt/conda/lib/python3.10/site-packages/sklearn/model_selection/_validation.py:778: UserWarning: Scoring failed. The score on this train-test partition for these parameters will be set to nan. Details: \n",
      "Traceback (most recent call last):\n",
      "  File \"/opt/conda/lib/python3.10/site-packages/sklearn/model_selection/_validation.py\", line 767, in _score\n",
      "    scores = scorer(estimator, X_test, y_test)\n",
      "  File \"/opt/conda/lib/python3.10/site-packages/sklearn/metrics/_scorer.py\", line 234, in __call__\n",
      "    return self._score(\n",
      "  File \"/opt/conda/lib/python3.10/site-packages/sklearn/metrics/_scorer.py\", line 282, in _score\n",
      "    return self._sign * self._score_func(y_true, y_pred, **self._kwargs)\n",
      "  File \"/opt/conda/lib/python3.10/site-packages/sklearn/metrics/_classification.py\", line 1146, in f1_score\n",
      "    return fbeta_score(\n",
      "  File \"/opt/conda/lib/python3.10/site-packages/sklearn/metrics/_classification.py\", line 1287, in fbeta_score\n",
      "    _, _, f, _ = precision_recall_fscore_support(\n",
      "  File \"/opt/conda/lib/python3.10/site-packages/sklearn/metrics/_classification.py\", line 1573, in precision_recall_fscore_support\n",
      "    labels = _check_set_wise_labels(y_true, y_pred, average, labels, pos_label)\n",
      "  File \"/opt/conda/lib/python3.10/site-packages/sklearn/metrics/_classification.py\", line 1391, in _check_set_wise_labels\n",
      "    raise ValueError(\n",
      "ValueError: Target is multiclass but average='binary'. Please choose another average setting, one of [None, 'micro', 'macro', 'weighted'].\n",
      "\n",
      "  warnings.warn(\n",
      "/opt/conda/lib/python3.10/site-packages/sklearn/model_selection/_validation.py:778: UserWarning: Scoring failed. The score on this train-test partition for these parameters will be set to nan. Details: \n",
      "Traceback (most recent call last):\n",
      "  File \"/opt/conda/lib/python3.10/site-packages/sklearn/model_selection/_validation.py\", line 767, in _score\n",
      "    scores = scorer(estimator, X_test, y_test)\n",
      "  File \"/opt/conda/lib/python3.10/site-packages/sklearn/metrics/_scorer.py\", line 234, in __call__\n",
      "    return self._score(\n",
      "  File \"/opt/conda/lib/python3.10/site-packages/sklearn/metrics/_scorer.py\", line 282, in _score\n",
      "    return self._sign * self._score_func(y_true, y_pred, **self._kwargs)\n",
      "  File \"/opt/conda/lib/python3.10/site-packages/sklearn/metrics/_classification.py\", line 1146, in f1_score\n",
      "    return fbeta_score(\n",
      "  File \"/opt/conda/lib/python3.10/site-packages/sklearn/metrics/_classification.py\", line 1287, in fbeta_score\n",
      "    _, _, f, _ = precision_recall_fscore_support(\n",
      "  File \"/opt/conda/lib/python3.10/site-packages/sklearn/metrics/_classification.py\", line 1573, in precision_recall_fscore_support\n",
      "    labels = _check_set_wise_labels(y_true, y_pred, average, labels, pos_label)\n",
      "  File \"/opt/conda/lib/python3.10/site-packages/sklearn/metrics/_classification.py\", line 1391, in _check_set_wise_labels\n",
      "    raise ValueError(\n",
      "ValueError: Target is multiclass but average='binary'. Please choose another average setting, one of [None, 'micro', 'macro', 'weighted'].\n",
      "\n",
      "  warnings.warn(\n"
     ]
    },
    {
     "name": "stdout",
     "output_type": "stream",
     "text": [
      "Best Parameters: {'learning_rate': 0.15, 'max_depth': 5, 'subsample': 0.7}\n"
     ]
    }
   ],
   "source": [
    "## Classifier\n",
    "clf=XGBClassifier(n_estimators=500,objective='multi:softmax',tree_method ='gpu_hist',gpu_id=0,random_state=123)  ## classifier\n",
    "## Parameters for grid search\n",
    "parameters = {'max_depth':[5,7,9],  ## search for maxdepth\n",
    "              'learning_rate':[0.15,0.3,0.5,1,],  ##search for learning rate\n",
    "              'subsample':[0.7,0.8,0.9]  ## Subsample\n",
    "             }  ## search for max depth \n",
    "grid_search_main = GridSearchCV(clf, parameters, cv=3,scoring='f1',n_jobs=-1)  # Use 3-fold cross-validation\n",
    "grid_search_main.fit(X_train, y_train) ## fitting grid\n",
    "# Get the best parameter values and corresponding score\n",
    "print('Best Parameters:',grid_search_main.best_params_)"
   ]
  },
  {
   "cell_type": "code",
   "execution_count": 27,
   "metadata": {
    "execution": {
     "iopub.execute_input": "2023-06-10T19:40:10.935523Z",
     "iopub.status.busy": "2023-06-10T19:40:10.935117Z",
     "iopub.status.idle": "2023-06-10T19:41:51.781081Z",
     "shell.execute_reply": "2023-06-10T19:41:51.780022Z",
     "shell.execute_reply.started": "2023-06-10T19:40:10.935485Z"
    }
   },
   "outputs": [
    {
     "name": "stdout",
     "output_type": "stream",
     "text": [
      "Validation Accuracy : 0.9448440370326366\n",
      "Train Accuracy : 0.9643359806976978\n"
     ]
    }
   ],
   "source": [
    "# Predict on train and validation set\n",
    "y_train_pred = grid_search_main.predict(X_train)\n",
    "y_val_pred = grid_search_main.predict(X_val)\n",
    "## Accuracy\n",
    "print('Validation Accuracy :',accuracy_score(y_val, y_val_pred))\n",
    "print('Train Accuracy :',accuracy_score(y_train, y_train_pred))"
   ]
  },
  {
   "cell_type": "code",
   "execution_count": 28,
   "metadata": {
    "execution": {
     "iopub.execute_input": "2023-06-10T19:42:54.210620Z",
     "iopub.status.busy": "2023-06-10T19:42:54.209918Z",
     "iopub.status.idle": "2023-06-10T19:42:54.647305Z",
     "shell.execute_reply": "2023-06-10T19:42:54.646158Z",
     "shell.execute_reply.started": "2023-06-10T19:42:54.210585Z"
    }
   },
   "outputs": [
    {
     "name": "stdout",
     "output_type": "stream",
     "text": [
      "              precision    recall  f1-score   support\n",
      "\n",
      "           0       0.98      0.95      0.96    157165\n",
      "           1       0.89      0.96      0.92      5511\n",
      "           2       0.85      0.95      0.89      5618\n",
      "           3       0.87      0.97      0.92      5616\n",
      "           4       0.86      0.93      0.89      5569\n",
      "           5       0.92      0.88      0.90      5492\n",
      "           6       0.89      0.94      0.92      5175\n",
      "           7       0.87      0.96      0.91      5296\n",
      "           8       0.88      0.93      0.91      5235\n",
      "           9       0.88      0.96      0.92      5429\n",
      "          10       0.86      0.95      0.90      5440\n",
      "          11       0.86      0.94      0.90      5535\n",
      "          12       0.83      0.80      0.82      1753\n",
      "\n",
      "    accuracy                           0.94    218834\n",
      "   macro avg       0.88      0.93      0.90    218834\n",
      "weighted avg       0.95      0.94      0.95    218834\n",
      "\n"
     ]
    }
   ],
   "source": [
    "print(classification_report(y_val, y_val_pred))  ##Classification report"
   ]
  },
  {
   "cell_type": "markdown",
   "metadata": {},
   "source": [
    "## Test data prediction"
   ]
  },
  {
   "cell_type": "code",
   "execution_count": 29,
   "metadata": {
    "execution": {
     "iopub.execute_input": "2023-06-10T19:43:30.219748Z",
     "iopub.status.busy": "2023-06-10T19:43:30.218848Z",
     "iopub.status.idle": "2023-06-10T19:43:41.314554Z",
     "shell.execute_reply": "2023-06-10T19:43:41.313411Z",
     "shell.execute_reply.started": "2023-06-10T19:43:30.219712Z"
    }
   },
   "outputs": [
    {
     "name": "stdout",
     "output_type": "stream",
     "text": [
      "              precision    recall  f1-score   support\n",
      "\n",
      "           0       0.98      0.95      0.96     87172\n",
      "           1       0.88      0.96      0.92      3076\n",
      "           2       0.84      0.95      0.90      3065\n",
      "           3       0.86      0.98      0.92      3141\n",
      "           4       0.85      0.94      0.89      3092\n",
      "           5       0.92      0.88      0.90      3072\n",
      "           6       0.89      0.95      0.92      2725\n",
      "           7       0.88      0.96      0.92      3046\n",
      "           8       0.88      0.94      0.91      2926\n",
      "           9       0.87      0.96      0.91      3105\n",
      "          10       0.86      0.95      0.90      3112\n",
      "          11       0.87      0.94      0.91      3054\n",
      "          12       0.83      0.80      0.81       989\n",
      "\n",
      "    accuracy                           0.94    121575\n",
      "   macro avg       0.88      0.94      0.90    121575\n",
      "weighted avg       0.95      0.94      0.95    121575\n",
      "\n"
     ]
    }
   ],
   "source": [
    "## Predictions and score\n",
    "y_test_pred = grid_search_main.predict(X_test)\n",
    "print(classification_report(y_test, y_test_pred))  ##Classification report"
   ]
  },
  {
   "cell_type": "code",
   "execution_count": 32,
   "metadata": {
    "execution": {
     "iopub.execute_input": "2023-06-10T19:45:03.502702Z",
     "iopub.status.busy": "2023-06-10T19:45:03.502152Z",
     "iopub.status.idle": "2023-06-10T19:45:04.861991Z",
     "shell.execute_reply": "2023-06-10T19:45:04.860897Z",
     "shell.execute_reply.started": "2023-06-10T19:45:03.502661Z"
    }
   },
   "outputs": [
    {
     "data": {
      "text/plain": [
       "<sklearn.metrics._plot.confusion_matrix.ConfusionMatrixDisplay at 0x7a0016862e90>"
      ]
     },
     "execution_count": 32,
     "metadata": {},
     "output_type": "execute_result"
    },
    {
     "data": {
      "image/png": "[encoded data removed]",
      "text/plain": [
       "<Figure size 1000x800 with 2 Axes>"
      ]
     },
     "metadata": {},
     "output_type": "display_data"
    }
   ],
   "source": [
    "## Confusion metric\n",
    "fig, ax = plt.subplots(figsize=(10,8))\n",
    "ConfusionMatrixDisplay.from_predictions(y_test, y_test_pred,ax=ax)"
   ]
  },
  {
   "cell_type": "markdown",
   "metadata": {},
   "source": [
    "After tunning parameters of the XG Boost model performance has increased from accuracy of 92 % to 96% and also train and validation accuracy of the model are close to each other which means our model is generalised."
   ]
  },
  {
   "cell_type": "markdown",
   "metadata": {},
   "source": [
    "# Approach 2: One VS Rest Classifier (Sklearn) \n",
    "Now i will build sklean one vs rest classifier. So for one vs rest classifier i am using base classifier as xgBoost and comming to data preparation i have converted the target variable as 13 different varibles one for each class (consider as one hot encoding) now i will treat each class as different target variable and build the one vs rest.\n",
    "\n",
    "**Evaluation metric:** I have used zero-one loss as the evaluation metric. The zero-one loss ranges from 0 to 100. If zero-one  loss is 0 then our accuracy is 100 % which means all the target variables are correctly classified, if zeo-one loss is 100% means our accuracy of the model is 0 % which means none of the sample are correctly classified."
   ]
  },
  {
   "cell_type": "code",
   "execution_count": 33,
   "metadata": {
    "execution": {
     "iopub.execute_input": "2023-06-10T19:45:17.153537Z",
     "iopub.status.busy": "2023-06-10T19:45:17.152847Z",
     "iopub.status.idle": "2023-06-10T19:45:17.238602Z",
     "shell.execute_reply": "2023-06-10T19:45:17.237449Z",
     "shell.execute_reply.started": "2023-06-10T19:45:17.153504Z"
    }
   },
   "outputs": [],
   "source": [
    "## Copying data\n",
    "data_dup = data.copy()"
   ]
  },
  {
   "cell_type": "code",
   "execution_count": 34,
   "metadata": {
    "execution": {
     "iopub.execute_input": "2023-06-10T19:45:19.895639Z",
     "iopub.status.busy": "2023-06-10T19:45:19.894976Z",
     "iopub.status.idle": "2023-06-10T19:45:19.932698Z",
     "shell.execute_reply": "2023-06-10T19:45:19.931707Z",
     "shell.execute_reply.started": "2023-06-10T19:45:19.895607Z"
    }
   },
   "outputs": [],
   "source": [
    "## converting data type\n",
    "data_dup['label'] = data_dup['label'].astype(object)"
   ]
  },
  {
   "cell_type": "code",
   "execution_count": 35,
   "metadata": {
    "execution": {
     "iopub.execute_input": "2023-06-10T19:45:22.787573Z",
     "iopub.status.busy": "2023-06-10T19:45:22.786857Z",
     "iopub.status.idle": "2023-06-10T19:45:23.214035Z",
     "shell.execute_reply": "2023-06-10T19:45:23.212995Z",
     "shell.execute_reply.started": "2023-06-10T19:45:22.787539Z"
    }
   },
   "outputs": [
    {
     "data": {
      "text/html": [
       "<div>\n",
       "<style scoped>\n",
       "    .dataframe tbody tr th:only-of-type {\n",
       "        vertical-align: middle;\n",
       "    }\n",
       "\n",
       "    .dataframe tbody tr th {\n",
       "        vertical-align: top;\n",
       "    }\n",
       "\n",
       "    .dataframe thead th {\n",
       "        text-align: right;\n",
       "    }\n",
       "</style>\n",
       "<table border=\"1\" class=\"dataframe\">\n",
       "  <thead>\n",
       "    <tr style=\"text-align: right;\">\n",
       "      <th></th>\n",
       "      <th>acc_chest_x</th>\n",
       "      <th>acc_chest_y</th>\n",
       "      <th>acc_chest_z</th>\n",
       "      <th>ecg_1</th>\n",
       "      <th>ecg_2</th>\n",
       "      <th>acc_ankel_x</th>\n",
       "      <th>acc_ankel_y</th>\n",
       "      <th>acc_ankel_z</th>\n",
       "      <th>gyro_ankel_x</th>\n",
       "      <th>gyro_ankel_y</th>\n",
       "      <th>...</th>\n",
       "      <th>label_3</th>\n",
       "      <th>label_4</th>\n",
       "      <th>label_5</th>\n",
       "      <th>label_6</th>\n",
       "      <th>label_7</th>\n",
       "      <th>label_8</th>\n",
       "      <th>label_9</th>\n",
       "      <th>label_10</th>\n",
       "      <th>label_11</th>\n",
       "      <th>label_12</th>\n",
       "    </tr>\n",
       "  </thead>\n",
       "  <tbody>\n",
       "    <tr>\n",
       "      <th>0</th>\n",
       "      <td>-9.8184</td>\n",
       "      <td>0.009971</td>\n",
       "      <td>0.29563</td>\n",
       "      <td>0.004186</td>\n",
       "      <td>0.004186</td>\n",
       "      <td>2.1849</td>\n",
       "      <td>-9.6967</td>\n",
       "      <td>0.63077</td>\n",
       "      <td>0.103900</td>\n",
       "      <td>-0.84053</td>\n",
       "      <td>...</td>\n",
       "      <td>0</td>\n",
       "      <td>0</td>\n",
       "      <td>0</td>\n",
       "      <td>0</td>\n",
       "      <td>0</td>\n",
       "      <td>0</td>\n",
       "      <td>0</td>\n",
       "      <td>0</td>\n",
       "      <td>0</td>\n",
       "      <td>0</td>\n",
       "    </tr>\n",
       "    <tr>\n",
       "      <th>1</th>\n",
       "      <td>-9.8489</td>\n",
       "      <td>0.524040</td>\n",
       "      <td>0.37348</td>\n",
       "      <td>0.004186</td>\n",
       "      <td>0.016745</td>\n",
       "      <td>2.3876</td>\n",
       "      <td>-9.5080</td>\n",
       "      <td>0.68389</td>\n",
       "      <td>0.085343</td>\n",
       "      <td>-0.83865</td>\n",
       "      <td>...</td>\n",
       "      <td>0</td>\n",
       "      <td>0</td>\n",
       "      <td>0</td>\n",
       "      <td>0</td>\n",
       "      <td>0</td>\n",
       "      <td>0</td>\n",
       "      <td>0</td>\n",
       "      <td>0</td>\n",
       "      <td>0</td>\n",
       "      <td>0</td>\n",
       "    </tr>\n",
       "    <tr>\n",
       "      <th>2</th>\n",
       "      <td>-9.6602</td>\n",
       "      <td>0.181850</td>\n",
       "      <td>0.43742</td>\n",
       "      <td>0.016745</td>\n",
       "      <td>0.037677</td>\n",
       "      <td>2.4086</td>\n",
       "      <td>-9.5674</td>\n",
       "      <td>0.68113</td>\n",
       "      <td>0.085343</td>\n",
       "      <td>-0.83865</td>\n",
       "      <td>...</td>\n",
       "      <td>0</td>\n",
       "      <td>0</td>\n",
       "      <td>0</td>\n",
       "      <td>0</td>\n",
       "      <td>0</td>\n",
       "      <td>0</td>\n",
       "      <td>0</td>\n",
       "      <td>0</td>\n",
       "      <td>0</td>\n",
       "      <td>0</td>\n",
       "    </tr>\n",
       "    <tr>\n",
       "      <th>3</th>\n",
       "      <td>-9.6507</td>\n",
       "      <td>0.214220</td>\n",
       "      <td>0.24033</td>\n",
       "      <td>0.079540</td>\n",
       "      <td>0.117220</td>\n",
       "      <td>2.1814</td>\n",
       "      <td>-9.4301</td>\n",
       "      <td>0.55031</td>\n",
       "      <td>0.085343</td>\n",
       "      <td>-0.83865</td>\n",
       "      <td>...</td>\n",
       "      <td>0</td>\n",
       "      <td>0</td>\n",
       "      <td>0</td>\n",
       "      <td>0</td>\n",
       "      <td>0</td>\n",
       "      <td>0</td>\n",
       "      <td>0</td>\n",
       "      <td>0</td>\n",
       "      <td>0</td>\n",
       "      <td>0</td>\n",
       "    </tr>\n",
       "    <tr>\n",
       "      <th>4</th>\n",
       "      <td>-9.7030</td>\n",
       "      <td>0.303890</td>\n",
       "      <td>0.31156</td>\n",
       "      <td>0.221870</td>\n",
       "      <td>0.205130</td>\n",
       "      <td>2.4173</td>\n",
       "      <td>-9.3889</td>\n",
       "      <td>0.71098</td>\n",
       "      <td>0.085343</td>\n",
       "      <td>-0.83865</td>\n",
       "      <td>...</td>\n",
       "      <td>0</td>\n",
       "      <td>0</td>\n",
       "      <td>0</td>\n",
       "      <td>0</td>\n",
       "      <td>0</td>\n",
       "      <td>0</td>\n",
       "      <td>0</td>\n",
       "      <td>0</td>\n",
       "      <td>0</td>\n",
       "      <td>0</td>\n",
       "    </tr>\n",
       "  </tbody>\n",
       "</table>\n",
       "<p>5 rows × 36 columns</p>\n",
       "</div>"
      ],
      "text/plain": [
       "   acc_chest_x  acc_chest_y  acc_chest_z     ecg_1     ecg_2  acc_ankel_x  \\\n",
       "0      -9.8184     0.009971      0.29563  0.004186  0.004186       2.1849   \n",
       "1      -9.8489     0.524040      0.37348  0.004186  0.016745       2.3876   \n",
       "2      -9.6602     0.181850      0.43742  0.016745  0.037677       2.4086   \n",
       "3      -9.6507     0.214220      0.24033  0.079540  0.117220       2.1814   \n",
       "4      -9.7030     0.303890      0.31156  0.221870  0.205130       2.4173   \n",
       "\n",
       "   acc_ankel_y  acc_ankel_z  gyro_ankel_x  gyro_ankel_y  ...  label_3  \\\n",
       "0      -9.6967      0.63077      0.103900      -0.84053  ...        0   \n",
       "1      -9.5080      0.68389      0.085343      -0.83865  ...        0   \n",
       "2      -9.5674      0.68113      0.085343      -0.83865  ...        0   \n",
       "3      -9.4301      0.55031      0.085343      -0.83865  ...        0   \n",
       "4      -9.3889      0.71098      0.085343      -0.83865  ...        0   \n",
       "\n",
       "   label_4  label_5  label_6  label_7  label_8  label_9  label_10  label_11  \\\n",
       "0        0        0        0        0        0        0         0         0   \n",
       "1        0        0        0        0        0        0         0         0   \n",
       "2        0        0        0        0        0        0         0         0   \n",
       "3        0        0        0        0        0        0         0         0   \n",
       "4        0        0        0        0        0        0         0         0   \n",
       "\n",
       "   label_12  \n",
       "0         0  \n",
       "1         0  \n",
       "2         0  \n",
       "3         0  \n",
       "4         0  \n",
       "\n",
       "[5 rows x 36 columns]"
      ]
     },
     "execution_count": 35,
     "metadata": {},
     "output_type": "execute_result"
    }
   ],
   "source": [
    "## Converting target variable into 13 different variable(one for each class)\n",
    "new_data=pd.get_dummies(data_dup)\n",
    "new_data.head()"
   ]
  },
  {
   "cell_type": "code",
   "execution_count": 36,
   "metadata": {
    "execution": {
     "iopub.execute_input": "2023-06-10T19:45:25.898546Z",
     "iopub.status.busy": "2023-06-10T19:45:25.897828Z",
     "iopub.status.idle": "2023-06-10T19:45:25.987507Z",
     "shell.execute_reply": "2023-06-10T19:45:25.986375Z",
     "shell.execute_reply.started": "2023-06-10T19:45:25.898508Z"
    }
   },
   "outputs": [],
   "source": [
    "## Input and target variables\n",
    "x_new=new_data.drop(new_data.columns[-13:], axis=1)\n",
    "y_new=new_data.iloc[:, -13:]"
   ]
  },
  {
   "cell_type": "code",
   "execution_count": 37,
   "metadata": {
    "execution": {
     "iopub.execute_input": "2023-06-10T19:45:29.120809Z",
     "iopub.status.busy": "2023-06-10T19:45:29.120409Z",
     "iopub.status.idle": "2023-06-10T19:45:29.140064Z",
     "shell.execute_reply": "2023-06-10T19:45:29.138982Z",
     "shell.execute_reply.started": "2023-06-10T19:45:29.120780Z"
    }
   },
   "outputs": [
    {
     "data": {
      "text/html": [
       "<div>\n",
       "<style scoped>\n",
       "    .dataframe tbody tr th:only-of-type {\n",
       "        vertical-align: middle;\n",
       "    }\n",
       "\n",
       "    .dataframe tbody tr th {\n",
       "        vertical-align: top;\n",
       "    }\n",
       "\n",
       "    .dataframe thead th {\n",
       "        text-align: right;\n",
       "    }\n",
       "</style>\n",
       "<table border=\"1\" class=\"dataframe\">\n",
       "  <thead>\n",
       "    <tr style=\"text-align: right;\">\n",
       "      <th></th>\n",
       "      <th>label_0</th>\n",
       "      <th>label_1</th>\n",
       "      <th>label_2</th>\n",
       "      <th>label_3</th>\n",
       "      <th>label_4</th>\n",
       "      <th>label_5</th>\n",
       "      <th>label_6</th>\n",
       "      <th>label_7</th>\n",
       "      <th>label_8</th>\n",
       "      <th>label_9</th>\n",
       "      <th>label_10</th>\n",
       "      <th>label_11</th>\n",
       "      <th>label_12</th>\n",
       "    </tr>\n",
       "  </thead>\n",
       "  <tbody>\n",
       "    <tr>\n",
       "      <th>0</th>\n",
       "      <td>1</td>\n",
       "      <td>0</td>\n",
       "      <td>0</td>\n",
       "      <td>0</td>\n",
       "      <td>0</td>\n",
       "      <td>0</td>\n",
       "      <td>0</td>\n",
       "      <td>0</td>\n",
       "      <td>0</td>\n",
       "      <td>0</td>\n",
       "      <td>0</td>\n",
       "      <td>0</td>\n",
       "      <td>0</td>\n",
       "    </tr>\n",
       "    <tr>\n",
       "      <th>1</th>\n",
       "      <td>1</td>\n",
       "      <td>0</td>\n",
       "      <td>0</td>\n",
       "      <td>0</td>\n",
       "      <td>0</td>\n",
       "      <td>0</td>\n",
       "      <td>0</td>\n",
       "      <td>0</td>\n",
       "      <td>0</td>\n",
       "      <td>0</td>\n",
       "      <td>0</td>\n",
       "      <td>0</td>\n",
       "      <td>0</td>\n",
       "    </tr>\n",
       "    <tr>\n",
       "      <th>2</th>\n",
       "      <td>1</td>\n",
       "      <td>0</td>\n",
       "      <td>0</td>\n",
       "      <td>0</td>\n",
       "      <td>0</td>\n",
       "      <td>0</td>\n",
       "      <td>0</td>\n",
       "      <td>0</td>\n",
       "      <td>0</td>\n",
       "      <td>0</td>\n",
       "      <td>0</td>\n",
       "      <td>0</td>\n",
       "      <td>0</td>\n",
       "    </tr>\n",
       "    <tr>\n",
       "      <th>3</th>\n",
       "      <td>1</td>\n",
       "      <td>0</td>\n",
       "      <td>0</td>\n",
       "      <td>0</td>\n",
       "      <td>0</td>\n",
       "      <td>0</td>\n",
       "      <td>0</td>\n",
       "      <td>0</td>\n",
       "      <td>0</td>\n",
       "      <td>0</td>\n",
       "      <td>0</td>\n",
       "      <td>0</td>\n",
       "      <td>0</td>\n",
       "    </tr>\n",
       "    <tr>\n",
       "      <th>4</th>\n",
       "      <td>1</td>\n",
       "      <td>0</td>\n",
       "      <td>0</td>\n",
       "      <td>0</td>\n",
       "      <td>0</td>\n",
       "      <td>0</td>\n",
       "      <td>0</td>\n",
       "      <td>0</td>\n",
       "      <td>0</td>\n",
       "      <td>0</td>\n",
       "      <td>0</td>\n",
       "      <td>0</td>\n",
       "      <td>0</td>\n",
       "    </tr>\n",
       "  </tbody>\n",
       "</table>\n",
       "</div>"
      ],
      "text/plain": [
       "   label_0  label_1  label_2  label_3  label_4  label_5  label_6  label_7  \\\n",
       "0        1        0        0        0        0        0        0        0   \n",
       "1        1        0        0        0        0        0        0        0   \n",
       "2        1        0        0        0        0        0        0        0   \n",
       "3        1        0        0        0        0        0        0        0   \n",
       "4        1        0        0        0        0        0        0        0   \n",
       "\n",
       "   label_8  label_9  label_10  label_11  label_12  \n",
       "0        0        0         0         0         0  \n",
       "1        0        0         0         0         0  \n",
       "2        0        0         0         0         0  \n",
       "3        0        0         0         0         0  \n",
       "4        0        0         0         0         0  "
      ]
     },
     "execution_count": 37,
     "metadata": {},
     "output_type": "execute_result"
    }
   ],
   "source": [
    "## Target variables\n",
    "y_new.head()"
   ]
  },
  {
   "cell_type": "code",
   "execution_count": 38,
   "metadata": {
    "execution": {
     "iopub.execute_input": "2023-06-10T19:45:36.632597Z",
     "iopub.status.busy": "2023-06-10T19:45:36.632226Z",
     "iopub.status.idle": "2023-06-10T19:45:37.560682Z",
     "shell.execute_reply": "2023-06-10T19:45:37.559540Z",
     "shell.execute_reply.started": "2023-06-10T19:45:36.632570Z"
    }
   },
   "outputs": [],
   "source": [
    "## Splitting data into test, train and validation\n",
    "X_train_new, X_test_new, y_train_new, y_test_new = train_test_split(x_new, y_new,test_size=0.10, random_state=123)\n",
    "X_train_new, X_val_new, y_train_new, y_val_new = train_test_split(X_train_new, y_train_new, test_size=0.20, random_state=123)"
   ]
  },
  {
   "cell_type": "code",
   "execution_count": 51,
   "metadata": {
    "execution": {
     "iopub.execute_input": "2023-06-10T20:04:11.764983Z",
     "iopub.status.busy": "2023-06-10T20:04:11.764583Z",
     "iopub.status.idle": "2023-06-10T20:05:23.007046Z",
     "shell.execute_reply": "2023-06-10T20:05:23.005864Z",
     "shell.execute_reply.started": "2023-06-10T20:04:11.764928Z"
    }
   },
   "outputs": [
    {
     "data": {
      "text/html": [
       "<style>#sk-container-id-5 {color: black;background-color: white;}#sk-container-id-5 pre{padding: 0;}#sk-container-id-5 div.sk-toggleable {background-color: white;}#sk-container-id-5 label.sk-toggleable__label {cursor: pointer;display: block;width: 100%;margin-bottom: 0;padding: 0.3em;box-sizing: border-box;text-align: center;}#sk-container-id-5 label.sk-toggleable__label-arrow:before {content: \"▸\";float: left;margin-right: 0.25em;color: #696969;}#sk-container-id-5 label.sk-toggleable__label-arrow:hover:before {color: black;}#sk-container-id-5 div.sk-estimator:hover label.sk-toggleable__label-arrow:before {color: black;}#sk-container-id-5 div.sk-toggleable__content {max-height: 0;max-width: 0;overflow: hidden;text-align: left;background-color: #f0f8ff;}#sk-container-id-5 div.sk-toggleable__content pre {margin: 0.2em;color: black;border-radius: 0.25em;background-color: #f0f8ff;}#sk-container-id-5 input.sk-toggleable__control:checked~div.sk-toggleable__content {max-height: 200px;max-width: 100%;overflow: auto;}#sk-container-id-5 input.sk-toggleable__control:checked~label.sk-toggleable__label-arrow:before {content: \"▾\";}#sk-container-id-5 div.sk-estimator input.sk-toggleable__control:checked~label.sk-toggleable__label {background-color: #d4ebff;}#sk-container-id-5 div.sk-label input.sk-toggleable__control:checked~label.sk-toggleable__label {background-color: #d4ebff;}#sk-container-id-5 input.sk-hidden--visually {border: 0;clip: rect(1px 1px 1px 1px);clip: rect(1px, 1px, 1px, 1px);height: 1px;margin: -1px;overflow: hidden;padding: 0;position: absolute;width: 1px;}#sk-container-id-5 div.sk-estimator {font-family: monospace;background-color: #f0f8ff;border: 1px dotted black;border-radius: 0.25em;box-sizing: border-box;margin-bottom: 0.5em;}#sk-container-id-5 div.sk-estimator:hover {background-color: #d4ebff;}#sk-container-id-5 div.sk-parallel-item::after {content: \"\";width: 100%;border-bottom: 1px solid gray;flex-grow: 1;}#sk-container-id-5 div.sk-label:hover label.sk-toggleable__label {background-color: #d4ebff;}#sk-container-id-5 div.sk-serial::before {content: \"\";position: absolute;border-left: 1px solid gray;box-sizing: border-box;top: 0;bottom: 0;left: 50%;z-index: 0;}#sk-container-id-5 div.sk-serial {display: flex;flex-direction: column;align-items: center;background-color: white;padding-right: 0.2em;padding-left: 0.2em;position: relative;}#sk-container-id-5 div.sk-item {position: relative;z-index: 1;}#sk-container-id-5 div.sk-parallel {display: flex;align-items: stretch;justify-content: center;background-color: white;position: relative;}#sk-container-id-5 div.sk-item::before, #sk-container-id-5 div.sk-parallel-item::before {content: \"\";position: absolute;border-left: 1px solid gray;box-sizing: border-box;top: 0;bottom: 0;left: 50%;z-index: -1;}#sk-container-id-5 div.sk-parallel-item {display: flex;flex-direction: column;z-index: 1;position: relative;background-color: white;}#sk-container-id-5 div.sk-parallel-item:first-child::after {align-self: flex-end;width: 50%;}#sk-container-id-5 div.sk-parallel-item:last-child::after {align-self: flex-start;width: 50%;}#sk-container-id-5 div.sk-parallel-item:only-child::after {width: 0;}#sk-container-id-5 div.sk-dashed-wrapped {border: 1px dashed gray;margin: 0 0.4em 0.5em 0.4em;box-sizing: border-box;padding-bottom: 0.4em;background-color: white;}#sk-container-id-5 div.sk-label label {font-family: monospace;font-weight: bold;display: inline-block;line-height: 1.2em;}#sk-container-id-5 div.sk-label-container {text-align: center;}#sk-container-id-5 div.sk-container {/* jupyter's `normalize.less` sets `[hidden] { display: none; }` but bootstrap.min.css set `[hidden] { display: none !important; }` so we also need the `!important` here to be able to override the default hidden behavior on the sphinx rendered scikit-learn.org. See: https://github.com/scikit-learn/scikit-learn/issues/21755 */display: inline-block !important;position: relative;}#sk-container-id-5 div.sk-text-repr-fallback {display: none;}</style><div id=\"sk-container-id-5\" class=\"sk-top-container\"><div class=\"sk-text-repr-fallback\"><pre>OneVsRestClassifier(estimator=XGBClassifier(base_score=None, booster=None,\n",
       "                                            callbacks=None,\n",
       "                                            colsample_bylevel=None,\n",
       "                                            colsample_bynode=None,\n",
       "                                            colsample_bytree=None,\n",
       "                                            early_stopping_rounds=None,\n",
       "                                            enable_categorical=False,\n",
       "                                            eval_metric=None,\n",
       "                                            feature_types=None, gamma=None,\n",
       "                                            gpu_id=0, grow_policy=None,\n",
       "                                            importance_type=None,\n",
       "                                            interaction_constraints=None,\n",
       "                                            learning_rate=0.3, max_bin=None,\n",
       "                                            max_cat_threshold=None,\n",
       "                                            max_cat_to_onehot=None,\n",
       "                                            max_delta_step=None, max_depth=6,\n",
       "                                            max_leaves=None,\n",
       "                                            min_child_weight=None, missing=nan,\n",
       "                                            monotone_constraints=None,\n",
       "                                            n_estimators=500, n_jobs=None,\n",
       "                                            num_parallel_tree=None,\n",
       "                                            predictor=None, random_state=123, ...))</pre><b>In a Jupyter environment, please rerun this cell to show the HTML representation or trust the notebook. <br />On GitHub, the HTML representation is unable to render, please try loading this page with nbviewer.org.</b></div><div class=\"sk-container\" hidden><div class=\"sk-item sk-dashed-wrapped\"><div class=\"sk-label-container\"><div class=\"sk-label sk-toggleable\"><input class=\"sk-toggleable__control sk-hidden--visually\" id=\"sk-estimator-id-13\" type=\"checkbox\" ><label for=\"sk-estimator-id-13\" class=\"sk-toggleable__label sk-toggleable__label-arrow\">OneVsRestClassifier</label><div class=\"sk-toggleable__content\"><pre>OneVsRestClassifier(estimator=XGBClassifier(base_score=None, booster=None,\n",
       "                                            callbacks=None,\n",
       "                                            colsample_bylevel=None,\n",
       "                                            colsample_bynode=None,\n",
       "                                            colsample_bytree=None,\n",
       "                                            early_stopping_rounds=None,\n",
       "                                            enable_categorical=False,\n",
       "                                            eval_metric=None,\n",
       "                                            feature_types=None, gamma=None,\n",
       "                                            gpu_id=0, grow_policy=None,\n",
       "                                            importance_type=None,\n",
       "                                            interaction_constraints=None,\n",
       "                                            learning_rate=0.3, max_bin=None,\n",
       "                                            max_cat_threshold=None,\n",
       "                                            max_cat_to_onehot=None,\n",
       "                                            max_delta_step=None, max_depth=6,\n",
       "                                            max_leaves=None,\n",
       "                                            min_child_weight=None, missing=nan,\n",
       "                                            monotone_constraints=None,\n",
       "                                            n_estimators=500, n_jobs=None,\n",
       "                                            num_parallel_tree=None,\n",
       "                                            predictor=None, random_state=123, ...))</pre></div></div></div><div class=\"sk-parallel\"><div class=\"sk-parallel-item\"><div class=\"sk-item\"><div class=\"sk-label-container\"><div class=\"sk-label sk-toggleable\"><input class=\"sk-toggleable__control sk-hidden--visually\" id=\"sk-estimator-id-14\" type=\"checkbox\" ><label for=\"sk-estimator-id-14\" class=\"sk-toggleable__label sk-toggleable__label-arrow\">estimator: XGBClassifier</label><div class=\"sk-toggleable__content\"><pre>XGBClassifier(base_score=None, booster=None, callbacks=None,\n",
       "              colsample_bylevel=None, colsample_bynode=None,\n",
       "              colsample_bytree=None, early_stopping_rounds=None,\n",
       "              enable_categorical=False, eval_metric=None, feature_types=None,\n",
       "              gamma=None, gpu_id=0, grow_policy=None, importance_type=None,\n",
       "              interaction_constraints=None, learning_rate=0.3, max_bin=None,\n",
       "              max_cat_threshold=None, max_cat_to_onehot=None,\n",
       "              max_delta_step=None, max_depth=6, max_leaves=None,\n",
       "              min_child_weight=None, missing=nan, monotone_constraints=None,\n",
       "              n_estimators=500, n_jobs=None, num_parallel_tree=None,\n",
       "              predictor=None, random_state=123, ...)</pre></div></div></div><div class=\"sk-serial\"><div class=\"sk-item\"><div class=\"sk-estimator sk-toggleable\"><input class=\"sk-toggleable__control sk-hidden--visually\" id=\"sk-estimator-id-15\" type=\"checkbox\" ><label for=\"sk-estimator-id-15\" class=\"sk-toggleable__label sk-toggleable__label-arrow\">XGBClassifier</label><div class=\"sk-toggleable__content\"><pre>XGBClassifier(base_score=None, booster=None, callbacks=None,\n",
       "              colsample_bylevel=None, colsample_bynode=None,\n",
       "              colsample_bytree=None, early_stopping_rounds=None,\n",
       "              enable_categorical=False, eval_metric=None, feature_types=None,\n",
       "              gamma=None, gpu_id=0, grow_policy=None, importance_type=None,\n",
       "              interaction_constraints=None, learning_rate=0.3, max_bin=None,\n",
       "              max_cat_threshold=None, max_cat_to_onehot=None,\n",
       "              max_delta_step=None, max_depth=6, max_leaves=None,\n",
       "              min_child_weight=None, missing=nan, monotone_constraints=None,\n",
       "              n_estimators=500, n_jobs=None, num_parallel_tree=None,\n",
       "              predictor=None, random_state=123, ...)</pre></div></div></div></div></div></div></div></div></div></div>"
      ],
      "text/plain": [
       "OneVsRestClassifier(estimator=XGBClassifier(base_score=None, booster=None,\n",
       "                                            callbacks=None,\n",
       "                                            colsample_bylevel=None,\n",
       "                                            colsample_bynode=None,\n",
       "                                            colsample_bytree=None,\n",
       "                                            early_stopping_rounds=None,\n",
       "                                            enable_categorical=False,\n",
       "                                            eval_metric=None,\n",
       "                                            feature_types=None, gamma=None,\n",
       "                                            gpu_id=0, grow_policy=None,\n",
       "                                            importance_type=None,\n",
       "                                            interaction_constraints=None,\n",
       "                                            learning_rate=0.3, max_bin=None,\n",
       "                                            max_cat_threshold=None,\n",
       "                                            max_cat_to_onehot=None,\n",
       "                                            max_delta_step=None, max_depth=6,\n",
       "                                            max_leaves=None,\n",
       "                                            min_child_weight=None, missing=nan,\n",
       "                                            monotone_constraints=None,\n",
       "                                            n_estimators=500, n_jobs=None,\n",
       "                                            num_parallel_tree=None,\n",
       "                                            predictor=None, random_state=123, ...))"
      ]
     },
     "execution_count": 51,
     "metadata": {},
     "output_type": "execute_result"
    }
   ],
   "source": [
    "## One Vs rest classifier\n",
    "clf = XGBClassifier(n_estimators=500,learning_rate=0.3,max_depth=6,tree_method ='gpu_hist',gpu_id=0,random_state=123) ## Base Classifier\n",
    "ovr = OneVsRestClassifier(clf)  ## SK Learn One vs Rest\n",
    "ovr.fit(X_train_new, y_train_new)  ## Fitting data "
   ]
  },
  {
   "cell_type": "code",
   "execution_count": 52,
   "metadata": {
    "execution": {
     "iopub.execute_input": "2023-06-10T20:05:26.511769Z",
     "iopub.status.busy": "2023-06-10T20:05:26.511412Z",
     "iopub.status.idle": "2023-06-10T20:07:29.647187Z",
     "shell.execute_reply": "2023-06-10T20:07:29.646094Z",
     "shell.execute_reply.started": "2023-06-10T20:05:26.511740Z"
    }
   },
   "outputs": [
    {
     "name": "stdout",
     "output_type": "stream",
     "text": [
      "Validation Loss: 0.07382765018232995\n",
      "Train Loss: 0.04701280422603438\n"
     ]
    }
   ],
   "source": [
    "## Score\n",
    "pred_val = pd.DataFrame(ovr.predict(X_val_new))  ## Predictions \n",
    "pred_train=pd.DataFrame(ovr.predict(X_train_new))\n",
    "print('Validation Loss:',zero_one_loss(y_val_new, pred_val))  ## Zero one loss of Train and validation\n",
    "print('Train Loss:',zero_one_loss(y_train_new, pred_train))"
   ]
  },
  {
   "cell_type": "code",
   "execution_count": 53,
   "metadata": {
    "execution": {
     "iopub.execute_input": "2023-06-10T20:08:11.679757Z",
     "iopub.status.busy": "2023-06-10T20:08:11.678859Z",
     "iopub.status.idle": "2023-06-10T20:08:11.948649Z",
     "shell.execute_reply": "2023-06-10T20:08:11.947764Z",
     "shell.execute_reply.started": "2023-06-10T20:08:11.679714Z"
    }
   },
   "outputs": [
    {
     "name": "stdout",
     "output_type": "stream",
     "text": [
      "              precision    recall  f1-score   support\n",
      "\n",
      "           0       0.97      0.94      0.95    157165\n",
      "           1       0.92      0.95      0.94      5511\n",
      "           2       0.86      0.93      0.89      5618\n",
      "           3       0.88      0.95      0.91      5616\n",
      "           4       0.92      0.97      0.94      5569\n",
      "           5       0.98      0.97      0.98      5492\n",
      "           6       0.97      0.98      0.98      5175\n",
      "           7       0.93      0.98      0.95      5296\n",
      "           8       0.96      0.98      0.97      5235\n",
      "           9       0.92      0.98      0.95      5429\n",
      "          10       0.90      0.96      0.93      5440\n",
      "          11       0.90      0.95      0.93      5535\n",
      "          12       0.89      0.87      0.88      1753\n",
      "\n",
      "   micro avg       0.95      0.95      0.95    218834\n",
      "   macro avg       0.92      0.95      0.94    218834\n",
      "weighted avg       0.96      0.95      0.95    218834\n",
      " samples avg       0.94      0.95      0.94    218834\n",
      "\n"
     ]
    }
   ],
   "source": [
    "## Classification report\n",
    "print(classification_report(y_val_new, pred_val))"
   ]
  },
  {
   "cell_type": "markdown",
   "metadata": {},
   "source": [
    "## Test data Predictions"
   ]
  },
  {
   "cell_type": "code",
   "execution_count": 256,
   "metadata": {
    "execution": {
     "iopub.execute_input": "2023-06-10T22:31:39.706170Z",
     "iopub.status.busy": "2023-06-10T22:31:39.705171Z",
     "iopub.status.idle": "2023-06-10T22:31:53.000223Z",
     "shell.execute_reply": "2023-06-10T22:31:52.999080Z",
     "shell.execute_reply.started": "2023-06-10T22:31:39.706132Z"
    }
   },
   "outputs": [
    {
     "name": "stdout",
     "output_type": "stream",
     "text": [
      "Test Loss: 0.07287682500514081\n"
     ]
    }
   ],
   "source": [
    "## Predictions and score\n",
    "pred_test = pd.DataFrame(ovr.predict(X_test_new))\n",
    "print('Test Loss:',zero_one_loss(y_test_new, pred_test))"
   ]
  },
  {
   "cell_type": "code",
   "execution_count": 55,
   "metadata": {
    "execution": {
     "iopub.execute_input": "2023-06-10T20:08:36.295737Z",
     "iopub.status.busy": "2023-06-10T20:08:36.294854Z",
     "iopub.status.idle": "2023-06-10T20:08:36.450353Z",
     "shell.execute_reply": "2023-06-10T20:08:36.449197Z",
     "shell.execute_reply.started": "2023-06-10T20:08:36.295689Z"
    }
   },
   "outputs": [
    {
     "name": "stdout",
     "output_type": "stream",
     "text": [
      "              precision    recall  f1-score   support\n",
      "\n",
      "           0       0.97      0.94      0.95     87172\n",
      "           1       0.91      0.96      0.94      3076\n",
      "           2       0.86      0.93      0.90      3065\n",
      "           3       0.88      0.96      0.92      3141\n",
      "           4       0.92      0.96      0.94      3092\n",
      "           5       0.98      0.98      0.98      3072\n",
      "           6       0.96      0.98      0.97      2725\n",
      "           7       0.94      0.98      0.96      3046\n",
      "           8       0.96      0.98      0.97      2926\n",
      "           9       0.92      0.97      0.95      3105\n",
      "          10       0.90      0.95      0.92      3112\n",
      "          11       0.92      0.95      0.93      3054\n",
      "          12       0.89      0.86      0.88       989\n",
      "\n",
      "   micro avg       0.96      0.95      0.95    121575\n",
      "   macro avg       0.92      0.96      0.94    121575\n",
      "weighted avg       0.96      0.95      0.95    121575\n",
      " samples avg       0.94      0.95      0.94    121575\n",
      "\n"
     ]
    }
   ],
   "source": [
    "## Classification report\n",
    "print(classification_report(y_test_new, pred_test))"
   ]
  },
  {
   "cell_type": "markdown",
   "metadata": {},
   "source": [
    "As we can see our zero one loss of this is model is 0.07 which means our model accuracy is 99%. and also if we look at the f1 score precision and recall of this model is almost close 96 %. Which means this model is doing a great job."
   ]
  },
  {
   "cell_type": "markdown",
   "metadata": {},
   "source": [
    "# Approach 3: One Vs Rest Classifier(Buildng separate model for each class)\n",
    "Now i will build 13 different models one foe each class. So i have sub sample data for each model let us consider class 0 so for class 0, i have created a sample of all 0 class data and mix of few records of all other classes. Now i have converted the class 0 label as 1 and rest of the labels as 0 which means 50 % of the records will be class 0 records and the rest 50 % of the records will rest 12 classes records. So this data will goes into class 0 model. Like this i have created sample data for all 13 classes and built a induvidual model.\n",
    "\n",
    "**Predictions and Evaluation:** So predict the test data i will be passing each sample into all 13 models and i will predict the probabilites which class model has the highest probability it will belongs to that class. So for Evaluation i have used same f1 score, precision and recall."
   ]
  },
  {
   "cell_type": "code",
   "execution_count": 138,
   "metadata": {
    "execution": {
     "iopub.execute_input": "2023-06-10T20:33:36.166033Z",
     "iopub.status.busy": "2023-06-10T20:33:36.165631Z",
     "iopub.status.idle": "2023-06-10T20:33:37.515102Z",
     "shell.execute_reply": "2023-06-10T20:33:37.514120Z",
     "shell.execute_reply.started": "2023-06-10T20:33:36.166002Z"
    }
   },
   "outputs": [],
   "source": [
    "## Separating test and train\n",
    "train, test = train_test_split(data, test_size=0.15, stratify=data['label'], random_state=123)\n",
    "train, val = train_test_split(train, test_size=0.10, stratify=train['label'], random_state=123)"
   ]
  },
  {
   "cell_type": "code",
   "execution_count": 57,
   "metadata": {
    "execution": {
     "iopub.execute_input": "2023-06-10T20:08:57.227079Z",
     "iopub.status.busy": "2023-06-10T20:08:57.226691Z",
     "iopub.status.idle": "2023-06-10T20:08:57.236479Z",
     "shell.execute_reply": "2023-06-10T20:08:57.235498Z",
     "shell.execute_reply.started": "2023-06-10T20:08:57.227048Z"
    }
   },
   "outputs": [],
   "source": [
    "def Data_Sample(Label,data):\n",
    "    '''Function which takes label number and data frame as input and returns the sample data'''\n",
    "    \n",
    "    if Label==0:  ## If label is 0\n",
    "        d=data[data.label==Label].sample(n=75000)  ##random 75000 label 0 observations\n",
    "        for i in range(1,13):  ##Iterating to get sample data of each label\n",
    "            dup=data[data.label==i].sample(n=7500)  ##For label 1 to 12 we are taking 7500 random samples \n",
    "            d=pd.concat([d,dup],axis=0, ignore_index=True)  ##concatinating all data\n",
    "    else:  ##if label not equal =0\n",
    "        d=data[data.label==Label]  ##extracting all label information given by user\n",
    "        for i in range(13):  ##Iterating to get sample data of rest of label\n",
    "            if i!= Label:  ## sampling\n",
    "                if i==0:\n",
    "                    dup=data[data.label==i].sample(n=6000)  ##for class 6000 random samples\n",
    "                if i!=0:\n",
    "                    dup=data[data.label==i].sample(n=4000) ## for rest of classes 4000 random samples\n",
    "\n",
    "            d=pd.concat([d,dup],axis=0, ignore_index=True)  ##concatinating all data\n",
    "    return d  ## returning data"
   ]
  },
  {
   "cell_type": "markdown",
   "metadata": {},
   "source": [
    "**Model for Class 0**"
   ]
  },
  {
   "cell_type": "code",
   "execution_count": 139,
   "metadata": {
    "execution": {
     "iopub.execute_input": "2023-06-10T20:33:41.759510Z",
     "iopub.status.busy": "2023-06-10T20:33:41.759131Z",
     "iopub.status.idle": "2023-06-10T20:33:42.251956Z",
     "shell.execute_reply": "2023-06-10T20:33:42.250992Z",
     "shell.execute_reply.started": "2023-06-10T20:33:41.759482Z"
    }
   },
   "outputs": [],
   "source": [
    "## Creating data for class 0 \n",
    "data_0=Data_Sample(0,train)  ## Helper function to generate sample data foe class 0\n",
    "data_0.label.replace(0,'positive',inplace=True)  ##replacing lable 0 as positive\n",
    "data_0.label.replace([1,2,3,4,5,6,7,8,9,10,11,12],0,inplace=True)  ## replacing other lables as 0\n",
    "data_0.label.replace('positive',1,inplace=True)  ## replacing 0 as 1 \n",
    "## Input and target variables\n",
    "x_0=data_0.drop('label',axis=1)\n",
    "y_0=data_0.label\n",
    "## Test validation split\n",
    "X_train_0, X_val_0, y_train_0, y_val_0 = train_test_split(x_0, y_0,test_size=0.20, random_state=123)"
   ]
  },
  {
   "cell_type": "code",
   "execution_count": 140,
   "metadata": {
    "execution": {
     "iopub.execute_input": "2023-06-10T20:33:48.181761Z",
     "iopub.status.busy": "2023-06-10T20:33:48.181389Z",
     "iopub.status.idle": "2023-06-10T20:33:50.321886Z",
     "shell.execute_reply": "2023-06-10T20:33:50.321070Z",
     "shell.execute_reply.started": "2023-06-10T20:33:48.181732Z"
    }
   },
   "outputs": [
    {
     "data": {
      "text/html": [
       "<style>#sk-container-id-19 {color: black;background-color: white;}#sk-container-id-19 pre{padding: 0;}#sk-container-id-19 div.sk-toggleable {background-color: white;}#sk-container-id-19 label.sk-toggleable__label {cursor: pointer;display: block;width: 100%;margin-bottom: 0;padding: 0.3em;box-sizing: border-box;text-align: center;}#sk-container-id-19 label.sk-toggleable__label-arrow:before {content: \"▸\";float: left;margin-right: 0.25em;color: #696969;}#sk-container-id-19 label.sk-toggleable__label-arrow:hover:before {color: black;}#sk-container-id-19 div.sk-estimator:hover label.sk-toggleable__label-arrow:before {color: black;}#sk-container-id-19 div.sk-toggleable__content {max-height: 0;max-width: 0;overflow: hidden;text-align: left;background-color: #f0f8ff;}#sk-container-id-19 div.sk-toggleable__content pre {margin: 0.2em;color: black;border-radius: 0.25em;background-color: #f0f8ff;}#sk-container-id-19 input.sk-toggleable__control:checked~div.sk-toggleable__content {max-height: 200px;max-width: 100%;overflow: auto;}#sk-container-id-19 input.sk-toggleable__control:checked~label.sk-toggleable__label-arrow:before {content: \"▾\";}#sk-container-id-19 div.sk-estimator input.sk-toggleable__control:checked~label.sk-toggleable__label {background-color: #d4ebff;}#sk-container-id-19 div.sk-label input.sk-toggleable__control:checked~label.sk-toggleable__label {background-color: #d4ebff;}#sk-container-id-19 input.sk-hidden--visually {border: 0;clip: rect(1px 1px 1px 1px);clip: rect(1px, 1px, 1px, 1px);height: 1px;margin: -1px;overflow: hidden;padding: 0;position: absolute;width: 1px;}#sk-container-id-19 div.sk-estimator {font-family: monospace;background-color: #f0f8ff;border: 1px dotted black;border-radius: 0.25em;box-sizing: border-box;margin-bottom: 0.5em;}#sk-container-id-19 div.sk-estimator:hover {background-color: #d4ebff;}#sk-container-id-19 div.sk-parallel-item::after {content: \"\";width: 100%;border-bottom: 1px solid gray;flex-grow: 1;}#sk-container-id-19 div.sk-label:hover label.sk-toggleable__label {background-color: #d4ebff;}#sk-container-id-19 div.sk-serial::before {content: \"\";position: absolute;border-left: 1px solid gray;box-sizing: border-box;top: 0;bottom: 0;left: 50%;z-index: 0;}#sk-container-id-19 div.sk-serial {display: flex;flex-direction: column;align-items: center;background-color: white;padding-right: 0.2em;padding-left: 0.2em;position: relative;}#sk-container-id-19 div.sk-item {position: relative;z-index: 1;}#sk-container-id-19 div.sk-parallel {display: flex;align-items: stretch;justify-content: center;background-color: white;position: relative;}#sk-container-id-19 div.sk-item::before, #sk-container-id-19 div.sk-parallel-item::before {content: \"\";position: absolute;border-left: 1px solid gray;box-sizing: border-box;top: 0;bottom: 0;left: 50%;z-index: -1;}#sk-container-id-19 div.sk-parallel-item {display: flex;flex-direction: column;z-index: 1;position: relative;background-color: white;}#sk-container-id-19 div.sk-parallel-item:first-child::after {align-self: flex-end;width: 50%;}#sk-container-id-19 div.sk-parallel-item:last-child::after {align-self: flex-start;width: 50%;}#sk-container-id-19 div.sk-parallel-item:only-child::after {width: 0;}#sk-container-id-19 div.sk-dashed-wrapped {border: 1px dashed gray;margin: 0 0.4em 0.5em 0.4em;box-sizing: border-box;padding-bottom: 0.4em;background-color: white;}#sk-container-id-19 div.sk-label label {font-family: monospace;font-weight: bold;display: inline-block;line-height: 1.2em;}#sk-container-id-19 div.sk-label-container {text-align: center;}#sk-container-id-19 div.sk-container {/* jupyter's `normalize.less` sets `[hidden] { display: none; }` but bootstrap.min.css set `[hidden] { display: none !important; }` so we also need the `!important` here to be able to override the default hidden behavior on the sphinx rendered scikit-learn.org. See: https://github.com/scikit-learn/scikit-learn/issues/21755 */display: inline-block !important;position: relative;}#sk-container-id-19 div.sk-text-repr-fallback {display: none;}</style><div id=\"sk-container-id-19\" class=\"sk-top-container\"><div class=\"sk-text-repr-fallback\"><pre>XGBClassifier(base_score=None, booster=None, callbacks=None,\n",
       "              colsample_bylevel=None, colsample_bynode=None,\n",
       "              colsample_bytree=None, early_stopping_rounds=None,\n",
       "              enable_categorical=False, eval_metric=None, feature_types=None,\n",
       "              gamma=None, gpu_id=0, grow_policy=None, importance_type=None,\n",
       "              interaction_constraints=None, learning_rate=None, max_bin=None,\n",
       "              max_cat_threshold=None, max_cat_to_onehot=None,\n",
       "              max_delta_step=None, max_depth=None, max_leaves=None,\n",
       "              min_child_weight=None, missing=nan, monotone_constraints=None,\n",
       "              n_estimators=500, n_jobs=None, num_parallel_tree=None,\n",
       "              predictor=None, random_state=123, ...)</pre><b>In a Jupyter environment, please rerun this cell to show the HTML representation or trust the notebook. <br />On GitHub, the HTML representation is unable to render, please try loading this page with nbviewer.org.</b></div><div class=\"sk-container\" hidden><div class=\"sk-item\"><div class=\"sk-estimator sk-toggleable\"><input class=\"sk-toggleable__control sk-hidden--visually\" id=\"sk-estimator-id-29\" type=\"checkbox\" checked><label for=\"sk-estimator-id-29\" class=\"sk-toggleable__label sk-toggleable__label-arrow\">XGBClassifier</label><div class=\"sk-toggleable__content\"><pre>XGBClassifier(base_score=None, booster=None, callbacks=None,\n",
       "              colsample_bylevel=None, colsample_bynode=None,\n",
       "              colsample_bytree=None, early_stopping_rounds=None,\n",
       "              enable_categorical=False, eval_metric=None, feature_types=None,\n",
       "              gamma=None, gpu_id=0, grow_policy=None, importance_type=None,\n",
       "              interaction_constraints=None, learning_rate=None, max_bin=None,\n",
       "              max_cat_threshold=None, max_cat_to_onehot=None,\n",
       "              max_delta_step=None, max_depth=None, max_leaves=None,\n",
       "              min_child_weight=None, missing=nan, monotone_constraints=None,\n",
       "              n_estimators=500, n_jobs=None, num_parallel_tree=None,\n",
       "              predictor=None, random_state=123, ...)</pre></div></div></div></div></div>"
      ],
      "text/plain": [
       "XGBClassifier(base_score=None, booster=None, callbacks=None,\n",
       "              colsample_bylevel=None, colsample_bynode=None,\n",
       "              colsample_bytree=None, early_stopping_rounds=None,\n",
       "              enable_categorical=False, eval_metric=None, feature_types=None,\n",
       "              gamma=None, gpu_id=0, grow_policy=None, importance_type=None,\n",
       "              interaction_constraints=None, learning_rate=None, max_bin=None,\n",
       "              max_cat_threshold=None, max_cat_to_onehot=None,\n",
       "              max_delta_step=None, max_depth=None, max_leaves=None,\n",
       "              min_child_weight=None, missing=nan, monotone_constraints=None,\n",
       "              n_estimators=500, n_jobs=None, num_parallel_tree=None,\n",
       "              predictor=None, random_state=123, ...)"
      ]
     },
     "execution_count": 140,
     "metadata": {},
     "output_type": "execute_result"
    }
   ],
   "source": [
    "## classifier for class 0\n",
    "clf_xg_0=XGBClassifier(n_estimators=500,tree_method ='gpu_hist',gpu_id=0,random_state=123)\n",
    "clf_xg_0.fit(X_train_0, y_train_0)  ## Fitting data"
   ]
  },
  {
   "cell_type": "code",
   "execution_count": 141,
   "metadata": {
    "execution": {
     "iopub.execute_input": "2023-06-10T20:33:54.353810Z",
     "iopub.status.busy": "2023-06-10T20:33:54.353426Z",
     "iopub.status.idle": "2023-06-10T20:33:55.956934Z",
     "shell.execute_reply": "2023-06-10T20:33:55.955927Z",
     "shell.execute_reply.started": "2023-06-10T20:33:54.353779Z"
    }
   },
   "outputs": [
    {
     "name": "stdout",
     "output_type": "stream",
     "text": [
      "Validation Accuracy : 0.9273333333333333\n",
      "Train Accuracy : 0.9841060606060607\n",
      "              precision    recall  f1-score   support\n",
      "\n",
      "           0       0.97      0.91      0.94     19255\n",
      "           1       0.88      0.96      0.92     13745\n",
      "\n",
      "    accuracy                           0.93     33000\n",
      "   macro avg       0.92      0.93      0.93     33000\n",
      "weighted avg       0.93      0.93      0.93     33000\n",
      "\n"
     ]
    }
   ],
   "source": [
    "# Predict on train and validation set\n",
    "y_train_pred = clf_xg_0.predict(X_train_0)\n",
    "y_val_pred = clf_xg_0.predict(X_val_0)\n",
    "## Accuracy\n",
    "print('Validation Accuracy :',accuracy_score(y_val_0, y_val_pred))\n",
    "print('Train Accuracy :',accuracy_score(y_train_0, y_train_pred))\n",
    "## classification report\n",
    "print(classification_report(y_val_pred, y_val_0))"
   ]
  },
  {
   "cell_type": "markdown",
   "metadata": {},
   "source": [
    "**Model for class1**"
   ]
  },
  {
   "cell_type": "code",
   "execution_count": 142,
   "metadata": {
    "execution": {
     "iopub.execute_input": "2023-06-10T20:33:58.243373Z",
     "iopub.status.busy": "2023-06-10T20:33:58.242717Z",
     "iopub.status.idle": "2023-06-10T20:33:58.453018Z",
     "shell.execute_reply": "2023-06-10T20:33:58.452069Z",
     "shell.execute_reply.started": "2023-06-10T20:33:58.243339Z"
    }
   },
   "outputs": [],
   "source": [
    "## Creating data for class 0 \n",
    "data_1=Data_Sample(1,data)  ##Helper function to generate sample data for class 1\n",
    "data_1.label.replace([2,3,4,5,6,7,8,9,10,11,12],0,inplace=True)  ## replacing other lables as 0\n",
    "## Input and target variables\n",
    "x_1=data_1.drop('label',axis=1)\n",
    "y_1=data_1.label\n",
    "## Test validation split\n",
    "X_train_1, X_val_1, y_train_1, y_val_1 = train_test_split(x_1, y_1,test_size=0.20, random_state=123)"
   ]
  },
  {
   "cell_type": "code",
   "execution_count": 143,
   "metadata": {
    "execution": {
     "iopub.execute_input": "2023-06-10T20:34:00.558641Z",
     "iopub.status.busy": "2023-06-10T20:34:00.558078Z",
     "iopub.status.idle": "2023-06-10T20:34:01.296899Z",
     "shell.execute_reply": "2023-06-10T20:34:01.295816Z",
     "shell.execute_reply.started": "2023-06-10T20:34:00.558601Z"
    }
   },
   "outputs": [
    {
     "data": {
      "text/html": [
       "<style>#sk-container-id-20 {color: black;background-color: white;}#sk-container-id-20 pre{padding: 0;}#sk-container-id-20 div.sk-toggleable {background-color: white;}#sk-container-id-20 label.sk-toggleable__label {cursor: pointer;display: block;width: 100%;margin-bottom: 0;padding: 0.3em;box-sizing: border-box;text-align: center;}#sk-container-id-20 label.sk-toggleable__label-arrow:before {content: \"▸\";float: left;margin-right: 0.25em;color: #696969;}#sk-container-id-20 label.sk-toggleable__label-arrow:hover:before {color: black;}#sk-container-id-20 div.sk-estimator:hover label.sk-toggleable__label-arrow:before {color: black;}#sk-container-id-20 div.sk-toggleable__content {max-height: 0;max-width: 0;overflow: hidden;text-align: left;background-color: #f0f8ff;}#sk-container-id-20 div.sk-toggleable__content pre {margin: 0.2em;color: black;border-radius: 0.25em;background-color: #f0f8ff;}#sk-container-id-20 input.sk-toggleable__control:checked~div.sk-toggleable__content {max-height: 200px;max-width: 100%;overflow: auto;}#sk-container-id-20 input.sk-toggleable__control:checked~label.sk-toggleable__label-arrow:before {content: \"▾\";}#sk-container-id-20 div.sk-estimator input.sk-toggleable__control:checked~label.sk-toggleable__label {background-color: #d4ebff;}#sk-container-id-20 div.sk-label input.sk-toggleable__control:checked~label.sk-toggleable__label {background-color: #d4ebff;}#sk-container-id-20 input.sk-hidden--visually {border: 0;clip: rect(1px 1px 1px 1px);clip: rect(1px, 1px, 1px, 1px);height: 1px;margin: -1px;overflow: hidden;padding: 0;position: absolute;width: 1px;}#sk-container-id-20 div.sk-estimator {font-family: monospace;background-color: #f0f8ff;border: 1px dotted black;border-radius: 0.25em;box-sizing: border-box;margin-bottom: 0.5em;}#sk-container-id-20 div.sk-estimator:hover {background-color: #d4ebff;}#sk-container-id-20 div.sk-parallel-item::after {content: \"\";width: 100%;border-bottom: 1px solid gray;flex-grow: 1;}#sk-container-id-20 div.sk-label:hover label.sk-toggleable__label {background-color: #d4ebff;}#sk-container-id-20 div.sk-serial::before {content: \"\";position: absolute;border-left: 1px solid gray;box-sizing: border-box;top: 0;bottom: 0;left: 50%;z-index: 0;}#sk-container-id-20 div.sk-serial {display: flex;flex-direction: column;align-items: center;background-color: white;padding-right: 0.2em;padding-left: 0.2em;position: relative;}#sk-container-id-20 div.sk-item {position: relative;z-index: 1;}#sk-container-id-20 div.sk-parallel {display: flex;align-items: stretch;justify-content: center;background-color: white;position: relative;}#sk-container-id-20 div.sk-item::before, #sk-container-id-20 div.sk-parallel-item::before {content: \"\";position: absolute;border-left: 1px solid gray;box-sizing: border-box;top: 0;bottom: 0;left: 50%;z-index: -1;}#sk-container-id-20 div.sk-parallel-item {display: flex;flex-direction: column;z-index: 1;position: relative;background-color: white;}#sk-container-id-20 div.sk-parallel-item:first-child::after {align-self: flex-end;width: 50%;}#sk-container-id-20 div.sk-parallel-item:last-child::after {align-self: flex-start;width: 50%;}#sk-container-id-20 div.sk-parallel-item:only-child::after {width: 0;}#sk-container-id-20 div.sk-dashed-wrapped {border: 1px dashed gray;margin: 0 0.4em 0.5em 0.4em;box-sizing: border-box;padding-bottom: 0.4em;background-color: white;}#sk-container-id-20 div.sk-label label {font-family: monospace;font-weight: bold;display: inline-block;line-height: 1.2em;}#sk-container-id-20 div.sk-label-container {text-align: center;}#sk-container-id-20 div.sk-container {/* jupyter's `normalize.less` sets `[hidden] { display: none; }` but bootstrap.min.css set `[hidden] { display: none !important; }` so we also need the `!important` here to be able to override the default hidden behavior on the sphinx rendered scikit-learn.org. See: https://github.com/scikit-learn/scikit-learn/issues/21755 */display: inline-block !important;position: relative;}#sk-container-id-20 div.sk-text-repr-fallback {display: none;}</style><div id=\"sk-container-id-20\" class=\"sk-top-container\"><div class=\"sk-text-repr-fallback\"><pre>XGBClassifier(base_score=None, booster=None, callbacks=None,\n",
       "              colsample_bylevel=None, colsample_bynode=None,\n",
       "              colsample_bytree=None, early_stopping_rounds=None,\n",
       "              enable_categorical=False, eval_metric=None, feature_types=None,\n",
       "              gamma=None, gpu_id=0, grow_policy=None, importance_type=None,\n",
       "              interaction_constraints=None, learning_rate=None, max_bin=None,\n",
       "              max_cat_threshold=None, max_cat_to_onehot=None,\n",
       "              max_delta_step=None, max_depth=None, max_leaves=None,\n",
       "              min_child_weight=None, missing=nan, monotone_constraints=None,\n",
       "              n_estimators=100, n_jobs=None, num_parallel_tree=None,\n",
       "              predictor=None, random_state=123, ...)</pre><b>In a Jupyter environment, please rerun this cell to show the HTML representation or trust the notebook. <br />On GitHub, the HTML representation is unable to render, please try loading this page with nbviewer.org.</b></div><div class=\"sk-container\" hidden><div class=\"sk-item\"><div class=\"sk-estimator sk-toggleable\"><input class=\"sk-toggleable__control sk-hidden--visually\" id=\"sk-estimator-id-30\" type=\"checkbox\" checked><label for=\"sk-estimator-id-30\" class=\"sk-toggleable__label sk-toggleable__label-arrow\">XGBClassifier</label><div class=\"sk-toggleable__content\"><pre>XGBClassifier(base_score=None, booster=None, callbacks=None,\n",
       "              colsample_bylevel=None, colsample_bynode=None,\n",
       "              colsample_bytree=None, early_stopping_rounds=None,\n",
       "              enable_categorical=False, eval_metric=None, feature_types=None,\n",
       "              gamma=None, gpu_id=0, grow_policy=None, importance_type=None,\n",
       "              interaction_constraints=None, learning_rate=None, max_bin=None,\n",
       "              max_cat_threshold=None, max_cat_to_onehot=None,\n",
       "              max_delta_step=None, max_depth=None, max_leaves=None,\n",
       "              min_child_weight=None, missing=nan, monotone_constraints=None,\n",
       "              n_estimators=100, n_jobs=None, num_parallel_tree=None,\n",
       "              predictor=None, random_state=123, ...)</pre></div></div></div></div></div>"
      ],
      "text/plain": [
       "XGBClassifier(base_score=None, booster=None, callbacks=None,\n",
       "              colsample_bylevel=None, colsample_bynode=None,\n",
       "              colsample_bytree=None, early_stopping_rounds=None,\n",
       "              enable_categorical=False, eval_metric=None, feature_types=None,\n",
       "              gamma=None, gpu_id=0, grow_policy=None, importance_type=None,\n",
       "              interaction_constraints=None, learning_rate=None, max_bin=None,\n",
       "              max_cat_threshold=None, max_cat_to_onehot=None,\n",
       "              max_delta_step=None, max_depth=None, max_leaves=None,\n",
       "              min_child_weight=None, missing=nan, monotone_constraints=None,\n",
       "              n_estimators=100, n_jobs=None, num_parallel_tree=None,\n",
       "              predictor=None, random_state=123, ...)"
      ]
     },
     "execution_count": 143,
     "metadata": {},
     "output_type": "execute_result"
    }
   ],
   "source": [
    "## class 1 model\n",
    "clf_xg_1=XGBClassifier(tree_method ='gpu_hist',gpu_id=0,random_state=123)\n",
    "clf_xg_1.fit(X_train_1, y_train_1)  ## Fitting data"
   ]
  },
  {
   "cell_type": "code",
   "execution_count": 144,
   "metadata": {
    "execution": {
     "iopub.execute_input": "2023-06-10T20:34:05.488646Z",
     "iopub.status.busy": "2023-06-10T20:34:05.488273Z",
     "iopub.status.idle": "2023-06-10T20:34:05.701444Z",
     "shell.execute_reply": "2023-06-10T20:34:05.700366Z",
     "shell.execute_reply.started": "2023-06-10T20:34:05.488617Z"
    }
   },
   "outputs": [
    {
     "name": "stdout",
     "output_type": "stream",
     "text": [
      "Validation Accuracy : 0.9993081180811808\n",
      "Train Accuracy : 1.0\n",
      "              precision    recall  f1-score   support\n",
      "\n",
      "           0       1.00      1.00      1.00     11097\n",
      "           1       1.00      1.00      1.00      6247\n",
      "\n",
      "    accuracy                           1.00     17344\n",
      "   macro avg       1.00      1.00      1.00     17344\n",
      "weighted avg       1.00      1.00      1.00     17344\n",
      "\n"
     ]
    }
   ],
   "source": [
    "# Predict on train and validation set\n",
    "y_train_pred = clf_xg_1.predict(X_train_1)\n",
    "y_val_pred = clf_xg_1.predict(X_val_1)\n",
    "## Accuracy\n",
    "print('Validation Accuracy :',accuracy_score(y_val_1, y_val_pred))\n",
    "print('Train Accuracy :',accuracy_score(y_train_1, y_train_pred))\n",
    "print(classification_report(y_val_pred, y_val_1))"
   ]
  },
  {
   "cell_type": "markdown",
   "metadata": {},
   "source": [
    "**Model for class 2**"
   ]
  },
  {
   "cell_type": "code",
   "execution_count": 145,
   "metadata": {
    "execution": {
     "iopub.execute_input": "2023-06-10T20:34:08.841174Z",
     "iopub.status.busy": "2023-06-10T20:34:08.840307Z",
     "iopub.status.idle": "2023-06-10T20:34:09.121343Z",
     "shell.execute_reply": "2023-06-10T20:34:09.120128Z",
     "shell.execute_reply.started": "2023-06-10T20:34:08.841133Z"
    }
   },
   "outputs": [],
   "source": [
    "data_2=Data_Sample(2,data)  ##Helper function to generate sample data for class 2\n",
    "data_2.label.replace([0,1,3,4,5,6,7,8,9,10,11,12],0,inplace=True)  ## replacing other lables as 0\n",
    "data_2.label.replace(2,1,inplace=True)  ## replacing lable2 as 1\n",
    "##Input and target\n",
    "x_2=data_2.drop('label',axis=1)\n",
    "y_2=data_2.label\n",
    "## Train and validation\n",
    "X_train_2, X_val_2, y_train_2, y_val_2 = train_test_split(x_2, y_2,test_size=0.10, random_state=123)"
   ]
  },
  {
   "cell_type": "code",
   "execution_count": 146,
   "metadata": {
    "execution": {
     "iopub.execute_input": "2023-06-10T20:34:11.375901Z",
     "iopub.status.busy": "2023-06-10T20:34:11.375525Z",
     "iopub.status.idle": "2023-06-10T20:34:11.955969Z",
     "shell.execute_reply": "2023-06-10T20:34:11.955245Z",
     "shell.execute_reply.started": "2023-06-10T20:34:11.375871Z"
    }
   },
   "outputs": [
    {
     "data": {
      "text/html": [
       "<style>#sk-container-id-21 {color: black;background-color: white;}#sk-container-id-21 pre{padding: 0;}#sk-container-id-21 div.sk-toggleable {background-color: white;}#sk-container-id-21 label.sk-toggleable__label {cursor: pointer;display: block;width: 100%;margin-bottom: 0;padding: 0.3em;box-sizing: border-box;text-align: center;}#sk-container-id-21 label.sk-toggleable__label-arrow:before {content: \"▸\";float: left;margin-right: 0.25em;color: #696969;}#sk-container-id-21 label.sk-toggleable__label-arrow:hover:before {color: black;}#sk-container-id-21 div.sk-estimator:hover label.sk-toggleable__label-arrow:before {color: black;}#sk-container-id-21 div.sk-toggleable__content {max-height: 0;max-width: 0;overflow: hidden;text-align: left;background-color: #f0f8ff;}#sk-container-id-21 div.sk-toggleable__content pre {margin: 0.2em;color: black;border-radius: 0.25em;background-color: #f0f8ff;}#sk-container-id-21 input.sk-toggleable__control:checked~div.sk-toggleable__content {max-height: 200px;max-width: 100%;overflow: auto;}#sk-container-id-21 input.sk-toggleable__control:checked~label.sk-toggleable__label-arrow:before {content: \"▾\";}#sk-container-id-21 div.sk-estimator input.sk-toggleable__control:checked~label.sk-toggleable__label {background-color: #d4ebff;}#sk-container-id-21 div.sk-label input.sk-toggleable__control:checked~label.sk-toggleable__label {background-color: #d4ebff;}#sk-container-id-21 input.sk-hidden--visually {border: 0;clip: rect(1px 1px 1px 1px);clip: rect(1px, 1px, 1px, 1px);height: 1px;margin: -1px;overflow: hidden;padding: 0;position: absolute;width: 1px;}#sk-container-id-21 div.sk-estimator {font-family: monospace;background-color: #f0f8ff;border: 1px dotted black;border-radius: 0.25em;box-sizing: border-box;margin-bottom: 0.5em;}#sk-container-id-21 div.sk-estimator:hover {background-color: #d4ebff;}#sk-container-id-21 div.sk-parallel-item::after {content: \"\";width: 100%;border-bottom: 1px solid gray;flex-grow: 1;}#sk-container-id-21 div.sk-label:hover label.sk-toggleable__label {background-color: #d4ebff;}#sk-container-id-21 div.sk-serial::before {content: \"\";position: absolute;border-left: 1px solid gray;box-sizing: border-box;top: 0;bottom: 0;left: 50%;z-index: 0;}#sk-container-id-21 div.sk-serial {display: flex;flex-direction: column;align-items: center;background-color: white;padding-right: 0.2em;padding-left: 0.2em;position: relative;}#sk-container-id-21 div.sk-item {position: relative;z-index: 1;}#sk-container-id-21 div.sk-parallel {display: flex;align-items: stretch;justify-content: center;background-color: white;position: relative;}#sk-container-id-21 div.sk-item::before, #sk-container-id-21 div.sk-parallel-item::before {content: \"\";position: absolute;border-left: 1px solid gray;box-sizing: border-box;top: 0;bottom: 0;left: 50%;z-index: -1;}#sk-container-id-21 div.sk-parallel-item {display: flex;flex-direction: column;z-index: 1;position: relative;background-color: white;}#sk-container-id-21 div.sk-parallel-item:first-child::after {align-self: flex-end;width: 50%;}#sk-container-id-21 div.sk-parallel-item:last-child::after {align-self: flex-start;width: 50%;}#sk-container-id-21 div.sk-parallel-item:only-child::after {width: 0;}#sk-container-id-21 div.sk-dashed-wrapped {border: 1px dashed gray;margin: 0 0.4em 0.5em 0.4em;box-sizing: border-box;padding-bottom: 0.4em;background-color: white;}#sk-container-id-21 div.sk-label label {font-family: monospace;font-weight: bold;display: inline-block;line-height: 1.2em;}#sk-container-id-21 div.sk-label-container {text-align: center;}#sk-container-id-21 div.sk-container {/* jupyter's `normalize.less` sets `[hidden] { display: none; }` but bootstrap.min.css set `[hidden] { display: none !important; }` so we also need the `!important` here to be able to override the default hidden behavior on the sphinx rendered scikit-learn.org. See: https://github.com/scikit-learn/scikit-learn/issues/21755 */display: inline-block !important;position: relative;}#sk-container-id-21 div.sk-text-repr-fallback {display: none;}</style><div id=\"sk-container-id-21\" class=\"sk-top-container\"><div class=\"sk-text-repr-fallback\"><pre>XGBClassifier(base_score=None, booster=None, callbacks=None,\n",
       "              colsample_bylevel=None, colsample_bynode=None,\n",
       "              colsample_bytree=None, early_stopping_rounds=None,\n",
       "              enable_categorical=False, eval_metric=None, feature_types=None,\n",
       "              gamma=None, gpu_id=0, grow_policy=None, importance_type=None,\n",
       "              interaction_constraints=None, learning_rate=None, max_bin=None,\n",
       "              max_cat_threshold=None, max_cat_to_onehot=None,\n",
       "              max_delta_step=None, max_depth=None, max_leaves=None,\n",
       "              min_child_weight=None, missing=nan, monotone_constraints=None,\n",
       "              n_estimators=100, n_jobs=None, num_parallel_tree=None,\n",
       "              predictor=None, random_state=123, ...)</pre><b>In a Jupyter environment, please rerun this cell to show the HTML representation or trust the notebook. <br />On GitHub, the HTML representation is unable to render, please try loading this page with nbviewer.org.</b></div><div class=\"sk-container\" hidden><div class=\"sk-item\"><div class=\"sk-estimator sk-toggleable\"><input class=\"sk-toggleable__control sk-hidden--visually\" id=\"sk-estimator-id-31\" type=\"checkbox\" checked><label for=\"sk-estimator-id-31\" class=\"sk-toggleable__label sk-toggleable__label-arrow\">XGBClassifier</label><div class=\"sk-toggleable__content\"><pre>XGBClassifier(base_score=None, booster=None, callbacks=None,\n",
       "              colsample_bylevel=None, colsample_bynode=None,\n",
       "              colsample_bytree=None, early_stopping_rounds=None,\n",
       "              enable_categorical=False, eval_metric=None, feature_types=None,\n",
       "              gamma=None, gpu_id=0, grow_policy=None, importance_type=None,\n",
       "              interaction_constraints=None, learning_rate=None, max_bin=None,\n",
       "              max_cat_threshold=None, max_cat_to_onehot=None,\n",
       "              max_delta_step=None, max_depth=None, max_leaves=None,\n",
       "              min_child_weight=None, missing=nan, monotone_constraints=None,\n",
       "              n_estimators=100, n_jobs=None, num_parallel_tree=None,\n",
       "              predictor=None, random_state=123, ...)</pre></div></div></div></div></div>"
      ],
      "text/plain": [
       "XGBClassifier(base_score=None, booster=None, callbacks=None,\n",
       "              colsample_bylevel=None, colsample_bynode=None,\n",
       "              colsample_bytree=None, early_stopping_rounds=None,\n",
       "              enable_categorical=False, eval_metric=None, feature_types=None,\n",
       "              gamma=None, gpu_id=0, grow_policy=None, importance_type=None,\n",
       "              interaction_constraints=None, learning_rate=None, max_bin=None,\n",
       "              max_cat_threshold=None, max_cat_to_onehot=None,\n",
       "              max_delta_step=None, max_depth=None, max_leaves=None,\n",
       "              min_child_weight=None, missing=nan, monotone_constraints=None,\n",
       "              n_estimators=100, n_jobs=None, num_parallel_tree=None,\n",
       "              predictor=None, random_state=123, ...)"
      ]
     },
     "execution_count": 146,
     "metadata": {},
     "output_type": "execute_result"
    }
   ],
   "source": [
    "## Class 2 model\n",
    "clf_xg_2=XGBClassifier(tree_method ='gpu_hist',gpu_id=0,random_state=123)\n",
    "clf_xg_2.fit(X_train_2, y_train_2)  ## Fitting data"
   ]
  },
  {
   "cell_type": "code",
   "execution_count": 147,
   "metadata": {
    "execution": {
     "iopub.execute_input": "2023-06-10T20:34:15.851538Z",
     "iopub.status.busy": "2023-06-10T20:34:15.851135Z",
     "iopub.status.idle": "2023-06-10T20:34:16.052767Z",
     "shell.execute_reply": "2023-06-10T20:34:16.051787Z",
     "shell.execute_reply.started": "2023-06-10T20:34:15.851507Z"
    }
   },
   "outputs": [
    {
     "name": "stdout",
     "output_type": "stream",
     "text": [
      "Validation Accuracy : 0.9981114258734656\n",
      "Train Accuracy : 1.0\n",
      "              precision    recall  f1-score   support\n",
      "\n",
      "           0       1.00      1.00      1.00      5351\n",
      "           1       1.00      0.99      1.00      3121\n",
      "\n",
      "    accuracy                           1.00      8472\n",
      "   macro avg       1.00      1.00      1.00      8472\n",
      "weighted avg       1.00      1.00      1.00      8472\n",
      "\n"
     ]
    }
   ],
   "source": [
    "# Predict on train and validation set\n",
    "y_train_pred = clf_xg_2.predict(X_train_2)\n",
    "y_val_pred = clf_xg_2.predict(X_val_2)\n",
    "## Accuracy\n",
    "print('Validation Accuracy :',accuracy_score(y_val_2, y_val_pred))\n",
    "print('Train Accuracy :',accuracy_score(y_train_2, y_train_pred))\n",
    "print(classification_report(y_val_pred, y_val_2))"
   ]
  },
  {
   "cell_type": "markdown",
   "metadata": {},
   "source": [
    "**Model for class 3**"
   ]
  },
  {
   "cell_type": "code",
   "execution_count": 148,
   "metadata": {
    "execution": {
     "iopub.execute_input": "2023-06-10T20:34:19.058373Z",
     "iopub.status.busy": "2023-06-10T20:34:19.057829Z",
     "iopub.status.idle": "2023-06-10T20:34:19.344385Z",
     "shell.execute_reply": "2023-06-10T20:34:19.343193Z",
     "shell.execute_reply.started": "2023-06-10T20:34:19.058341Z"
    }
   },
   "outputs": [],
   "source": [
    "data_3=Data_Sample(3,data)  ##Helper function to generate sample data for class 3\n",
    "data_3.label.replace([0,1,2,4,5,6,7,8,9,10,11,12],0,inplace=True)  ## replacing other lables as 0\n",
    "data_3.label.replace(3,1,inplace=True)  ## replacing lable 3 as 1\n",
    "## Input and target\n",
    "x_3=data_3.drop('label',axis=1)\n",
    "y_3=data_3.label\n",
    "## Train and validation\n",
    "X_train_3, X_val_3, y_train_3, y_val_3 = train_test_split(x_3, y_3,test_size=0.20, random_state=123)"
   ]
  },
  {
   "cell_type": "code",
   "execution_count": 149,
   "metadata": {
    "execution": {
     "iopub.execute_input": "2023-06-10T20:34:22.043675Z",
     "iopub.status.busy": "2023-06-10T20:34:22.042825Z",
     "iopub.status.idle": "2023-06-10T20:34:22.489280Z",
     "shell.execute_reply": "2023-06-10T20:34:22.488459Z",
     "shell.execute_reply.started": "2023-06-10T20:34:22.043640Z"
    }
   },
   "outputs": [
    {
     "data": {
      "text/html": [
       "<style>#sk-container-id-22 {color: black;background-color: white;}#sk-container-id-22 pre{padding: 0;}#sk-container-id-22 div.sk-toggleable {background-color: white;}#sk-container-id-22 label.sk-toggleable__label {cursor: pointer;display: block;width: 100%;margin-bottom: 0;padding: 0.3em;box-sizing: border-box;text-align: center;}#sk-container-id-22 label.sk-toggleable__label-arrow:before {content: \"▸\";float: left;margin-right: 0.25em;color: #696969;}#sk-container-id-22 label.sk-toggleable__label-arrow:hover:before {color: black;}#sk-container-id-22 div.sk-estimator:hover label.sk-toggleable__label-arrow:before {color: black;}#sk-container-id-22 div.sk-toggleable__content {max-height: 0;max-width: 0;overflow: hidden;text-align: left;background-color: #f0f8ff;}#sk-container-id-22 div.sk-toggleable__content pre {margin: 0.2em;color: black;border-radius: 0.25em;background-color: #f0f8ff;}#sk-container-id-22 input.sk-toggleable__control:checked~div.sk-toggleable__content {max-height: 200px;max-width: 100%;overflow: auto;}#sk-container-id-22 input.sk-toggleable__control:checked~label.sk-toggleable__label-arrow:before {content: \"▾\";}#sk-container-id-22 div.sk-estimator input.sk-toggleable__control:checked~label.sk-toggleable__label {background-color: #d4ebff;}#sk-container-id-22 div.sk-label input.sk-toggleable__control:checked~label.sk-toggleable__label {background-color: #d4ebff;}#sk-container-id-22 input.sk-hidden--visually {border: 0;clip: rect(1px 1px 1px 1px);clip: rect(1px, 1px, 1px, 1px);height: 1px;margin: -1px;overflow: hidden;padding: 0;position: absolute;width: 1px;}#sk-container-id-22 div.sk-estimator {font-family: monospace;background-color: #f0f8ff;border: 1px dotted black;border-radius: 0.25em;box-sizing: border-box;margin-bottom: 0.5em;}#sk-container-id-22 div.sk-estimator:hover {background-color: #d4ebff;}#sk-container-id-22 div.sk-parallel-item::after {content: \"\";width: 100%;border-bottom: 1px solid gray;flex-grow: 1;}#sk-container-id-22 div.sk-label:hover label.sk-toggleable__label {background-color: #d4ebff;}#sk-container-id-22 div.sk-serial::before {content: \"\";position: absolute;border-left: 1px solid gray;box-sizing: border-box;top: 0;bottom: 0;left: 50%;z-index: 0;}#sk-container-id-22 div.sk-serial {display: flex;flex-direction: column;align-items: center;background-color: white;padding-right: 0.2em;padding-left: 0.2em;position: relative;}#sk-container-id-22 div.sk-item {position: relative;z-index: 1;}#sk-container-id-22 div.sk-parallel {display: flex;align-items: stretch;justify-content: center;background-color: white;position: relative;}#sk-container-id-22 div.sk-item::before, #sk-container-id-22 div.sk-parallel-item::before {content: \"\";position: absolute;border-left: 1px solid gray;box-sizing: border-box;top: 0;bottom: 0;left: 50%;z-index: -1;}#sk-container-id-22 div.sk-parallel-item {display: flex;flex-direction: column;z-index: 1;position: relative;background-color: white;}#sk-container-id-22 div.sk-parallel-item:first-child::after {align-self: flex-end;width: 50%;}#sk-container-id-22 div.sk-parallel-item:last-child::after {align-self: flex-start;width: 50%;}#sk-container-id-22 div.sk-parallel-item:only-child::after {width: 0;}#sk-container-id-22 div.sk-dashed-wrapped {border: 1px dashed gray;margin: 0 0.4em 0.5em 0.4em;box-sizing: border-box;padding-bottom: 0.4em;background-color: white;}#sk-container-id-22 div.sk-label label {font-family: monospace;font-weight: bold;display: inline-block;line-height: 1.2em;}#sk-container-id-22 div.sk-label-container {text-align: center;}#sk-container-id-22 div.sk-container {/* jupyter's `normalize.less` sets `[hidden] { display: none; }` but bootstrap.min.css set `[hidden] { display: none !important; }` so we also need the `!important` here to be able to override the default hidden behavior on the sphinx rendered scikit-learn.org. See: https://github.com/scikit-learn/scikit-learn/issues/21755 */display: inline-block !important;position: relative;}#sk-container-id-22 div.sk-text-repr-fallback {display: none;}</style><div id=\"sk-container-id-22\" class=\"sk-top-container\"><div class=\"sk-text-repr-fallback\"><pre>XGBClassifier(base_score=None, booster=None, callbacks=None,\n",
       "              colsample_bylevel=None, colsample_bynode=None,\n",
       "              colsample_bytree=None, early_stopping_rounds=None,\n",
       "              enable_categorical=False, eval_metric=None, feature_types=None,\n",
       "              gamma=None, gpu_id=0, grow_policy=None, importance_type=None,\n",
       "              interaction_constraints=None, learning_rate=None, max_bin=None,\n",
       "              max_cat_threshold=None, max_cat_to_onehot=None,\n",
       "              max_delta_step=None, max_depth=None, max_leaves=None,\n",
       "              min_child_weight=None, missing=nan, monotone_constraints=None,\n",
       "              n_estimators=100, n_jobs=None, num_parallel_tree=None,\n",
       "              predictor=None, random_state=123, ...)</pre><b>In a Jupyter environment, please rerun this cell to show the HTML representation or trust the notebook. <br />On GitHub, the HTML representation is unable to render, please try loading this page with nbviewer.org.</b></div><div class=\"sk-container\" hidden><div class=\"sk-item\"><div class=\"sk-estimator sk-toggleable\"><input class=\"sk-toggleable__control sk-hidden--visually\" id=\"sk-estimator-id-32\" type=\"checkbox\" checked><label for=\"sk-estimator-id-32\" class=\"sk-toggleable__label sk-toggleable__label-arrow\">XGBClassifier</label><div class=\"sk-toggleable__content\"><pre>XGBClassifier(base_score=None, booster=None, callbacks=None,\n",
       "              colsample_bylevel=None, colsample_bynode=None,\n",
       "              colsample_bytree=None, early_stopping_rounds=None,\n",
       "              enable_categorical=False, eval_metric=None, feature_types=None,\n",
       "              gamma=None, gpu_id=0, grow_policy=None, importance_type=None,\n",
       "              interaction_constraints=None, learning_rate=None, max_bin=None,\n",
       "              max_cat_threshold=None, max_cat_to_onehot=None,\n",
       "              max_delta_step=None, max_depth=None, max_leaves=None,\n",
       "              min_child_weight=None, missing=nan, monotone_constraints=None,\n",
       "              n_estimators=100, n_jobs=None, num_parallel_tree=None,\n",
       "              predictor=None, random_state=123, ...)</pre></div></div></div></div></div>"
      ],
      "text/plain": [
       "XGBClassifier(base_score=None, booster=None, callbacks=None,\n",
       "              colsample_bylevel=None, colsample_bynode=None,\n",
       "              colsample_bytree=None, early_stopping_rounds=None,\n",
       "              enable_categorical=False, eval_metric=None, feature_types=None,\n",
       "              gamma=None, gpu_id=0, grow_policy=None, importance_type=None,\n",
       "              interaction_constraints=None, learning_rate=None, max_bin=None,\n",
       "              max_cat_threshold=None, max_cat_to_onehot=None,\n",
       "              max_delta_step=None, max_depth=None, max_leaves=None,\n",
       "              min_child_weight=None, missing=nan, monotone_constraints=None,\n",
       "              n_estimators=100, n_jobs=None, num_parallel_tree=None,\n",
       "              predictor=None, random_state=123, ...)"
      ]
     },
     "execution_count": 149,
     "metadata": {},
     "output_type": "execute_result"
    }
   ],
   "source": [
    "## class 3 model\n",
    "clf_xg_3=XGBClassifier(tree_method ='gpu_hist',gpu_id=0,random_state=123)\n",
    "clf_xg_3.fit(X_train_3, y_train_3) ## fitting data"
   ]
  },
  {
   "cell_type": "code",
   "execution_count": 150,
   "metadata": {
    "execution": {
     "iopub.execute_input": "2023-06-10T20:34:26.006147Z",
     "iopub.status.busy": "2023-06-10T20:34:26.005754Z",
     "iopub.status.idle": "2023-06-10T20:34:26.197351Z",
     "shell.execute_reply": "2023-06-10T20:34:26.196406Z",
     "shell.execute_reply.started": "2023-06-10T20:34:26.006116Z"
    }
   },
   "outputs": [
    {
     "name": "stdout",
     "output_type": "stream",
     "text": [
      "Validation Accuracy : 0.9989966949952785\n",
      "Train Accuracy : 1.0\n",
      "              precision    recall  f1-score   support\n",
      "\n",
      "           0       1.00      1.00      1.00     10697\n",
      "           1       1.00      1.00      1.00      6247\n",
      "\n",
      "    accuracy                           1.00     16944\n",
      "   macro avg       1.00      1.00      1.00     16944\n",
      "weighted avg       1.00      1.00      1.00     16944\n",
      "\n"
     ]
    }
   ],
   "source": [
    "# Predict on train and validation set\n",
    "y_train_pred = clf_xg_3.predict(X_train_3)\n",
    "y_val_pred = clf_xg_3.predict(X_val_3)\n",
    "## Accuracy\n",
    "print('Validation Accuracy :',accuracy_score(y_val_3, y_val_pred))\n",
    "print('Train Accuracy :',accuracy_score(y_train_3, y_train_pred))\n",
    "print(classification_report(y_val_pred, y_val_3))"
   ]
  },
  {
   "cell_type": "markdown",
   "metadata": {},
   "source": [
    "**Model for class 4**"
   ]
  },
  {
   "cell_type": "code",
   "execution_count": 151,
   "metadata": {
    "execution": {
     "iopub.execute_input": "2023-06-10T20:34:29.297359Z",
     "iopub.status.busy": "2023-06-10T20:34:29.297000Z",
     "iopub.status.idle": "2023-06-10T20:34:29.499986Z",
     "shell.execute_reply": "2023-06-10T20:34:29.498988Z",
     "shell.execute_reply.started": "2023-06-10T20:34:29.297332Z"
    }
   },
   "outputs": [],
   "source": [
    "data_4=Data_Sample(4,data)  ##Helper function to generate sample data for class 4\n",
    "data_4.label.replace([0,1,2,3,5,6,7,8,9,10,11,12],0,inplace=True)  ## replacing other lables as 0\n",
    "data_4.label.replace(4,1,inplace=True)  ## replacing  lable 4 as 1\n",
    "## Input and target\n",
    "x_4=data_4.drop('label',axis=1)\n",
    "y_4=data_4.label\n",
    "## Train and validation\n",
    "X_train_4, X_val_4, y_train_4, y_val_4 = train_test_split(x_4, y_4,test_size=0.20, random_state=123)"
   ]
  },
  {
   "cell_type": "code",
   "execution_count": 152,
   "metadata": {
    "execution": {
     "iopub.execute_input": "2023-06-10T20:34:32.339653Z",
     "iopub.status.busy": "2023-06-10T20:34:32.338592Z",
     "iopub.status.idle": "2023-06-10T20:34:32.832291Z",
     "shell.execute_reply": "2023-06-10T20:34:32.831487Z",
     "shell.execute_reply.started": "2023-06-10T20:34:32.339611Z"
    }
   },
   "outputs": [
    {
     "data": {
      "text/html": [
       "<style>#sk-container-id-23 {color: black;background-color: white;}#sk-container-id-23 pre{padding: 0;}#sk-container-id-23 div.sk-toggleable {background-color: white;}#sk-container-id-23 label.sk-toggleable__label {cursor: pointer;display: block;width: 100%;margin-bottom: 0;padding: 0.3em;box-sizing: border-box;text-align: center;}#sk-container-id-23 label.sk-toggleable__label-arrow:before {content: \"▸\";float: left;margin-right: 0.25em;color: #696969;}#sk-container-id-23 label.sk-toggleable__label-arrow:hover:before {color: black;}#sk-container-id-23 div.sk-estimator:hover label.sk-toggleable__label-arrow:before {color: black;}#sk-container-id-23 div.sk-toggleable__content {max-height: 0;max-width: 0;overflow: hidden;text-align: left;background-color: #f0f8ff;}#sk-container-id-23 div.sk-toggleable__content pre {margin: 0.2em;color: black;border-radius: 0.25em;background-color: #f0f8ff;}#sk-container-id-23 input.sk-toggleable__control:checked~div.sk-toggleable__content {max-height: 200px;max-width: 100%;overflow: auto;}#sk-container-id-23 input.sk-toggleable__control:checked~label.sk-toggleable__label-arrow:before {content: \"▾\";}#sk-container-id-23 div.sk-estimator input.sk-toggleable__control:checked~label.sk-toggleable__label {background-color: #d4ebff;}#sk-container-id-23 div.sk-label input.sk-toggleable__control:checked~label.sk-toggleable__label {background-color: #d4ebff;}#sk-container-id-23 input.sk-hidden--visually {border: 0;clip: rect(1px 1px 1px 1px);clip: rect(1px, 1px, 1px, 1px);height: 1px;margin: -1px;overflow: hidden;padding: 0;position: absolute;width: 1px;}#sk-container-id-23 div.sk-estimator {font-family: monospace;background-color: #f0f8ff;border: 1px dotted black;border-radius: 0.25em;box-sizing: border-box;margin-bottom: 0.5em;}#sk-container-id-23 div.sk-estimator:hover {background-color: #d4ebff;}#sk-container-id-23 div.sk-parallel-item::after {content: \"\";width: 100%;border-bottom: 1px solid gray;flex-grow: 1;}#sk-container-id-23 div.sk-label:hover label.sk-toggleable__label {background-color: #d4ebff;}#sk-container-id-23 div.sk-serial::before {content: \"\";position: absolute;border-left: 1px solid gray;box-sizing: border-box;top: 0;bottom: 0;left: 50%;z-index: 0;}#sk-container-id-23 div.sk-serial {display: flex;flex-direction: column;align-items: center;background-color: white;padding-right: 0.2em;padding-left: 0.2em;position: relative;}#sk-container-id-23 div.sk-item {position: relative;z-index: 1;}#sk-container-id-23 div.sk-parallel {display: flex;align-items: stretch;justify-content: center;background-color: white;position: relative;}#sk-container-id-23 div.sk-item::before, #sk-container-id-23 div.sk-parallel-item::before {content: \"\";position: absolute;border-left: 1px solid gray;box-sizing: border-box;top: 0;bottom: 0;left: 50%;z-index: -1;}#sk-container-id-23 div.sk-parallel-item {display: flex;flex-direction: column;z-index: 1;position: relative;background-color: white;}#sk-container-id-23 div.sk-parallel-item:first-child::after {align-self: flex-end;width: 50%;}#sk-container-id-23 div.sk-parallel-item:last-child::after {align-self: flex-start;width: 50%;}#sk-container-id-23 div.sk-parallel-item:only-child::after {width: 0;}#sk-container-id-23 div.sk-dashed-wrapped {border: 1px dashed gray;margin: 0 0.4em 0.5em 0.4em;box-sizing: border-box;padding-bottom: 0.4em;background-color: white;}#sk-container-id-23 div.sk-label label {font-family: monospace;font-weight: bold;display: inline-block;line-height: 1.2em;}#sk-container-id-23 div.sk-label-container {text-align: center;}#sk-container-id-23 div.sk-container {/* jupyter's `normalize.less` sets `[hidden] { display: none; }` but bootstrap.min.css set `[hidden] { display: none !important; }` so we also need the `!important` here to be able to override the default hidden behavior on the sphinx rendered scikit-learn.org. See: https://github.com/scikit-learn/scikit-learn/issues/21755 */display: inline-block !important;position: relative;}#sk-container-id-23 div.sk-text-repr-fallback {display: none;}</style><div id=\"sk-container-id-23\" class=\"sk-top-container\"><div class=\"sk-text-repr-fallback\"><pre>XGBClassifier(base_score=None, booster=None, callbacks=None,\n",
       "              colsample_bylevel=None, colsample_bynode=None,\n",
       "              colsample_bytree=None, early_stopping_rounds=None,\n",
       "              enable_categorical=False, eval_metric=None, feature_types=None,\n",
       "              gamma=None, gpu_id=0, grow_policy=None, importance_type=None,\n",
       "              interaction_constraints=None, learning_rate=None, max_bin=None,\n",
       "              max_cat_threshold=None, max_cat_to_onehot=None,\n",
       "              max_delta_step=None, max_depth=None, max_leaves=None,\n",
       "              min_child_weight=None, missing=nan, monotone_constraints=None,\n",
       "              n_estimators=100, n_jobs=None, num_parallel_tree=None,\n",
       "              predictor=None, random_state=123, ...)</pre><b>In a Jupyter environment, please rerun this cell to show the HTML representation or trust the notebook. <br />On GitHub, the HTML representation is unable to render, please try loading this page with nbviewer.org.</b></div><div class=\"sk-container\" hidden><div class=\"sk-item\"><div class=\"sk-estimator sk-toggleable\"><input class=\"sk-toggleable__control sk-hidden--visually\" id=\"sk-estimator-id-33\" type=\"checkbox\" checked><label for=\"sk-estimator-id-33\" class=\"sk-toggleable__label sk-toggleable__label-arrow\">XGBClassifier</label><div class=\"sk-toggleable__content\"><pre>XGBClassifier(base_score=None, booster=None, callbacks=None,\n",
       "              colsample_bylevel=None, colsample_bynode=None,\n",
       "              colsample_bytree=None, early_stopping_rounds=None,\n",
       "              enable_categorical=False, eval_metric=None, feature_types=None,\n",
       "              gamma=None, gpu_id=0, grow_policy=None, importance_type=None,\n",
       "              interaction_constraints=None, learning_rate=None, max_bin=None,\n",
       "              max_cat_threshold=None, max_cat_to_onehot=None,\n",
       "              max_delta_step=None, max_depth=None, max_leaves=None,\n",
       "              min_child_weight=None, missing=nan, monotone_constraints=None,\n",
       "              n_estimators=100, n_jobs=None, num_parallel_tree=None,\n",
       "              predictor=None, random_state=123, ...)</pre></div></div></div></div></div>"
      ],
      "text/plain": [
       "XGBClassifier(base_score=None, booster=None, callbacks=None,\n",
       "              colsample_bylevel=None, colsample_bynode=None,\n",
       "              colsample_bytree=None, early_stopping_rounds=None,\n",
       "              enable_categorical=False, eval_metric=None, feature_types=None,\n",
       "              gamma=None, gpu_id=0, grow_policy=None, importance_type=None,\n",
       "              interaction_constraints=None, learning_rate=None, max_bin=None,\n",
       "              max_cat_threshold=None, max_cat_to_onehot=None,\n",
       "              max_delta_step=None, max_depth=None, max_leaves=None,\n",
       "              min_child_weight=None, missing=nan, monotone_constraints=None,\n",
       "              n_estimators=100, n_jobs=None, num_parallel_tree=None,\n",
       "              predictor=None, random_state=123, ...)"
      ]
     },
     "execution_count": 152,
     "metadata": {},
     "output_type": "execute_result"
    }
   ],
   "source": [
    "## Class 4 model\n",
    "clf_xg_4=XGBClassifier(tree_method ='gpu_hist',gpu_id=0,random_state=123)\n",
    "clf_xg_4.fit(X_train_4, y_train_4)  ## Fitting data"
   ]
  },
  {
   "cell_type": "code",
   "execution_count": 153,
   "metadata": {
    "execution": {
     "iopub.execute_input": "2023-06-10T20:34:36.590822Z",
     "iopub.status.busy": "2023-06-10T20:34:36.590453Z",
     "iopub.status.idle": "2023-06-10T20:34:36.803183Z",
     "shell.execute_reply": "2023-06-10T20:34:36.802118Z",
     "shell.execute_reply.started": "2023-06-10T20:34:36.590791Z"
    }
   },
   "outputs": [
    {
     "name": "stdout",
     "output_type": "stream",
     "text": [
      "Validation Accuracy : 0.9961048158640227\n",
      "Train Accuracy : 0.9999114730878187\n",
      "              precision    recall  f1-score   support\n",
      "\n",
      "           0       0.99      1.00      1.00     10654\n",
      "           1       1.00      0.99      0.99      6290\n",
      "\n",
      "    accuracy                           1.00     16944\n",
      "   macro avg       1.00      0.99      1.00     16944\n",
      "weighted avg       1.00      1.00      1.00     16944\n",
      "\n"
     ]
    }
   ],
   "source": [
    "# Predict on train and validation set\n",
    "y_train_pred = clf_xg_4.predict(X_train_4)\n",
    "y_val_pred = clf_xg_4.predict(X_val_4)\n",
    "## Accuracy\n",
    "print('Validation Accuracy :',accuracy_score(y_val_4, y_val_pred))\n",
    "print('Train Accuracy :',accuracy_score(y_train_4, y_train_pred))\n",
    "print(classification_report(y_val_pred, y_val_4))"
   ]
  },
  {
   "cell_type": "markdown",
   "metadata": {},
   "source": [
    "**Model for class 5**"
   ]
  },
  {
   "cell_type": "code",
   "execution_count": 154,
   "metadata": {
    "execution": {
     "iopub.execute_input": "2023-06-10T20:34:39.686460Z",
     "iopub.status.busy": "2023-06-10T20:34:39.685885Z",
     "iopub.status.idle": "2023-06-10T20:34:39.961902Z",
     "shell.execute_reply": "2023-06-10T20:34:39.960665Z",
     "shell.execute_reply.started": "2023-06-10T20:34:39.686410Z"
    }
   },
   "outputs": [],
   "source": [
    "data_5=Data_Sample(5,data)  ##Helper function to generate sample data for class 5\n",
    "data_5.label.replace([0,1,2,3,4,6,7,8,9,10,11,12],0,inplace=True)  ## replacing other lables as 0\n",
    "data_5.label.replace(5,1,inplace=True)  ## replacing lable 5 as 1\n",
    "## Input and target\n",
    "x_5=data_5.drop('label',axis=1)\n",
    "y_5=data_5.label\n",
    "##Train and validation\n",
    "X_train_5, X_val_5, y_train_5, y_val_5 = train_test_split(x_5, y_5,test_size=0.20, random_state=123)"
   ]
  },
  {
   "cell_type": "code",
   "execution_count": 155,
   "metadata": {
    "execution": {
     "iopub.execute_input": "2023-06-10T20:34:42.637550Z",
     "iopub.status.busy": "2023-06-10T20:34:42.636842Z",
     "iopub.status.idle": "2023-06-10T20:34:43.131641Z",
     "shell.execute_reply": "2023-06-10T20:34:43.130955Z",
     "shell.execute_reply.started": "2023-06-10T20:34:42.637517Z"
    }
   },
   "outputs": [
    {
     "data": {
      "text/html": [
       "<style>#sk-container-id-24 {color: black;background-color: white;}#sk-container-id-24 pre{padding: 0;}#sk-container-id-24 div.sk-toggleable {background-color: white;}#sk-container-id-24 label.sk-toggleable__label {cursor: pointer;display: block;width: 100%;margin-bottom: 0;padding: 0.3em;box-sizing: border-box;text-align: center;}#sk-container-id-24 label.sk-toggleable__label-arrow:before {content: \"▸\";float: left;margin-right: 0.25em;color: #696969;}#sk-container-id-24 label.sk-toggleable__label-arrow:hover:before {color: black;}#sk-container-id-24 div.sk-estimator:hover label.sk-toggleable__label-arrow:before {color: black;}#sk-container-id-24 div.sk-toggleable__content {max-height: 0;max-width: 0;overflow: hidden;text-align: left;background-color: #f0f8ff;}#sk-container-id-24 div.sk-toggleable__content pre {margin: 0.2em;color: black;border-radius: 0.25em;background-color: #f0f8ff;}#sk-container-id-24 input.sk-toggleable__control:checked~div.sk-toggleable__content {max-height: 200px;max-width: 100%;overflow: auto;}#sk-container-id-24 input.sk-toggleable__control:checked~label.sk-toggleable__label-arrow:before {content: \"▾\";}#sk-container-id-24 div.sk-estimator input.sk-toggleable__control:checked~label.sk-toggleable__label {background-color: #d4ebff;}#sk-container-id-24 div.sk-label input.sk-toggleable__control:checked~label.sk-toggleable__label {background-color: #d4ebff;}#sk-container-id-24 input.sk-hidden--visually {border: 0;clip: rect(1px 1px 1px 1px);clip: rect(1px, 1px, 1px, 1px);height: 1px;margin: -1px;overflow: hidden;padding: 0;position: absolute;width: 1px;}#sk-container-id-24 div.sk-estimator {font-family: monospace;background-color: #f0f8ff;border: 1px dotted black;border-radius: 0.25em;box-sizing: border-box;margin-bottom: 0.5em;}#sk-container-id-24 div.sk-estimator:hover {background-color: #d4ebff;}#sk-container-id-24 div.sk-parallel-item::after {content: \"\";width: 100%;border-bottom: 1px solid gray;flex-grow: 1;}#sk-container-id-24 div.sk-label:hover label.sk-toggleable__label {background-color: #d4ebff;}#sk-container-id-24 div.sk-serial::before {content: \"\";position: absolute;border-left: 1px solid gray;box-sizing: border-box;top: 0;bottom: 0;left: 50%;z-index: 0;}#sk-container-id-24 div.sk-serial {display: flex;flex-direction: column;align-items: center;background-color: white;padding-right: 0.2em;padding-left: 0.2em;position: relative;}#sk-container-id-24 div.sk-item {position: relative;z-index: 1;}#sk-container-id-24 div.sk-parallel {display: flex;align-items: stretch;justify-content: center;background-color: white;position: relative;}#sk-container-id-24 div.sk-item::before, #sk-container-id-24 div.sk-parallel-item::before {content: \"\";position: absolute;border-left: 1px solid gray;box-sizing: border-box;top: 0;bottom: 0;left: 50%;z-index: -1;}#sk-container-id-24 div.sk-parallel-item {display: flex;flex-direction: column;z-index: 1;position: relative;background-color: white;}#sk-container-id-24 div.sk-parallel-item:first-child::after {align-self: flex-end;width: 50%;}#sk-container-id-24 div.sk-parallel-item:last-child::after {align-self: flex-start;width: 50%;}#sk-container-id-24 div.sk-parallel-item:only-child::after {width: 0;}#sk-container-id-24 div.sk-dashed-wrapped {border: 1px dashed gray;margin: 0 0.4em 0.5em 0.4em;box-sizing: border-box;padding-bottom: 0.4em;background-color: white;}#sk-container-id-24 div.sk-label label {font-family: monospace;font-weight: bold;display: inline-block;line-height: 1.2em;}#sk-container-id-24 div.sk-label-container {text-align: center;}#sk-container-id-24 div.sk-container {/* jupyter's `normalize.less` sets `[hidden] { display: none; }` but bootstrap.min.css set `[hidden] { display: none !important; }` so we also need the `!important` here to be able to override the default hidden behavior on the sphinx rendered scikit-learn.org. See: https://github.com/scikit-learn/scikit-learn/issues/21755 */display: inline-block !important;position: relative;}#sk-container-id-24 div.sk-text-repr-fallback {display: none;}</style><div id=\"sk-container-id-24\" class=\"sk-top-container\"><div class=\"sk-text-repr-fallback\"><pre>XGBClassifier(base_score=None, booster=None, callbacks=None,\n",
       "              colsample_bylevel=None, colsample_bynode=None,\n",
       "              colsample_bytree=None, early_stopping_rounds=None,\n",
       "              enable_categorical=False, eval_metric=None, feature_types=None,\n",
       "              gamma=None, gpu_id=0, grow_policy=None, importance_type=None,\n",
       "              interaction_constraints=None, learning_rate=None, max_bin=None,\n",
       "              max_cat_threshold=None, max_cat_to_onehot=None,\n",
       "              max_delta_step=None, max_depth=None, max_leaves=None,\n",
       "              min_child_weight=None, missing=nan, monotone_constraints=None,\n",
       "              n_estimators=100, n_jobs=None, num_parallel_tree=None,\n",
       "              predictor=None, random_state=123, ...)</pre><b>In a Jupyter environment, please rerun this cell to show the HTML representation or trust the notebook. <br />On GitHub, the HTML representation is unable to render, please try loading this page with nbviewer.org.</b></div><div class=\"sk-container\" hidden><div class=\"sk-item\"><div class=\"sk-estimator sk-toggleable\"><input class=\"sk-toggleable__control sk-hidden--visually\" id=\"sk-estimator-id-34\" type=\"checkbox\" checked><label for=\"sk-estimator-id-34\" class=\"sk-toggleable__label sk-toggleable__label-arrow\">XGBClassifier</label><div class=\"sk-toggleable__content\"><pre>XGBClassifier(base_score=None, booster=None, callbacks=None,\n",
       "              colsample_bylevel=None, colsample_bynode=None,\n",
       "              colsample_bytree=None, early_stopping_rounds=None,\n",
       "              enable_categorical=False, eval_metric=None, feature_types=None,\n",
       "              gamma=None, gpu_id=0, grow_policy=None, importance_type=None,\n",
       "              interaction_constraints=None, learning_rate=None, max_bin=None,\n",
       "              max_cat_threshold=None, max_cat_to_onehot=None,\n",
       "              max_delta_step=None, max_depth=None, max_leaves=None,\n",
       "              min_child_weight=None, missing=nan, monotone_constraints=None,\n",
       "              n_estimators=100, n_jobs=None, num_parallel_tree=None,\n",
       "              predictor=None, random_state=123, ...)</pre></div></div></div></div></div>"
      ],
      "text/plain": [
       "XGBClassifier(base_score=None, booster=None, callbacks=None,\n",
       "              colsample_bylevel=None, colsample_bynode=None,\n",
       "              colsample_bytree=None, early_stopping_rounds=None,\n",
       "              enable_categorical=False, eval_metric=None, feature_types=None,\n",
       "              gamma=None, gpu_id=0, grow_policy=None, importance_type=None,\n",
       "              interaction_constraints=None, learning_rate=None, max_bin=None,\n",
       "              max_cat_threshold=None, max_cat_to_onehot=None,\n",
       "              max_delta_step=None, max_depth=None, max_leaves=None,\n",
       "              min_child_weight=None, missing=nan, monotone_constraints=None,\n",
       "              n_estimators=100, n_jobs=None, num_parallel_tree=None,\n",
       "              predictor=None, random_state=123, ...)"
      ]
     },
     "execution_count": 155,
     "metadata": {},
     "output_type": "execute_result"
    }
   ],
   "source": [
    "## class 5 Model\n",
    "clf_xg_5=XGBClassifier(tree_method ='gpu_hist',gpu_id=0,random_state=123)\n",
    "clf_xg_5.fit(X_train_5, y_train_5)  ## Fitting data"
   ]
  },
  {
   "cell_type": "code",
   "execution_count": 156,
   "metadata": {
    "execution": {
     "iopub.execute_input": "2023-06-10T20:34:46.822396Z",
     "iopub.status.busy": "2023-06-10T20:34:46.822031Z",
     "iopub.status.idle": "2023-06-10T20:34:47.033255Z",
     "shell.execute_reply": "2023-06-10T20:34:47.032229Z",
     "shell.execute_reply.started": "2023-06-10T20:34:46.822368Z"
    }
   },
   "outputs": [
    {
     "name": "stdout",
     "output_type": "stream",
     "text": [
      "Validation Accuracy : 0.9953966005665722\n",
      "Train Accuracy : 0.9988639046270066\n",
      "              precision    recall  f1-score   support\n",
      "\n",
      "           0       0.99      1.00      1.00     10670\n",
      "           1       1.00      0.99      0.99      6274\n",
      "\n",
      "    accuracy                           1.00     16944\n",
      "   macro avg       1.00      0.99      1.00     16944\n",
      "weighted avg       1.00      1.00      1.00     16944\n",
      "\n"
     ]
    }
   ],
   "source": [
    "# Predict on train and validation set\n",
    "y_train_pred = clf_xg_5.predict(X_train_5)\n",
    "y_val_pred = clf_xg_5.predict(X_val_5)\n",
    "## Accuracy\n",
    "print('Validation Accuracy :',accuracy_score(y_val_5, y_val_pred))\n",
    "print('Train Accuracy :',accuracy_score(y_train_5, y_train_pred))\n",
    "print(classification_report(y_val_pred, y_val_5))"
   ]
  },
  {
   "cell_type": "markdown",
   "metadata": {},
   "source": [
    "**Model for class 6**"
   ]
  },
  {
   "cell_type": "code",
   "execution_count": 157,
   "metadata": {
    "execution": {
     "iopub.execute_input": "2023-06-10T20:34:49.783567Z",
     "iopub.status.busy": "2023-06-10T20:34:49.783088Z",
     "iopub.status.idle": "2023-06-10T20:34:50.052823Z",
     "shell.execute_reply": "2023-06-10T20:34:50.051748Z",
     "shell.execute_reply.started": "2023-06-10T20:34:49.783526Z"
    }
   },
   "outputs": [],
   "source": [
    "data_6=Data_Sample(6,data)  ##Helper function to generate sample data for class 6\n",
    "data_6.label.replace([0,1,2,3,4,5,7,8,9,10,11,12],0,inplace=True)  ## replacing other lables as 0\n",
    "data_6.label.replace(6,1,inplace=True)  ## replacing lable 6 as 1\n",
    "##Input and target\n",
    "x_6=data_6.drop('label',axis=1)\n",
    "y_6=data_6.label\n",
    "## Train and validation\n",
    "X_train_6, X_val_6, y_train_6, y_val_6 = train_test_split(x_6, y_6,test_size=0.20, random_state=123)"
   ]
  },
  {
   "cell_type": "code",
   "execution_count": 158,
   "metadata": {
    "execution": {
     "iopub.execute_input": "2023-06-10T20:34:52.818875Z",
     "iopub.status.busy": "2023-06-10T20:34:52.818397Z",
     "iopub.status.idle": "2023-06-10T20:34:53.373821Z",
     "shell.execute_reply": "2023-06-10T20:34:53.372963Z",
     "shell.execute_reply.started": "2023-06-10T20:34:52.818829Z"
    }
   },
   "outputs": [
    {
     "data": {
      "text/html": [
       "<style>#sk-container-id-25 {color: black;background-color: white;}#sk-container-id-25 pre{padding: 0;}#sk-container-id-25 div.sk-toggleable {background-color: white;}#sk-container-id-25 label.sk-toggleable__label {cursor: pointer;display: block;width: 100%;margin-bottom: 0;padding: 0.3em;box-sizing: border-box;text-align: center;}#sk-container-id-25 label.sk-toggleable__label-arrow:before {content: \"▸\";float: left;margin-right: 0.25em;color: #696969;}#sk-container-id-25 label.sk-toggleable__label-arrow:hover:before {color: black;}#sk-container-id-25 div.sk-estimator:hover label.sk-toggleable__label-arrow:before {color: black;}#sk-container-id-25 div.sk-toggleable__content {max-height: 0;max-width: 0;overflow: hidden;text-align: left;background-color: #f0f8ff;}#sk-container-id-25 div.sk-toggleable__content pre {margin: 0.2em;color: black;border-radius: 0.25em;background-color: #f0f8ff;}#sk-container-id-25 input.sk-toggleable__control:checked~div.sk-toggleable__content {max-height: 200px;max-width: 100%;overflow: auto;}#sk-container-id-25 input.sk-toggleable__control:checked~label.sk-toggleable__label-arrow:before {content: \"▾\";}#sk-container-id-25 div.sk-estimator input.sk-toggleable__control:checked~label.sk-toggleable__label {background-color: #d4ebff;}#sk-container-id-25 div.sk-label input.sk-toggleable__control:checked~label.sk-toggleable__label {background-color: #d4ebff;}#sk-container-id-25 input.sk-hidden--visually {border: 0;clip: rect(1px 1px 1px 1px);clip: rect(1px, 1px, 1px, 1px);height: 1px;margin: -1px;overflow: hidden;padding: 0;position: absolute;width: 1px;}#sk-container-id-25 div.sk-estimator {font-family: monospace;background-color: #f0f8ff;border: 1px dotted black;border-radius: 0.25em;box-sizing: border-box;margin-bottom: 0.5em;}#sk-container-id-25 div.sk-estimator:hover {background-color: #d4ebff;}#sk-container-id-25 div.sk-parallel-item::after {content: \"\";width: 100%;border-bottom: 1px solid gray;flex-grow: 1;}#sk-container-id-25 div.sk-label:hover label.sk-toggleable__label {background-color: #d4ebff;}#sk-container-id-25 div.sk-serial::before {content: \"\";position: absolute;border-left: 1px solid gray;box-sizing: border-box;top: 0;bottom: 0;left: 50%;z-index: 0;}#sk-container-id-25 div.sk-serial {display: flex;flex-direction: column;align-items: center;background-color: white;padding-right: 0.2em;padding-left: 0.2em;position: relative;}#sk-container-id-25 div.sk-item {position: relative;z-index: 1;}#sk-container-id-25 div.sk-parallel {display: flex;align-items: stretch;justify-content: center;background-color: white;position: relative;}#sk-container-id-25 div.sk-item::before, #sk-container-id-25 div.sk-parallel-item::before {content: \"\";position: absolute;border-left: 1px solid gray;box-sizing: border-box;top: 0;bottom: 0;left: 50%;z-index: -1;}#sk-container-id-25 div.sk-parallel-item {display: flex;flex-direction: column;z-index: 1;position: relative;background-color: white;}#sk-container-id-25 div.sk-parallel-item:first-child::after {align-self: flex-end;width: 50%;}#sk-container-id-25 div.sk-parallel-item:last-child::after {align-self: flex-start;width: 50%;}#sk-container-id-25 div.sk-parallel-item:only-child::after {width: 0;}#sk-container-id-25 div.sk-dashed-wrapped {border: 1px dashed gray;margin: 0 0.4em 0.5em 0.4em;box-sizing: border-box;padding-bottom: 0.4em;background-color: white;}#sk-container-id-25 div.sk-label label {font-family: monospace;font-weight: bold;display: inline-block;line-height: 1.2em;}#sk-container-id-25 div.sk-label-container {text-align: center;}#sk-container-id-25 div.sk-container {/* jupyter's `normalize.less` sets `[hidden] { display: none; }` but bootstrap.min.css set `[hidden] { display: none !important; }` so we also need the `!important` here to be able to override the default hidden behavior on the sphinx rendered scikit-learn.org. See: https://github.com/scikit-learn/scikit-learn/issues/21755 */display: inline-block !important;position: relative;}#sk-container-id-25 div.sk-text-repr-fallback {display: none;}</style><div id=\"sk-container-id-25\" class=\"sk-top-container\"><div class=\"sk-text-repr-fallback\"><pre>XGBClassifier(base_score=None, booster=None, callbacks=None,\n",
       "              colsample_bylevel=None, colsample_bynode=None,\n",
       "              colsample_bytree=None, early_stopping_rounds=None,\n",
       "              enable_categorical=False, eval_metric=None, feature_types=None,\n",
       "              gamma=None, gpu_id=0, grow_policy=None, importance_type=None,\n",
       "              interaction_constraints=None, learning_rate=None, max_bin=None,\n",
       "              max_cat_threshold=None, max_cat_to_onehot=None,\n",
       "              max_delta_step=None, max_depth=None, max_leaves=None,\n",
       "              min_child_weight=None, missing=nan, monotone_constraints=None,\n",
       "              n_estimators=100, n_jobs=None, num_parallel_tree=None,\n",
       "              predictor=None, random_state=123, ...)</pre><b>In a Jupyter environment, please rerun this cell to show the HTML representation or trust the notebook. <br />On GitHub, the HTML representation is unable to render, please try loading this page with nbviewer.org.</b></div><div class=\"sk-container\" hidden><div class=\"sk-item\"><div class=\"sk-estimator sk-toggleable\"><input class=\"sk-toggleable__control sk-hidden--visually\" id=\"sk-estimator-id-35\" type=\"checkbox\" checked><label for=\"sk-estimator-id-35\" class=\"sk-toggleable__label sk-toggleable__label-arrow\">XGBClassifier</label><div class=\"sk-toggleable__content\"><pre>XGBClassifier(base_score=None, booster=None, callbacks=None,\n",
       "              colsample_bylevel=None, colsample_bynode=None,\n",
       "              colsample_bytree=None, early_stopping_rounds=None,\n",
       "              enable_categorical=False, eval_metric=None, feature_types=None,\n",
       "              gamma=None, gpu_id=0, grow_policy=None, importance_type=None,\n",
       "              interaction_constraints=None, learning_rate=None, max_bin=None,\n",
       "              max_cat_threshold=None, max_cat_to_onehot=None,\n",
       "              max_delta_step=None, max_depth=None, max_leaves=None,\n",
       "              min_child_weight=None, missing=nan, monotone_constraints=None,\n",
       "              n_estimators=100, n_jobs=None, num_parallel_tree=None,\n",
       "              predictor=None, random_state=123, ...)</pre></div></div></div></div></div>"
      ],
      "text/plain": [
       "XGBClassifier(base_score=None, booster=None, callbacks=None,\n",
       "              colsample_bylevel=None, colsample_bynode=None,\n",
       "              colsample_bytree=None, early_stopping_rounds=None,\n",
       "              enable_categorical=False, eval_metric=None, feature_types=None,\n",
       "              gamma=None, gpu_id=0, grow_policy=None, importance_type=None,\n",
       "              interaction_constraints=None, learning_rate=None, max_bin=None,\n",
       "              max_cat_threshold=None, max_cat_to_onehot=None,\n",
       "              max_delta_step=None, max_depth=None, max_leaves=None,\n",
       "              min_child_weight=None, missing=nan, monotone_constraints=None,\n",
       "              n_estimators=100, n_jobs=None, num_parallel_tree=None,\n",
       "              predictor=None, random_state=123, ...)"
      ]
     },
     "execution_count": 158,
     "metadata": {},
     "output_type": "execute_result"
    }
   ],
   "source": [
    "## Class 6 model\n",
    "clf_xg_6=XGBClassifier(tree_method ='gpu_hist',gpu_id=0,random_state=123)\n",
    "clf_xg_6.fit(X_train_6, y_train_6)  ## Fitting data"
   ]
  },
  {
   "cell_type": "code",
   "execution_count": 159,
   "metadata": {
    "execution": {
     "iopub.execute_input": "2023-06-10T20:34:56.871405Z",
     "iopub.status.busy": "2023-06-10T20:34:56.871034Z",
     "iopub.status.idle": "2023-06-10T20:34:57.077342Z",
     "shell.execute_reply": "2023-06-10T20:34:57.076362Z",
     "shell.execute_reply.started": "2023-06-10T20:34:56.871375Z"
    }
   },
   "outputs": [
    {
     "name": "stdout",
     "output_type": "stream",
     "text": [
      "Validation Accuracy : 0.9979347628014336\n",
      "Train Accuracy : 0.9999544432970905\n",
      "              precision    recall  f1-score   support\n",
      "\n",
      "           0       1.00      1.00      1.00     10730\n",
      "           1       1.00      0.99      1.00      5733\n",
      "\n",
      "    accuracy                           1.00     16463\n",
      "   macro avg       1.00      1.00      1.00     16463\n",
      "weighted avg       1.00      1.00      1.00     16463\n",
      "\n"
     ]
    }
   ],
   "source": [
    "# Predict on train and validation set\n",
    "y_train_pred = clf_xg_6.predict(X_train_6)\n",
    "y_val_pred = clf_xg_6.predict(X_val_6)\n",
    "## Accuracy\n",
    "print('Validation Accuracy :',accuracy_score(y_val_6, y_val_pred))\n",
    "print('Train Accuracy :',accuracy_score(y_train_6, y_train_pred))\n",
    "print(classification_report(y_val_pred, y_val_6))"
   ]
  },
  {
   "cell_type": "markdown",
   "metadata": {},
   "source": [
    "**Model for class 7**"
   ]
  },
  {
   "cell_type": "code",
   "execution_count": 160,
   "metadata": {
    "execution": {
     "iopub.execute_input": "2023-06-10T20:35:00.121334Z",
     "iopub.status.busy": "2023-06-10T20:35:00.120866Z",
     "iopub.status.idle": "2023-06-10T20:35:00.393640Z",
     "shell.execute_reply": "2023-06-10T20:35:00.392541Z",
     "shell.execute_reply.started": "2023-06-10T20:35:00.121295Z"
    }
   },
   "outputs": [],
   "source": [
    "data_7=Data_Sample(7,data)  ##Helper function to generate sample data for class 7\n",
    "data_7.label.replace([0,1,2,3,4,5,6,8,9,10,11,12],0,inplace=True)  ## replacing other lables as 0\n",
    "data_7.label.replace(7,1,inplace=True)  ## replacing lable 7 as 1\n",
    "x_7=data_7.drop('label',axis=1)\n",
    "y_7=data_7.label\n",
    "X_train_7, X_val_7, y_train_7, y_val_7 = train_test_split(x_7, y_7,test_size=0.20, random_state=123)"
   ]
  },
  {
   "cell_type": "code",
   "execution_count": 161,
   "metadata": {
    "execution": {
     "iopub.execute_input": "2023-06-10T20:35:05.240305Z",
     "iopub.status.busy": "2023-06-10T20:35:05.239794Z",
     "iopub.status.idle": "2023-06-10T20:35:05.946985Z",
     "shell.execute_reply": "2023-06-10T20:35:05.946046Z",
     "shell.execute_reply.started": "2023-06-10T20:35:05.240260Z"
    }
   },
   "outputs": [
    {
     "data": {
      "text/html": [
       "<style>#sk-container-id-26 {color: black;background-color: white;}#sk-container-id-26 pre{padding: 0;}#sk-container-id-26 div.sk-toggleable {background-color: white;}#sk-container-id-26 label.sk-toggleable__label {cursor: pointer;display: block;width: 100%;margin-bottom: 0;padding: 0.3em;box-sizing: border-box;text-align: center;}#sk-container-id-26 label.sk-toggleable__label-arrow:before {content: \"▸\";float: left;margin-right: 0.25em;color: #696969;}#sk-container-id-26 label.sk-toggleable__label-arrow:hover:before {color: black;}#sk-container-id-26 div.sk-estimator:hover label.sk-toggleable__label-arrow:before {color: black;}#sk-container-id-26 div.sk-toggleable__content {max-height: 0;max-width: 0;overflow: hidden;text-align: left;background-color: #f0f8ff;}#sk-container-id-26 div.sk-toggleable__content pre {margin: 0.2em;color: black;border-radius: 0.25em;background-color: #f0f8ff;}#sk-container-id-26 input.sk-toggleable__control:checked~div.sk-toggleable__content {max-height: 200px;max-width: 100%;overflow: auto;}#sk-container-id-26 input.sk-toggleable__control:checked~label.sk-toggleable__label-arrow:before {content: \"▾\";}#sk-container-id-26 div.sk-estimator input.sk-toggleable__control:checked~label.sk-toggleable__label {background-color: #d4ebff;}#sk-container-id-26 div.sk-label input.sk-toggleable__control:checked~label.sk-toggleable__label {background-color: #d4ebff;}#sk-container-id-26 input.sk-hidden--visually {border: 0;clip: rect(1px 1px 1px 1px);clip: rect(1px, 1px, 1px, 1px);height: 1px;margin: -1px;overflow: hidden;padding: 0;position: absolute;width: 1px;}#sk-container-id-26 div.sk-estimator {font-family: monospace;background-color: #f0f8ff;border: 1px dotted black;border-radius: 0.25em;box-sizing: border-box;margin-bottom: 0.5em;}#sk-container-id-26 div.sk-estimator:hover {background-color: #d4ebff;}#sk-container-id-26 div.sk-parallel-item::after {content: \"\";width: 100%;border-bottom: 1px solid gray;flex-grow: 1;}#sk-container-id-26 div.sk-label:hover label.sk-toggleable__label {background-color: #d4ebff;}#sk-container-id-26 div.sk-serial::before {content: \"\";position: absolute;border-left: 1px solid gray;box-sizing: border-box;top: 0;bottom: 0;left: 50%;z-index: 0;}#sk-container-id-26 div.sk-serial {display: flex;flex-direction: column;align-items: center;background-color: white;padding-right: 0.2em;padding-left: 0.2em;position: relative;}#sk-container-id-26 div.sk-item {position: relative;z-index: 1;}#sk-container-id-26 div.sk-parallel {display: flex;align-items: stretch;justify-content: center;background-color: white;position: relative;}#sk-container-id-26 div.sk-item::before, #sk-container-id-26 div.sk-parallel-item::before {content: \"\";position: absolute;border-left: 1px solid gray;box-sizing: border-box;top: 0;bottom: 0;left: 50%;z-index: -1;}#sk-container-id-26 div.sk-parallel-item {display: flex;flex-direction: column;z-index: 1;position: relative;background-color: white;}#sk-container-id-26 div.sk-parallel-item:first-child::after {align-self: flex-end;width: 50%;}#sk-container-id-26 div.sk-parallel-item:last-child::after {align-self: flex-start;width: 50%;}#sk-container-id-26 div.sk-parallel-item:only-child::after {width: 0;}#sk-container-id-26 div.sk-dashed-wrapped {border: 1px dashed gray;margin: 0 0.4em 0.5em 0.4em;box-sizing: border-box;padding-bottom: 0.4em;background-color: white;}#sk-container-id-26 div.sk-label label {font-family: monospace;font-weight: bold;display: inline-block;line-height: 1.2em;}#sk-container-id-26 div.sk-label-container {text-align: center;}#sk-container-id-26 div.sk-container {/* jupyter's `normalize.less` sets `[hidden] { display: none; }` but bootstrap.min.css set `[hidden] { display: none !important; }` so we also need the `!important` here to be able to override the default hidden behavior on the sphinx rendered scikit-learn.org. See: https://github.com/scikit-learn/scikit-learn/issues/21755 */display: inline-block !important;position: relative;}#sk-container-id-26 div.sk-text-repr-fallback {display: none;}</style><div id=\"sk-container-id-26\" class=\"sk-top-container\"><div class=\"sk-text-repr-fallback\"><pre>XGBClassifier(base_score=None, booster=None, callbacks=None,\n",
       "              colsample_bylevel=None, colsample_bynode=None,\n",
       "              colsample_bytree=None, early_stopping_rounds=None,\n",
       "              enable_categorical=False, eval_metric=None, feature_types=None,\n",
       "              gamma=None, gpu_id=0, grow_policy=None, importance_type=None,\n",
       "              interaction_constraints=None, learning_rate=None, max_bin=None,\n",
       "              max_cat_threshold=None, max_cat_to_onehot=None,\n",
       "              max_delta_step=None, max_depth=None, max_leaves=None,\n",
       "              min_child_weight=None, missing=nan, monotone_constraints=None,\n",
       "              n_estimators=100, n_jobs=None, num_parallel_tree=None,\n",
       "              predictor=None, random_state=123, ...)</pre><b>In a Jupyter environment, please rerun this cell to show the HTML representation or trust the notebook. <br />On GitHub, the HTML representation is unable to render, please try loading this page with nbviewer.org.</b></div><div class=\"sk-container\" hidden><div class=\"sk-item\"><div class=\"sk-estimator sk-toggleable\"><input class=\"sk-toggleable__control sk-hidden--visually\" id=\"sk-estimator-id-36\" type=\"checkbox\" checked><label for=\"sk-estimator-id-36\" class=\"sk-toggleable__label sk-toggleable__label-arrow\">XGBClassifier</label><div class=\"sk-toggleable__content\"><pre>XGBClassifier(base_score=None, booster=None, callbacks=None,\n",
       "              colsample_bylevel=None, colsample_bynode=None,\n",
       "              colsample_bytree=None, early_stopping_rounds=None,\n",
       "              enable_categorical=False, eval_metric=None, feature_types=None,\n",
       "              gamma=None, gpu_id=0, grow_policy=None, importance_type=None,\n",
       "              interaction_constraints=None, learning_rate=None, max_bin=None,\n",
       "              max_cat_threshold=None, max_cat_to_onehot=None,\n",
       "              max_delta_step=None, max_depth=None, max_leaves=None,\n",
       "              min_child_weight=None, missing=nan, monotone_constraints=None,\n",
       "              n_estimators=100, n_jobs=None, num_parallel_tree=None,\n",
       "              predictor=None, random_state=123, ...)</pre></div></div></div></div></div>"
      ],
      "text/plain": [
       "XGBClassifier(base_score=None, booster=None, callbacks=None,\n",
       "              colsample_bylevel=None, colsample_bynode=None,\n",
       "              colsample_bytree=None, early_stopping_rounds=None,\n",
       "              enable_categorical=False, eval_metric=None, feature_types=None,\n",
       "              gamma=None, gpu_id=0, grow_policy=None, importance_type=None,\n",
       "              interaction_constraints=None, learning_rate=None, max_bin=None,\n",
       "              max_cat_threshold=None, max_cat_to_onehot=None,\n",
       "              max_delta_step=None, max_depth=None, max_leaves=None,\n",
       "              min_child_weight=None, missing=nan, monotone_constraints=None,\n",
       "              n_estimators=100, n_jobs=None, num_parallel_tree=None,\n",
       "              predictor=None, random_state=123, ...)"
      ]
     },
     "execution_count": 161,
     "metadata": {},
     "output_type": "execute_result"
    }
   ],
   "source": [
    "## Class 7 classifier\n",
    "clf_xg_7=XGBClassifier(tree_method ='gpu_hist',gpu_id=0,random_state=123)\n",
    "clf_xg_7.fit(X_train_7, y_train_7)  ## fitting data"
   ]
  },
  {
   "cell_type": "code",
   "execution_count": 162,
   "metadata": {
    "execution": {
     "iopub.execute_input": "2023-06-10T20:35:11.571139Z",
     "iopub.status.busy": "2023-06-10T20:35:11.570740Z",
     "iopub.status.idle": "2023-06-10T20:35:11.778326Z",
     "shell.execute_reply": "2023-06-10T20:35:11.777341Z",
     "shell.execute_reply.started": "2023-06-10T20:35:11.571108Z"
    }
   },
   "outputs": [
    {
     "name": "stdout",
     "output_type": "stream",
     "text": [
      "Validation Accuracy : 0.9985020073102043\n",
      "Train Accuracy : 1.0\n",
      "              precision    recall  f1-score   support\n",
      "\n",
      "           0       1.00      1.00      1.00     10755\n",
      "           1       1.00      1.00      1.00      5934\n",
      "\n",
      "    accuracy                           1.00     16689\n",
      "   macro avg       1.00      1.00      1.00     16689\n",
      "weighted avg       1.00      1.00      1.00     16689\n",
      "\n"
     ]
    }
   ],
   "source": [
    "# Predict on train and validation set\n",
    "y_train_pred = clf_xg_7.predict(X_train_7)\n",
    "y_val_pred = clf_xg_7.predict(X_val_7)\n",
    "## Accuracy\n",
    "print('Validation Accuracy :',accuracy_score(y_val_7, y_val_pred))\n",
    "print('Train Accuracy :',accuracy_score(y_train_7, y_train_pred))\n",
    "print(classification_report(y_val_pred, y_val_7))"
   ]
  },
  {
   "cell_type": "markdown",
   "metadata": {},
   "source": [
    "**Model for class 8**"
   ]
  },
  {
   "cell_type": "code",
   "execution_count": 163,
   "metadata": {
    "execution": {
     "iopub.execute_input": "2023-06-10T20:35:14.676278Z",
     "iopub.status.busy": "2023-06-10T20:35:14.675689Z",
     "iopub.status.idle": "2023-06-10T20:35:14.954778Z",
     "shell.execute_reply": "2023-06-10T20:35:14.953682Z",
     "shell.execute_reply.started": "2023-06-10T20:35:14.676244Z"
    }
   },
   "outputs": [],
   "source": [
    "data_8=Data_Sample(8,data)  ##Helper function to generate sample data for class 8\n",
    "data_8.label.replace([0,1,2,3,4,5,6,7,9,10,11,12],0,inplace=True)  ## replacing other lables as 0\n",
    "data_8.label.replace(8,1,inplace=True)  ## replacing lable 8 as 1\n",
    "##Input and target\n",
    "x_8=data_8.drop('label',axis=1) \n",
    "y_8=data_8.label\n",
    "## Train and validation\n",
    "X_train_8, X_val_8, y_train_8, y_val_8 = train_test_split(x_8, y_8,test_size=0.20, random_state=123)"
   ]
  },
  {
   "cell_type": "code",
   "execution_count": 164,
   "metadata": {
    "execution": {
     "iopub.execute_input": "2023-06-10T20:35:17.466771Z",
     "iopub.status.busy": "2023-06-10T20:35:17.465781Z",
     "iopub.status.idle": "2023-06-10T20:35:18.066418Z",
     "shell.execute_reply": "2023-06-10T20:35:18.065517Z",
     "shell.execute_reply.started": "2023-06-10T20:35:17.466722Z"
    }
   },
   "outputs": [
    {
     "data": {
      "text/html": [
       "<style>#sk-container-id-27 {color: black;background-color: white;}#sk-container-id-27 pre{padding: 0;}#sk-container-id-27 div.sk-toggleable {background-color: white;}#sk-container-id-27 label.sk-toggleable__label {cursor: pointer;display: block;width: 100%;margin-bottom: 0;padding: 0.3em;box-sizing: border-box;text-align: center;}#sk-container-id-27 label.sk-toggleable__label-arrow:before {content: \"▸\";float: left;margin-right: 0.25em;color: #696969;}#sk-container-id-27 label.sk-toggleable__label-arrow:hover:before {color: black;}#sk-container-id-27 div.sk-estimator:hover label.sk-toggleable__label-arrow:before {color: black;}#sk-container-id-27 div.sk-toggleable__content {max-height: 0;max-width: 0;overflow: hidden;text-align: left;background-color: #f0f8ff;}#sk-container-id-27 div.sk-toggleable__content pre {margin: 0.2em;color: black;border-radius: 0.25em;background-color: #f0f8ff;}#sk-container-id-27 input.sk-toggleable__control:checked~div.sk-toggleable__content {max-height: 200px;max-width: 100%;overflow: auto;}#sk-container-id-27 input.sk-toggleable__control:checked~label.sk-toggleable__label-arrow:before {content: \"▾\";}#sk-container-id-27 div.sk-estimator input.sk-toggleable__control:checked~label.sk-toggleable__label {background-color: #d4ebff;}#sk-container-id-27 div.sk-label input.sk-toggleable__control:checked~label.sk-toggleable__label {background-color: #d4ebff;}#sk-container-id-27 input.sk-hidden--visually {border: 0;clip: rect(1px 1px 1px 1px);clip: rect(1px, 1px, 1px, 1px);height: 1px;margin: -1px;overflow: hidden;padding: 0;position: absolute;width: 1px;}#sk-container-id-27 div.sk-estimator {font-family: monospace;background-color: #f0f8ff;border: 1px dotted black;border-radius: 0.25em;box-sizing: border-box;margin-bottom: 0.5em;}#sk-container-id-27 div.sk-estimator:hover {background-color: #d4ebff;}#sk-container-id-27 div.sk-parallel-item::after {content: \"\";width: 100%;border-bottom: 1px solid gray;flex-grow: 1;}#sk-container-id-27 div.sk-label:hover label.sk-toggleable__label {background-color: #d4ebff;}#sk-container-id-27 div.sk-serial::before {content: \"\";position: absolute;border-left: 1px solid gray;box-sizing: border-box;top: 0;bottom: 0;left: 50%;z-index: 0;}#sk-container-id-27 div.sk-serial {display: flex;flex-direction: column;align-items: center;background-color: white;padding-right: 0.2em;padding-left: 0.2em;position: relative;}#sk-container-id-27 div.sk-item {position: relative;z-index: 1;}#sk-container-id-27 div.sk-parallel {display: flex;align-items: stretch;justify-content: center;background-color: white;position: relative;}#sk-container-id-27 div.sk-item::before, #sk-container-id-27 div.sk-parallel-item::before {content: \"\";position: absolute;border-left: 1px solid gray;box-sizing: border-box;top: 0;bottom: 0;left: 50%;z-index: -1;}#sk-container-id-27 div.sk-parallel-item {display: flex;flex-direction: column;z-index: 1;position: relative;background-color: white;}#sk-container-id-27 div.sk-parallel-item:first-child::after {align-self: flex-end;width: 50%;}#sk-container-id-27 div.sk-parallel-item:last-child::after {align-self: flex-start;width: 50%;}#sk-container-id-27 div.sk-parallel-item:only-child::after {width: 0;}#sk-container-id-27 div.sk-dashed-wrapped {border: 1px dashed gray;margin: 0 0.4em 0.5em 0.4em;box-sizing: border-box;padding-bottom: 0.4em;background-color: white;}#sk-container-id-27 div.sk-label label {font-family: monospace;font-weight: bold;display: inline-block;line-height: 1.2em;}#sk-container-id-27 div.sk-label-container {text-align: center;}#sk-container-id-27 div.sk-container {/* jupyter's `normalize.less` sets `[hidden] { display: none; }` but bootstrap.min.css set `[hidden] { display: none !important; }` so we also need the `!important` here to be able to override the default hidden behavior on the sphinx rendered scikit-learn.org. See: https://github.com/scikit-learn/scikit-learn/issues/21755 */display: inline-block !important;position: relative;}#sk-container-id-27 div.sk-text-repr-fallback {display: none;}</style><div id=\"sk-container-id-27\" class=\"sk-top-container\"><div class=\"sk-text-repr-fallback\"><pre>XGBClassifier(base_score=None, booster=None, callbacks=None,\n",
       "              colsample_bylevel=None, colsample_bynode=None,\n",
       "              colsample_bytree=None, early_stopping_rounds=None,\n",
       "              enable_categorical=False, eval_metric=None, feature_types=None,\n",
       "              gamma=None, gpu_id=0, grow_policy=None, importance_type=None,\n",
       "              interaction_constraints=None, learning_rate=None, max_bin=None,\n",
       "              max_cat_threshold=None, max_cat_to_onehot=None,\n",
       "              max_delta_step=None, max_depth=None, max_leaves=None,\n",
       "              min_child_weight=None, missing=nan, monotone_constraints=None,\n",
       "              n_estimators=100, n_jobs=None, num_parallel_tree=None,\n",
       "              predictor=None, random_state=123, ...)</pre><b>In a Jupyter environment, please rerun this cell to show the HTML representation or trust the notebook. <br />On GitHub, the HTML representation is unable to render, please try loading this page with nbviewer.org.</b></div><div class=\"sk-container\" hidden><div class=\"sk-item\"><div class=\"sk-estimator sk-toggleable\"><input class=\"sk-toggleable__control sk-hidden--visually\" id=\"sk-estimator-id-37\" type=\"checkbox\" checked><label for=\"sk-estimator-id-37\" class=\"sk-toggleable__label sk-toggleable__label-arrow\">XGBClassifier</label><div class=\"sk-toggleable__content\"><pre>XGBClassifier(base_score=None, booster=None, callbacks=None,\n",
       "              colsample_bylevel=None, colsample_bynode=None,\n",
       "              colsample_bytree=None, early_stopping_rounds=None,\n",
       "              enable_categorical=False, eval_metric=None, feature_types=None,\n",
       "              gamma=None, gpu_id=0, grow_policy=None, importance_type=None,\n",
       "              interaction_constraints=None, learning_rate=None, max_bin=None,\n",
       "              max_cat_threshold=None, max_cat_to_onehot=None,\n",
       "              max_delta_step=None, max_depth=None, max_leaves=None,\n",
       "              min_child_weight=None, missing=nan, monotone_constraints=None,\n",
       "              n_estimators=100, n_jobs=None, num_parallel_tree=None,\n",
       "              predictor=None, random_state=123, ...)</pre></div></div></div></div></div>"
      ],
      "text/plain": [
       "XGBClassifier(base_score=None, booster=None, callbacks=None,\n",
       "              colsample_bylevel=None, colsample_bynode=None,\n",
       "              colsample_bytree=None, early_stopping_rounds=None,\n",
       "              enable_categorical=False, eval_metric=None, feature_types=None,\n",
       "              gamma=None, gpu_id=0, grow_policy=None, importance_type=None,\n",
       "              interaction_constraints=None, learning_rate=None, max_bin=None,\n",
       "              max_cat_threshold=None, max_cat_to_onehot=None,\n",
       "              max_delta_step=None, max_depth=None, max_leaves=None,\n",
       "              min_child_weight=None, missing=nan, monotone_constraints=None,\n",
       "              n_estimators=100, n_jobs=None, num_parallel_tree=None,\n",
       "              predictor=None, random_state=123, ...)"
      ]
     },
     "execution_count": 164,
     "metadata": {},
     "output_type": "execute_result"
    }
   ],
   "source": [
    "## Class 8 model\n",
    "clf_xg_8=XGBClassifier(tree_method ='gpu_hist',gpu_id=0,random_state=123)\n",
    "clf_xg_8.fit(X_train_8, y_train_8)  ## Fitting data"
   ]
  },
  {
   "cell_type": "code",
   "execution_count": 165,
   "metadata": {
    "execution": {
     "iopub.execute_input": "2023-06-10T20:35:20.713093Z",
     "iopub.status.busy": "2023-06-10T20:35:20.712080Z",
     "iopub.status.idle": "2023-06-10T20:35:20.940847Z",
     "shell.execute_reply": "2023-06-10T20:35:20.939650Z",
     "shell.execute_reply.started": "2023-06-10T20:35:20.713049Z"
    }
   },
   "outputs": [
    {
     "name": "stdout",
     "output_type": "stream",
     "text": [
      "Validation Accuracy : 0.9971802255819534\n",
      "Train Accuracy : 0.9997750078747244\n",
      "              precision    recall  f1-score   support\n",
      "\n",
      "           0       1.00      1.00      1.00     10696\n",
      "           1       1.00      0.99      1.00      5972\n",
      "\n",
      "    accuracy                           1.00     16668\n",
      "   macro avg       1.00      1.00      1.00     16668\n",
      "weighted avg       1.00      1.00      1.00     16668\n",
      "\n"
     ]
    }
   ],
   "source": [
    "# Predict on train and validation set\n",
    "y_train_pred = clf_xg_8.predict(X_train_8)\n",
    "y_val_pred = clf_xg_8.predict(X_val_8)\n",
    "## Accuracy\n",
    "print('Validation Accuracy :',accuracy_score(y_val_8, y_val_pred))\n",
    "print('Train Accuracy :',accuracy_score(y_train_8, y_train_pred))\n",
    "print(classification_report(y_val_pred, y_val_8))"
   ]
  },
  {
   "cell_type": "markdown",
   "metadata": {},
   "source": [
    "**Class 9 model**"
   ]
  },
  {
   "cell_type": "code",
   "execution_count": 166,
   "metadata": {
    "execution": {
     "iopub.execute_input": "2023-06-10T20:35:36.693063Z",
     "iopub.status.busy": "2023-06-10T20:35:36.692656Z",
     "iopub.status.idle": "2023-06-10T20:35:36.904773Z",
     "shell.execute_reply": "2023-06-10T20:35:36.903775Z",
     "shell.execute_reply.started": "2023-06-10T20:35:36.693033Z"
    }
   },
   "outputs": [],
   "source": [
    "data_9=Data_Sample(9,data)  ##Helper function to generate sample data for class 9\n",
    "data_9.label.replace([0,1,2,3,4,5,6,7,8,10,11,12],0,inplace=True)  ## replacing other lables as 0\n",
    "data_9.label.replace(9,1,inplace=True)  ## replacing lable 9 as 1\n",
    "## Input and target\n",
    "x_9=data_9.drop('label',axis=1)\n",
    "y_9=data_9.label\n",
    "## Traina nd validation\n",
    "X_train_9, X_val_9, y_train_9, y_val_9= train_test_split(x_9, y_9,test_size=0.20, random_state=123)"
   ]
  },
  {
   "cell_type": "code",
   "execution_count": 167,
   "metadata": {
    "execution": {
     "iopub.execute_input": "2023-06-10T20:35:39.328827Z",
     "iopub.status.busy": "2023-06-10T20:35:39.328412Z",
     "iopub.status.idle": "2023-06-10T20:35:39.836364Z",
     "shell.execute_reply": "2023-06-10T20:35:39.831912Z",
     "shell.execute_reply.started": "2023-06-10T20:35:39.328796Z"
    }
   },
   "outputs": [
    {
     "data": {
      "text/html": [
       "<style>#sk-container-id-28 {color: black;background-color: white;}#sk-container-id-28 pre{padding: 0;}#sk-container-id-28 div.sk-toggleable {background-color: white;}#sk-container-id-28 label.sk-toggleable__label {cursor: pointer;display: block;width: 100%;margin-bottom: 0;padding: 0.3em;box-sizing: border-box;text-align: center;}#sk-container-id-28 label.sk-toggleable__label-arrow:before {content: \"▸\";float: left;margin-right: 0.25em;color: #696969;}#sk-container-id-28 label.sk-toggleable__label-arrow:hover:before {color: black;}#sk-container-id-28 div.sk-estimator:hover label.sk-toggleable__label-arrow:before {color: black;}#sk-container-id-28 div.sk-toggleable__content {max-height: 0;max-width: 0;overflow: hidden;text-align: left;background-color: #f0f8ff;}#sk-container-id-28 div.sk-toggleable__content pre {margin: 0.2em;color: black;border-radius: 0.25em;background-color: #f0f8ff;}#sk-container-id-28 input.sk-toggleable__control:checked~div.sk-toggleable__content {max-height: 200px;max-width: 100%;overflow: auto;}#sk-container-id-28 input.sk-toggleable__control:checked~label.sk-toggleable__label-arrow:before {content: \"▾\";}#sk-container-id-28 div.sk-estimator input.sk-toggleable__control:checked~label.sk-toggleable__label {background-color: #d4ebff;}#sk-container-id-28 div.sk-label input.sk-toggleable__control:checked~label.sk-toggleable__label {background-color: #d4ebff;}#sk-container-id-28 input.sk-hidden--visually {border: 0;clip: rect(1px 1px 1px 1px);clip: rect(1px, 1px, 1px, 1px);height: 1px;margin: -1px;overflow: hidden;padding: 0;position: absolute;width: 1px;}#sk-container-id-28 div.sk-estimator {font-family: monospace;background-color: #f0f8ff;border: 1px dotted black;border-radius: 0.25em;box-sizing: border-box;margin-bottom: 0.5em;}#sk-container-id-28 div.sk-estimator:hover {background-color: #d4ebff;}#sk-container-id-28 div.sk-parallel-item::after {content: \"\";width: 100%;border-bottom: 1px solid gray;flex-grow: 1;}#sk-container-id-28 div.sk-label:hover label.sk-toggleable__label {background-color: #d4ebff;}#sk-container-id-28 div.sk-serial::before {content: \"\";position: absolute;border-left: 1px solid gray;box-sizing: border-box;top: 0;bottom: 0;left: 50%;z-index: 0;}#sk-container-id-28 div.sk-serial {display: flex;flex-direction: column;align-items: center;background-color: white;padding-right: 0.2em;padding-left: 0.2em;position: relative;}#sk-container-id-28 div.sk-item {position: relative;z-index: 1;}#sk-container-id-28 div.sk-parallel {display: flex;align-items: stretch;justify-content: center;background-color: white;position: relative;}#sk-container-id-28 div.sk-item::before, #sk-container-id-28 div.sk-parallel-item::before {content: \"\";position: absolute;border-left: 1px solid gray;box-sizing: border-box;top: 0;bottom: 0;left: 50%;z-index: -1;}#sk-container-id-28 div.sk-parallel-item {display: flex;flex-direction: column;z-index: 1;position: relative;background-color: white;}#sk-container-id-28 div.sk-parallel-item:first-child::after {align-self: flex-end;width: 50%;}#sk-container-id-28 div.sk-parallel-item:last-child::after {align-self: flex-start;width: 50%;}#sk-container-id-28 div.sk-parallel-item:only-child::after {width: 0;}#sk-container-id-28 div.sk-dashed-wrapped {border: 1px dashed gray;margin: 0 0.4em 0.5em 0.4em;box-sizing: border-box;padding-bottom: 0.4em;background-color: white;}#sk-container-id-28 div.sk-label label {font-family: monospace;font-weight: bold;display: inline-block;line-height: 1.2em;}#sk-container-id-28 div.sk-label-container {text-align: center;}#sk-container-id-28 div.sk-container {/* jupyter's `normalize.less` sets `[hidden] { display: none; }` but bootstrap.min.css set `[hidden] { display: none !important; }` so we also need the `!important` here to be able to override the default hidden behavior on the sphinx rendered scikit-learn.org. See: https://github.com/scikit-learn/scikit-learn/issues/21755 */display: inline-block !important;position: relative;}#sk-container-id-28 div.sk-text-repr-fallback {display: none;}</style><div id=\"sk-container-id-28\" class=\"sk-top-container\"><div class=\"sk-text-repr-fallback\"><pre>XGBClassifier(base_score=None, booster=None, callbacks=None,\n",
       "              colsample_bylevel=None, colsample_bynode=None,\n",
       "              colsample_bytree=None, early_stopping_rounds=None,\n",
       "              enable_categorical=False, eval_metric=None, feature_types=None,\n",
       "              gamma=None, gpu_id=0, grow_policy=None, importance_type=None,\n",
       "              interaction_constraints=None, learning_rate=None, max_bin=None,\n",
       "              max_cat_threshold=None, max_cat_to_onehot=None,\n",
       "              max_delta_step=None, max_depth=None, max_leaves=None,\n",
       "              min_child_weight=None, missing=nan, monotone_constraints=None,\n",
       "              n_estimators=100, n_jobs=None, num_parallel_tree=None,\n",
       "              predictor=None, random_state=123, ...)</pre><b>In a Jupyter environment, please rerun this cell to show the HTML representation or trust the notebook. <br />On GitHub, the HTML representation is unable to render, please try loading this page with nbviewer.org.</b></div><div class=\"sk-container\" hidden><div class=\"sk-item\"><div class=\"sk-estimator sk-toggleable\"><input class=\"sk-toggleable__control sk-hidden--visually\" id=\"sk-estimator-id-38\" type=\"checkbox\" checked><label for=\"sk-estimator-id-38\" class=\"sk-toggleable__label sk-toggleable__label-arrow\">XGBClassifier</label><div class=\"sk-toggleable__content\"><pre>XGBClassifier(base_score=None, booster=None, callbacks=None,\n",
       "              colsample_bylevel=None, colsample_bynode=None,\n",
       "              colsample_bytree=None, early_stopping_rounds=None,\n",
       "              enable_categorical=False, eval_metric=None, feature_types=None,\n",
       "              gamma=None, gpu_id=0, grow_policy=None, importance_type=None,\n",
       "              interaction_constraints=None, learning_rate=None, max_bin=None,\n",
       "              max_cat_threshold=None, max_cat_to_onehot=None,\n",
       "              max_delta_step=None, max_depth=None, max_leaves=None,\n",
       "              min_child_weight=None, missing=nan, monotone_constraints=None,\n",
       "              n_estimators=100, n_jobs=None, num_parallel_tree=None,\n",
       "              predictor=None, random_state=123, ...)</pre></div></div></div></div></div>"
      ],
      "text/plain": [
       "XGBClassifier(base_score=None, booster=None, callbacks=None,\n",
       "              colsample_bylevel=None, colsample_bynode=None,\n",
       "              colsample_bytree=None, early_stopping_rounds=None,\n",
       "              enable_categorical=False, eval_metric=None, feature_types=None,\n",
       "              gamma=None, gpu_id=0, grow_policy=None, importance_type=None,\n",
       "              interaction_constraints=None, learning_rate=None, max_bin=None,\n",
       "              max_cat_threshold=None, max_cat_to_onehot=None,\n",
       "              max_delta_step=None, max_depth=None, max_leaves=None,\n",
       "              min_child_weight=None, missing=nan, monotone_constraints=None,\n",
       "              n_estimators=100, n_jobs=None, num_parallel_tree=None,\n",
       "              predictor=None, random_state=123, ...)"
      ]
     },
     "execution_count": 167,
     "metadata": {},
     "output_type": "execute_result"
    }
   ],
   "source": [
    "## Class 9 model\n",
    "clf_xg_9=XGBClassifier(tree_method ='gpu_hist',gpu_id=0,random_state=123)\n",
    "clf_xg_9.fit(X_train_9, y_train_9)  ## Fitting data"
   ]
  },
  {
   "cell_type": "code",
   "execution_count": 168,
   "metadata": {
    "execution": {
     "iopub.execute_input": "2023-06-10T20:35:43.333762Z",
     "iopub.status.busy": "2023-06-10T20:35:43.333403Z",
     "iopub.status.idle": "2023-06-10T20:35:43.545243Z",
     "shell.execute_reply": "2023-06-10T20:35:43.544027Z",
     "shell.execute_reply.started": "2023-06-10T20:35:43.333733Z"
    }
   },
   "outputs": [
    {
     "name": "stdout",
     "output_type": "stream",
     "text": [
      "Validation Accuracy : 0.997934372049103\n",
      "Train Accuracy : 1.0\n",
      "              precision    recall  f1-score   support\n",
      "\n",
      "           0       1.00      1.00      1.00     10683\n",
      "           1       1.00      0.99      1.00      6261\n",
      "\n",
      "    accuracy                           1.00     16944\n",
      "   macro avg       1.00      1.00      1.00     16944\n",
      "weighted avg       1.00      1.00      1.00     16944\n",
      "\n"
     ]
    }
   ],
   "source": [
    "#Predict on train and validation set\n",
    "y_train_pred = clf_xg_9.predict(X_train_9)\n",
    "y_val_pred = clf_xg_9.predict(X_val_9)\n",
    "## Accuracy\n",
    "print('Validation Accuracy :',accuracy_score(y_val_9, y_val_pred))\n",
    "print('Train Accuracy :',accuracy_score(y_train_9, y_train_pred))\n",
    "print(classification_report(y_val_pred, y_val_9))"
   ]
  },
  {
   "cell_type": "markdown",
   "metadata": {},
   "source": [
    "**Class 10 model**"
   ]
  },
  {
   "cell_type": "code",
   "execution_count": 169,
   "metadata": {
    "execution": {
     "iopub.execute_input": "2023-06-10T20:35:46.874586Z",
     "iopub.status.busy": "2023-06-10T20:35:46.874035Z",
     "iopub.status.idle": "2023-06-10T20:35:47.170736Z",
     "shell.execute_reply": "2023-06-10T20:35:47.169570Z",
     "shell.execute_reply.started": "2023-06-10T20:35:46.874549Z"
    }
   },
   "outputs": [],
   "source": [
    "data_10=Data_Sample(10,data)  ##Helper function to generate sample data for class 10\n",
    "data_10.label.replace([0,1,2,3,4,5,6,7,8,9,11,12],0,inplace=True)  ## replacing other lables as 0\n",
    "data_10.label.replace(10,1,inplace=True)  ## replacing lable 10 as 1\n",
    "## Input and target\n",
    "x_10=data_10.drop('label',axis=1)\n",
    "y_10=data_10.label\n",
    "## Train and validation\n",
    "X_train_10, X_val_10, y_train_10, y_val_10 = train_test_split(x_10, y_10,test_size=0.20, random_state=123)"
   ]
  },
  {
   "cell_type": "code",
   "execution_count": 170,
   "metadata": {
    "execution": {
     "iopub.execute_input": "2023-06-10T20:35:49.878852Z",
     "iopub.status.busy": "2023-06-10T20:35:49.878453Z",
     "iopub.status.idle": "2023-06-10T20:35:50.386049Z",
     "shell.execute_reply": "2023-06-10T20:35:50.385323Z",
     "shell.execute_reply.started": "2023-06-10T20:35:49.878817Z"
    }
   },
   "outputs": [
    {
     "data": {
      "text/html": [
       "<style>#sk-container-id-29 {color: black;background-color: white;}#sk-container-id-29 pre{padding: 0;}#sk-container-id-29 div.sk-toggleable {background-color: white;}#sk-container-id-29 label.sk-toggleable__label {cursor: pointer;display: block;width: 100%;margin-bottom: 0;padding: 0.3em;box-sizing: border-box;text-align: center;}#sk-container-id-29 label.sk-toggleable__label-arrow:before {content: \"▸\";float: left;margin-right: 0.25em;color: #696969;}#sk-container-id-29 label.sk-toggleable__label-arrow:hover:before {color: black;}#sk-container-id-29 div.sk-estimator:hover label.sk-toggleable__label-arrow:before {color: black;}#sk-container-id-29 div.sk-toggleable__content {max-height: 0;max-width: 0;overflow: hidden;text-align: left;background-color: #f0f8ff;}#sk-container-id-29 div.sk-toggleable__content pre {margin: 0.2em;color: black;border-radius: 0.25em;background-color: #f0f8ff;}#sk-container-id-29 input.sk-toggleable__control:checked~div.sk-toggleable__content {max-height: 200px;max-width: 100%;overflow: auto;}#sk-container-id-29 input.sk-toggleable__control:checked~label.sk-toggleable__label-arrow:before {content: \"▾\";}#sk-container-id-29 div.sk-estimator input.sk-toggleable__control:checked~label.sk-toggleable__label {background-color: #d4ebff;}#sk-container-id-29 div.sk-label input.sk-toggleable__control:checked~label.sk-toggleable__label {background-color: #d4ebff;}#sk-container-id-29 input.sk-hidden--visually {border: 0;clip: rect(1px 1px 1px 1px);clip: rect(1px, 1px, 1px, 1px);height: 1px;margin: -1px;overflow: hidden;padding: 0;position: absolute;width: 1px;}#sk-container-id-29 div.sk-estimator {font-family: monospace;background-color: #f0f8ff;border: 1px dotted black;border-radius: 0.25em;box-sizing: border-box;margin-bottom: 0.5em;}#sk-container-id-29 div.sk-estimator:hover {background-color: #d4ebff;}#sk-container-id-29 div.sk-parallel-item::after {content: \"\";width: 100%;border-bottom: 1px solid gray;flex-grow: 1;}#sk-container-id-29 div.sk-label:hover label.sk-toggleable__label {background-color: #d4ebff;}#sk-container-id-29 div.sk-serial::before {content: \"\";position: absolute;border-left: 1px solid gray;box-sizing: border-box;top: 0;bottom: 0;left: 50%;z-index: 0;}#sk-container-id-29 div.sk-serial {display: flex;flex-direction: column;align-items: center;background-color: white;padding-right: 0.2em;padding-left: 0.2em;position: relative;}#sk-container-id-29 div.sk-item {position: relative;z-index: 1;}#sk-container-id-29 div.sk-parallel {display: flex;align-items: stretch;justify-content: center;background-color: white;position: relative;}#sk-container-id-29 div.sk-item::before, #sk-container-id-29 div.sk-parallel-item::before {content: \"\";position: absolute;border-left: 1px solid gray;box-sizing: border-box;top: 0;bottom: 0;left: 50%;z-index: -1;}#sk-container-id-29 div.sk-parallel-item {display: flex;flex-direction: column;z-index: 1;position: relative;background-color: white;}#sk-container-id-29 div.sk-parallel-item:first-child::after {align-self: flex-end;width: 50%;}#sk-container-id-29 div.sk-parallel-item:last-child::after {align-self: flex-start;width: 50%;}#sk-container-id-29 div.sk-parallel-item:only-child::after {width: 0;}#sk-container-id-29 div.sk-dashed-wrapped {border: 1px dashed gray;margin: 0 0.4em 0.5em 0.4em;box-sizing: border-box;padding-bottom: 0.4em;background-color: white;}#sk-container-id-29 div.sk-label label {font-family: monospace;font-weight: bold;display: inline-block;line-height: 1.2em;}#sk-container-id-29 div.sk-label-container {text-align: center;}#sk-container-id-29 div.sk-container {/* jupyter's `normalize.less` sets `[hidden] { display: none; }` but bootstrap.min.css set `[hidden] { display: none !important; }` so we also need the `!important` here to be able to override the default hidden behavior on the sphinx rendered scikit-learn.org. See: https://github.com/scikit-learn/scikit-learn/issues/21755 */display: inline-block !important;position: relative;}#sk-container-id-29 div.sk-text-repr-fallback {display: none;}</style><div id=\"sk-container-id-29\" class=\"sk-top-container\"><div class=\"sk-text-repr-fallback\"><pre>XGBClassifier(base_score=None, booster=None, callbacks=None,\n",
       "              colsample_bylevel=None, colsample_bynode=None,\n",
       "              colsample_bytree=None, early_stopping_rounds=None,\n",
       "              enable_categorical=False, eval_metric=None, feature_types=None,\n",
       "              gamma=None, gpu_id=0, grow_policy=None, importance_type=None,\n",
       "              interaction_constraints=None, learning_rate=None, max_bin=None,\n",
       "              max_cat_threshold=None, max_cat_to_onehot=None,\n",
       "              max_delta_step=None, max_depth=None, max_leaves=None,\n",
       "              min_child_weight=None, missing=nan, monotone_constraints=None,\n",
       "              n_estimators=100, n_jobs=None, num_parallel_tree=None,\n",
       "              predictor=None, random_state=123, ...)</pre><b>In a Jupyter environment, please rerun this cell to show the HTML representation or trust the notebook. <br />On GitHub, the HTML representation is unable to render, please try loading this page with nbviewer.org.</b></div><div class=\"sk-container\" hidden><div class=\"sk-item\"><div class=\"sk-estimator sk-toggleable\"><input class=\"sk-toggleable__control sk-hidden--visually\" id=\"sk-estimator-id-39\" type=\"checkbox\" checked><label for=\"sk-estimator-id-39\" class=\"sk-toggleable__label sk-toggleable__label-arrow\">XGBClassifier</label><div class=\"sk-toggleable__content\"><pre>XGBClassifier(base_score=None, booster=None, callbacks=None,\n",
       "              colsample_bylevel=None, colsample_bynode=None,\n",
       "              colsample_bytree=None, early_stopping_rounds=None,\n",
       "              enable_categorical=False, eval_metric=None, feature_types=None,\n",
       "              gamma=None, gpu_id=0, grow_policy=None, importance_type=None,\n",
       "              interaction_constraints=None, learning_rate=None, max_bin=None,\n",
       "              max_cat_threshold=None, max_cat_to_onehot=None,\n",
       "              max_delta_step=None, max_depth=None, max_leaves=None,\n",
       "              min_child_weight=None, missing=nan, monotone_constraints=None,\n",
       "              n_estimators=100, n_jobs=None, num_parallel_tree=None,\n",
       "              predictor=None, random_state=123, ...)</pre></div></div></div></div></div>"
      ],
      "text/plain": [
       "XGBClassifier(base_score=None, booster=None, callbacks=None,\n",
       "              colsample_bylevel=None, colsample_bynode=None,\n",
       "              colsample_bytree=None, early_stopping_rounds=None,\n",
       "              enable_categorical=False, eval_metric=None, feature_types=None,\n",
       "              gamma=None, gpu_id=0, grow_policy=None, importance_type=None,\n",
       "              interaction_constraints=None, learning_rate=None, max_bin=None,\n",
       "              max_cat_threshold=None, max_cat_to_onehot=None,\n",
       "              max_delta_step=None, max_depth=None, max_leaves=None,\n",
       "              min_child_weight=None, missing=nan, monotone_constraints=None,\n",
       "              n_estimators=100, n_jobs=None, num_parallel_tree=None,\n",
       "              predictor=None, random_state=123, ...)"
      ]
     },
     "execution_count": 170,
     "metadata": {},
     "output_type": "execute_result"
    }
   ],
   "source": [
    "## Class 10 model\n",
    "clf_xg_10=XGBClassifier(tree_method ='gpu_hist',gpu_id=0,random_state=123)\n",
    "clf_xg_10.fit(X_train_10, y_train_10)  ## Fitting data"
   ]
  },
  {
   "cell_type": "code",
   "execution_count": 171,
   "metadata": {
    "execution": {
     "iopub.execute_input": "2023-06-10T20:35:53.408125Z",
     "iopub.status.busy": "2023-06-10T20:35:53.407721Z",
     "iopub.status.idle": "2023-06-10T20:35:53.617285Z",
     "shell.execute_reply": "2023-06-10T20:35:53.616368Z",
     "shell.execute_reply.started": "2023-06-10T20:35:53.408091Z"
    }
   },
   "outputs": [
    {
     "name": "stdout",
     "output_type": "stream",
     "text": [
      "Validation Accuracy : 0.9942752596789424\n",
      "Train Accuracy : 0.9996311378659113\n",
      "              precision    recall  f1-score   support\n",
      "\n",
      "           0       0.99      1.00      1.00     10667\n",
      "           1       1.00      0.99      0.99      6277\n",
      "\n",
      "    accuracy                           0.99     16944\n",
      "   macro avg       0.99      0.99      0.99     16944\n",
      "weighted avg       0.99      0.99      0.99     16944\n",
      "\n"
     ]
    }
   ],
   "source": [
    "# Predict on train and validation set\n",
    "y_train_pred = clf_xg_10.predict(X_train_10)\n",
    "y_val_pred = clf_xg_10.predict(X_val_10)\n",
    "## Accuracy\n",
    "print('Validation Accuracy :',accuracy_score(y_val_10, y_val_pred))\n",
    "print('Train Accuracy :',accuracy_score(y_train_10, y_train_pred))\n",
    "print(classification_report(y_val_pred, y_val_10))"
   ]
  },
  {
   "cell_type": "markdown",
   "metadata": {},
   "source": [
    "**Class 11 model**"
   ]
  },
  {
   "cell_type": "code",
   "execution_count": 172,
   "metadata": {
    "execution": {
     "iopub.execute_input": "2023-06-10T20:35:56.544209Z",
     "iopub.status.busy": "2023-06-10T20:35:56.543671Z",
     "iopub.status.idle": "2023-06-10T20:35:56.828103Z",
     "shell.execute_reply": "2023-06-10T20:35:56.827030Z",
     "shell.execute_reply.started": "2023-06-10T20:35:56.544178Z"
    }
   },
   "outputs": [],
   "source": [
    "data_11=Data_Sample(11,data)  ##Helper function to generate sample data for class 11\n",
    "data_11.label.replace([0,1,2,3,4,5,6,7,8,9,10,12],0,inplace=True)  ## replacing other lables as 0\n",
    "data_11.label.replace(11,1,inplace=True)  ## replacing lable 11 as 1\n",
    "##Input and target\n",
    "x_11=data_11.drop('label',axis=1)\n",
    "y_11=data_11.label\n",
    "## Train and validation\n",
    "X_train_11, X_val_11, y_train_11, y_val_11 = train_test_split(x_11, y_11,test_size=0.20, random_state=123)"
   ]
  },
  {
   "cell_type": "code",
   "execution_count": 173,
   "metadata": {
    "execution": {
     "iopub.execute_input": "2023-06-10T20:35:59.800554Z",
     "iopub.status.busy": "2023-06-10T20:35:59.800133Z",
     "iopub.status.idle": "2023-06-10T20:36:00.288250Z",
     "shell.execute_reply": "2023-06-10T20:36:00.287372Z",
     "shell.execute_reply.started": "2023-06-10T20:35:59.800520Z"
    }
   },
   "outputs": [
    {
     "data": {
      "text/html": [
       "<style>#sk-container-id-30 {color: black;background-color: white;}#sk-container-id-30 pre{padding: 0;}#sk-container-id-30 div.sk-toggleable {background-color: white;}#sk-container-id-30 label.sk-toggleable__label {cursor: pointer;display: block;width: 100%;margin-bottom: 0;padding: 0.3em;box-sizing: border-box;text-align: center;}#sk-container-id-30 label.sk-toggleable__label-arrow:before {content: \"▸\";float: left;margin-right: 0.25em;color: #696969;}#sk-container-id-30 label.sk-toggleable__label-arrow:hover:before {color: black;}#sk-container-id-30 div.sk-estimator:hover label.sk-toggleable__label-arrow:before {color: black;}#sk-container-id-30 div.sk-toggleable__content {max-height: 0;max-width: 0;overflow: hidden;text-align: left;background-color: #f0f8ff;}#sk-container-id-30 div.sk-toggleable__content pre {margin: 0.2em;color: black;border-radius: 0.25em;background-color: #f0f8ff;}#sk-container-id-30 input.sk-toggleable__control:checked~div.sk-toggleable__content {max-height: 200px;max-width: 100%;overflow: auto;}#sk-container-id-30 input.sk-toggleable__control:checked~label.sk-toggleable__label-arrow:before {content: \"▾\";}#sk-container-id-30 div.sk-estimator input.sk-toggleable__control:checked~label.sk-toggleable__label {background-color: #d4ebff;}#sk-container-id-30 div.sk-label input.sk-toggleable__control:checked~label.sk-toggleable__label {background-color: #d4ebff;}#sk-container-id-30 input.sk-hidden--visually {border: 0;clip: rect(1px 1px 1px 1px);clip: rect(1px, 1px, 1px, 1px);height: 1px;margin: -1px;overflow: hidden;padding: 0;position: absolute;width: 1px;}#sk-container-id-30 div.sk-estimator {font-family: monospace;background-color: #f0f8ff;border: 1px dotted black;border-radius: 0.25em;box-sizing: border-box;margin-bottom: 0.5em;}#sk-container-id-30 div.sk-estimator:hover {background-color: #d4ebff;}#sk-container-id-30 div.sk-parallel-item::after {content: \"\";width: 100%;border-bottom: 1px solid gray;flex-grow: 1;}#sk-container-id-30 div.sk-label:hover label.sk-toggleable__label {background-color: #d4ebff;}#sk-container-id-30 div.sk-serial::before {content: \"\";position: absolute;border-left: 1px solid gray;box-sizing: border-box;top: 0;bottom: 0;left: 50%;z-index: 0;}#sk-container-id-30 div.sk-serial {display: flex;flex-direction: column;align-items: center;background-color: white;padding-right: 0.2em;padding-left: 0.2em;position: relative;}#sk-container-id-30 div.sk-item {position: relative;z-index: 1;}#sk-container-id-30 div.sk-parallel {display: flex;align-items: stretch;justify-content: center;background-color: white;position: relative;}#sk-container-id-30 div.sk-item::before, #sk-container-id-30 div.sk-parallel-item::before {content: \"\";position: absolute;border-left: 1px solid gray;box-sizing: border-box;top: 0;bottom: 0;left: 50%;z-index: -1;}#sk-container-id-30 div.sk-parallel-item {display: flex;flex-direction: column;z-index: 1;position: relative;background-color: white;}#sk-container-id-30 div.sk-parallel-item:first-child::after {align-self: flex-end;width: 50%;}#sk-container-id-30 div.sk-parallel-item:last-child::after {align-self: flex-start;width: 50%;}#sk-container-id-30 div.sk-parallel-item:only-child::after {width: 0;}#sk-container-id-30 div.sk-dashed-wrapped {border: 1px dashed gray;margin: 0 0.4em 0.5em 0.4em;box-sizing: border-box;padding-bottom: 0.4em;background-color: white;}#sk-container-id-30 div.sk-label label {font-family: monospace;font-weight: bold;display: inline-block;line-height: 1.2em;}#sk-container-id-30 div.sk-label-container {text-align: center;}#sk-container-id-30 div.sk-container {/* jupyter's `normalize.less` sets `[hidden] { display: none; }` but bootstrap.min.css set `[hidden] { display: none !important; }` so we also need the `!important` here to be able to override the default hidden behavior on the sphinx rendered scikit-learn.org. See: https://github.com/scikit-learn/scikit-learn/issues/21755 */display: inline-block !important;position: relative;}#sk-container-id-30 div.sk-text-repr-fallback {display: none;}</style><div id=\"sk-container-id-30\" class=\"sk-top-container\"><div class=\"sk-text-repr-fallback\"><pre>XGBClassifier(base_score=None, booster=None, callbacks=None,\n",
       "              colsample_bylevel=None, colsample_bynode=None,\n",
       "              colsample_bytree=None, early_stopping_rounds=None,\n",
       "              enable_categorical=False, eval_metric=None, feature_types=None,\n",
       "              gamma=None, gpu_id=0, grow_policy=None, importance_type=None,\n",
       "              interaction_constraints=None, learning_rate=None, max_bin=None,\n",
       "              max_cat_threshold=None, max_cat_to_onehot=None,\n",
       "              max_delta_step=None, max_depth=None, max_leaves=None,\n",
       "              min_child_weight=None, missing=nan, monotone_constraints=None,\n",
       "              n_estimators=100, n_jobs=None, num_parallel_tree=None,\n",
       "              predictor=None, random_state=123, ...)</pre><b>In a Jupyter environment, please rerun this cell to show the HTML representation or trust the notebook. <br />On GitHub, the HTML representation is unable to render, please try loading this page with nbviewer.org.</b></div><div class=\"sk-container\" hidden><div class=\"sk-item\"><div class=\"sk-estimator sk-toggleable\"><input class=\"sk-toggleable__control sk-hidden--visually\" id=\"sk-estimator-id-40\" type=\"checkbox\" checked><label for=\"sk-estimator-id-40\" class=\"sk-toggleable__label sk-toggleable__label-arrow\">XGBClassifier</label><div class=\"sk-toggleable__content\"><pre>XGBClassifier(base_score=None, booster=None, callbacks=None,\n",
       "              colsample_bylevel=None, colsample_bynode=None,\n",
       "              colsample_bytree=None, early_stopping_rounds=None,\n",
       "              enable_categorical=False, eval_metric=None, feature_types=None,\n",
       "              gamma=None, gpu_id=0, grow_policy=None, importance_type=None,\n",
       "              interaction_constraints=None, learning_rate=None, max_bin=None,\n",
       "              max_cat_threshold=None, max_cat_to_onehot=None,\n",
       "              max_delta_step=None, max_depth=None, max_leaves=None,\n",
       "              min_child_weight=None, missing=nan, monotone_constraints=None,\n",
       "              n_estimators=100, n_jobs=None, num_parallel_tree=None,\n",
       "              predictor=None, random_state=123, ...)</pre></div></div></div></div></div>"
      ],
      "text/plain": [
       "XGBClassifier(base_score=None, booster=None, callbacks=None,\n",
       "              colsample_bylevel=None, colsample_bynode=None,\n",
       "              colsample_bytree=None, early_stopping_rounds=None,\n",
       "              enable_categorical=False, eval_metric=None, feature_types=None,\n",
       "              gamma=None, gpu_id=0, grow_policy=None, importance_type=None,\n",
       "              interaction_constraints=None, learning_rate=None, max_bin=None,\n",
       "              max_cat_threshold=None, max_cat_to_onehot=None,\n",
       "              max_delta_step=None, max_depth=None, max_leaves=None,\n",
       "              min_child_weight=None, missing=nan, monotone_constraints=None,\n",
       "              n_estimators=100, n_jobs=None, num_parallel_tree=None,\n",
       "              predictor=None, random_state=123, ...)"
      ]
     },
     "execution_count": 173,
     "metadata": {},
     "output_type": "execute_result"
    }
   ],
   "source": [
    "## Class 11 model\n",
    "clf_xg_11=XGBClassifier(tree_method ='gpu_hist',gpu_id=0,random_state=123)\n",
    "clf_xg_11.fit(X_train_11, y_train_11)  ## Fitting data"
   ]
  },
  {
   "cell_type": "code",
   "execution_count": 174,
   "metadata": {
    "execution": {
     "iopub.execute_input": "2023-06-10T20:36:03.762778Z",
     "iopub.status.busy": "2023-06-10T20:36:03.762407Z",
     "iopub.status.idle": "2023-06-10T20:36:03.970812Z",
     "shell.execute_reply": "2023-06-10T20:36:03.968975Z",
     "shell.execute_reply.started": "2023-06-10T20:36:03.762749Z"
    }
   },
   "outputs": [
    {
     "name": "stdout",
     "output_type": "stream",
     "text": [
      "Validation Accuracy : 0.9961638338054769\n",
      "Train Accuracy : 0.9997934372049103\n",
      "              precision    recall  f1-score   support\n",
      "\n",
      "           0       1.00      1.00      1.00     10699\n",
      "           1       1.00      0.99      0.99      6245\n",
      "\n",
      "    accuracy                           1.00     16944\n",
      "   macro avg       1.00      1.00      1.00     16944\n",
      "weighted avg       1.00      1.00      1.00     16944\n",
      "\n"
     ]
    }
   ],
   "source": [
    "# Predict on train and validation set\n",
    "y_train_pred = clf_xg_11.predict(X_train_11)\n",
    "y_val_pred = clf_xg_11.predict(X_val_11)\n",
    "## Accuracy\n",
    "print('Validation Accuracy :',accuracy_score(y_val_11, y_val_pred))\n",
    "print('Train Accuracy :',accuracy_score(y_train_11, y_train_pred))\n",
    "print(classification_report(y_val_pred, y_val_11))"
   ]
  },
  {
   "cell_type": "markdown",
   "metadata": {},
   "source": [
    "**Class 12 model**"
   ]
  },
  {
   "cell_type": "code",
   "execution_count": 175,
   "metadata": {
    "execution": {
     "iopub.execute_input": "2023-06-10T20:36:07.381475Z",
     "iopub.status.busy": "2023-06-10T20:36:07.381056Z",
     "iopub.status.idle": "2023-06-10T20:36:07.569956Z",
     "shell.execute_reply": "2023-06-10T20:36:07.568995Z",
     "shell.execute_reply.started": "2023-06-10T20:36:07.381443Z"
    }
   },
   "outputs": [],
   "source": [
    "data_12=Data_Sample(12,data)  ##Helper function to generate sample data for class 12\n",
    "data_12.label.replace([0,1,2,3,4,5,6,7,8,9,10,11],0,inplace=True)  ## replacing other lables as 0\n",
    "data_12.label.replace(12,1,inplace=True)  ## replacing lable 12 as 1\n",
    "##Input and target\n",
    "x_12=data_12.drop('label',axis=1)\n",
    "y_12=data_12.label\n",
    "## Train and validation\n",
    "X_train_12, X_val_12, y_train_12, y_val_12 = train_test_split(x_12, y_12,test_size=0.20, random_state=123)"
   ]
  },
  {
   "cell_type": "code",
   "execution_count": 176,
   "metadata": {
    "execution": {
     "iopub.execute_input": "2023-06-10T20:36:10.142794Z",
     "iopub.status.busy": "2023-06-10T20:36:10.142419Z",
     "iopub.status.idle": "2023-06-10T20:36:10.581769Z",
     "shell.execute_reply": "2023-06-10T20:36:10.580793Z",
     "shell.execute_reply.started": "2023-06-10T20:36:10.142764Z"
    }
   },
   "outputs": [
    {
     "data": {
      "text/html": [
       "<style>#sk-container-id-31 {color: black;background-color: white;}#sk-container-id-31 pre{padding: 0;}#sk-container-id-31 div.sk-toggleable {background-color: white;}#sk-container-id-31 label.sk-toggleable__label {cursor: pointer;display: block;width: 100%;margin-bottom: 0;padding: 0.3em;box-sizing: border-box;text-align: center;}#sk-container-id-31 label.sk-toggleable__label-arrow:before {content: \"▸\";float: left;margin-right: 0.25em;color: #696969;}#sk-container-id-31 label.sk-toggleable__label-arrow:hover:before {color: black;}#sk-container-id-31 div.sk-estimator:hover label.sk-toggleable__label-arrow:before {color: black;}#sk-container-id-31 div.sk-toggleable__content {max-height: 0;max-width: 0;overflow: hidden;text-align: left;background-color: #f0f8ff;}#sk-container-id-31 div.sk-toggleable__content pre {margin: 0.2em;color: black;border-radius: 0.25em;background-color: #f0f8ff;}#sk-container-id-31 input.sk-toggleable__control:checked~div.sk-toggleable__content {max-height: 200px;max-width: 100%;overflow: auto;}#sk-container-id-31 input.sk-toggleable__control:checked~label.sk-toggleable__label-arrow:before {content: \"▾\";}#sk-container-id-31 div.sk-estimator input.sk-toggleable__control:checked~label.sk-toggleable__label {background-color: #d4ebff;}#sk-container-id-31 div.sk-label input.sk-toggleable__control:checked~label.sk-toggleable__label {background-color: #d4ebff;}#sk-container-id-31 input.sk-hidden--visually {border: 0;clip: rect(1px 1px 1px 1px);clip: rect(1px, 1px, 1px, 1px);height: 1px;margin: -1px;overflow: hidden;padding: 0;position: absolute;width: 1px;}#sk-container-id-31 div.sk-estimator {font-family: monospace;background-color: #f0f8ff;border: 1px dotted black;border-radius: 0.25em;box-sizing: border-box;margin-bottom: 0.5em;}#sk-container-id-31 div.sk-estimator:hover {background-color: #d4ebff;}#sk-container-id-31 div.sk-parallel-item::after {content: \"\";width: 100%;border-bottom: 1px solid gray;flex-grow: 1;}#sk-container-id-31 div.sk-label:hover label.sk-toggleable__label {background-color: #d4ebff;}#sk-container-id-31 div.sk-serial::before {content: \"\";position: absolute;border-left: 1px solid gray;box-sizing: border-box;top: 0;bottom: 0;left: 50%;z-index: 0;}#sk-container-id-31 div.sk-serial {display: flex;flex-direction: column;align-items: center;background-color: white;padding-right: 0.2em;padding-left: 0.2em;position: relative;}#sk-container-id-31 div.sk-item {position: relative;z-index: 1;}#sk-container-id-31 div.sk-parallel {display: flex;align-items: stretch;justify-content: center;background-color: white;position: relative;}#sk-container-id-31 div.sk-item::before, #sk-container-id-31 div.sk-parallel-item::before {content: \"\";position: absolute;border-left: 1px solid gray;box-sizing: border-box;top: 0;bottom: 0;left: 50%;z-index: -1;}#sk-container-id-31 div.sk-parallel-item {display: flex;flex-direction: column;z-index: 1;position: relative;background-color: white;}#sk-container-id-31 div.sk-parallel-item:first-child::after {align-self: flex-end;width: 50%;}#sk-container-id-31 div.sk-parallel-item:last-child::after {align-self: flex-start;width: 50%;}#sk-container-id-31 div.sk-parallel-item:only-child::after {width: 0;}#sk-container-id-31 div.sk-dashed-wrapped {border: 1px dashed gray;margin: 0 0.4em 0.5em 0.4em;box-sizing: border-box;padding-bottom: 0.4em;background-color: white;}#sk-container-id-31 div.sk-label label {font-family: monospace;font-weight: bold;display: inline-block;line-height: 1.2em;}#sk-container-id-31 div.sk-label-container {text-align: center;}#sk-container-id-31 div.sk-container {/* jupyter's `normalize.less` sets `[hidden] { display: none; }` but bootstrap.min.css set `[hidden] { display: none !important; }` so we also need the `!important` here to be able to override the default hidden behavior on the sphinx rendered scikit-learn.org. See: https://github.com/scikit-learn/scikit-learn/issues/21755 */display: inline-block !important;position: relative;}#sk-container-id-31 div.sk-text-repr-fallback {display: none;}</style><div id=\"sk-container-id-31\" class=\"sk-top-container\"><div class=\"sk-text-repr-fallback\"><pre>XGBClassifier(base_score=None, booster=None, callbacks=None,\n",
       "              colsample_bylevel=None, colsample_bynode=None,\n",
       "              colsample_bytree=None, early_stopping_rounds=None,\n",
       "              enable_categorical=False, eval_metric=None, feature_types=None,\n",
       "              gamma=None, gpu_id=0, grow_policy=None, importance_type=None,\n",
       "              interaction_constraints=None, learning_rate=None, max_bin=None,\n",
       "              max_cat_threshold=None, max_cat_to_onehot=None,\n",
       "              max_delta_step=None, max_depth=None, max_leaves=None,\n",
       "              min_child_weight=None, missing=nan, monotone_constraints=None,\n",
       "              n_estimators=100, n_jobs=None, num_parallel_tree=None,\n",
       "              predictor=None, random_state=123, ...)</pre><b>In a Jupyter environment, please rerun this cell to show the HTML representation or trust the notebook. <br />On GitHub, the HTML representation is unable to render, please try loading this page with nbviewer.org.</b></div><div class=\"sk-container\" hidden><div class=\"sk-item\"><div class=\"sk-estimator sk-toggleable\"><input class=\"sk-toggleable__control sk-hidden--visually\" id=\"sk-estimator-id-41\" type=\"checkbox\" checked><label for=\"sk-estimator-id-41\" class=\"sk-toggleable__label sk-toggleable__label-arrow\">XGBClassifier</label><div class=\"sk-toggleable__content\"><pre>XGBClassifier(base_score=None, booster=None, callbacks=None,\n",
       "              colsample_bylevel=None, colsample_bynode=None,\n",
       "              colsample_bytree=None, early_stopping_rounds=None,\n",
       "              enable_categorical=False, eval_metric=None, feature_types=None,\n",
       "              gamma=None, gpu_id=0, grow_policy=None, importance_type=None,\n",
       "              interaction_constraints=None, learning_rate=None, max_bin=None,\n",
       "              max_cat_threshold=None, max_cat_to_onehot=None,\n",
       "              max_delta_step=None, max_depth=None, max_leaves=None,\n",
       "              min_child_weight=None, missing=nan, monotone_constraints=None,\n",
       "              n_estimators=100, n_jobs=None, num_parallel_tree=None,\n",
       "              predictor=None, random_state=123, ...)</pre></div></div></div></div></div>"
      ],
      "text/plain": [
       "XGBClassifier(base_score=None, booster=None, callbacks=None,\n",
       "              colsample_bylevel=None, colsample_bynode=None,\n",
       "              colsample_bytree=None, early_stopping_rounds=None,\n",
       "              enable_categorical=False, eval_metric=None, feature_types=None,\n",
       "              gamma=None, gpu_id=0, grow_policy=None, importance_type=None,\n",
       "              interaction_constraints=None, learning_rate=None, max_bin=None,\n",
       "              max_cat_threshold=None, max_cat_to_onehot=None,\n",
       "              max_delta_step=None, max_depth=None, max_leaves=None,\n",
       "              min_child_weight=None, missing=nan, monotone_constraints=None,\n",
       "              n_estimators=100, n_jobs=None, num_parallel_tree=None,\n",
       "              predictor=None, random_state=123, ...)"
      ]
     },
     "execution_count": 176,
     "metadata": {},
     "output_type": "execute_result"
    }
   ],
   "source": [
    "## Model for class 12 \n",
    "clf_xg_12=XGBClassifier(tree_method ='gpu_hist',gpu_id=0,random_state=123)  ##XGB\n",
    "clf_xg_12.fit(X_train_12, y_train_12)  ## fitting data"
   ]
  },
  {
   "cell_type": "code",
   "execution_count": 177,
   "metadata": {
    "execution": {
     "iopub.execute_input": "2023-06-10T20:36:14.976520Z",
     "iopub.status.busy": "2023-06-10T20:36:14.976153Z",
     "iopub.status.idle": "2023-06-10T20:36:15.142347Z",
     "shell.execute_reply": "2023-06-10T20:36:15.141158Z",
     "shell.execute_reply.started": "2023-06-10T20:36:14.976492Z"
    }
   },
   "outputs": [
    {
     "name": "stdout",
     "output_type": "stream",
     "text": [
      "Validation Accuracy : 0.9969694614966198\n",
      "Train Accuracy : 0.9999611446777923\n",
      "              precision    recall  f1-score   support\n",
      "\n",
      "           0       1.00      1.00      1.00     10827\n",
      "           1       0.99      0.99      0.99      2042\n",
      "\n",
      "    accuracy                           1.00     12869\n",
      "   macro avg       0.99      0.99      0.99     12869\n",
      "weighted avg       1.00      1.00      1.00     12869\n",
      "\n"
     ]
    }
   ],
   "source": [
    "# Predict on train and validation set\n",
    "y_train_pred = clf_xg_12.predict(X_train_12)\n",
    "y_val_pred = clf_xg_12.predict(X_val_12)\n",
    "## Accuracy\n",
    "print('Validation Accuracy :',accuracy_score(y_val_12, y_val_pred))\n",
    "print('Train Accuracy :',accuracy_score(y_train_12, y_train_pred))\n",
    "print(classification_report(y_val_pred, y_val_12))"
   ]
  },
  {
   "cell_type": "markdown",
   "metadata": {},
   "source": [
    "### Tuning parameters for each class model"
   ]
  },
  {
   "cell_type": "markdown",
   "metadata": {},
   "source": [
    "**Class 0 model**"
   ]
  },
  {
   "cell_type": "code",
   "execution_count": 178,
   "metadata": {
    "execution": {
     "iopub.execute_input": "2023-06-10T20:36:20.316494Z",
     "iopub.status.busy": "2023-06-10T20:36:20.315781Z",
     "iopub.status.idle": "2023-06-10T20:38:10.986390Z",
     "shell.execute_reply": "2023-06-10T20:38:10.985422Z",
     "shell.execute_reply.started": "2023-06-10T20:36:20.316460Z"
    }
   },
   "outputs": [
    {
     "name": "stdout",
     "output_type": "stream",
     "text": [
      "Best Parameters: {'learning_rate': 0.2, 'max_depth': 8, 'subsample': 0.9}\n",
      "Best Score: 0.9191624413854927\n"
     ]
    }
   ],
   "source": [
    "clf=XGBClassifier(n_estimators=250,tree_method ='gpu_hist',gpu_id=0,random_state=123)  ## classifier\n",
    "parameters = {'max_depth':[5,6,7,8],  ## Search for max depth\n",
    "              'subsample':[0.7,0.9],  ## Search for subsample\n",
    "              'learning_rate':[0.2,0.3,0.4]  ##seaech for learning rate\n",
    "             }  ## search for max depth \n",
    "grid_xb_0 = GridSearchCV(clf, parameters, cv=3,scoring='f1',n_jobs=-1)  # Use 3-fold cross-validation\n",
    "grid_xb_0.fit(X_train_0, y_train_0) ## fitting grid\n",
    "# Get the best parameter values and corresponding score\n",
    "print('Best Parameters:',grid_xb_0.best_params_)\n",
    "print('Best Score:',grid_xb_0.best_score_)"
   ]
  },
  {
   "cell_type": "code",
   "execution_count": 179,
   "metadata": {
    "execution": {
     "iopub.execute_input": "2023-06-10T20:38:10.989378Z",
     "iopub.status.busy": "2023-06-10T20:38:10.988521Z",
     "iopub.status.idle": "2023-06-10T20:38:12.133240Z",
     "shell.execute_reply": "2023-06-10T20:38:12.132107Z",
     "shell.execute_reply.started": "2023-06-10T20:38:10.989335Z"
    }
   },
   "outputs": [
    {
     "name": "stdout",
     "output_type": "stream",
     "text": [
      "Validation Accuracy : 0.9296666666666666\n",
      "Train Accuracy : 0.9818106060606061\n",
      "              precision    recall  f1-score   support\n",
      "\n",
      "           0       0.97      0.91      0.94     19324\n",
      "           1       0.88      0.96      0.92     13676\n",
      "\n",
      "    accuracy                           0.93     33000\n",
      "   macro avg       0.93      0.93      0.93     33000\n",
      "weighted avg       0.93      0.93      0.93     33000\n",
      "\n"
     ]
    }
   ],
   "source": [
    "# Predict on train and validation set\n",
    "y_train_pred = grid_xb_0.predict(X_train_0)\n",
    "y_val_pred = grid_xb_0.predict(X_val_0)\n",
    "## Accuracy\n",
    "print('Validation Accuracy :',accuracy_score(y_val_0, y_val_pred))\n",
    "print('Train Accuracy :',accuracy_score(y_train_0, y_train_pred))\n",
    "print(classification_report(y_val_pred, y_val_0))"
   ]
  },
  {
   "cell_type": "code",
   "execution_count": 180,
   "metadata": {
    "execution": {
     "iopub.execute_input": "2023-06-10T20:38:12.135115Z",
     "iopub.status.busy": "2023-06-10T20:38:12.134748Z",
     "iopub.status.idle": "2023-06-10T20:38:12.143292Z",
     "shell.execute_reply": "2023-06-10T20:38:12.142193Z",
     "shell.execute_reply.started": "2023-06-10T20:38:12.135082Z"
    }
   },
   "outputs": [],
   "source": [
    "## Base classifier and parameters for models\n",
    "clf=XGBClassifier(tree_method ='gpu_hist',gpu_id=0,random_state=123)  ## classifier\n",
    "parameters = {'max_depth':[5,6,7,8],  ## Search for max depth\n",
    "              'subsample':[0.7,0.9],  ## search for subsample\n",
    "              'learning_rate':[0.2,0.3,0.4]}  ##search for learning rate"
   ]
  },
  {
   "cell_type": "markdown",
   "metadata": {},
   "source": [
    "**Class 1 model**"
   ]
  },
  {
   "cell_type": "code",
   "execution_count": 181,
   "metadata": {
    "execution": {
     "iopub.execute_input": "2023-06-10T20:38:12.146627Z",
     "iopub.status.busy": "2023-06-10T20:38:12.146281Z",
     "iopub.status.idle": "2023-06-10T20:38:50.169905Z",
     "shell.execute_reply": "2023-06-10T20:38:50.169081Z",
     "shell.execute_reply.started": "2023-06-10T20:38:12.146595Z"
    }
   },
   "outputs": [
    {
     "name": "stdout",
     "output_type": "stream",
     "text": [
      "Best Parameters: {'learning_rate': 0.3, 'max_depth': 7, 'subsample': 0.9}\n",
      "Best Score: 0.9979007387715928\n"
     ]
    }
   ],
   "source": [
    "## Class 1 model grid\n",
    "grid_xb_1 = GridSearchCV(clf, parameters, cv=3,scoring='f1',verbose=0,n_jobs=-1)  # Use 3-fold cross-validation\n",
    "grid_xb_1.fit(X_train_1, y_train_1) ## fitting grid\n",
    "# Get the best parameter values and corresponding score\n",
    "print('Best Parameters:',grid_xb_1.best_params_)\n",
    "print('Best Score:',grid_xb_1.best_score_)"
   ]
  },
  {
   "cell_type": "code",
   "execution_count": 182,
   "metadata": {
    "execution": {
     "iopub.execute_input": "2023-06-10T20:38:50.171697Z",
     "iopub.status.busy": "2023-06-10T20:38:50.171130Z",
     "iopub.status.idle": "2023-06-10T20:38:50.413334Z",
     "shell.execute_reply": "2023-06-10T20:38:50.412283Z",
     "shell.execute_reply.started": "2023-06-10T20:38:50.171661Z"
    }
   },
   "outputs": [
    {
     "name": "stdout",
     "output_type": "stream",
     "text": [
      "Validation Accuracy : 0.999365774907749\n",
      "Train Accuracy : 1.0\n",
      "              precision    recall  f1-score   support\n",
      "\n",
      "           0       1.00      1.00      1.00     11096\n",
      "           1       1.00      1.00      1.00      6248\n",
      "\n",
      "    accuracy                           1.00     17344\n",
      "   macro avg       1.00      1.00      1.00     17344\n",
      "weighted avg       1.00      1.00      1.00     17344\n",
      "\n"
     ]
    }
   ],
   "source": [
    "# Predict on train and validation set\n",
    "y_train_pred = grid_xb_1.predict(X_train_1)\n",
    "y_val_pred = grid_xb_1.predict(X_val_1)\n",
    "## Accuracy\n",
    "print('Validation Accuracy :',accuracy_score(y_val_1, y_val_pred))\n",
    "print('Train Accuracy :',accuracy_score(y_train_1, y_train_pred))\n",
    "print(classification_report(y_val_pred, y_val_1))"
   ]
  },
  {
   "cell_type": "markdown",
   "metadata": {},
   "source": [
    "**Class 2 Model**"
   ]
  },
  {
   "cell_type": "code",
   "execution_count": 183,
   "metadata": {
    "execution": {
     "iopub.execute_input": "2023-06-10T20:38:50.415784Z",
     "iopub.status.busy": "2023-06-10T20:38:50.415085Z",
     "iopub.status.idle": "2023-06-10T20:39:23.935101Z",
     "shell.execute_reply": "2023-06-10T20:39:23.934346Z",
     "shell.execute_reply.started": "2023-06-10T20:38:50.415741Z"
    }
   },
   "outputs": [
    {
     "name": "stdout",
     "output_type": "stream",
     "text": [
      "Best Parameters: {'learning_rate': 0.4, 'max_depth': 5, 'subsample': 0.7}\n",
      "Best Score: 0.9986438171563711\n"
     ]
    }
   ],
   "source": [
    "## Class 2 model grid\n",
    "grid_xb_2 = GridSearchCV(clf, parameters, cv=3,scoring='f1',verbose=0,n_jobs=-1)  # Use 3-fold cross-validation\n",
    "grid_xb_2.fit(X_train_2, y_train_2) ## fitting grid\n",
    "# Get the best parameter values and corresponding score\n",
    "print('Best Parameters:',grid_xb_2.best_params_)\n",
    "print('Best Score:',grid_xb_2.best_score_)"
   ]
  },
  {
   "cell_type": "code",
   "execution_count": 184,
   "metadata": {
    "execution": {
     "iopub.execute_input": "2023-06-10T20:39:23.940616Z",
     "iopub.status.busy": "2023-06-10T20:39:23.938587Z",
     "iopub.status.idle": "2023-06-10T20:39:24.179239Z",
     "shell.execute_reply": "2023-06-10T20:39:24.178036Z",
     "shell.execute_reply.started": "2023-06-10T20:39:23.940581Z"
    }
   },
   "outputs": [
    {
     "name": "stdout",
     "output_type": "stream",
     "text": [
      "Validation Accuracy : 0.9981114258734656\n",
      "Train Accuracy : 1.0\n",
      "              precision    recall  f1-score   support\n",
      "\n",
      "           0       1.00      1.00      1.00      5353\n",
      "           1       1.00      1.00      1.00      3119\n",
      "\n",
      "    accuracy                           1.00      8472\n",
      "   macro avg       1.00      1.00      1.00      8472\n",
      "weighted avg       1.00      1.00      1.00      8472\n",
      "\n"
     ]
    }
   ],
   "source": [
    "# Predict on train and validation set\n",
    "y_train_pred = grid_xb_2.predict(X_train_2)\n",
    "y_val_pred = grid_xb_2.predict(X_val_2)\n",
    "## Accuracy\n",
    "print('Validation Accuracy :',accuracy_score(y_val_2, y_val_pred))\n",
    "print('Train Accuracy :',accuracy_score(y_train_2, y_train_pred))\n",
    "print(classification_report(y_val_pred, y_val_2))"
   ]
  },
  {
   "cell_type": "markdown",
   "metadata": {},
   "source": [
    "**Class 3 Model**"
   ]
  },
  {
   "cell_type": "code",
   "execution_count": 185,
   "metadata": {
    "execution": {
     "iopub.execute_input": "2023-06-10T20:39:24.186308Z",
     "iopub.status.busy": "2023-06-10T20:39:24.183774Z",
     "iopub.status.idle": "2023-06-10T20:39:53.263212Z",
     "shell.execute_reply": "2023-06-10T20:39:53.262369Z",
     "shell.execute_reply.started": "2023-06-10T20:39:24.186271Z"
    }
   },
   "outputs": [
    {
     "name": "stdout",
     "output_type": "stream",
     "text": [
      "Best Parameters: {'learning_rate': 0.4, 'max_depth': 7, 'subsample': 0.9}\n",
      "Best Score: 0.9986136121313013\n"
     ]
    }
   ],
   "source": [
    "## Class 3 model grid\n",
    "grid_xb_3 = GridSearchCV(clf, parameters, cv=3,scoring='f1',verbose=0,n_jobs=-1)  # Use 3-fold cross-validation\n",
    "grid_xb_3.fit(X_train_3, y_train_3) ## fitting grid\n",
    "# Get the best parameter values and corresponding score\n",
    "print('Best Parameters:',grid_xb_3.best_params_)\n",
    "print('Best Score:',grid_xb_3.best_score_)"
   ]
  },
  {
   "cell_type": "code",
   "execution_count": 186,
   "metadata": {
    "execution": {
     "iopub.execute_input": "2023-06-10T20:39:53.265506Z",
     "iopub.status.busy": "2023-06-10T20:39:53.264803Z",
     "iopub.status.idle": "2023-06-10T20:39:53.463688Z",
     "shell.execute_reply": "2023-06-10T20:39:53.462605Z",
     "shell.execute_reply.started": "2023-06-10T20:39:53.265470Z"
    }
   },
   "outputs": [
    {
     "name": "stdout",
     "output_type": "stream",
     "text": [
      "Validation Accuracy : 0.9989966949952785\n",
      "Train Accuracy : 1.0\n",
      "              precision    recall  f1-score   support\n",
      "\n",
      "           0       1.00      1.00      1.00     10697\n",
      "           1       1.00      1.00      1.00      6247\n",
      "\n",
      "    accuracy                           1.00     16944\n",
      "   macro avg       1.00      1.00      1.00     16944\n",
      "weighted avg       1.00      1.00      1.00     16944\n",
      "\n"
     ]
    }
   ],
   "source": [
    "# Predict on train and validation set\n",
    "y_train_pred = grid_xb_3.predict(X_train_3)\n",
    "y_val_pred = grid_xb_3.predict(X_val_3)\n",
    "## Accuracy\n",
    "print('Validation Accuracy :',accuracy_score(y_val_3, y_val_pred))\n",
    "print('Train Accuracy :',accuracy_score(y_train_3, y_train_pred))\n",
    "print(classification_report(y_val_pred, y_val_3))"
   ]
  },
  {
   "cell_type": "markdown",
   "metadata": {},
   "source": [
    "**Class 4 model**"
   ]
  },
  {
   "cell_type": "code",
   "execution_count": 187,
   "metadata": {
    "execution": {
     "iopub.execute_input": "2023-06-10T20:39:53.468486Z",
     "iopub.status.busy": "2023-06-10T20:39:53.468198Z",
     "iopub.status.idle": "2023-06-10T20:40:35.279592Z",
     "shell.execute_reply": "2023-06-10T20:40:35.278707Z",
     "shell.execute_reply.started": "2023-06-10T20:39:53.468461Z"
    }
   },
   "outputs": [
    {
     "name": "stdout",
     "output_type": "stream",
     "text": [
      "Best Parameters: {'learning_rate': 0.4, 'max_depth': 8, 'subsample': 0.9}\n",
      "Best Score: 0.9949789139744066\n"
     ]
    }
   ],
   "source": [
    "## Class 4 model grid\n",
    "grid_xb_4 = GridSearchCV(clf, parameters, cv=3,scoring='f1',verbose=0,n_jobs=-1)  # Use 3-fold cross-validation\n",
    "grid_xb_4.fit(X_train_4, y_train_4) ## fitting grid\n",
    "# Get the best parameter values and corresponding score\n",
    "print('Best Parameters:',grid_xb_4.best_params_)\n",
    "print('Best Score:',grid_xb_4.best_score_)"
   ]
  },
  {
   "cell_type": "code",
   "execution_count": 188,
   "metadata": {
    "execution": {
     "iopub.execute_input": "2023-06-10T20:40:35.281998Z",
     "iopub.status.busy": "2023-06-10T20:40:35.281278Z",
     "iopub.status.idle": "2023-06-10T20:40:35.542030Z",
     "shell.execute_reply": "2023-06-10T20:40:35.541013Z",
     "shell.execute_reply.started": "2023-06-10T20:40:35.281961Z"
    }
   },
   "outputs": [
    {
     "name": "stdout",
     "output_type": "stream",
     "text": [
      "Validation Accuracy : 0.996517941454202\n",
      "Train Accuracy : 1.0\n",
      "              precision    recall  f1-score   support\n",
      "\n",
      "           0       0.99      1.00      1.00     10661\n",
      "           1       1.00      0.99      1.00      6283\n",
      "\n",
      "    accuracy                           1.00     16944\n",
      "   macro avg       1.00      1.00      1.00     16944\n",
      "weighted avg       1.00      1.00      1.00     16944\n",
      "\n"
     ]
    }
   ],
   "source": [
    "# Predict on train and validation set\n",
    "y_train_pred = grid_xb_4.predict(X_train_4)\n",
    "y_val_pred = grid_xb_4.predict(X_val_4)\n",
    "## Accuracy\n",
    "print('Validation Accuracy :',accuracy_score(y_val_4, y_val_pred))\n",
    "print('Train Accuracy :',accuracy_score(y_train_4, y_train_pred))\n",
    "print(classification_report(y_val_pred, y_val_4))"
   ]
  },
  {
   "cell_type": "markdown",
   "metadata": {},
   "source": [
    "**Class 5 model**"
   ]
  },
  {
   "cell_type": "code",
   "execution_count": 189,
   "metadata": {
    "execution": {
     "iopub.execute_input": "2023-06-10T20:40:35.544002Z",
     "iopub.status.busy": "2023-06-10T20:40:35.543631Z",
     "iopub.status.idle": "2023-06-10T20:41:18.012443Z",
     "shell.execute_reply": "2023-06-10T20:41:18.011294Z",
     "shell.execute_reply.started": "2023-06-10T20:40:35.543967Z"
    }
   },
   "outputs": [
    {
     "name": "stdout",
     "output_type": "stream",
     "text": [
      "Best Parameters: {'learning_rate': 0.4, 'max_depth': 8, 'subsample': 0.9}\n",
      "Best Score: 0.9922004872545688\n"
     ]
    }
   ],
   "source": [
    "## Class 5 model grid\n",
    "grid_xb_5 = GridSearchCV(clf, parameters, cv=3,scoring='f1',verbose=0,n_jobs=-1)  # Use 3-fold cross-validation\n",
    "grid_xb_5.fit(X_train_5, y_train_5) ## fitting grid\n",
    "# Get the best parameter values and corresponding score\n",
    "print('Best Parameters:',grid_xb_5.best_params_)\n",
    "print('Best Score:',grid_xb_5.best_score_)"
   ]
  },
  {
   "cell_type": "code",
   "execution_count": 190,
   "metadata": {
    "execution": {
     "iopub.execute_input": "2023-06-10T20:41:18.014139Z",
     "iopub.status.busy": "2023-06-10T20:41:18.013771Z",
     "iopub.status.idle": "2023-06-10T20:41:18.323705Z",
     "shell.execute_reply": "2023-06-10T20:41:18.322768Z",
     "shell.execute_reply.started": "2023-06-10T20:41:18.014103Z"
    }
   },
   "outputs": [
    {
     "name": "stdout",
     "output_type": "stream",
     "text": [
      "Validation Accuracy : 0.9966359773371105\n",
      "Train Accuracy : 1.0\n",
      "              precision    recall  f1-score   support\n",
      "\n",
      "           0       1.00      1.00      1.00     10669\n",
      "           1       1.00      0.99      1.00      6275\n",
      "\n",
      "    accuracy                           1.00     16944\n",
      "   macro avg       1.00      1.00      1.00     16944\n",
      "weighted avg       1.00      1.00      1.00     16944\n",
      "\n"
     ]
    }
   ],
   "source": [
    "# Predict on train and validation set\n",
    "y_train_pred = grid_xb_5.predict(X_train_5)\n",
    "y_val_pred = grid_xb_5.predict(X_val_5)\n",
    "## Accuracy\n",
    "print('Validation Accuracy :',accuracy_score(y_val_5, y_val_pred))\n",
    "print('Train Accuracy :',accuracy_score(y_train_5, y_train_pred))\n",
    "print(classification_report(y_val_pred, y_val_5))"
   ]
  },
  {
   "cell_type": "markdown",
   "metadata": {},
   "source": [
    "**Class 6 model**"
   ]
  },
  {
   "cell_type": "code",
   "execution_count": 191,
   "metadata": {
    "execution": {
     "iopub.execute_input": "2023-06-10T20:41:18.325340Z",
     "iopub.status.busy": "2023-06-10T20:41:18.324991Z",
     "iopub.status.idle": "2023-06-10T20:41:56.629188Z",
     "shell.execute_reply": "2023-06-10T20:41:56.628385Z",
     "shell.execute_reply.started": "2023-06-10T20:41:18.325306Z"
    }
   },
   "outputs": [
    {
     "name": "stdout",
     "output_type": "stream",
     "text": [
      "Best Parameters: {'learning_rate': 0.3, 'max_depth': 6, 'subsample': 0.9}\n",
      "Best Score: 0.9971110546956683\n"
     ]
    }
   ],
   "source": [
    "## Class 6 Model grid\n",
    "grid_xb_6 = GridSearchCV(clf, parameters, cv=3,scoring='f1',verbose=0,n_jobs=-1)  # Use 3-fold cross-validation\n",
    "grid_xb_6.fit(X_train_6, y_train_6) ## fitting grid\n",
    "# Get the best parameter values and corresponding score\n",
    "print('Best Parameters:',grid_xb_6.best_params_)\n",
    "print('Best Score:',grid_xb_6.best_score_)"
   ]
  },
  {
   "cell_type": "code",
   "execution_count": 192,
   "metadata": {
    "execution": {
     "iopub.execute_input": "2023-06-10T20:41:56.634667Z",
     "iopub.status.busy": "2023-06-10T20:41:56.632807Z",
     "iopub.status.idle": "2023-06-10T20:41:56.846315Z",
     "shell.execute_reply": "2023-06-10T20:41:56.845205Z",
     "shell.execute_reply.started": "2023-06-10T20:41:56.634635Z"
    }
   },
   "outputs": [
    {
     "name": "stdout",
     "output_type": "stream",
     "text": [
      "Validation Accuracy : 0.9972058555548806\n",
      "Train Accuracy : 0.999969628864727\n",
      "              precision    recall  f1-score   support\n",
      "\n",
      "           0       1.00      1.00      1.00     10730\n",
      "           1       1.00      0.99      1.00      5733\n",
      "\n",
      "    accuracy                           1.00     16463\n",
      "   macro avg       1.00      1.00      1.00     16463\n",
      "weighted avg       1.00      1.00      1.00     16463\n",
      "\n"
     ]
    }
   ],
   "source": [
    "# Predict on train and validation set\n",
    "y_train_pred = grid_xb_6.predict(X_train_6)\n",
    "y_val_pred = grid_xb_6.predict(X_val_6)\n",
    "## Accuracy\n",
    "print('Validation Accuracy :',accuracy_score(y_val_6, y_val_pred))\n",
    "print('Train Accuracy :',accuracy_score(y_train_6, y_train_pred))\n",
    "print(classification_report(y_val_pred, y_val_6))"
   ]
  },
  {
   "cell_type": "markdown",
   "metadata": {},
   "source": [
    "**Class 7 Model**"
   ]
  },
  {
   "cell_type": "code",
   "execution_count": 193,
   "metadata": {
    "execution": {
     "iopub.execute_input": "2023-06-10T20:41:56.847973Z",
     "iopub.status.busy": "2023-06-10T20:41:56.847586Z",
     "iopub.status.idle": "2023-06-10T20:42:34.910895Z",
     "shell.execute_reply": "2023-06-10T20:42:34.910160Z",
     "shell.execute_reply.started": "2023-06-10T20:41:56.847912Z"
    }
   },
   "outputs": [
    {
     "name": "stdout",
     "output_type": "stream",
     "text": [
      "Best Parameters: {'learning_rate': 0.4, 'max_depth': 7, 'subsample': 0.7}\n",
      "Best Score: 0.9975195483369851\n"
     ]
    }
   ],
   "source": [
    "## Class 7 model grid\n",
    "grid_xb_7 = GridSearchCV(clf, parameters, cv=3,scoring='f1',verbose=0,n_jobs=-1)  # Use 3-fold cross-validation\n",
    "grid_xb_7.fit(X_train_7, y_train_7) ## fitting grid\n",
    "# Get the best parameter values and corresponding score\n",
    "print('Best Parameters:',grid_xb_7.best_params_)\n",
    "print('Best Score:',grid_xb_7.best_score_)"
   ]
  },
  {
   "cell_type": "code",
   "execution_count": 194,
   "metadata": {
    "execution": {
     "iopub.execute_input": "2023-06-10T20:42:34.916407Z",
     "iopub.status.busy": "2023-06-10T20:42:34.914448Z",
     "iopub.status.idle": "2023-06-10T20:42:35.149702Z",
     "shell.execute_reply": "2023-06-10T20:42:35.148702Z",
     "shell.execute_reply.started": "2023-06-10T20:42:34.916376Z"
    }
   },
   "outputs": [
    {
     "name": "stdout",
     "output_type": "stream",
     "text": [
      "Validation Accuracy : 0.9985020073102043\n",
      "Train Accuracy : 1.0\n",
      "              precision    recall  f1-score   support\n",
      "\n",
      "           0       1.00      1.00      1.00     10759\n",
      "           1       1.00      1.00      1.00      5930\n",
      "\n",
      "    accuracy                           1.00     16689\n",
      "   macro avg       1.00      1.00      1.00     16689\n",
      "weighted avg       1.00      1.00      1.00     16689\n",
      "\n"
     ]
    }
   ],
   "source": [
    "# Predict on train and validation set\n",
    "y_train_pred = grid_xb_7.predict(X_train_7)\n",
    "y_val_pred = grid_xb_7.predict(X_val_7)\n",
    "## Accuracy\n",
    "print('Validation Accuracy :',accuracy_score(y_val_7, y_val_pred))\n",
    "print('Train Accuracy :',accuracy_score(y_train_7, y_train_pred))\n",
    "print(classification_report(y_val_pred, y_val_7))"
   ]
  },
  {
   "cell_type": "markdown",
   "metadata": {},
   "source": [
    "**Class 8 model**"
   ]
  },
  {
   "cell_type": "code",
   "execution_count": 195,
   "metadata": {
    "execution": {
     "iopub.execute_input": "2023-06-10T20:42:35.151475Z",
     "iopub.status.busy": "2023-06-10T20:42:35.151057Z",
     "iopub.status.idle": "2023-06-10T20:43:12.376766Z",
     "shell.execute_reply": "2023-06-10T20:43:12.375802Z",
     "shell.execute_reply.started": "2023-06-10T20:42:35.151435Z"
    }
   },
   "outputs": [
    {
     "name": "stdout",
     "output_type": "stream",
     "text": [
      "Best Parameters: {'learning_rate': 0.4, 'max_depth': 8, 'subsample': 0.9}\n",
      "Best Score: 0.9954639775512314\n"
     ]
    }
   ],
   "source": [
    "## Class 8 model grid\n",
    "grid_xb_8 = GridSearchCV(clf, parameters, cv=3,scoring='f1',verbose=0,n_jobs=-1)  # Use 3-fold cross-validation\n",
    "grid_xb_8.fit(X_train_8, y_train_8) ## fitting grid\n",
    "# Get the best parameter values and corresponding score\n",
    "print('Best Parameters:',grid_xb_8.best_params_)\n",
    "print('Best Score:',grid_xb_8.best_score_)"
   ]
  },
  {
   "cell_type": "code",
   "execution_count": 196,
   "metadata": {
    "execution": {
     "iopub.execute_input": "2023-06-10T20:43:12.379447Z",
     "iopub.status.busy": "2023-06-10T20:43:12.378612Z",
     "iopub.status.idle": "2023-06-10T20:43:12.668052Z",
     "shell.execute_reply": "2023-06-10T20:43:12.667074Z",
     "shell.execute_reply.started": "2023-06-10T20:43:12.379385Z"
    }
   },
   "outputs": [
    {
     "name": "stdout",
     "output_type": "stream",
     "text": [
      "Validation Accuracy : 0.9976601871850252\n",
      "Train Accuracy : 1.0\n",
      "              precision    recall  f1-score   support\n",
      "\n",
      "           0       1.00      1.00      1.00     10698\n",
      "           1       1.00      0.99      1.00      5970\n",
      "\n",
      "    accuracy                           1.00     16668\n",
      "   macro avg       1.00      1.00      1.00     16668\n",
      "weighted avg       1.00      1.00      1.00     16668\n",
      "\n"
     ]
    }
   ],
   "source": [
    "# Predict on train and validation set\n",
    "y_train_pred = grid_xb_8.predict(X_train_8)\n",
    "y_val_pred = grid_xb_8.predict(X_val_8)\n",
    "## Accuracy\n",
    "print('Validation Accuracy :',accuracy_score(y_val_8, y_val_pred))\n",
    "print('Train Accuracy :',accuracy_score(y_train_8, y_train_pred))\n",
    "print(classification_report(y_val_pred, y_val_8))"
   ]
  },
  {
   "cell_type": "markdown",
   "metadata": {},
   "source": [
    "**Class 9 model**"
   ]
  },
  {
   "cell_type": "code",
   "execution_count": 197,
   "metadata": {
    "execution": {
     "iopub.execute_input": "2023-06-10T20:43:12.674003Z",
     "iopub.status.busy": "2023-06-10T20:43:12.672421Z",
     "iopub.status.idle": "2023-06-10T20:43:48.232125Z",
     "shell.execute_reply": "2023-06-10T20:43:48.231273Z",
     "shell.execute_reply.started": "2023-06-10T20:43:12.673958Z"
    }
   },
   "outputs": [
    {
     "name": "stdout",
     "output_type": "stream",
     "text": [
      "Best Parameters: {'learning_rate': 0.4, 'max_depth': 5, 'subsample': 0.9}\n",
      "Best Score: 0.9965387255045556\n"
     ]
    }
   ],
   "source": [
    "## Class 9 model grid\n",
    "grid_xb_9 = GridSearchCV(clf, parameters, cv=3,scoring='f1',verbose=0,n_jobs=-1)  # Use 3-fold cross-validation\n",
    "grid_xb_9.fit(X_train_9, y_train_9) ## fitting grid\n",
    "# Get the best parameter values and corresponding score\n",
    "print('Best Parameters:',grid_xb_9.best_params_)\n",
    "print('Best Score:',grid_xb_9.best_score_)"
   ]
  },
  {
   "cell_type": "code",
   "execution_count": 198,
   "metadata": {
    "execution": {
     "iopub.execute_input": "2023-06-10T20:43:48.237784Z",
     "iopub.status.busy": "2023-06-10T20:43:48.236021Z",
     "iopub.status.idle": "2023-06-10T20:43:48.437564Z",
     "shell.execute_reply": "2023-06-10T20:43:48.436601Z",
     "shell.execute_reply.started": "2023-06-10T20:43:48.237754Z"
    }
   },
   "outputs": [
    {
     "name": "stdout",
     "output_type": "stream",
     "text": [
      "Validation Accuracy : 0.9977573182247403\n",
      "Train Accuracy : 1.0\n",
      "              precision    recall  f1-score   support\n",
      "\n",
      "           0       1.00      1.00      1.00     10680\n",
      "           1       1.00      0.99      1.00      6264\n",
      "\n",
      "    accuracy                           1.00     16944\n",
      "   macro avg       1.00      1.00      1.00     16944\n",
      "weighted avg       1.00      1.00      1.00     16944\n",
      "\n"
     ]
    }
   ],
   "source": [
    "# Predict on train and validation set\n",
    "y_train_pred = grid_xb_9.predict(X_train_9)\n",
    "y_val_pred = grid_xb_9.predict(X_val_9)\n",
    "## Accuracy\n",
    "print('Validation Accuracy :',accuracy_score(y_val_9, y_val_pred))\n",
    "print('Train Accuracy :',accuracy_score(y_train_9, y_train_pred))\n",
    "print(classification_report(y_val_pred, y_val_9))"
   ]
  },
  {
   "cell_type": "markdown",
   "metadata": {},
   "source": [
    "**Class 10 model**"
   ]
  },
  {
   "cell_type": "code",
   "execution_count": 199,
   "metadata": {
    "execution": {
     "iopub.execute_input": "2023-06-10T20:43:48.439854Z",
     "iopub.status.busy": "2023-06-10T20:43:48.438852Z",
     "iopub.status.idle": "2023-06-10T20:44:28.928496Z",
     "shell.execute_reply": "2023-06-10T20:44:28.927765Z",
     "shell.execute_reply.started": "2023-06-10T20:43:48.439816Z"
    }
   },
   "outputs": [
    {
     "name": "stdout",
     "output_type": "stream",
     "text": [
      "Best Parameters: {'learning_rate': 0.4, 'max_depth': 8, 'subsample': 0.9}\n",
      "Best Score: 0.9919991313107026\n"
     ]
    }
   ],
   "source": [
    "## Class 10 model grid\n",
    "grid_xb_10 = GridSearchCV(clf, parameters, cv=3,scoring='f1',verbose=0,n_jobs=-1)  # Use 3-fold cross-validation\n",
    "grid_xb_10.fit(X_train_10, y_train_10) ## fitting grid\n",
    "# Get the best parameter values and corresponding score\n",
    "print('Best Parameters:',grid_xb_10.best_params_)\n",
    "print('Best Score:',grid_xb_10.best_score_)"
   ]
  },
  {
   "cell_type": "code",
   "execution_count": 200,
   "metadata": {
    "execution": {
     "iopub.execute_input": "2023-06-10T20:44:28.931421Z",
     "iopub.status.busy": "2023-06-10T20:44:28.929703Z",
     "iopub.status.idle": "2023-06-10T20:44:29.215087Z",
     "shell.execute_reply": "2023-06-10T20:44:29.214104Z",
     "shell.execute_reply.started": "2023-06-10T20:44:28.931372Z"
    }
   },
   "outputs": [
    {
     "name": "stdout",
     "output_type": "stream",
     "text": [
      "Validation Accuracy : 0.9954556185080264\n",
      "Train Accuracy : 1.0\n",
      "              precision    recall  f1-score   support\n",
      "\n",
      "           0       0.99      1.00      1.00     10667\n",
      "           1       1.00      0.99      0.99      6277\n",
      "\n",
      "    accuracy                           1.00     16944\n",
      "   macro avg       1.00      0.99      1.00     16944\n",
      "weighted avg       1.00      1.00      1.00     16944\n",
      "\n"
     ]
    }
   ],
   "source": [
    "# Predict on train and validation set\n",
    "y_train_pred = grid_xb_10.predict(X_train_10)\n",
    "y_val_pred = grid_xb_10.predict(X_val_10)\n",
    "## Accuracy\n",
    "print('Validation Accuracy :',accuracy_score(y_val_10, y_val_pred))\n",
    "print('Train Accuracy :',accuracy_score(y_train_10, y_train_pred))\n",
    "print(classification_report(y_val_pred, y_val_10))"
   ]
  },
  {
   "cell_type": "markdown",
   "metadata": {},
   "source": [
    "**Class 11 Model**"
   ]
  },
  {
   "cell_type": "code",
   "execution_count": 201,
   "metadata": {
    "execution": {
     "iopub.execute_input": "2023-06-10T20:44:29.218609Z",
     "iopub.status.busy": "2023-06-10T20:44:29.218164Z",
     "iopub.status.idle": "2023-06-10T20:45:11.906631Z",
     "shell.execute_reply": "2023-06-10T20:45:11.905900Z",
     "shell.execute_reply.started": "2023-06-10T20:44:29.218581Z"
    }
   },
   "outputs": [
    {
     "name": "stdout",
     "output_type": "stream",
     "text": [
      "Best Parameters: {'learning_rate': 0.3, 'max_depth': 7, 'subsample': 0.9}\n",
      "Best Score: 0.9930007542694796\n"
     ]
    }
   ],
   "source": [
    "## Class 11 model grid\n",
    "grid_xb_11 = GridSearchCV(clf, parameters, cv=3,scoring='f1',verbose=0,n_jobs=-1)  # Use 3-fold cross-validation\n",
    "grid_xb_11.fit(X_train_11, y_train_11) ## fitting grid\n",
    "# Get the best parameter values and corresponding score\n",
    "print('Best Parameters:',grid_xb_11.best_params_)\n",
    "print('Best Score:',grid_xb_11.best_score_)"
   ]
  },
  {
   "cell_type": "code",
   "execution_count": 202,
   "metadata": {
    "execution": {
     "iopub.execute_input": "2023-06-10T20:45:11.912407Z",
     "iopub.status.busy": "2023-06-10T20:45:11.910470Z",
     "iopub.status.idle": "2023-06-10T20:45:12.162492Z",
     "shell.execute_reply": "2023-06-10T20:45:12.161499Z",
     "shell.execute_reply.started": "2023-06-10T20:45:11.912377Z"
    }
   },
   "outputs": [
    {
     "name": "stdout",
     "output_type": "stream",
     "text": [
      "Validation Accuracy : 0.9963408876298395\n",
      "Train Accuracy : 0.9999704910292729\n",
      "              precision    recall  f1-score   support\n",
      "\n",
      "           0       1.00      1.00      1.00     10710\n",
      "           1       1.00      0.99      1.00      6234\n",
      "\n",
      "    accuracy                           1.00     16944\n",
      "   macro avg       1.00      1.00      1.00     16944\n",
      "weighted avg       1.00      1.00      1.00     16944\n",
      "\n"
     ]
    }
   ],
   "source": [
    "# Predict on train and validation set\n",
    "y_train_pred = grid_xb_11.predict(X_train_11)\n",
    "y_val_pred = grid_xb_11.predict(X_val_11)\n",
    "## Accuracy\n",
    "print('Validation Accuracy :',accuracy_score(y_val_11, y_val_pred))\n",
    "print('Train Accuracy :',accuracy_score(y_train_11, y_train_pred))\n",
    "print(classification_report(y_val_pred, y_val_11))"
   ]
  },
  {
   "cell_type": "markdown",
   "metadata": {},
   "source": [
    "**Class 12 model**"
   ]
  },
  {
   "cell_type": "code",
   "execution_count": 203,
   "metadata": {
    "execution": {
     "iopub.execute_input": "2023-06-10T20:45:12.164712Z",
     "iopub.status.busy": "2023-06-10T20:45:12.163750Z",
     "iopub.status.idle": "2023-06-10T20:45:48.976051Z",
     "shell.execute_reply": "2023-06-10T20:45:48.975303Z",
     "shell.execute_reply.started": "2023-06-10T20:45:12.164677Z"
    }
   },
   "outputs": [
    {
     "name": "stdout",
     "output_type": "stream",
     "text": [
      "Best Parameters: {'learning_rate': 0.2, 'max_depth': 7, 'subsample': 0.7}\n",
      "Best Score: 0.9890990456776946\n"
     ]
    }
   ],
   "source": [
    "## Class 12 model grid\n",
    "grid_xb_12 = GridSearchCV(clf, parameters, cv=3,scoring='f1',verbose=0,n_jobs=-1)  # Use 3-fold cross-validation\n",
    "grid_xb_12.fit(X_train_12, y_train_12) ## fitting grid\n",
    "# Get the best parameter values and corresponding score\n",
    "print('Best Parameters:',grid_xb_12.best_params_)\n",
    "print('Best Score:',grid_xb_12.best_score_)"
   ]
  },
  {
   "cell_type": "code",
   "execution_count": 204,
   "metadata": {
    "execution": {
     "iopub.execute_input": "2023-06-10T20:45:48.978225Z",
     "iopub.status.busy": "2023-06-10T20:45:48.977257Z",
     "iopub.status.idle": "2023-06-10T20:45:49.168672Z",
     "shell.execute_reply": "2023-06-10T20:45:49.167681Z",
     "shell.execute_reply.started": "2023-06-10T20:45:48.978190Z"
    }
   },
   "outputs": [
    {
     "name": "stdout",
     "output_type": "stream",
     "text": [
      "Validation Accuracy : 0.9973579920739762\n",
      "Train Accuracy : 0.9999417170166883\n",
      "              precision    recall  f1-score   support\n",
      "\n",
      "           0       1.00      1.00      1.00     10822\n",
      "           1       0.99      0.99      0.99      2047\n",
      "\n",
      "    accuracy                           1.00     12869\n",
      "   macro avg       1.00      1.00      1.00     12869\n",
      "weighted avg       1.00      1.00      1.00     12869\n",
      "\n"
     ]
    }
   ],
   "source": [
    "# Predict on train and validation set\n",
    "y_train_pred = grid_xb_12.predict(X_train_12)\n",
    "y_val_pred = grid_xb_12.predict(X_val_12)\n",
    "## Accuracy\n",
    "print('Validation Accuracy :',accuracy_score(y_val_12, y_val_pred))\n",
    "print('Train Accuracy :',accuracy_score(y_train_12, y_train_pred))\n",
    "print(classification_report(y_val_pred, y_val_12))"
   ]
  },
  {
   "cell_type": "markdown",
   "metadata": {},
   "source": [
    "**Predictions train and validation**"
   ]
  },
  {
   "cell_type": "code",
   "execution_count": 205,
   "metadata": {
    "execution": {
     "iopub.execute_input": "2023-06-10T20:47:55.360738Z",
     "iopub.status.busy": "2023-06-10T20:47:55.360341Z",
     "iopub.status.idle": "2023-06-10T20:47:55.432297Z",
     "shell.execute_reply": "2023-06-10T20:47:55.431204Z",
     "shell.execute_reply.started": "2023-06-10T20:47:55.360709Z"
    }
   },
   "outputs": [],
   "source": [
    "## Train and val\n",
    "sample_inp_train=train.drop('label',axis=1)  ## train \n",
    "sample_tar_train=train.label\n",
    "sample_inp_val=val.drop('label',axis=1)  ## Validation\n",
    "sample_tar_val=val.label"
   ]
  },
  {
   "cell_type": "code",
   "execution_count": 206,
   "metadata": {
    "execution": {
     "iopub.execute_input": "2023-06-10T20:47:59.187574Z",
     "iopub.status.busy": "2023-06-10T20:47:59.186865Z",
     "iopub.status.idle": "2023-06-10T20:48:40.142199Z",
     "shell.execute_reply": "2023-06-10T20:48:40.141191Z",
     "shell.execute_reply.started": "2023-06-10T20:47:59.187540Z"
    }
   },
   "outputs": [],
   "source": [
    "## all classifiers\n",
    "clf=[grid_xb_0,grid_xb_1,grid_xb_2,grid_xb_3,grid_xb_4,grid_xb_5,grid_xb_6,grid_xb_7,grid_xb_8,grid_xb_9,grid_xb_10,grid_xb_11,grid_xb_12]\n",
    "predictions_prob_train=pd.DataFrame() ## dataframe to store all train probabilities from each classifier\n",
    "predictions_prob_val=pd.DataFrame()  ##dataframe to store all validation probabilities from each classifier\n",
    "for i in range(len(clf)):\n",
    "    predictions_prob_train[i]=clf[i].predict_proba(sample_inp_train)[:,1]  ## predicting probabilities\n",
    "    predictions_prob_val[i]=clf[i].predict_proba(sample_inp_val)[:,1]\n",
    "train_pred = predictions_prob_train.idxmax(axis=1)  ## Classifying based on probabilities\n",
    "val_pred = predictions_prob_val.idxmax(axis=1)"
   ]
  },
  {
   "cell_type": "code",
   "execution_count": 207,
   "metadata": {
    "execution": {
     "iopub.execute_input": "2023-06-10T20:49:14.067151Z",
     "iopub.status.busy": "2023-06-10T20:49:14.066749Z",
     "iopub.status.idle": "2023-06-10T20:49:14.264858Z",
     "shell.execute_reply": "2023-06-10T20:49:14.263704Z",
     "shell.execute_reply.started": "2023-06-10T20:49:14.067119Z"
    }
   },
   "outputs": [
    {
     "name": "stdout",
     "output_type": "stream",
     "text": [
      "Validation Accuracy : 0.8686265591886897\n",
      "Train Accuracy : 0.8684008498522651\n",
      "              precision    recall  f1-score   support\n",
      "\n",
      "           0       0.82      1.00      0.90     60655\n",
      "           1       1.00      0.70      0.82      3743\n",
      "           2       1.00      0.72      0.84      3625\n",
      "           3       1.00      0.76      0.86      3448\n",
      "           4       1.00      0.61      0.76      4254\n",
      "           5       1.00      0.57      0.73      4556\n",
      "           6       1.00      0.67      0.80      3577\n",
      "           7       1.00      0.73      0.84      3444\n",
      "           8       1.00      0.66      0.80      3755\n",
      "           9       1.00      0.65      0.78      4047\n",
      "          10       1.00      0.78      0.88      3334\n",
      "          11       0.99      0.79      0.88      3257\n",
      "          12       0.99      0.53      0.69      1644\n",
      "\n",
      "    accuracy                           0.87    103339\n",
      "   macro avg       0.98      0.71      0.81    103339\n",
      "weighted avg       0.89      0.87      0.86    103339\n",
      "\n"
     ]
    }
   ],
   "source": [
    "## Score\n",
    "print('Validation Accuracy :',accuracy_score(val_pred, sample_tar_val))\n",
    "print('Train Accuracy :',accuracy_score(train_pred, sample_tar_train))\n",
    "print(classification_report(val_pred, sample_tar_val))"
   ]
  },
  {
   "cell_type": "code",
   "execution_count": 208,
   "metadata": {
    "execution": {
     "iopub.execute_input": "2023-06-10T20:49:53.788610Z",
     "iopub.status.busy": "2023-06-10T20:49:53.788237Z",
     "iopub.status.idle": "2023-06-10T20:49:54.458893Z",
     "shell.execute_reply": "2023-06-10T20:49:54.457980Z",
     "shell.execute_reply.started": "2023-06-10T20:49:53.788580Z"
    }
   },
   "outputs": [
    {
     "data": {
      "image/png": "[encoded data removed]",
      "text/plain": [
       "<Figure size 1000x800 with 2 Axes>"
      ]
     },
     "metadata": {},
     "output_type": "display_data"
    }
   ],
   "source": [
    "# confusion matrix\n",
    "fig, ax = plt.subplots(figsize=(10,8))\n",
    "metric=ConfusionMatrixDisplay.from_predictions(val_pred, sample_tar_val,ax=ax)\n",
    "plt.show()"
   ]
  },
  {
   "cell_type": "markdown",
   "metadata": {},
   "source": [
    "## Predictions on test data"
   ]
  },
  {
   "cell_type": "code",
   "execution_count": 213,
   "metadata": {
    "execution": {
     "iopub.execute_input": "2023-06-10T20:51:40.780766Z",
     "iopub.status.busy": "2023-06-10T20:51:40.779760Z",
     "iopub.status.idle": "2023-06-10T20:51:40.800459Z",
     "shell.execute_reply": "2023-06-10T20:51:40.799295Z",
     "shell.execute_reply.started": "2023-06-10T20:51:40.780722Z"
    }
   },
   "outputs": [],
   "source": [
    "## Test data\n",
    "sample_inp_test=test.drop('label',axis=1)\n",
    "sample_tar_test=test.label"
   ]
  },
  {
   "cell_type": "code",
   "execution_count": 214,
   "metadata": {
    "execution": {
     "iopub.execute_input": "2023-06-10T20:52:02.540120Z",
     "iopub.status.busy": "2023-06-10T20:52:02.539687Z",
     "iopub.status.idle": "2023-06-10T20:52:10.114088Z",
     "shell.execute_reply": "2023-06-10T20:52:10.112949Z",
     "shell.execute_reply.started": "2023-06-10T20:52:02.540089Z"
    }
   },
   "outputs": [],
   "source": [
    "## All classifiers\n",
    "clf=[grid_xb_0,grid_xb_1,grid_xb_2,grid_xb_3,grid_xb_4,grid_xb_5,grid_xb_6,grid_xb_7,grid_xb_8,grid_xb_9,grid_xb_10,grid_xb_11,grid_xb_12]\n",
    "predictions_prob_test=pd.DataFrame() ## empty data frmae to store all the probability of all classifiers \n",
    "for i in range(len(clf)):\n",
    "    predictions_prob_test[i]=clf[i].predict_proba(sample_inp_test)[:,1]  ## predicting probabilities\n",
    "test_pred = predictions_prob_test.idxmax(axis=1)  ##classifying based on probability"
   ]
  },
  {
   "cell_type": "code",
   "execution_count": 215,
   "metadata": {
    "execution": {
     "iopub.execute_input": "2023-06-10T20:52:12.577049Z",
     "iopub.status.busy": "2023-06-10T20:52:12.576603Z",
     "iopub.status.idle": "2023-06-10T20:52:12.833599Z",
     "shell.execute_reply": "2023-06-10T20:52:12.832473Z",
     "shell.execute_reply.started": "2023-06-10T20:52:12.577014Z"
    }
   },
   "outputs": [
    {
     "name": "stdout",
     "output_type": "stream",
     "text": [
      "Test Accuracy : 0.8673298165187923\n",
      "              precision    recall  f1-score   support\n",
      "\n",
      "           0       0.82      1.00      0.90    106791\n",
      "           1       1.00      0.70      0.83      6559\n",
      "           2       1.00      0.71      0.83      6457\n",
      "           3       1.00      0.75      0.86      6140\n",
      "           4       1.00      0.61      0.76      7536\n",
      "           5       1.00      0.58      0.74      7882\n",
      "           6       1.00      0.66      0.80      6390\n",
      "           7       1.00      0.73      0.84      6050\n",
      "           8       1.00      0.66      0.80      6664\n",
      "           9       1.00      0.65      0.78      7134\n",
      "          10       1.00      0.78      0.88      5886\n",
      "          11       0.99      0.77      0.87      5892\n",
      "          12       0.99      0.52      0.68      2981\n",
      "\n",
      "    accuracy                           0.87    182362\n",
      "   macro avg       0.98      0.70      0.81    182362\n",
      "weighted avg       0.89      0.87      0.86    182362\n",
      "\n"
     ]
    }
   ],
   "source": [
    "## Score\n",
    "print('Test Accuracy :',accuracy_score(test_pred, sample_tar_test))\n",
    "print(classification_report(test_pred, sample_tar_test))"
   ]
  },
  {
   "cell_type": "markdown",
   "metadata": {},
   "source": [
    "So when i combine all 13 induvidual models to predict target variable the accuracy of this induvidual model are close to 87 % which means this approach is performance is little bit low than other 2 approaches "
   ]
  },
  {
   "cell_type": "markdown",
   "metadata": {},
   "source": [
    "# Performance of all 3 Approaches"
   ]
  },
  {
   "cell_type": "markdown",
   "metadata": {},
   "source": [
    "**XG Boost**"
   ]
  },
  {
   "cell_type": "code",
   "execution_count": 231,
   "metadata": {
    "execution": {
     "iopub.execute_input": "2023-06-10T21:05:17.506413Z",
     "iopub.status.busy": "2023-06-10T21:05:17.506051Z",
     "iopub.status.idle": "2023-06-10T21:05:29.711927Z",
     "shell.execute_reply": "2023-06-10T21:05:29.710993Z",
     "shell.execute_reply.started": "2023-06-10T21:05:17.506386Z"
    }
   },
   "outputs": [
    {
     "name": "stdout",
     "output_type": "stream",
     "text": [
      "              precision    recall  f1-score   support\n",
      "\n",
      "           0       0.98      0.95      0.96     87172\n",
      "           1       0.88      0.96      0.92      3076\n",
      "           2       0.84      0.95      0.90      3065\n",
      "           3       0.86      0.98      0.92      3141\n",
      "           4       0.85      0.94      0.89      3092\n",
      "           5       0.92      0.88      0.90      3072\n",
      "           6       0.89      0.95      0.92      2725\n",
      "           7       0.88      0.96      0.92      3046\n",
      "           8       0.88      0.94      0.91      2926\n",
      "           9       0.87      0.96      0.91      3105\n",
      "          10       0.86      0.95      0.90      3112\n",
      "          11       0.87      0.94      0.91      3054\n",
      "          12       0.83      0.80      0.81       989\n",
      "\n",
      "    accuracy                           0.94    121575\n",
      "   macro avg       0.88      0.94      0.90    121575\n",
      "weighted avg       0.95      0.94      0.95    121575\n",
      "\n"
     ]
    }
   ],
   "source": [
    "## Test data predictions\n",
    "y_test_pred_gb = grid_search_main.predict(X_test)\n",
    "print(classification_report(y_test, y_test_pred_gb)) ##Classification report"
   ]
  },
  {
   "cell_type": "code",
   "execution_count": 232,
   "metadata": {
    "execution": {
     "iopub.execute_input": "2023-06-10T21:05:36.526835Z",
     "iopub.status.busy": "2023-06-10T21:05:36.526467Z",
     "iopub.status.idle": "2023-06-10T21:05:36.773909Z",
     "shell.execute_reply": "2023-06-10T21:05:36.772995Z",
     "shell.execute_reply.started": "2023-06-10T21:05:36.526806Z"
    }
   },
   "outputs": [],
   "source": [
    "## Scores\n",
    "acc=accuracy_score(y_test_pred_gb, y_test)\n",
    "report_basic_model=classification_report(y_test, y_test_pred_gb,output_dict=True)\n",
    "weighted_avg_precision = report_basic_model['weighted avg']['precision']\n",
    "weighted_avg_recall = report_basic_model['weighted avg']['recall']\n",
    "weighted_avg_f1score = report_basic_model['weighted avg']['f1-score']\n",
    "Basic_xgb=[acc,weighted_avg_precision,weighted_avg_recall,weighted_avg_f1score]"
   ]
  },
  {
   "cell_type": "code",
   "execution_count": 240,
   "metadata": {
    "execution": {
     "iopub.execute_input": "2023-06-10T21:12:34.279999Z",
     "iopub.status.busy": "2023-06-10T21:12:34.278979Z",
     "iopub.status.idle": "2023-06-10T21:12:34.979138Z",
     "shell.execute_reply": "2023-06-10T21:12:34.976371Z",
     "shell.execute_reply.started": "2023-06-10T21:12:34.279934Z"
    }
   },
   "outputs": [
    {
     "data": {
      "image/png": "[encoded data removed]",
      "text/plain": [
       "<Figure size 1000x800 with 2 Axes>"
      ]
     },
     "metadata": {},
     "output_type": "display_data"
    }
   ],
   "source": [
    "## Confusion metric\n",
    "fig, ax = plt.subplots(figsize=(10,8))\n",
    "ConfusionMatrixDisplay.from_predictions(y_test_pred_gb, y_test,ax=ax)\n",
    "plt.show()"
   ]
  },
  {
   "cell_type": "markdown",
   "metadata": {},
   "source": [
    "**OVR(One VS Rest Classifier)**"
   ]
  },
  {
   "cell_type": "code",
   "execution_count": 234,
   "metadata": {
    "execution": {
     "iopub.execute_input": "2023-06-10T21:06:26.991885Z",
     "iopub.status.busy": "2023-06-10T21:06:26.991498Z",
     "iopub.status.idle": "2023-06-10T21:06:41.770948Z",
     "shell.execute_reply": "2023-06-10T21:06:41.769078Z",
     "shell.execute_reply.started": "2023-06-10T21:06:26.991854Z"
    }
   },
   "outputs": [
    {
     "name": "stdout",
     "output_type": "stream",
     "text": [
      "              precision    recall  f1-score   support\n",
      "\n",
      "           0       0.97      0.94      0.95     87172\n",
      "           1       0.91      0.96      0.94      3076\n",
      "           2       0.86      0.93      0.90      3065\n",
      "           3       0.88      0.96      0.92      3141\n",
      "           4       0.92      0.96      0.94      3092\n",
      "           5       0.98      0.98      0.98      3072\n",
      "           6       0.96      0.98      0.97      2725\n",
      "           7       0.94      0.98      0.96      3046\n",
      "           8       0.96      0.98      0.97      2926\n",
      "           9       0.92      0.97      0.95      3105\n",
      "          10       0.90      0.95      0.92      3112\n",
      "          11       0.92      0.95      0.93      3054\n",
      "          12       0.89      0.86      0.88       989\n",
      "\n",
      "   micro avg       0.96      0.95      0.95    121575\n",
      "   macro avg       0.92      0.96      0.94    121575\n",
      "weighted avg       0.96      0.95      0.95    121575\n",
      " samples avg       0.94      0.95      0.94    121575\n",
      "\n"
     ]
    }
   ],
   "source": [
    "pred_test_ovr = pd.DataFrame(ovr.predict(X_test_new))  ## Test data predictions\n",
    "print(classification_report(y_test_new, pred_test_ovr))  ## Classification report"
   ]
  },
  {
   "cell_type": "code",
   "execution_count": 235,
   "metadata": {
    "execution": {
     "iopub.execute_input": "2023-06-10T21:06:53.668487Z",
     "iopub.status.busy": "2023-06-10T21:06:53.667769Z",
     "iopub.status.idle": "2023-06-10T21:06:53.885592Z",
     "shell.execute_reply": "2023-06-10T21:06:53.884591Z",
     "shell.execute_reply.started": "2023-06-10T21:06:53.668451Z"
    }
   },
   "outputs": [],
   "source": [
    "## Scores\n",
    "acc=accuracy_score(y_test_new, pred_test_ovr)\n",
    "report_ovr_model=classification_report(y_test_new, pred_test_ovr,output_dict=True)\n",
    "weighted_avg_precision = report_ovr_model['weighted avg']['precision']\n",
    "weighted_avg_recall = report_ovr_model['weighted avg']['recall']\n",
    "weighted_avg_f1score = report_ovr_model['weighted avg']['f1-score']\n",
    "OVR=[acc,weighted_avg_precision,weighted_avg_recall,weighted_avg_f1score]"
   ]
  },
  {
   "cell_type": "markdown",
   "metadata": {},
   "source": [
    "**Individual Models**"
   ]
  },
  {
   "cell_type": "code",
   "execution_count": 246,
   "metadata": {
    "execution": {
     "iopub.execute_input": "2023-06-10T21:32:00.194615Z",
     "iopub.status.busy": "2023-06-10T21:32:00.194034Z",
     "iopub.status.idle": "2023-06-10T21:32:07.632747Z",
     "shell.execute_reply": "2023-06-10T21:32:07.631689Z",
     "shell.execute_reply.started": "2023-06-10T21:32:00.194584Z"
    }
   },
   "outputs": [
    {
     "name": "stdout",
     "output_type": "stream",
     "text": [
      "              precision    recall  f1-score   support\n",
      "\n",
      "           0       0.82      1.00      0.90    106791\n",
      "           1       1.00      0.70      0.83      6559\n",
      "           2       1.00      0.71      0.83      6457\n",
      "           3       1.00      0.75      0.86      6140\n",
      "           4       1.00      0.61      0.76      7536\n",
      "           5       1.00      0.58      0.74      7882\n",
      "           6       1.00      0.66      0.80      6390\n",
      "           7       1.00      0.73      0.84      6050\n",
      "           8       1.00      0.66      0.80      6664\n",
      "           9       1.00      0.65      0.78      7134\n",
      "          10       1.00      0.78      0.88      5886\n",
      "          11       0.99      0.77      0.87      5892\n",
      "          12       0.99      0.52      0.68      2981\n",
      "\n",
      "    accuracy                           0.87    182362\n",
      "   macro avg       0.98      0.70      0.81    182362\n",
      "weighted avg       0.89      0.87      0.86    182362\n",
      "\n"
     ]
    }
   ],
   "source": [
    "## Test data\n",
    "sample_inp=test.drop('label',axis=1)\n",
    "sample_tar=test.label\n",
    "##predictions\n",
    "predictions_prob=pd.DataFrame()\n",
    "for i in range(len(clf)):\n",
    "    predictions_prob[i]=clf[i].predict_proba(sample_inp)[:,1]\n",
    "test_pred = predictions_prob.idxmax(axis=1)\n",
    "print(classification_report(test_pred, sample_tar))"
   ]
  },
  {
   "cell_type": "code",
   "execution_count": 238,
   "metadata": {
    "execution": {
     "iopub.execute_input": "2023-06-10T21:10:58.044427Z",
     "iopub.status.busy": "2023-06-10T21:10:58.044047Z",
     "iopub.status.idle": "2023-06-10T21:10:58.299551Z",
     "shell.execute_reply": "2023-06-10T21:10:58.298494Z",
     "shell.execute_reply.started": "2023-06-10T21:10:58.044399Z"
    }
   },
   "outputs": [],
   "source": [
    "## Scores\n",
    "acc=accuracy_score(test_pred, sample_tar)\n",
    "report_ind_model=classification_report(test_pred, sample_tar,output_dict=True)\n",
    "weighted_avg_precision = report_ind_model['weighted avg']['precision']\n",
    "weighted_avg_recall = report_ind_model['weighted avg']['recall']\n",
    "weighted_avg_f1score = report_ind_model['weighted avg']['f1-score']\n",
    "ind_model=[acc,weighted_avg_precision,weighted_avg_recall,weighted_avg_f1score]"
   ]
  },
  {
   "cell_type": "code",
   "execution_count": 239,
   "metadata": {
    "execution": {
     "iopub.execute_input": "2023-06-10T21:11:17.940142Z",
     "iopub.status.busy": "2023-06-10T21:11:17.939714Z",
     "iopub.status.idle": "2023-06-10T21:11:18.797480Z",
     "shell.execute_reply": "2023-06-10T21:11:18.796566Z",
     "shell.execute_reply.started": "2023-06-10T21:11:17.940109Z"
    }
   },
   "outputs": [
    {
     "data": {
      "image/png": "[encoded data removed]",
      "text/plain": [
       "<Figure size 1000x800 with 2 Axes>"
      ]
     },
     "metadata": {},
     "output_type": "display_data"
    }
   ],
   "source": [
    "## Confusion metric\n",
    "fig, ax = plt.subplots(figsize=(10,8))\n",
    "metric=ConfusionMatrixDisplay.from_predictions(test_pred, sample_tar,ax=ax)\n",
    "plt.show()"
   ]
  },
  {
   "cell_type": "code",
   "execution_count": 242,
   "metadata": {
    "execution": {
     "iopub.execute_input": "2023-06-10T21:16:12.741712Z",
     "iopub.status.busy": "2023-06-10T21:16:12.741344Z",
     "iopub.status.idle": "2023-06-10T21:16:12.750744Z",
     "shell.execute_reply": "2023-06-10T21:16:12.749753Z",
     "shell.execute_reply.started": "2023-06-10T21:16:12.741684Z"
    }
   },
   "outputs": [],
   "source": [
    "## Empty data frame\n",
    "score=pd.DataFrame(columns=['Accuracy','Weighted Precision','Weighted Recall','Weighted F1-score'])"
   ]
  },
  {
   "cell_type": "code",
   "execution_count": 243,
   "metadata": {
    "execution": {
     "iopub.execute_input": "2023-06-10T21:16:14.052600Z",
     "iopub.status.busy": "2023-06-10T21:16:14.051880Z",
     "iopub.status.idle": "2023-06-10T21:16:14.061062Z",
     "shell.execute_reply": "2023-06-10T21:16:14.059988Z",
     "shell.execute_reply.started": "2023-06-10T21:16:14.052566Z"
    }
   },
   "outputs": [],
   "source": [
    "##Dumping data into data frame\n",
    "score.loc['Xgboost'] = Basic_xgb\n",
    "score.loc['OVR'] = OVR\n",
    "score.loc['Individual models'] = ind_model"
   ]
  },
  {
   "cell_type": "code",
   "execution_count": 244,
   "metadata": {
    "execution": {
     "iopub.execute_input": "2023-06-10T21:16:18.458085Z",
     "iopub.status.busy": "2023-06-10T21:16:18.457694Z",
     "iopub.status.idle": "2023-06-10T21:16:18.472261Z",
     "shell.execute_reply": "2023-06-10T21:16:18.471263Z",
     "shell.execute_reply.started": "2023-06-10T21:16:18.458054Z"
    }
   },
   "outputs": [
    {
     "data": {
      "text/html": [
       "<div>\n",
       "<style scoped>\n",
       "    .dataframe tbody tr th:only-of-type {\n",
       "        vertical-align: middle;\n",
       "    }\n",
       "\n",
       "    .dataframe tbody tr th {\n",
       "        vertical-align: top;\n",
       "    }\n",
       "\n",
       "    .dataframe thead th {\n",
       "        text-align: right;\n",
       "    }\n",
       "</style>\n",
       "<table border=\"1\" class=\"dataframe\">\n",
       "  <thead>\n",
       "    <tr style=\"text-align: right;\">\n",
       "      <th></th>\n",
       "      <th>Accuracy</th>\n",
       "      <th>Weighted Precision</th>\n",
       "      <th>Weighted Recall</th>\n",
       "      <th>Weighted F1-score</th>\n",
       "    </tr>\n",
       "  </thead>\n",
       "  <tbody>\n",
       "    <tr>\n",
       "      <th>Xgboost</th>\n",
       "      <td>0.944808</td>\n",
       "      <td>0.947421</td>\n",
       "      <td>0.944808</td>\n",
       "      <td>0.945399</td>\n",
       "    </tr>\n",
       "    <tr>\n",
       "      <th>OVR</th>\n",
       "      <td>0.927123</td>\n",
       "      <td>0.956606</td>\n",
       "      <td>0.946033</td>\n",
       "      <td>0.950970</td>\n",
       "    </tr>\n",
       "    <tr>\n",
       "      <th>Individual models</th>\n",
       "      <td>0.867330</td>\n",
       "      <td>0.891481</td>\n",
       "      <td>0.867330</td>\n",
       "      <td>0.860557</td>\n",
       "    </tr>\n",
       "  </tbody>\n",
       "</table>\n",
       "</div>"
      ],
      "text/plain": [
       "                   Accuracy  Weighted Precision  Weighted Recall  \\\n",
       "Xgboost            0.944808            0.947421         0.944808   \n",
       "OVR                0.927123            0.956606         0.946033   \n",
       "Individual models  0.867330            0.891481         0.867330   \n",
       "\n",
       "                   Weighted F1-score  \n",
       "Xgboost                     0.945399  \n",
       "OVR                         0.950970  \n",
       "Individual models           0.860557  "
      ]
     },
     "execution_count": 244,
     "metadata": {},
     "output_type": "execute_result"
    }
   ],
   "source": [
    "score  ## All 3 approaches scores"
   ]
  },
  {
   "cell_type": "markdown",
   "metadata": {},
   "source": [
    "# Conclusion\n",
    "So from the score data frame we can see that the induvidual models has less performance compared to basic XGBosst and OVR classifier.Both XG boost and OVR(One Vs Rest classifier) has performed well both has precision recall and f1 score of 95%. So we can choose either Xg boost or OVR. So from the above confusion metric we can see that the only problem in classifying was with class 0 rest of the classes are classifying properly. As class 0 means no activity, People might be doing something even they are sitting quietly that might be reason for more erros and also Tunning further might imporve the performane of the model.\n",
    "\n",
    "As i choose ensemble models , These models are black box models which means we only get the predictions and also from the feature importance we can see that every sensor data is contributing to classify the target variable apart from that we get nothing from these models."
   ]
  },
  {
   "cell_type": "code",
   "execution_count": null,
   "metadata": {},
   "outputs": [],
   "source": []
  }
 ],
 "metadata": {
  "kernelspec": {
   "display_name": "Python 3",
   "language": "python",
   "name": "python3"
  },
  "language_info": {
   "codemirror_mode": {
    "name": "ipython",
    "version": 3
   },
   "file_extension": ".py",
   "mimetype": "text/x-python",
   "name": "python",
   "nbconvert_exporter": "python",
   "pygments_lexer": "ipython3",
   "version": "3.8.5"
  }
 },
 "nbformat": 4,
 "nbformat_minor": 4
}
